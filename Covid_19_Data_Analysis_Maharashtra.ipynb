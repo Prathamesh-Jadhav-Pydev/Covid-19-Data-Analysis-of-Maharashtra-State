{
 "cells": [
  {
   "cell_type": "markdown",
   "metadata": {
    "id": "8CQzhsPjAo_l"
   },
   "source": [
    "# **Covid 19 Data Analysis of Maharashtra State**\n",
    "*   First we import necessary python liabraries in the notebook.\n",
    "\n"
   ]
  },
  {
   "cell_type": "code",
   "execution_count": 1,
   "metadata": {
    "id": "eQckwEAlAQll"
   },
   "outputs": [],
   "source": [
    "import numpy as np\n",
    "import pandas as pd\n",
    "import plotly.express as px\n",
    "import folium \n",
    "\n",
    "import cufflinks as cf \n",
    "import plotly.offline as pyo\n",
    "from plotly.offline import init_notebook_mode,plot,iplot\n",
    "\n",
    "from matplotlib import style\n"
   ]
  },
  {
   "cell_type": "code",
   "execution_count": 2,
   "metadata": {
    "colab": {
     "base_uri": "https://localhost:8080/",
     "height": 17
    },
    "id": "nD9nSSvQB6aP",
    "outputId": "8da2b875-d19c-433b-931c-13904a07547f"
   },
   "outputs": [
    {
     "data": {
      "text/html": [
       "        <script type=\"text/javascript\">\n",
       "        window.PlotlyConfig = {MathJaxConfig: 'local'};\n",
       "        if (window.MathJax) {MathJax.Hub.Config({SVG: {font: \"STIX-Web\"}});}\n",
       "        if (typeof require !== 'undefined') {\n",
       "        require.undef(\"plotly\");\n",
       "        requirejs.config({\n",
       "            paths: {\n",
       "                'plotly': ['https://cdn.plot.ly/plotly-2.9.0.min']\n",
       "            }\n",
       "        });\n",
       "        require(['plotly'], function(Plotly) {\n",
       "            window._Plotly = Plotly;\n",
       "        });\n",
       "        }\n",
       "        </script>\n",
       "        "
      ]
     },
     "metadata": {},
     "output_type": "display_data"
    },
    {
     "data": {
      "text/html": [
       "        <script type=\"text/javascript\">\n",
       "        window.PlotlyConfig = {MathJaxConfig: 'local'};\n",
       "        if (window.MathJax) {MathJax.Hub.Config({SVG: {font: \"STIX-Web\"}});}\n",
       "        if (typeof require !== 'undefined') {\n",
       "        require.undef(\"plotly\");\n",
       "        requirejs.config({\n",
       "            paths: {\n",
       "                'plotly': ['https://cdn.plot.ly/plotly-2.9.0.min']\n",
       "            }\n",
       "        });\n",
       "        require(['plotly'], function(Plotly) {\n",
       "            window._Plotly = Plotly;\n",
       "        });\n",
       "        }\n",
       "        </script>\n",
       "        "
      ]
     },
     "metadata": {},
     "output_type": "display_data"
    }
   ],
   "source": [
    "pyo.init_notebook_mode(connected=True) #plotly connected with jupyter notebook\n",
    "cf.go_offline()"
   ]
  },
  {
   "cell_type": "markdown",
   "metadata": {},
   "source": [
    "After importing necessary python libraries in the notebook.next step is import the dataset into the notebook."
   ]
  },
  {
   "cell_type": "markdown",
   "metadata": {},
   "source": [
    "### Importing the Covid 19 Dataset (Last Updated 4 March 2022)"
   ]
  },
  {
   "cell_type": "code",
   "execution_count": 3,
   "metadata": {
    "id": "6N1cTAiqB_l7"
   },
   "outputs": [],
   "source": [
    "# import csv file into the notebook.\n",
    "dataframe = pd.read_csv(r\"C:\\Users\\prath\\OneDrive\\Documents\\My Work\\Data Analysis Project\\Covid-19 Maharashtra Data Analysis/Maharashtra Latest Covid Cases.csv\")"
   ]
  },
  {
   "cell_type": "markdown",
   "metadata": {},
   "source": [
    "#### Read the dataset."
   ]
  },
  {
   "cell_type": "code",
   "execution_count": 4,
   "metadata": {
    "colab": {
     "base_uri": "https://localhost:8080/",
     "height": 206
    },
    "id": "2Ca5Hwj5Cbqu",
    "outputId": "25bad2db-7b21-41ea-88c3-30af8c623cef"
   },
   "outputs": [
    {
     "data": {
      "text/html": [
       "<div>\n",
       "<style scoped>\n",
       "    .dataframe tbody tr th:only-of-type {\n",
       "        vertical-align: middle;\n",
       "    }\n",
       "\n",
       "    .dataframe tbody tr th {\n",
       "        vertical-align: top;\n",
       "    }\n",
       "\n",
       "    .dataframe thead th {\n",
       "        text-align: right;\n",
       "    }\n",
       "</style>\n",
       "<table border=\"1\" class=\"dataframe\">\n",
       "  <thead>\n",
       "    <tr style=\"text-align: right;\">\n",
       "      <th></th>\n",
       "      <th>Districts</th>\n",
       "      <th>Positive Cases</th>\n",
       "      <th>Active Cases</th>\n",
       "      <th>Recovered</th>\n",
       "      <th>Deceased</th>\n",
       "      <th>Recovery Rate(%)</th>\n",
       "      <th>Fatality Rate(%)</th>\n",
       "    </tr>\n",
       "  </thead>\n",
       "  <tbody>\n",
       "    <tr>\n",
       "      <th>0</th>\n",
       "      <td>Ahmednagar</td>\n",
       "      <td>376964</td>\n",
       "      <td>472</td>\n",
       "      <td>369253</td>\n",
       "      <td>7228</td>\n",
       "      <td>98.0</td>\n",
       "      <td>1.9</td>\n",
       "    </tr>\n",
       "    <tr>\n",
       "      <th>1</th>\n",
       "      <td>Akola</td>\n",
       "      <td>66135</td>\n",
       "      <td>21</td>\n",
       "      <td>64646</td>\n",
       "      <td>1464</td>\n",
       "      <td>97.7</td>\n",
       "      <td>2.2</td>\n",
       "    </tr>\n",
       "    <tr>\n",
       "      <th>2</th>\n",
       "      <td>Amravati</td>\n",
       "      <td>105909</td>\n",
       "      <td>13</td>\n",
       "      <td>104272</td>\n",
       "      <td>1622</td>\n",
       "      <td>98.5</td>\n",
       "      <td>1.5</td>\n",
       "    </tr>\n",
       "    <tr>\n",
       "      <th>3</th>\n",
       "      <td>Aurangabad</td>\n",
       "      <td>176264</td>\n",
       "      <td>88</td>\n",
       "      <td>171892</td>\n",
       "      <td>4270</td>\n",
       "      <td>97.5</td>\n",
       "      <td>2.4</td>\n",
       "    </tr>\n",
       "    <tr>\n",
       "      <th>4</th>\n",
       "      <td>Beed</td>\n",
       "      <td>109067</td>\n",
       "      <td>43</td>\n",
       "      <td>106143</td>\n",
       "      <td>2874</td>\n",
       "      <td>97.3</td>\n",
       "      <td>2.6</td>\n",
       "    </tr>\n",
       "  </tbody>\n",
       "</table>\n",
       "</div>"
      ],
      "text/plain": [
       "    Districts  Positive Cases  Active Cases  Recovered  Deceased  \\\n",
       "0  Ahmednagar          376964           472     369253      7228   \n",
       "1       Akola           66135            21      64646      1464   \n",
       "2    Amravati          105909            13     104272      1622   \n",
       "3  Aurangabad          176264            88     171892      4270   \n",
       "4        Beed          109067            43     106143      2874   \n",
       "\n",
       "   Recovery Rate(%)  Fatality Rate(%)  \n",
       "0              98.0               1.9  \n",
       "1              97.7               2.2  \n",
       "2              98.5               1.5  \n",
       "3              97.5               2.4  \n",
       "4              97.3               2.6  "
      ]
     },
     "execution_count": 4,
     "metadata": {},
     "output_type": "execute_result"
    }
   ],
   "source": [
    "# after impoering we read the database \n",
    "# shows by default first 5 rows of the dataset.\n",
    "dataframe.head()"
   ]
  },
  {
   "cell_type": "code",
   "execution_count": 5,
   "metadata": {
    "colab": {
     "base_uri": "https://localhost:8080/",
     "height": 206
    },
    "id": "aIPY8fcBCiY_",
    "outputId": "7482628d-5878-427c-b5f3-7a6d4da53ed6"
   },
   "outputs": [
    {
     "data": {
      "text/html": [
       "<div>\n",
       "<style scoped>\n",
       "    .dataframe tbody tr th:only-of-type {\n",
       "        vertical-align: middle;\n",
       "    }\n",
       "\n",
       "    .dataframe tbody tr th {\n",
       "        vertical-align: top;\n",
       "    }\n",
       "\n",
       "    .dataframe thead th {\n",
       "        text-align: right;\n",
       "    }\n",
       "</style>\n",
       "<table border=\"1\" class=\"dataframe\">\n",
       "  <thead>\n",
       "    <tr style=\"text-align: right;\">\n",
       "      <th></th>\n",
       "      <th>Districts</th>\n",
       "      <th>Positive Cases</th>\n",
       "      <th>Active Cases</th>\n",
       "      <th>Recovered</th>\n",
       "      <th>Deceased</th>\n",
       "      <th>Recovery Rate(%)</th>\n",
       "      <th>Fatality Rate(%)</th>\n",
       "    </tr>\n",
       "  </thead>\n",
       "  <tbody>\n",
       "    <tr>\n",
       "      <th>30</th>\n",
       "      <td>Solapur</td>\n",
       "      <td>226968</td>\n",
       "      <td>59</td>\n",
       "      <td>221035</td>\n",
       "      <td>5757</td>\n",
       "      <td>97.4</td>\n",
       "      <td>2.5</td>\n",
       "    </tr>\n",
       "    <tr>\n",
       "      <th>31</th>\n",
       "      <td>Thane</td>\n",
       "      <td>766202</td>\n",
       "      <td>405</td>\n",
       "      <td>753903</td>\n",
       "      <td>11859</td>\n",
       "      <td>98.4</td>\n",
       "      <td>1.5</td>\n",
       "    </tr>\n",
       "    <tr>\n",
       "      <th>32</th>\n",
       "      <td>Wardha</td>\n",
       "      <td>65656</td>\n",
       "      <td>13</td>\n",
       "      <td>64235</td>\n",
       "      <td>1237</td>\n",
       "      <td>97.8</td>\n",
       "      <td>1.9</td>\n",
       "    </tr>\n",
       "    <tr>\n",
       "      <th>33</th>\n",
       "      <td>Washim</td>\n",
       "      <td>45592</td>\n",
       "      <td>17</td>\n",
       "      <td>44934</td>\n",
       "      <td>638</td>\n",
       "      <td>98.6</td>\n",
       "      <td>1.4</td>\n",
       "    </tr>\n",
       "    <tr>\n",
       "      <th>34</th>\n",
       "      <td>Yavatmal</td>\n",
       "      <td>81972</td>\n",
       "      <td>18</td>\n",
       "      <td>80134</td>\n",
       "      <td>1816</td>\n",
       "      <td>97.8</td>\n",
       "      <td>2.2</td>\n",
       "    </tr>\n",
       "  </tbody>\n",
       "</table>\n",
       "</div>"
      ],
      "text/plain": [
       "   Districts  Positive Cases  Active Cases  Recovered  Deceased  \\\n",
       "30   Solapur          226968            59     221035      5757   \n",
       "31     Thane          766202           405     753903     11859   \n",
       "32    Wardha           65656            13      64235      1237   \n",
       "33    Washim           45592            17      44934       638   \n",
       "34  Yavatmal           81972            18      80134      1816   \n",
       "\n",
       "    Recovery Rate(%)  Fatality Rate(%)  \n",
       "30              97.4               2.5  \n",
       "31              98.4               1.5  \n",
       "32              97.8               1.9  \n",
       "33              98.6               1.4  \n",
       "34              97.8               2.2  "
      ]
     },
     "execution_count": 5,
     "metadata": {},
     "output_type": "execute_result"
    }
   ],
   "source": [
    "dataframe.tail()"
   ]
  },
  {
   "cell_type": "markdown",
   "metadata": {
    "id": "BdVFzPbQDUfP"
   },
   "source": [
    "**Display list of columns present inside dataset**"
   ]
  },
  {
   "cell_type": "code",
   "execution_count": 6,
   "metadata": {
    "colab": {
     "base_uri": "https://localhost:8080/"
    },
    "id": "T2gCrzn0CthO",
    "outputId": "b472e0c0-2ebf-4cfd-bc99-72c109766f12"
   },
   "outputs": [
    {
     "data": {
      "text/plain": [
       "Index(['Districts', 'Positive Cases', 'Active Cases', 'Recovered', 'Deceased',\n",
       "       'Recovery Rate(%)', 'Fatality Rate(%)'],\n",
       "      dtype='object')"
      ]
     },
     "execution_count": 6,
     "metadata": {},
     "output_type": "execute_result"
    }
   ],
   "source": [
    "# display list of columns in the dataset\n",
    "dataframe.columns"
   ]
  },
  {
   "cell_type": "markdown",
   "metadata": {},
   "source": [
    "#### Check null values or any missing data present inside the dataset."
   ]
  },
  {
   "cell_type": "code",
   "execution_count": 7,
   "metadata": {
    "colab": {
     "base_uri": "https://localhost:8080/"
    },
    "id": "vvDIFNIQCyJv",
    "outputId": "4b407370-3737-4e40-f1d4-b860e27a1e79"
   },
   "outputs": [
    {
     "data": {
      "text/plain": [
       "Districts           0\n",
       "Positive Cases      0\n",
       "Active Cases        0\n",
       "Recovered           0\n",
       "Deceased            0\n",
       "Recovery Rate(%)    0\n",
       "Fatality Rate(%)    0\n",
       "dtype: int64"
      ]
     },
     "execution_count": 7,
     "metadata": {},
     "output_type": "execute_result"
    }
   ],
   "source": [
    "# then check null values in the dataset\n",
    "dataframe.isnull().sum()"
   ]
  },
  {
   "cell_type": "markdown",
   "metadata": {},
   "source": [
    "#### Check datatypes of each column in the dataset."
   ]
  },
  {
   "cell_type": "code",
   "execution_count": 35,
   "metadata": {},
   "outputs": [
    {
     "data": {
      "text/plain": [
       "Districts            object\n",
       "Positive Cases        int64\n",
       "Active Cases          int64\n",
       "Recovered             int64\n",
       "Deceased              int64\n",
       "Recovery Rate(%)    float64\n",
       "Fatality Rate(%)    float64\n",
       "dtype: object"
      ]
     },
     "execution_count": 35,
     "metadata": {},
     "output_type": "execute_result"
    }
   ],
   "source": [
    "dataframe.dtypes"
   ]
  },
  {
   "cell_type": "markdown",
   "metadata": {},
   "source": [
    "#### Chenk number of rows and columns present inside the dataset."
   ]
  },
  {
   "cell_type": "code",
   "execution_count": 38,
   "metadata": {},
   "outputs": [
    {
     "name": "stdout",
     "output_type": "stream",
     "text": [
      "Maharashtra Covid-19 dataset contain 35 columns and 7 rows.\n"
     ]
    }
   ],
   "source": [
    "col,row=dataframe.shape\n",
    "print(f\"Maharashtra Covid-19 dataset contain {col} columns and {row} rows.\")"
   ]
  },
  {
   "cell_type": "markdown",
   "metadata": {
    "id": "CSUjjD44G1eM"
   },
   "source": [
    "**Heat map of Covid 19 Cases in Maharashtra**"
   ]
  },
  {
   "cell_type": "code",
   "execution_count": 8,
   "metadata": {
    "colab": {
     "base_uri": "https://localhost:8080/",
     "height": 1000
    },
    "id": "gy6LlsB3DFQd",
    "outputId": "86b9d7c2-7e1c-4ad3-eccc-bf34aaa31229"
   },
   "outputs": [
    {
     "data": {
      "text/html": [
       "<style  type=\"text/css\" >\n",
       "#T_0348f_row0_col1,#T_0348f_row0_col3{\n",
       "            background-color:  #fcbca2;\n",
       "            color:  #000000;\n",
       "        }#T_0348f_row0_col2{\n",
       "            background-color:  #fcb99f;\n",
       "            color:  #000000;\n",
       "        }#T_0348f_row0_col4{\n",
       "            background-color:  #fc9d7f;\n",
       "            color:  #000000;\n",
       "        }#T_0348f_row0_col5,#T_0348f_row0_col6,#T_0348f_row9_col6,#T_0348f_row20_col6,#T_0348f_row32_col6{\n",
       "            background-color:  #fb7252;\n",
       "            color:  #000000;\n",
       "        }#T_0348f_row1_col1,#T_0348f_row1_col3,#T_0348f_row13_col1,#T_0348f_row13_col3,#T_0348f_row14_col2,#T_0348f_row22_col2,#T_0348f_row30_col2,#T_0348f_row32_col1,#T_0348f_row32_col3{\n",
       "            background-color:  #fff0e9;\n",
       "            color:  #000000;\n",
       "        }#T_0348f_row1_col2,#T_0348f_row5_col2,#T_0348f_row7_col2,#T_0348f_row9_col1,#T_0348f_row9_col3,#T_0348f_row9_col4,#T_0348f_row18_col2,#T_0348f_row19_col2,#T_0348f_row23_col2{\n",
       "            background-color:  #fff4ee;\n",
       "            color:  #000000;\n",
       "        }#T_0348f_row1_col4,#T_0348f_row6_col1,#T_0348f_row6_col3,#T_0348f_row21_col5,#T_0348f_row29_col5{\n",
       "            background-color:  #ffede5;\n",
       "            color:  #000000;\n",
       "        }#T_0348f_row1_col5,#T_0348f_row7_col6,#T_0348f_row11_col5,#T_0348f_row16_col6,#T_0348f_row17_col6{\n",
       "            background-color:  #fca082;\n",
       "            color:  #000000;\n",
       "        }#T_0348f_row1_col6,#T_0348f_row5_col5,#T_0348f_row34_col6{\n",
       "            background-color:  #f03d2d;\n",
       "            color:  #f1f1f1;\n",
       "        }#T_0348f_row2_col1,#T_0348f_row2_col3,#T_0348f_row4_col1,#T_0348f_row4_col3{\n",
       "            background-color:  #ffebe2;\n",
       "            color:  #000000;\n",
       "        }#T_0348f_row2_col2,#T_0348f_row8_col4,#T_0348f_row12_col2,#T_0348f_row15_col2,#T_0348f_row32_col2,#T_0348f_row33_col2,#T_0348f_row33_col4,#T_0348f_row34_col2{\n",
       "            background-color:  #fff4ef;\n",
       "            color:  #000000;\n",
       "        }#T_0348f_row2_col4,#T_0348f_row15_col1,#T_0348f_row15_col3,#T_0348f_row18_col1,#T_0348f_row18_col3{\n",
       "            background-color:  #ffece3;\n",
       "            color:  #000000;\n",
       "        }#T_0348f_row2_col5,#T_0348f_row3_col6,#T_0348f_row15_col6,#T_0348f_row24_col5,#T_0348f_row28_col6{\n",
       "            background-color:  #d52221;\n",
       "            color:  #f1f1f1;\n",
       "        }#T_0348f_row2_col6,#T_0348f_row15_col5,#T_0348f_row28_col5,#T_0348f_row31_col6{\n",
       "            background-color:  #fcaf93;\n",
       "            color:  #000000;\n",
       "        }#T_0348f_row3_col1,#T_0348f_row3_col3{\n",
       "            background-color:  #fee3d7;\n",
       "            color:  #000000;\n",
       "        }#T_0348f_row3_col2,#T_0348f_row26_col1{\n",
       "            background-color:  #ffeee6;\n",
       "            color:  #000000;\n",
       "        }#T_0348f_row3_col4,#T_0348f_row8_col6,#T_0348f_row10_col6,#T_0348f_row30_col5{\n",
       "            background-color:  #fdcdb9;\n",
       "            color:  #000000;\n",
       "        }#T_0348f_row3_col5,#T_0348f_row24_col6,#T_0348f_row27_col5,#T_0348f_row33_col6{\n",
       "            background-color:  #fcbfa7;\n",
       "            color:  #000000;\n",
       "        }#T_0348f_row4_col2,#T_0348f_row8_col1,#T_0348f_row8_col3,#T_0348f_row19_col4{\n",
       "            background-color:  #fff2eb;\n",
       "            color:  #000000;\n",
       "        }#T_0348f_row4_col4{\n",
       "            background-color:  #fee1d4;\n",
       "            color:  #000000;\n",
       "        }#T_0348f_row4_col5,#T_0348f_row14_col5,#T_0348f_row18_col5,#T_0348f_row27_col1,#T_0348f_row27_col3,#T_0348f_row30_col1,#T_0348f_row30_col3{\n",
       "            background-color:  #fedbcc;\n",
       "            color:  #000000;\n",
       "        }#T_0348f_row4_col6,#T_0348f_row8_col5,#T_0348f_row10_col5,#T_0348f_row18_col6,#T_0348f_row29_col6{\n",
       "            background-color:  #b81419;\n",
       "            color:  #f1f1f1;\n",
       "        }#T_0348f_row5_col1,#T_0348f_row5_col3,#T_0348f_row5_col4{\n",
       "            background-color:  #fff0e8;\n",
       "            color:  #000000;\n",
       "        }#T_0348f_row5_col6,#T_0348f_row9_col5,#T_0348f_row23_col5,#T_0348f_row32_col5,#T_0348f_row34_col5{\n",
       "            background-color:  #fc9070;\n",
       "            color:  #000000;\n",
       "        }#T_0348f_row6_col2,#T_0348f_row23_col1,#T_0348f_row23_col3,#T_0348f_row27_col2,#T_0348f_row29_col1,#T_0348f_row29_col3{\n",
       "            background-color:  #fff1ea;\n",
       "            color:  #000000;\n",
       "        }#T_0348f_row6_col4,#T_0348f_row21_col2{\n",
       "            background-color:  #fff3ed;\n",
       "            color:  #000000;\n",
       "        }#T_0348f_row6_col5,#T_0348f_row24_col1,#T_0348f_row24_col2,#T_0348f_row24_col3,#T_0348f_row24_col4,#T_0348f_row26_col6{\n",
       "            background-color:  #67000d;\n",
       "            color:  #f1f1f1;\n",
       "        }#T_0348f_row6_col6,#T_0348f_row8_col2,#T_0348f_row10_col2,#T_0348f_row10_col4,#T_0348f_row11_col1,#T_0348f_row11_col2,#T_0348f_row11_col3,#T_0348f_row11_col4,#T_0348f_row13_col2,#T_0348f_row26_col2,#T_0348f_row26_col5{\n",
       "            background-color:  #fff5f0;\n",
       "            color:  #000000;\n",
       "        }#T_0348f_row7_col1,#T_0348f_row7_col3,#T_0348f_row7_col4,#T_0348f_row29_col4{\n",
       "            background-color:  #ffece4;\n",
       "            color:  #000000;\n",
       "        }#T_0348f_row7_col5,#T_0348f_row11_col6,#T_0348f_row17_col5,#T_0348f_row31_col5{\n",
       "            background-color:  #e32f27;\n",
       "            color:  #f1f1f1;\n",
       "        }#T_0348f_row9_col2,#T_0348f_row13_col4,#T_0348f_row21_col1,#T_0348f_row21_col3,#T_0348f_row23_col4,#T_0348f_row32_col4{\n",
       "            background-color:  #ffefe8;\n",
       "            color:  #000000;\n",
       "        }#T_0348f_row10_col1,#T_0348f_row10_col3,#T_0348f_row19_col1,#T_0348f_row19_col3,#T_0348f_row33_col1,#T_0348f_row33_col3{\n",
       "            background-color:  #fff2ec;\n",
       "            color:  #000000;\n",
       "        }#T_0348f_row12_col1,#T_0348f_row12_col3{\n",
       "            background-color:  #fee7db;\n",
       "            color:  #000000;\n",
       "        }#T_0348f_row12_col4,#T_0348f_row17_col2,#T_0348f_row18_col4{\n",
       "            background-color:  #fee3d6;\n",
       "            color:  #000000;\n",
       "        }#T_0348f_row12_col5,#T_0348f_row13_col5,#T_0348f_row16_col5,#T_0348f_row20_col5,#T_0348f_row25_col6{\n",
       "            background-color:  #f96044;\n",
       "            color:  #000000;\n",
       "        }#T_0348f_row12_col6,#T_0348f_row13_col6,#T_0348f_row19_col5,#T_0348f_row20_col4,#T_0348f_row22_col5,#T_0348f_row25_col5{\n",
       "            background-color:  #fc8161;\n",
       "            color:  #000000;\n",
       "        }#T_0348f_row14_col1,#T_0348f_row14_col3{\n",
       "            background-color:  #fedccd;\n",
       "            color:  #000000;\n",
       "        }#T_0348f_row14_col4{\n",
       "            background-color:  #fcb398;\n",
       "            color:  #000000;\n",
       "        }#T_0348f_row14_col6,#T_0348f_row21_col6{\n",
       "            background-color:  #aa1016;\n",
       "            color:  #f1f1f1;\n",
       "        }#T_0348f_row15_col4,#T_0348f_row22_col1,#T_0348f_row22_col3{\n",
       "            background-color:  #fee5d8;\n",
       "            color:  #000000;\n",
       "        }#T_0348f_row16_col1{\n",
       "            background-color:  #d21f20;\n",
       "            color:  #f1f1f1;\n",
       "        }#T_0348f_row16_col2{\n",
       "            background-color:  #fc997a;\n",
       "            color:  #000000;\n",
       "        }#T_0348f_row16_col3{\n",
       "            background-color:  #d32020;\n",
       "            color:  #f1f1f1;\n",
       "        }#T_0348f_row16_col4{\n",
       "            background-color:  #b51318;\n",
       "            color:  #f1f1f1;\n",
       "        }#T_0348f_row17_col1,#T_0348f_row17_col3{\n",
       "            background-color:  #fc8e6e;\n",
       "            color:  #000000;\n",
       "        }#T_0348f_row17_col4{\n",
       "            background-color:  #fb7d5d;\n",
       "            color:  #000000;\n",
       "        }#T_0348f_row19_col6,#T_0348f_row22_col6,#T_0348f_row23_col6{\n",
       "            background-color:  #f44f39;\n",
       "            color:  #000000;\n",
       "        }#T_0348f_row20_col1,#T_0348f_row20_col3,#T_0348f_row28_col4{\n",
       "            background-color:  #fca689;\n",
       "            color:  #000000;\n",
       "        }#T_0348f_row20_col2{\n",
       "            background-color:  #fdd5c4;\n",
       "            color:  #000000;\n",
       "        }#T_0348f_row21_col4{\n",
       "            background-color:  #fee8de;\n",
       "            color:  #000000;\n",
       "        }#T_0348f_row22_col4{\n",
       "            background-color:  #fedaca;\n",
       "            color:  #000000;\n",
       "        }#T_0348f_row25_col1,#T_0348f_row25_col3{\n",
       "            background-color:  #fed8c7;\n",
       "            color:  #000000;\n",
       "        }#T_0348f_row25_col2,#T_0348f_row34_col4{\n",
       "            background-color:  #feeae1;\n",
       "            color:  #000000;\n",
       "        }#T_0348f_row25_col4{\n",
       "            background-color:  #fcc3ab;\n",
       "            color:  #000000;\n",
       "        }#T_0348f_row26_col3,#T_0348f_row28_col2,#T_0348f_row34_col1,#T_0348f_row34_col3{\n",
       "            background-color:  #ffeee7;\n",
       "            color:  #000000;\n",
       "        }#T_0348f_row26_col4{\n",
       "            background-color:  #fee4d8;\n",
       "            color:  #000000;\n",
       "        }#T_0348f_row27_col4{\n",
       "            background-color:  #fcb79c;\n",
       "            color:  #000000;\n",
       "        }#T_0348f_row27_col6,#T_0348f_row30_col6,#T_0348f_row33_col5{\n",
       "            background-color:  #c7171c;\n",
       "            color:  #f1f1f1;\n",
       "        }#T_0348f_row28_col1,#T_0348f_row28_col3{\n",
       "            background-color:  #fdd1be;\n",
       "            color:  #000000;\n",
       "        }#T_0348f_row29_col2{\n",
       "            background-color:  #feeae0;\n",
       "            color:  #000000;\n",
       "        }#T_0348f_row30_col4{\n",
       "            background-color:  #fcb69b;\n",
       "            color:  #000000;\n",
       "        }#T_0348f_row31_col1,#T_0348f_row31_col3{\n",
       "            background-color:  #f96245;\n",
       "            color:  #000000;\n",
       "        }#T_0348f_row31_col2{\n",
       "            background-color:  #fcc4ad;\n",
       "            color:  #000000;\n",
       "        }#T_0348f_row31_col4{\n",
       "            background-color:  #f44d38;\n",
       "            color:  #000000;\n",
       "        }</style><table id=\"T_0348f_\" ><thead>    <tr>        <th class=\"blank level0\" ></th>        <th class=\"col_heading level0 col0\" >Districts</th>        <th class=\"col_heading level0 col1\" >Positive Cases</th>        <th class=\"col_heading level0 col2\" >Active Cases</th>        <th class=\"col_heading level0 col3\" >Recovered</th>        <th class=\"col_heading level0 col4\" >Deceased</th>        <th class=\"col_heading level0 col5\" >Recovery Rate(%)</th>        <th class=\"col_heading level0 col6\" >Fatality Rate(%)</th>    </tr></thead><tbody>\n",
       "                <tr>\n",
       "                        <th id=\"T_0348f_level0_row0\" class=\"row_heading level0 row0\" >0</th>\n",
       "                        <td id=\"T_0348f_row0_col0\" class=\"data row0 col0\" >Ahmednagar</td>\n",
       "                        <td id=\"T_0348f_row0_col1\" class=\"data row0 col1\" >376964</td>\n",
       "                        <td id=\"T_0348f_row0_col2\" class=\"data row0 col2\" >472</td>\n",
       "                        <td id=\"T_0348f_row0_col3\" class=\"data row0 col3\" >369253</td>\n",
       "                        <td id=\"T_0348f_row0_col4\" class=\"data row0 col4\" >7228</td>\n",
       "                        <td id=\"T_0348f_row0_col5\" class=\"data row0 col5\" >98.000000</td>\n",
       "                        <td id=\"T_0348f_row0_col6\" class=\"data row0 col6\" >1.900000</td>\n",
       "            </tr>\n",
       "            <tr>\n",
       "                        <th id=\"T_0348f_level0_row1\" class=\"row_heading level0 row1\" >1</th>\n",
       "                        <td id=\"T_0348f_row1_col0\" class=\"data row1 col0\" >Akola</td>\n",
       "                        <td id=\"T_0348f_row1_col1\" class=\"data row1 col1\" >66135</td>\n",
       "                        <td id=\"T_0348f_row1_col2\" class=\"data row1 col2\" >21</td>\n",
       "                        <td id=\"T_0348f_row1_col3\" class=\"data row1 col3\" >64646</td>\n",
       "                        <td id=\"T_0348f_row1_col4\" class=\"data row1 col4\" >1464</td>\n",
       "                        <td id=\"T_0348f_row1_col5\" class=\"data row1 col5\" >97.700000</td>\n",
       "                        <td id=\"T_0348f_row1_col6\" class=\"data row1 col6\" >2.200000</td>\n",
       "            </tr>\n",
       "            <tr>\n",
       "                        <th id=\"T_0348f_level0_row2\" class=\"row_heading level0 row2\" >2</th>\n",
       "                        <td id=\"T_0348f_row2_col0\" class=\"data row2 col0\" >Amravati</td>\n",
       "                        <td id=\"T_0348f_row2_col1\" class=\"data row2 col1\" >105909</td>\n",
       "                        <td id=\"T_0348f_row2_col2\" class=\"data row2 col2\" >13</td>\n",
       "                        <td id=\"T_0348f_row2_col3\" class=\"data row2 col3\" >104272</td>\n",
       "                        <td id=\"T_0348f_row2_col4\" class=\"data row2 col4\" >1622</td>\n",
       "                        <td id=\"T_0348f_row2_col5\" class=\"data row2 col5\" >98.500000</td>\n",
       "                        <td id=\"T_0348f_row2_col6\" class=\"data row2 col6\" >1.500000</td>\n",
       "            </tr>\n",
       "            <tr>\n",
       "                        <th id=\"T_0348f_level0_row3\" class=\"row_heading level0 row3\" >3</th>\n",
       "                        <td id=\"T_0348f_row3_col0\" class=\"data row3 col0\" >Aurangabad</td>\n",
       "                        <td id=\"T_0348f_row3_col1\" class=\"data row3 col1\" >176264</td>\n",
       "                        <td id=\"T_0348f_row3_col2\" class=\"data row3 col2\" >88</td>\n",
       "                        <td id=\"T_0348f_row3_col3\" class=\"data row3 col3\" >171892</td>\n",
       "                        <td id=\"T_0348f_row3_col4\" class=\"data row3 col4\" >4270</td>\n",
       "                        <td id=\"T_0348f_row3_col5\" class=\"data row3 col5\" >97.500000</td>\n",
       "                        <td id=\"T_0348f_row3_col6\" class=\"data row3 col6\" >2.400000</td>\n",
       "            </tr>\n",
       "            <tr>\n",
       "                        <th id=\"T_0348f_level0_row4\" class=\"row_heading level0 row4\" >4</th>\n",
       "                        <td id=\"T_0348f_row4_col0\" class=\"data row4 col0\" >Beed</td>\n",
       "                        <td id=\"T_0348f_row4_col1\" class=\"data row4 col1\" >109067</td>\n",
       "                        <td id=\"T_0348f_row4_col2\" class=\"data row4 col2\" >43</td>\n",
       "                        <td id=\"T_0348f_row4_col3\" class=\"data row4 col3\" >106143</td>\n",
       "                        <td id=\"T_0348f_row4_col4\" class=\"data row4 col4\" >2874</td>\n",
       "                        <td id=\"T_0348f_row4_col5\" class=\"data row4 col5\" >97.300000</td>\n",
       "                        <td id=\"T_0348f_row4_col6\" class=\"data row4 col6\" >2.600000</td>\n",
       "            </tr>\n",
       "            <tr>\n",
       "                        <th id=\"T_0348f_level0_row5\" class=\"row_heading level0 row5\" >5</th>\n",
       "                        <td id=\"T_0348f_row5_col0\" class=\"data row5 col0\" >Bhandara</td>\n",
       "                        <td id=\"T_0348f_row5_col1\" class=\"data row5 col1\" >67919</td>\n",
       "                        <td id=\"T_0348f_row5_col2\" class=\"data row5 col2\" >22</td>\n",
       "                        <td id=\"T_0348f_row5_col3\" class=\"data row5 col3\" >66755</td>\n",
       "                        <td id=\"T_0348f_row5_col4\" class=\"data row5 col4\" >1132</td>\n",
       "                        <td id=\"T_0348f_row5_col5\" class=\"data row5 col5\" >98.300000</td>\n",
       "                        <td id=\"T_0348f_row5_col6\" class=\"data row5 col6\" >1.700000</td>\n",
       "            </tr>\n",
       "            <tr>\n",
       "                        <th id=\"T_0348f_level0_row6\" class=\"row_heading level0 row6\" >6</th>\n",
       "                        <td id=\"T_0348f_row6_col0\" class=\"data row6 col0\" >Buldhana</td>\n",
       "                        <td id=\"T_0348f_row6_col1\" class=\"data row6 col1\" >91792</td>\n",
       "                        <td id=\"T_0348f_row6_col2\" class=\"data row6 col2\" >49</td>\n",
       "                        <td id=\"T_0348f_row6_col3\" class=\"data row6 col3\" >90922</td>\n",
       "                        <td id=\"T_0348f_row6_col4\" class=\"data row6 col4\" >815</td>\n",
       "                        <td id=\"T_0348f_row6_col5\" class=\"data row6 col5\" >99.100000</td>\n",
       "                        <td id=\"T_0348f_row6_col6\" class=\"data row6 col6\" >0.900000</td>\n",
       "            </tr>\n",
       "            <tr>\n",
       "                        <th id=\"T_0348f_level0_row7\" class=\"row_heading level0 row7\" >7</th>\n",
       "                        <td id=\"T_0348f_row7_col0\" class=\"data row7 col0\" >Chandrapur</td>\n",
       "                        <td id=\"T_0348f_row7_col1\" class=\"data row7 col1\" >98793</td>\n",
       "                        <td id=\"T_0348f_row7_col2\" class=\"data row7 col2\" >20</td>\n",
       "                        <td id=\"T_0348f_row7_col3\" class=\"data row7 col3\" >97182</td>\n",
       "                        <td id=\"T_0348f_row7_col4\" class=\"data row7 col4\" >1587</td>\n",
       "                        <td id=\"T_0348f_row7_col5\" class=\"data row7 col5\" >98.400000</td>\n",
       "                        <td id=\"T_0348f_row7_col6\" class=\"data row7 col6\" >1.600000</td>\n",
       "            </tr>\n",
       "            <tr>\n",
       "                        <th id=\"T_0348f_level0_row8\" class=\"row_heading level0 row8\" >8</th>\n",
       "                        <td id=\"T_0348f_row8_col0\" class=\"data row8 col0\" >Dhule</td>\n",
       "                        <td id=\"T_0348f_row8_col1\" class=\"data row8 col1\" >50637</td>\n",
       "                        <td id=\"T_0348f_row8_col2\" class=\"data row8 col2\" >4</td>\n",
       "                        <td id=\"T_0348f_row8_col3\" class=\"data row8 col3\" >49963</td>\n",
       "                        <td id=\"T_0348f_row8_col4\" class=\"data row8 col4\" >659</td>\n",
       "                        <td id=\"T_0348f_row8_col5\" class=\"data row8 col5\" >98.700000</td>\n",
       "                        <td id=\"T_0348f_row8_col6\" class=\"data row8 col6\" >1.300000</td>\n",
       "            </tr>\n",
       "            <tr>\n",
       "                        <th id=\"T_0348f_level0_row9\" class=\"row_heading level0 row9\" >9</th>\n",
       "                        <td id=\"T_0348f_row9_col0\" class=\"data row9 col0\" >Gadchiroli</td>\n",
       "                        <td id=\"T_0348f_row9_col1\" class=\"data row9 col1\" >36929</td>\n",
       "                        <td id=\"T_0348f_row9_col2\" class=\"data row9 col2\" >73</td>\n",
       "                        <td id=\"T_0348f_row9_col3\" class=\"data row9 col3\" >36131</td>\n",
       "                        <td id=\"T_0348f_row9_col4\" class=\"data row9 col4\" >691</td>\n",
       "                        <td id=\"T_0348f_row9_col5\" class=\"data row9 col5\" >97.800000</td>\n",
       "                        <td id=\"T_0348f_row9_col6\" class=\"data row9 col6\" >1.900000</td>\n",
       "            </tr>\n",
       "            <tr>\n",
       "                        <th id=\"T_0348f_level0_row10\" class=\"row_heading level0 row10\" >10</th>\n",
       "                        <td id=\"T_0348f_row10_col0\" class=\"data row10 col0\" >Gondia</td>\n",
       "                        <td id=\"T_0348f_row10_col1\" class=\"data row10 col1\" >45387</td>\n",
       "                        <td id=\"T_0348f_row10_col2\" class=\"data row10 col2\" >5</td>\n",
       "                        <td id=\"T_0348f_row10_col3\" class=\"data row10 col3\" >44796</td>\n",
       "                        <td id=\"T_0348f_row10_col4\" class=\"data row10 col4\" >579</td>\n",
       "                        <td id=\"T_0348f_row10_col5\" class=\"data row10 col5\" >98.700000</td>\n",
       "                        <td id=\"T_0348f_row10_col6\" class=\"data row10 col6\" >1.300000</td>\n",
       "            </tr>\n",
       "            <tr>\n",
       "                        <th id=\"T_0348f_level0_row11\" class=\"row_heading level0 row11\" >11</th>\n",
       "                        <td id=\"T_0348f_row11_col0\" class=\"data row11 col0\" >Hingoli</td>\n",
       "                        <td id=\"T_0348f_row11_col1\" class=\"data row11 col1\" >22164</td>\n",
       "                        <td id=\"T_0348f_row11_col2\" class=\"data row11 col2\" >4</td>\n",
       "                        <td id=\"T_0348f_row11_col3\" class=\"data row11 col3\" >21646</td>\n",
       "                        <td id=\"T_0348f_row11_col4\" class=\"data row11 col4\" >513</td>\n",
       "                        <td id=\"T_0348f_row11_col5\" class=\"data row11 col5\" >97.700000</td>\n",
       "                        <td id=\"T_0348f_row11_col6\" class=\"data row11 col6\" >2.300000</td>\n",
       "            </tr>\n",
       "            <tr>\n",
       "                        <th id=\"T_0348f_level0_row12\" class=\"row_heading level0 row12\" >12</th>\n",
       "                        <td id=\"T_0348f_row12_col0\" class=\"data row12 col0\" >Jalgaon</td>\n",
       "                        <td id=\"T_0348f_row12_col1\" class=\"data row12 col1\" >149454</td>\n",
       "                        <td id=\"T_0348f_row12_col2\" class=\"data row12 col2\" >15</td>\n",
       "                        <td id=\"T_0348f_row12_col3\" class=\"data row12 col3\" >146678</td>\n",
       "                        <td id=\"T_0348f_row12_col4\" class=\"data row12 col4\" >2728</td>\n",
       "                        <td id=\"T_0348f_row12_col5\" class=\"data row12 col5\" >98.100000</td>\n",
       "                        <td id=\"T_0348f_row12_col6\" class=\"data row12 col6\" >1.800000</td>\n",
       "            </tr>\n",
       "            <tr>\n",
       "                        <th id=\"T_0348f_level0_row13\" class=\"row_heading level0 row13\" >13</th>\n",
       "                        <td id=\"T_0348f_row13_col0\" class=\"data row13 col0\" >Jalna</td>\n",
       "                        <td id=\"T_0348f_row13_col1\" class=\"data row13 col1\" >66296</td>\n",
       "                        <td id=\"T_0348f_row13_col2\" class=\"data row13 col2\" >4</td>\n",
       "                        <td id=\"T_0348f_row13_col3\" class=\"data row13 col3\" >65068</td>\n",
       "                        <td id=\"T_0348f_row13_col4\" class=\"data row13 col4\" >1223</td>\n",
       "                        <td id=\"T_0348f_row13_col5\" class=\"data row13 col5\" >98.100000</td>\n",
       "                        <td id=\"T_0348f_row13_col6\" class=\"data row13 col6\" >1.800000</td>\n",
       "            </tr>\n",
       "            <tr>\n",
       "                        <th id=\"T_0348f_level0_row14\" class=\"row_heading level0 row14\" >14</th>\n",
       "                        <td id=\"T_0348f_row14_col0\" class=\"data row14 col0\" >Kolhapur</td>\n",
       "                        <td id=\"T_0348f_row14_col1\" class=\"data row14 col1\" >220400</td>\n",
       "                        <td id=\"T_0348f_row14_col2\" class=\"data row14 col2\" >55</td>\n",
       "                        <td id=\"T_0348f_row14_col3\" class=\"data row14 col3\" >214441</td>\n",
       "                        <td id=\"T_0348f_row14_col4\" class=\"data row14 col4\" >5899</td>\n",
       "                        <td id=\"T_0348f_row14_col5\" class=\"data row14 col5\" >97.300000</td>\n",
       "                        <td id=\"T_0348f_row14_col6\" class=\"data row14 col6\" >2.700000</td>\n",
       "            </tr>\n",
       "            <tr>\n",
       "                        <th id=\"T_0348f_level0_row15\" class=\"row_heading level0 row15\" >15</th>\n",
       "                        <td id=\"T_0348f_row15_col0\" class=\"data row15 col0\" >Latur</td>\n",
       "                        <td id=\"T_0348f_row15_col1\" class=\"data row15 col1\" >104879</td>\n",
       "                        <td id=\"T_0348f_row15_col2\" class=\"data row15 col2\" >12</td>\n",
       "                        <td id=\"T_0348f_row15_col3\" class=\"data row15 col3\" >102378</td>\n",
       "                        <td id=\"T_0348f_row15_col4\" class=\"data row15 col4\" >2483</td>\n",
       "                        <td id=\"T_0348f_row15_col5\" class=\"data row15 col5\" >97.600000</td>\n",
       "                        <td id=\"T_0348f_row15_col6\" class=\"data row15 col6\" >2.400000</td>\n",
       "            </tr>\n",
       "            <tr>\n",
       "                        <th id=\"T_0348f_level0_row16\" class=\"row_heading level0 row16\" >16</th>\n",
       "                        <td id=\"T_0348f_row16_col0\" class=\"data row16 col0\" >Mumbai</td>\n",
       "                        <td id=\"T_0348f_row16_col1\" class=\"data row16 col1\" >1055811</td>\n",
       "                        <td id=\"T_0348f_row16_col2\" class=\"data row16 col2\" >650</td>\n",
       "                        <td id=\"T_0348f_row16_col3\" class=\"data row16 col3\" >1035610</td>\n",
       "                        <td id=\"T_0348f_row16_col4\" class=\"data row16 col4\" >16691</td>\n",
       "                        <td id=\"T_0348f_row16_col5\" class=\"data row16 col5\" >98.100000</td>\n",
       "                        <td id=\"T_0348f_row16_col6\" class=\"data row16 col6\" >1.600000</td>\n",
       "            </tr>\n",
       "            <tr>\n",
       "                        <th id=\"T_0348f_level0_row17\" class=\"row_heading level0 row17\" >17</th>\n",
       "                        <td id=\"T_0348f_row17_col0\" class=\"data row17 col0\" >Nagpur</td>\n",
       "                        <td id=\"T_0348f_row17_col1\" class=\"data row17 col1\" >576191</td>\n",
       "                        <td id=\"T_0348f_row17_col2\" class=\"data row17 col2\" >211</td>\n",
       "                        <td id=\"T_0348f_row17_col3\" class=\"data row17 col3\" >566766</td>\n",
       "                        <td id=\"T_0348f_row17_col4\" class=\"data row17 col4\" >9143</td>\n",
       "                        <td id=\"T_0348f_row17_col5\" class=\"data row17 col5\" >98.400000</td>\n",
       "                        <td id=\"T_0348f_row17_col6\" class=\"data row17 col6\" >1.600000</td>\n",
       "            </tr>\n",
       "            <tr>\n",
       "                        <th id=\"T_0348f_level0_row18\" class=\"row_heading level0 row18\" >18</th>\n",
       "                        <td id=\"T_0348f_row18_col0\" class=\"data row18 col0\" >Nanded</td>\n",
       "                        <td id=\"T_0348f_row18_col1\" class=\"data row18 col1\" >102626</td>\n",
       "                        <td id=\"T_0348f_row18_col2\" class=\"data row18 col2\" >21</td>\n",
       "                        <td id=\"T_0348f_row18_col3\" class=\"data row18 col3\" >99903</td>\n",
       "                        <td id=\"T_0348f_row18_col4\" class=\"data row18 col4\" >2695</td>\n",
       "                        <td id=\"T_0348f_row18_col5\" class=\"data row18 col5\" >97.300000</td>\n",
       "                        <td id=\"T_0348f_row18_col6\" class=\"data row18 col6\" >2.600000</td>\n",
       "            </tr>\n",
       "            <tr>\n",
       "                        <th id=\"T_0348f_level0_row19\" class=\"row_heading level0 row19\" >19</th>\n",
       "                        <td id=\"T_0348f_row19_col0\" class=\"data row19 col0\" >Nandurbar</td>\n",
       "                        <td id=\"T_0348f_row19_col1\" class=\"data row19 col1\" >46590</td>\n",
       "                        <td id=\"T_0348f_row19_col2\" class=\"data row19 col2\" >20</td>\n",
       "                        <td id=\"T_0348f_row19_col3\" class=\"data row19 col3\" >45608</td>\n",
       "                        <td id=\"T_0348f_row19_col4\" class=\"data row19 col4\" >959</td>\n",
       "                        <td id=\"T_0348f_row19_col5\" class=\"data row19 col5\" >97.900000</td>\n",
       "                        <td id=\"T_0348f_row19_col6\" class=\"data row19 col6\" >2.100000</td>\n",
       "            </tr>\n",
       "            <tr>\n",
       "                        <th id=\"T_0348f_level0_row20\" class=\"row_heading level0 row20\" >20</th>\n",
       "                        <td id=\"T_0348f_row20_col0\" class=\"data row20 col0\" >Nashik</td>\n",
       "                        <td id=\"T_0348f_row20_col1\" class=\"data row20 col1\" >472611</td>\n",
       "                        <td id=\"T_0348f_row20_col2\" class=\"data row20 col2\" >303</td>\n",
       "                        <td id=\"T_0348f_row20_col3\" class=\"data row20 col3\" >463406</td>\n",
       "                        <td id=\"T_0348f_row20_col4\" class=\"data row20 col4\" >8901</td>\n",
       "                        <td id=\"T_0348f_row20_col5\" class=\"data row20 col5\" >98.100000</td>\n",
       "                        <td id=\"T_0348f_row20_col6\" class=\"data row20 col6\" >1.900000</td>\n",
       "            </tr>\n",
       "            <tr>\n",
       "                        <th id=\"T_0348f_level0_row21\" class=\"row_heading level0 row21\" >21</th>\n",
       "                        <td id=\"T_0348f_row21_col0\" class=\"data row21 col0\" >Osmanabad</td>\n",
       "                        <td id=\"T_0348f_row21_col1\" class=\"data row21 col1\" >75083</td>\n",
       "                        <td id=\"T_0348f_row21_col2\" class=\"data row21 col2\" >28</td>\n",
       "                        <td id=\"T_0348f_row21_col3\" class=\"data row21 col3\" >72916</td>\n",
       "                        <td id=\"T_0348f_row21_col4\" class=\"data row21 col4\" >2023</td>\n",
       "                        <td id=\"T_0348f_row21_col5\" class=\"data row21 col5\" >97.100000</td>\n",
       "                        <td id=\"T_0348f_row21_col6\" class=\"data row21 col6\" >2.700000</td>\n",
       "            </tr>\n",
       "            <tr>\n",
       "                        <th id=\"T_0348f_level0_row22\" class=\"row_heading level0 row22\" >22</th>\n",
       "                        <td id=\"T_0348f_row22_col0\" class=\"data row22 col0\" >Palghar</td>\n",
       "                        <td id=\"T_0348f_row22_col1\" class=\"data row22 col1\" >163402</td>\n",
       "                        <td id=\"T_0348f_row22_col2\" class=\"data row22 col2\" >60</td>\n",
       "                        <td id=\"T_0348f_row22_col3\" class=\"data row22 col3\" >159935</td>\n",
       "                        <td id=\"T_0348f_row22_col4\" class=\"data row22 col4\" >3392</td>\n",
       "                        <td id=\"T_0348f_row22_col5\" class=\"data row22 col5\" >97.900000</td>\n",
       "                        <td id=\"T_0348f_row22_col6\" class=\"data row22 col6\" >2.100000</td>\n",
       "            </tr>\n",
       "            <tr>\n",
       "                        <th id=\"T_0348f_level0_row23\" class=\"row_heading level0 row23\" >23</th>\n",
       "                        <td id=\"T_0348f_row23_col0\" class=\"data row23 col0\" >Parbhani</td>\n",
       "                        <td id=\"T_0348f_row23_col1\" class=\"data row23 col1\" >58507</td>\n",
       "                        <td id=\"T_0348f_row23_col2\" class=\"data row23 col2\" >24</td>\n",
       "                        <td id=\"T_0348f_row23_col3\" class=\"data row23 col3\" >57207</td>\n",
       "                        <td id=\"T_0348f_row23_col4\" class=\"data row23 col4\" >1256</td>\n",
       "                        <td id=\"T_0348f_row23_col5\" class=\"data row23 col5\" >97.800000</td>\n",
       "                        <td id=\"T_0348f_row23_col6\" class=\"data row23 col6\" >2.100000</td>\n",
       "            </tr>\n",
       "            <tr>\n",
       "                        <th id=\"T_0348f_level0_row24\" class=\"row_heading level0 row24\" >24</th>\n",
       "                        <td id=\"T_0348f_row24_col0\" class=\"data row24 col0\" >Pune</td>\n",
       "                        <td id=\"T_0348f_row24_col1\" class=\"data row24 col1\" >1450390</td>\n",
       "                        <td id=\"T_0348f_row24_col2\" class=\"data row24 col2\" >1833</td>\n",
       "                        <td id=\"T_0348f_row24_col3\" class=\"data row24 col3\" >1428051</td>\n",
       "                        <td id=\"T_0348f_row24_col4\" class=\"data row24 col4\" >20156</td>\n",
       "                        <td id=\"T_0348f_row24_col5\" class=\"data row24 col5\" >98.500000</td>\n",
       "                        <td id=\"T_0348f_row24_col6\" class=\"data row24 col6\" >1.400000</td>\n",
       "            </tr>\n",
       "            <tr>\n",
       "                        <th id=\"T_0348f_level0_row25\" class=\"row_heading level0 row25\" >25</th>\n",
       "                        <td id=\"T_0348f_row25_col0\" class=\"data row25 col0\" >Raigad</td>\n",
       "                        <td id=\"T_0348f_row25_col1\" class=\"data row25 col1\" >244158</td>\n",
       "                        <td id=\"T_0348f_row25_col2\" class=\"data row25 col2\" >123</td>\n",
       "                        <td id=\"T_0348f_row25_col3\" class=\"data row25 col3\" >239092</td>\n",
       "                        <td id=\"T_0348f_row25_col4\" class=\"data row25 col4\" >4936</td>\n",
       "                        <td id=\"T_0348f_row25_col5\" class=\"data row25 col5\" >97.900000</td>\n",
       "                        <td id=\"T_0348f_row25_col6\" class=\"data row25 col6\" >2.000000</td>\n",
       "            </tr>\n",
       "            <tr>\n",
       "                        <th id=\"T_0348f_level0_row26\" class=\"row_heading level0 row26\" >26</th>\n",
       "                        <td id=\"T_0348f_row26_col0\" class=\"data row26 col0\" >Ratnagiri</td>\n",
       "                        <td id=\"T_0348f_row26_col1\" class=\"data row26 col1\" >84383</td>\n",
       "                        <td id=\"T_0348f_row26_col2\" class=\"data row26 col2\" >10</td>\n",
       "                        <td id=\"T_0348f_row26_col3\" class=\"data row26 col3\" >81827</td>\n",
       "                        <td id=\"T_0348f_row26_col4\" class=\"data row26 col4\" >2541</td>\n",
       "                        <td id=\"T_0348f_row26_col5\" class=\"data row26 col5\" >97.000000</td>\n",
       "                        <td id=\"T_0348f_row26_col6\" class=\"data row26 col6\" >3.000000</td>\n",
       "            </tr>\n",
       "            <tr>\n",
       "                        <th id=\"T_0348f_level0_row27\" class=\"row_heading level0 row27\" >27</th>\n",
       "                        <td id=\"T_0348f_row27_col0\" class=\"data row27 col0\" >Sangli</td>\n",
       "                        <td id=\"T_0348f_row27_col1\" class=\"data row27 col1\" >226945</td>\n",
       "                        <td id=\"T_0348f_row27_col2\" class=\"data row27 col2\" >49</td>\n",
       "                        <td id=\"T_0348f_row27_col3\" class=\"data row27 col3\" >221232</td>\n",
       "                        <td id=\"T_0348f_row27_col4\" class=\"data row27 col4\" >5655</td>\n",
       "                        <td id=\"T_0348f_row27_col5\" class=\"data row27 col5\" >97.500000</td>\n",
       "                        <td id=\"T_0348f_row27_col6\" class=\"data row27 col6\" >2.500000</td>\n",
       "            </tr>\n",
       "            <tr>\n",
       "                        <th id=\"T_0348f_level0_row28\" class=\"row_heading level0 row28\" >28</th>\n",
       "                        <td id=\"T_0348f_row28_col0\" class=\"data row28 col0\" >Satara</td>\n",
       "                        <td id=\"T_0348f_row28_col1\" class=\"data row28 col1\" >278046</td>\n",
       "                        <td id=\"T_0348f_row28_col2\" class=\"data row28 col2\" >79</td>\n",
       "                        <td id=\"T_0348f_row28_col3\" class=\"data row28 col3\" >271259</td>\n",
       "                        <td id=\"T_0348f_row28_col4\" class=\"data row28 col4\" >6674</td>\n",
       "                        <td id=\"T_0348f_row28_col5\" class=\"data row28 col5\" >97.600000</td>\n",
       "                        <td id=\"T_0348f_row28_col6\" class=\"data row28 col6\" >2.400000</td>\n",
       "            </tr>\n",
       "            <tr>\n",
       "                        <th id=\"T_0348f_level0_row29\" class=\"row_heading level0 row29\" >29</th>\n",
       "                        <td id=\"T_0348f_row29_col0\" class=\"data row29 col0\" >Sindhudurg</td>\n",
       "                        <td id=\"T_0348f_row29_col1\" class=\"data row29 col1\" >57125</td>\n",
       "                        <td id=\"T_0348f_row29_col2\" class=\"data row29 col2\" >130</td>\n",
       "                        <td id=\"T_0348f_row29_col3\" class=\"data row29 col3\" >55469</td>\n",
       "                        <td id=\"T_0348f_row29_col4\" class=\"data row29 col4\" >1511</td>\n",
       "                        <td id=\"T_0348f_row29_col5\" class=\"data row29 col5\" >97.100000</td>\n",
       "                        <td id=\"T_0348f_row29_col6\" class=\"data row29 col6\" >2.600000</td>\n",
       "            </tr>\n",
       "            <tr>\n",
       "                        <th id=\"T_0348f_level0_row30\" class=\"row_heading level0 row30\" >30</th>\n",
       "                        <td id=\"T_0348f_row30_col0\" class=\"data row30 col0\" >Solapur</td>\n",
       "                        <td id=\"T_0348f_row30_col1\" class=\"data row30 col1\" >226968</td>\n",
       "                        <td id=\"T_0348f_row30_col2\" class=\"data row30 col2\" >59</td>\n",
       "                        <td id=\"T_0348f_row30_col3\" class=\"data row30 col3\" >221035</td>\n",
       "                        <td id=\"T_0348f_row30_col4\" class=\"data row30 col4\" >5757</td>\n",
       "                        <td id=\"T_0348f_row30_col5\" class=\"data row30 col5\" >97.400000</td>\n",
       "                        <td id=\"T_0348f_row30_col6\" class=\"data row30 col6\" >2.500000</td>\n",
       "            </tr>\n",
       "            <tr>\n",
       "                        <th id=\"T_0348f_level0_row31\" class=\"row_heading level0 row31\" >31</th>\n",
       "                        <td id=\"T_0348f_row31_col0\" class=\"data row31 col0\" >Thane</td>\n",
       "                        <td id=\"T_0348f_row31_col1\" class=\"data row31 col1\" >766202</td>\n",
       "                        <td id=\"T_0348f_row31_col2\" class=\"data row31 col2\" >405</td>\n",
       "                        <td id=\"T_0348f_row31_col3\" class=\"data row31 col3\" >753903</td>\n",
       "                        <td id=\"T_0348f_row31_col4\" class=\"data row31 col4\" >11859</td>\n",
       "                        <td id=\"T_0348f_row31_col5\" class=\"data row31 col5\" >98.400000</td>\n",
       "                        <td id=\"T_0348f_row31_col6\" class=\"data row31 col6\" >1.500000</td>\n",
       "            </tr>\n",
       "            <tr>\n",
       "                        <th id=\"T_0348f_level0_row32\" class=\"row_heading level0 row32\" >32</th>\n",
       "                        <td id=\"T_0348f_row32_col0\" class=\"data row32 col0\" >Wardha</td>\n",
       "                        <td id=\"T_0348f_row32_col1\" class=\"data row32 col1\" >65656</td>\n",
       "                        <td id=\"T_0348f_row32_col2\" class=\"data row32 col2\" >13</td>\n",
       "                        <td id=\"T_0348f_row32_col3\" class=\"data row32 col3\" >64235</td>\n",
       "                        <td id=\"T_0348f_row32_col4\" class=\"data row32 col4\" >1237</td>\n",
       "                        <td id=\"T_0348f_row32_col5\" class=\"data row32 col5\" >97.800000</td>\n",
       "                        <td id=\"T_0348f_row32_col6\" class=\"data row32 col6\" >1.900000</td>\n",
       "            </tr>\n",
       "            <tr>\n",
       "                        <th id=\"T_0348f_level0_row33\" class=\"row_heading level0 row33\" >33</th>\n",
       "                        <td id=\"T_0348f_row33_col0\" class=\"data row33 col0\" >Washim</td>\n",
       "                        <td id=\"T_0348f_row33_col1\" class=\"data row33 col1\" >45592</td>\n",
       "                        <td id=\"T_0348f_row33_col2\" class=\"data row33 col2\" >17</td>\n",
       "                        <td id=\"T_0348f_row33_col3\" class=\"data row33 col3\" >44934</td>\n",
       "                        <td id=\"T_0348f_row33_col4\" class=\"data row33 col4\" >638</td>\n",
       "                        <td id=\"T_0348f_row33_col5\" class=\"data row33 col5\" >98.600000</td>\n",
       "                        <td id=\"T_0348f_row33_col6\" class=\"data row33 col6\" >1.400000</td>\n",
       "            </tr>\n",
       "            <tr>\n",
       "                        <th id=\"T_0348f_level0_row34\" class=\"row_heading level0 row34\" >34</th>\n",
       "                        <td id=\"T_0348f_row34_col0\" class=\"data row34 col0\" >Yavatmal</td>\n",
       "                        <td id=\"T_0348f_row34_col1\" class=\"data row34 col1\" >81972</td>\n",
       "                        <td id=\"T_0348f_row34_col2\" class=\"data row34 col2\" >18</td>\n",
       "                        <td id=\"T_0348f_row34_col3\" class=\"data row34 col3\" >80134</td>\n",
       "                        <td id=\"T_0348f_row34_col4\" class=\"data row34 col4\" >1816</td>\n",
       "                        <td id=\"T_0348f_row34_col5\" class=\"data row34 col5\" >97.800000</td>\n",
       "                        <td id=\"T_0348f_row34_col6\" class=\"data row34 col6\" >2.200000</td>\n",
       "            </tr>\n",
       "    </tbody></table>"
      ],
      "text/plain": [
       "<pandas.io.formats.style.Styler at 0x188ad17b580>"
      ]
     },
     "execution_count": 8,
     "metadata": {},
     "output_type": "execute_result"
    }
   ],
   "source": [
    "dataframe.style.background_gradient(cmap=\"Reds\")"
   ]
  },
  {
   "cell_type": "markdown",
   "metadata": {},
   "source": [
    "**Inference**: -\n",
    "\n",
    "- Most number of Positive cases found in Pune district and on second position mumbai district.\n",
    "- Most number of Active Cases found in Pune distirct.\n",
    "- Most number of Recovered Cases found in Pune distirct.\n",
    "- Most number of Deceased Cases found in Pune distirct.\n",
    "- Buldhana district having highest recovery rate.\n",
    "- Ratnagiri distirct having highest fatality rate."
   ]
  },
  {
   "cell_type": "code",
   "execution_count": 39,
   "metadata": {},
   "outputs": [
    {
     "data": {
      "text/html": [
       "<style  type=\"text/css\" >\n",
       "#T_42405_row0_col0{\n",
       "            background-color:  #7f2704;\n",
       "            color:  #f1f1f1;\n",
       "        }#T_42405_row1_col0{\n",
       "            background-color:  #de4e05;\n",
       "            color:  #f1f1f1;\n",
       "        }#T_42405_row2_col0{\n",
       "            background-color:  #fb8735;\n",
       "            color:  #000000;\n",
       "        }#T_42405_row3_col0{\n",
       "            background-color:  #fdab66;\n",
       "            color:  #000000;\n",
       "        }#T_42405_row4_col0{\n",
       "            background-color:  #fdbf86;\n",
       "            color:  #000000;\n",
       "        }#T_42405_row5_col0{\n",
       "            background-color:  #fdd1a3;\n",
       "            color:  #000000;\n",
       "        }#T_42405_row6_col0{\n",
       "            background-color:  #feddbc;\n",
       "            color:  #000000;\n",
       "        }#T_42405_row7_col0{\n",
       "            background-color:  #fee1c4;\n",
       "            color:  #000000;\n",
       "        }#T_42405_row8_col0,#T_42405_row9_col0{\n",
       "            background-color:  #fee3c8;\n",
       "            color:  #000000;\n",
       "        }#T_42405_row10_col0{\n",
       "            background-color:  #fee4ca;\n",
       "            color:  #000000;\n",
       "        }#T_42405_row11_col0{\n",
       "            background-color:  #fee8d2;\n",
       "            color:  #000000;\n",
       "        }#T_42405_row12_col0{\n",
       "            background-color:  #fee9d4;\n",
       "            color:  #000000;\n",
       "        }#T_42405_row13_col0{\n",
       "            background-color:  #feebd7;\n",
       "            color:  #000000;\n",
       "        }#T_42405_row14_col0,#T_42405_row15_col0{\n",
       "            background-color:  #ffeedd;\n",
       "            color:  #000000;\n",
       "        }#T_42405_row16_col0,#T_42405_row17_col0{\n",
       "            background-color:  #ffeede;\n",
       "            color:  #000000;\n",
       "        }#T_42405_row18_col0{\n",
       "            background-color:  #ffefdf;\n",
       "            color:  #000000;\n",
       "        }#T_42405_row19_col0{\n",
       "            background-color:  #ffefe0;\n",
       "            color:  #000000;\n",
       "        }#T_42405_row20_col0{\n",
       "            background-color:  #fff0e1;\n",
       "            color:  #000000;\n",
       "        }#T_42405_row21_col0{\n",
       "            background-color:  #fff0e2;\n",
       "            color:  #000000;\n",
       "        }#T_42405_row22_col0{\n",
       "            background-color:  #fff1e3;\n",
       "            color:  #000000;\n",
       "        }#T_42405_row23_col0{\n",
       "            background-color:  #fff1e4;\n",
       "            color:  #000000;\n",
       "        }#T_42405_row24_col0,#T_42405_row25_col0,#T_42405_row26_col0{\n",
       "            background-color:  #fff2e5;\n",
       "            color:  #000000;\n",
       "        }#T_42405_row27_col0,#T_42405_row28_col0{\n",
       "            background-color:  #fff2e6;\n",
       "            color:  #000000;\n",
       "        }#T_42405_row29_col0{\n",
       "            background-color:  #fff3e6;\n",
       "            color:  #000000;\n",
       "        }#T_42405_row30_col0,#T_42405_row31_col0,#T_42405_row32_col0{\n",
       "            background-color:  #fff3e7;\n",
       "            color:  #000000;\n",
       "        }#T_42405_row33_col0{\n",
       "            background-color:  #fff4e9;\n",
       "            color:  #000000;\n",
       "        }#T_42405_row34_col0{\n",
       "            background-color:  #fff5eb;\n",
       "            color:  #000000;\n",
       "        }</style><table id=\"T_42405_\" ><thead>    <tr>        <th class=\"blank level0\" ></th>        <th class=\"col_heading level0 col0\" >Positive Cases</th>    </tr>    <tr>        <th class=\"index_name level0\" >Districts</th>        <th class=\"blank\" ></th>    </tr></thead><tbody>\n",
       "                <tr>\n",
       "                        <th id=\"T_42405_level0_row0\" class=\"row_heading level0 row0\" >Pune</th>\n",
       "                        <td id=\"T_42405_row0_col0\" class=\"data row0 col0\" >1450390</td>\n",
       "            </tr>\n",
       "            <tr>\n",
       "                        <th id=\"T_42405_level0_row1\" class=\"row_heading level0 row1\" >Mumbai</th>\n",
       "                        <td id=\"T_42405_row1_col0\" class=\"data row1 col0\" >1055811</td>\n",
       "            </tr>\n",
       "            <tr>\n",
       "                        <th id=\"T_42405_level0_row2\" class=\"row_heading level0 row2\" >Thane</th>\n",
       "                        <td id=\"T_42405_row2_col0\" class=\"data row2 col0\" >766202</td>\n",
       "            </tr>\n",
       "            <tr>\n",
       "                        <th id=\"T_42405_level0_row3\" class=\"row_heading level0 row3\" >Nagpur</th>\n",
       "                        <td id=\"T_42405_row3_col0\" class=\"data row3 col0\" >576191</td>\n",
       "            </tr>\n",
       "            <tr>\n",
       "                        <th id=\"T_42405_level0_row4\" class=\"row_heading level0 row4\" >Nashik</th>\n",
       "                        <td id=\"T_42405_row4_col0\" class=\"data row4 col0\" >472611</td>\n",
       "            </tr>\n",
       "            <tr>\n",
       "                        <th id=\"T_42405_level0_row5\" class=\"row_heading level0 row5\" >Ahmednagar</th>\n",
       "                        <td id=\"T_42405_row5_col0\" class=\"data row5 col0\" >376964</td>\n",
       "            </tr>\n",
       "            <tr>\n",
       "                        <th id=\"T_42405_level0_row6\" class=\"row_heading level0 row6\" >Satara</th>\n",
       "                        <td id=\"T_42405_row6_col0\" class=\"data row6 col0\" >278046</td>\n",
       "            </tr>\n",
       "            <tr>\n",
       "                        <th id=\"T_42405_level0_row7\" class=\"row_heading level0 row7\" >Raigad</th>\n",
       "                        <td id=\"T_42405_row7_col0\" class=\"data row7 col0\" >244158</td>\n",
       "            </tr>\n",
       "            <tr>\n",
       "                        <th id=\"T_42405_level0_row8\" class=\"row_heading level0 row8\" >Solapur</th>\n",
       "                        <td id=\"T_42405_row8_col0\" class=\"data row8 col0\" >226968</td>\n",
       "            </tr>\n",
       "            <tr>\n",
       "                        <th id=\"T_42405_level0_row9\" class=\"row_heading level0 row9\" >Sangli</th>\n",
       "                        <td id=\"T_42405_row9_col0\" class=\"data row9 col0\" >226945</td>\n",
       "            </tr>\n",
       "            <tr>\n",
       "                        <th id=\"T_42405_level0_row10\" class=\"row_heading level0 row10\" >Kolhapur</th>\n",
       "                        <td id=\"T_42405_row10_col0\" class=\"data row10 col0\" >220400</td>\n",
       "            </tr>\n",
       "            <tr>\n",
       "                        <th id=\"T_42405_level0_row11\" class=\"row_heading level0 row11\" >Aurangabad</th>\n",
       "                        <td id=\"T_42405_row11_col0\" class=\"data row11 col0\" >176264</td>\n",
       "            </tr>\n",
       "            <tr>\n",
       "                        <th id=\"T_42405_level0_row12\" class=\"row_heading level0 row12\" >Palghar</th>\n",
       "                        <td id=\"T_42405_row12_col0\" class=\"data row12 col0\" >163402</td>\n",
       "            </tr>\n",
       "            <tr>\n",
       "                        <th id=\"T_42405_level0_row13\" class=\"row_heading level0 row13\" >Jalgaon</th>\n",
       "                        <td id=\"T_42405_row13_col0\" class=\"data row13 col0\" >149454</td>\n",
       "            </tr>\n",
       "            <tr>\n",
       "                        <th id=\"T_42405_level0_row14\" class=\"row_heading level0 row14\" >Beed</th>\n",
       "                        <td id=\"T_42405_row14_col0\" class=\"data row14 col0\" >109067</td>\n",
       "            </tr>\n",
       "            <tr>\n",
       "                        <th id=\"T_42405_level0_row15\" class=\"row_heading level0 row15\" >Amravati</th>\n",
       "                        <td id=\"T_42405_row15_col0\" class=\"data row15 col0\" >105909</td>\n",
       "            </tr>\n",
       "            <tr>\n",
       "                        <th id=\"T_42405_level0_row16\" class=\"row_heading level0 row16\" >Latur</th>\n",
       "                        <td id=\"T_42405_row16_col0\" class=\"data row16 col0\" >104879</td>\n",
       "            </tr>\n",
       "            <tr>\n",
       "                        <th id=\"T_42405_level0_row17\" class=\"row_heading level0 row17\" >Nanded</th>\n",
       "                        <td id=\"T_42405_row17_col0\" class=\"data row17 col0\" >102626</td>\n",
       "            </tr>\n",
       "            <tr>\n",
       "                        <th id=\"T_42405_level0_row18\" class=\"row_heading level0 row18\" >Chandrapur</th>\n",
       "                        <td id=\"T_42405_row18_col0\" class=\"data row18 col0\" >98793</td>\n",
       "            </tr>\n",
       "            <tr>\n",
       "                        <th id=\"T_42405_level0_row19\" class=\"row_heading level0 row19\" >Buldhana</th>\n",
       "                        <td id=\"T_42405_row19_col0\" class=\"data row19 col0\" >91792</td>\n",
       "            </tr>\n",
       "            <tr>\n",
       "                        <th id=\"T_42405_level0_row20\" class=\"row_heading level0 row20\" >Ratnagiri</th>\n",
       "                        <td id=\"T_42405_row20_col0\" class=\"data row20 col0\" >84383</td>\n",
       "            </tr>\n",
       "            <tr>\n",
       "                        <th id=\"T_42405_level0_row21\" class=\"row_heading level0 row21\" >Yavatmal</th>\n",
       "                        <td id=\"T_42405_row21_col0\" class=\"data row21 col0\" >81972</td>\n",
       "            </tr>\n",
       "            <tr>\n",
       "                        <th id=\"T_42405_level0_row22\" class=\"row_heading level0 row22\" >Osmanabad</th>\n",
       "                        <td id=\"T_42405_row22_col0\" class=\"data row22 col0\" >75083</td>\n",
       "            </tr>\n",
       "            <tr>\n",
       "                        <th id=\"T_42405_level0_row23\" class=\"row_heading level0 row23\" >Bhandara</th>\n",
       "                        <td id=\"T_42405_row23_col0\" class=\"data row23 col0\" >67919</td>\n",
       "            </tr>\n",
       "            <tr>\n",
       "                        <th id=\"T_42405_level0_row24\" class=\"row_heading level0 row24\" >Jalna</th>\n",
       "                        <td id=\"T_42405_row24_col0\" class=\"data row24 col0\" >66296</td>\n",
       "            </tr>\n",
       "            <tr>\n",
       "                        <th id=\"T_42405_level0_row25\" class=\"row_heading level0 row25\" >Akola</th>\n",
       "                        <td id=\"T_42405_row25_col0\" class=\"data row25 col0\" >66135</td>\n",
       "            </tr>\n",
       "            <tr>\n",
       "                        <th id=\"T_42405_level0_row26\" class=\"row_heading level0 row26\" >Wardha</th>\n",
       "                        <td id=\"T_42405_row26_col0\" class=\"data row26 col0\" >65656</td>\n",
       "            </tr>\n",
       "            <tr>\n",
       "                        <th id=\"T_42405_level0_row27\" class=\"row_heading level0 row27\" >Parbhani</th>\n",
       "                        <td id=\"T_42405_row27_col0\" class=\"data row27 col0\" >58507</td>\n",
       "            </tr>\n",
       "            <tr>\n",
       "                        <th id=\"T_42405_level0_row28\" class=\"row_heading level0 row28\" >Sindhudurg</th>\n",
       "                        <td id=\"T_42405_row28_col0\" class=\"data row28 col0\" >57125</td>\n",
       "            </tr>\n",
       "            <tr>\n",
       "                        <th id=\"T_42405_level0_row29\" class=\"row_heading level0 row29\" >Dhule</th>\n",
       "                        <td id=\"T_42405_row29_col0\" class=\"data row29 col0\" >50637</td>\n",
       "            </tr>\n",
       "            <tr>\n",
       "                        <th id=\"T_42405_level0_row30\" class=\"row_heading level0 row30\" >Nandurbar</th>\n",
       "                        <td id=\"T_42405_row30_col0\" class=\"data row30 col0\" >46590</td>\n",
       "            </tr>\n",
       "            <tr>\n",
       "                        <th id=\"T_42405_level0_row31\" class=\"row_heading level0 row31\" >Washim</th>\n",
       "                        <td id=\"T_42405_row31_col0\" class=\"data row31 col0\" >45592</td>\n",
       "            </tr>\n",
       "            <tr>\n",
       "                        <th id=\"T_42405_level0_row32\" class=\"row_heading level0 row32\" >Gondia</th>\n",
       "                        <td id=\"T_42405_row32_col0\" class=\"data row32 col0\" >45387</td>\n",
       "            </tr>\n",
       "            <tr>\n",
       "                        <th id=\"T_42405_level0_row33\" class=\"row_heading level0 row33\" >Gadchiroli</th>\n",
       "                        <td id=\"T_42405_row33_col0\" class=\"data row33 col0\" >36929</td>\n",
       "            </tr>\n",
       "            <tr>\n",
       "                        <th id=\"T_42405_level0_row34\" class=\"row_heading level0 row34\" >Hingoli</th>\n",
       "                        <td id=\"T_42405_row34_col0\" class=\"data row34 col0\" >22164</td>\n",
       "            </tr>\n",
       "    </tbody></table>"
      ],
      "text/plain": [
       "<pandas.io.formats.style.Styler at 0x188af39eca0>"
      ]
     },
     "execution_count": 39,
     "metadata": {},
     "output_type": "execute_result"
    }
   ],
   "source": [
    "Total_Positive_Cases=dataframe.groupby(\"Districts\")[\"Positive Cases\"].sum().sort_values(ascending=False).to_frame()\n",
    "Total_Positive_Cases.style.background_gradient(cmap='Oranges')"
   ]
  },
  {
   "cell_type": "markdown",
   "metadata": {
    "id": "q49Wsbe3GWM_"
   },
   "source": [
    "### **Total Active Cases in Maharashtra in Descending Order (Last Updated 4 March 2022)**\n",
    "\n",
    "In this classfication we show active cases,recovered and deceased cases in ascending order."
   ]
  },
  {
   "cell_type": "code",
   "execution_count": 9,
   "metadata": {
    "id": "UQZ1aADfEOLj"
   },
   "outputs": [],
   "source": [
    "Total_Active_Cases=dataframe.groupby(\"Districts\")[\"Active Cases\"].sum().sort_values(ascending=False).to_frame()"
   ]
  },
  {
   "cell_type": "code",
   "execution_count": 10,
   "metadata": {
    "colab": {
     "base_uri": "https://localhost:8080/",
     "height": 1000
    },
    "id": "FWixj5PKGQbo",
    "outputId": "19b60c7d-546d-460c-b117-2ee9de0c62b5"
   },
   "outputs": [
    {
     "data": {
      "text/html": [
       "<style  type=\"text/css\" >\n",
       "#T_ca72a_row0_col0{\n",
       "            background-color:  #67000d;\n",
       "            color:  #f1f1f1;\n",
       "        }#T_ca72a_row1_col0{\n",
       "            background-color:  #fc997a;\n",
       "            color:  #000000;\n",
       "        }#T_ca72a_row2_col0{\n",
       "            background-color:  #fcb99f;\n",
       "            color:  #000000;\n",
       "        }#T_ca72a_row3_col0{\n",
       "            background-color:  #fcc4ad;\n",
       "            color:  #000000;\n",
       "        }#T_ca72a_row4_col0{\n",
       "            background-color:  #fdd5c4;\n",
       "            color:  #000000;\n",
       "        }#T_ca72a_row5_col0{\n",
       "            background-color:  #fee3d6;\n",
       "            color:  #000000;\n",
       "        }#T_ca72a_row6_col0{\n",
       "            background-color:  #feeae0;\n",
       "            color:  #000000;\n",
       "        }#T_ca72a_row7_col0{\n",
       "            background-color:  #feeae1;\n",
       "            color:  #000000;\n",
       "        }#T_ca72a_row8_col0{\n",
       "            background-color:  #ffeee6;\n",
       "            color:  #000000;\n",
       "        }#T_ca72a_row9_col0{\n",
       "            background-color:  #ffeee7;\n",
       "            color:  #000000;\n",
       "        }#T_ca72a_row10_col0{\n",
       "            background-color:  #ffefe8;\n",
       "            color:  #000000;\n",
       "        }#T_ca72a_row11_col0,#T_ca72a_row12_col0,#T_ca72a_row13_col0{\n",
       "            background-color:  #fff0e9;\n",
       "            color:  #000000;\n",
       "        }#T_ca72a_row14_col0,#T_ca72a_row15_col0{\n",
       "            background-color:  #fff1ea;\n",
       "            color:  #000000;\n",
       "        }#T_ca72a_row16_col0{\n",
       "            background-color:  #fff2eb;\n",
       "            color:  #000000;\n",
       "        }#T_ca72a_row17_col0{\n",
       "            background-color:  #fff3ed;\n",
       "            color:  #000000;\n",
       "        }#T_ca72a_row18_col0,#T_ca72a_row19_col0,#T_ca72a_row20_col0,#T_ca72a_row21_col0,#T_ca72a_row22_col0,#T_ca72a_row23_col0{\n",
       "            background-color:  #fff4ee;\n",
       "            color:  #000000;\n",
       "        }#T_ca72a_row24_col0,#T_ca72a_row25_col0,#T_ca72a_row26_col0,#T_ca72a_row27_col0,#T_ca72a_row28_col0,#T_ca72a_row29_col0{\n",
       "            background-color:  #fff4ef;\n",
       "            color:  #000000;\n",
       "        }#T_ca72a_row30_col0,#T_ca72a_row31_col0,#T_ca72a_row32_col0,#T_ca72a_row33_col0,#T_ca72a_row34_col0{\n",
       "            background-color:  #fff5f0;\n",
       "            color:  #000000;\n",
       "        }</style><table id=\"T_ca72a_\" ><thead>    <tr>        <th class=\"blank level0\" ></th>        <th class=\"col_heading level0 col0\" >Active Cases</th>    </tr>    <tr>        <th class=\"index_name level0\" >Districts</th>        <th class=\"blank\" ></th>    </tr></thead><tbody>\n",
       "                <tr>\n",
       "                        <th id=\"T_ca72a_level0_row0\" class=\"row_heading level0 row0\" >Pune</th>\n",
       "                        <td id=\"T_ca72a_row0_col0\" class=\"data row0 col0\" >1833</td>\n",
       "            </tr>\n",
       "            <tr>\n",
       "                        <th id=\"T_ca72a_level0_row1\" class=\"row_heading level0 row1\" >Mumbai</th>\n",
       "                        <td id=\"T_ca72a_row1_col0\" class=\"data row1 col0\" >650</td>\n",
       "            </tr>\n",
       "            <tr>\n",
       "                        <th id=\"T_ca72a_level0_row2\" class=\"row_heading level0 row2\" >Ahmednagar</th>\n",
       "                        <td id=\"T_ca72a_row2_col0\" class=\"data row2 col0\" >472</td>\n",
       "            </tr>\n",
       "            <tr>\n",
       "                        <th id=\"T_ca72a_level0_row3\" class=\"row_heading level0 row3\" >Thane</th>\n",
       "                        <td id=\"T_ca72a_row3_col0\" class=\"data row3 col0\" >405</td>\n",
       "            </tr>\n",
       "            <tr>\n",
       "                        <th id=\"T_ca72a_level0_row4\" class=\"row_heading level0 row4\" >Nashik</th>\n",
       "                        <td id=\"T_ca72a_row4_col0\" class=\"data row4 col0\" >303</td>\n",
       "            </tr>\n",
       "            <tr>\n",
       "                        <th id=\"T_ca72a_level0_row5\" class=\"row_heading level0 row5\" >Nagpur</th>\n",
       "                        <td id=\"T_ca72a_row5_col0\" class=\"data row5 col0\" >211</td>\n",
       "            </tr>\n",
       "            <tr>\n",
       "                        <th id=\"T_ca72a_level0_row6\" class=\"row_heading level0 row6\" >Sindhudurg</th>\n",
       "                        <td id=\"T_ca72a_row6_col0\" class=\"data row6 col0\" >130</td>\n",
       "            </tr>\n",
       "            <tr>\n",
       "                        <th id=\"T_ca72a_level0_row7\" class=\"row_heading level0 row7\" >Raigad</th>\n",
       "                        <td id=\"T_ca72a_row7_col0\" class=\"data row7 col0\" >123</td>\n",
       "            </tr>\n",
       "            <tr>\n",
       "                        <th id=\"T_ca72a_level0_row8\" class=\"row_heading level0 row8\" >Aurangabad</th>\n",
       "                        <td id=\"T_ca72a_row8_col0\" class=\"data row8 col0\" >88</td>\n",
       "            </tr>\n",
       "            <tr>\n",
       "                        <th id=\"T_ca72a_level0_row9\" class=\"row_heading level0 row9\" >Satara</th>\n",
       "                        <td id=\"T_ca72a_row9_col0\" class=\"data row9 col0\" >79</td>\n",
       "            </tr>\n",
       "            <tr>\n",
       "                        <th id=\"T_ca72a_level0_row10\" class=\"row_heading level0 row10\" >Gadchiroli</th>\n",
       "                        <td id=\"T_ca72a_row10_col0\" class=\"data row10 col0\" >73</td>\n",
       "            </tr>\n",
       "            <tr>\n",
       "                        <th id=\"T_ca72a_level0_row11\" class=\"row_heading level0 row11\" >Palghar</th>\n",
       "                        <td id=\"T_ca72a_row11_col0\" class=\"data row11 col0\" >60</td>\n",
       "            </tr>\n",
       "            <tr>\n",
       "                        <th id=\"T_ca72a_level0_row12\" class=\"row_heading level0 row12\" >Solapur</th>\n",
       "                        <td id=\"T_ca72a_row12_col0\" class=\"data row12 col0\" >59</td>\n",
       "            </tr>\n",
       "            <tr>\n",
       "                        <th id=\"T_ca72a_level0_row13\" class=\"row_heading level0 row13\" >Kolhapur</th>\n",
       "                        <td id=\"T_ca72a_row13_col0\" class=\"data row13 col0\" >55</td>\n",
       "            </tr>\n",
       "            <tr>\n",
       "                        <th id=\"T_ca72a_level0_row14\" class=\"row_heading level0 row14\" >Buldhana</th>\n",
       "                        <td id=\"T_ca72a_row14_col0\" class=\"data row14 col0\" >49</td>\n",
       "            </tr>\n",
       "            <tr>\n",
       "                        <th id=\"T_ca72a_level0_row15\" class=\"row_heading level0 row15\" >Sangli</th>\n",
       "                        <td id=\"T_ca72a_row15_col0\" class=\"data row15 col0\" >49</td>\n",
       "            </tr>\n",
       "            <tr>\n",
       "                        <th id=\"T_ca72a_level0_row16\" class=\"row_heading level0 row16\" >Beed</th>\n",
       "                        <td id=\"T_ca72a_row16_col0\" class=\"data row16 col0\" >43</td>\n",
       "            </tr>\n",
       "            <tr>\n",
       "                        <th id=\"T_ca72a_level0_row17\" class=\"row_heading level0 row17\" >Osmanabad</th>\n",
       "                        <td id=\"T_ca72a_row17_col0\" class=\"data row17 col0\" >28</td>\n",
       "            </tr>\n",
       "            <tr>\n",
       "                        <th id=\"T_ca72a_level0_row18\" class=\"row_heading level0 row18\" >Parbhani</th>\n",
       "                        <td id=\"T_ca72a_row18_col0\" class=\"data row18 col0\" >24</td>\n",
       "            </tr>\n",
       "            <tr>\n",
       "                        <th id=\"T_ca72a_level0_row19\" class=\"row_heading level0 row19\" >Bhandara</th>\n",
       "                        <td id=\"T_ca72a_row19_col0\" class=\"data row19 col0\" >22</td>\n",
       "            </tr>\n",
       "            <tr>\n",
       "                        <th id=\"T_ca72a_level0_row20\" class=\"row_heading level0 row20\" >Akola</th>\n",
       "                        <td id=\"T_ca72a_row20_col0\" class=\"data row20 col0\" >21</td>\n",
       "            </tr>\n",
       "            <tr>\n",
       "                        <th id=\"T_ca72a_level0_row21\" class=\"row_heading level0 row21\" >Nanded</th>\n",
       "                        <td id=\"T_ca72a_row21_col0\" class=\"data row21 col0\" >21</td>\n",
       "            </tr>\n",
       "            <tr>\n",
       "                        <th id=\"T_ca72a_level0_row22\" class=\"row_heading level0 row22\" >Nandurbar</th>\n",
       "                        <td id=\"T_ca72a_row22_col0\" class=\"data row22 col0\" >20</td>\n",
       "            </tr>\n",
       "            <tr>\n",
       "                        <th id=\"T_ca72a_level0_row23\" class=\"row_heading level0 row23\" >Chandrapur</th>\n",
       "                        <td id=\"T_ca72a_row23_col0\" class=\"data row23 col0\" >20</td>\n",
       "            </tr>\n",
       "            <tr>\n",
       "                        <th id=\"T_ca72a_level0_row24\" class=\"row_heading level0 row24\" >Yavatmal</th>\n",
       "                        <td id=\"T_ca72a_row24_col0\" class=\"data row24 col0\" >18</td>\n",
       "            </tr>\n",
       "            <tr>\n",
       "                        <th id=\"T_ca72a_level0_row25\" class=\"row_heading level0 row25\" >Washim</th>\n",
       "                        <td id=\"T_ca72a_row25_col0\" class=\"data row25 col0\" >17</td>\n",
       "            </tr>\n",
       "            <tr>\n",
       "                        <th id=\"T_ca72a_level0_row26\" class=\"row_heading level0 row26\" >Jalgaon</th>\n",
       "                        <td id=\"T_ca72a_row26_col0\" class=\"data row26 col0\" >15</td>\n",
       "            </tr>\n",
       "            <tr>\n",
       "                        <th id=\"T_ca72a_level0_row27\" class=\"row_heading level0 row27\" >Amravati</th>\n",
       "                        <td id=\"T_ca72a_row27_col0\" class=\"data row27 col0\" >13</td>\n",
       "            </tr>\n",
       "            <tr>\n",
       "                        <th id=\"T_ca72a_level0_row28\" class=\"row_heading level0 row28\" >Wardha</th>\n",
       "                        <td id=\"T_ca72a_row28_col0\" class=\"data row28 col0\" >13</td>\n",
       "            </tr>\n",
       "            <tr>\n",
       "                        <th id=\"T_ca72a_level0_row29\" class=\"row_heading level0 row29\" >Latur</th>\n",
       "                        <td id=\"T_ca72a_row29_col0\" class=\"data row29 col0\" >12</td>\n",
       "            </tr>\n",
       "            <tr>\n",
       "                        <th id=\"T_ca72a_level0_row30\" class=\"row_heading level0 row30\" >Ratnagiri</th>\n",
       "                        <td id=\"T_ca72a_row30_col0\" class=\"data row30 col0\" >10</td>\n",
       "            </tr>\n",
       "            <tr>\n",
       "                        <th id=\"T_ca72a_level0_row31\" class=\"row_heading level0 row31\" >Gondia</th>\n",
       "                        <td id=\"T_ca72a_row31_col0\" class=\"data row31 col0\" >5</td>\n",
       "            </tr>\n",
       "            <tr>\n",
       "                        <th id=\"T_ca72a_level0_row32\" class=\"row_heading level0 row32\" >Jalna</th>\n",
       "                        <td id=\"T_ca72a_row32_col0\" class=\"data row32 col0\" >4</td>\n",
       "            </tr>\n",
       "            <tr>\n",
       "                        <th id=\"T_ca72a_level0_row33\" class=\"row_heading level0 row33\" >Hingoli</th>\n",
       "                        <td id=\"T_ca72a_row33_col0\" class=\"data row33 col0\" >4</td>\n",
       "            </tr>\n",
       "            <tr>\n",
       "                        <th id=\"T_ca72a_level0_row34\" class=\"row_heading level0 row34\" >Dhule</th>\n",
       "                        <td id=\"T_ca72a_row34_col0\" class=\"data row34 col0\" >4</td>\n",
       "            </tr>\n",
       "    </tbody></table>"
      ],
      "text/plain": [
       "<pandas.io.formats.style.Styler at 0x188ad944d00>"
      ]
     },
     "execution_count": 10,
     "metadata": {},
     "output_type": "execute_result"
    }
   ],
   "source": [
    "Total_Active_Cases.style.background_gradient(cmap='Reds')"
   ]
  },
  {
   "cell_type": "markdown",
   "metadata": {
    "id": "I8OlPa7MHlxg"
   },
   "source": [
    "**Total Recovered Cases in Maharashtra in Descending Order (Last Updated 4 March 2022)**"
   ]
  },
  {
   "cell_type": "code",
   "execution_count": 40,
   "metadata": {
    "colab": {
     "base_uri": "https://localhost:8080/",
     "height": 1000
    },
    "id": "-Sd5VUdHGRUP",
    "outputId": "5b7ccb29-b62e-43a2-e3ac-0dfd3dbfdf0c"
   },
   "outputs": [
    {
     "data": {
      "text/html": [
       "<style  type=\"text/css\" >\n",
       "#T_9aeb4_row0_col0{\n",
       "            background-color:  #00441b;\n",
       "            color:  #f1f1f1;\n",
       "        }#T_9aeb4_row1_col0{\n",
       "            background-color:  #2a924a;\n",
       "            color:  #000000;\n",
       "        }#T_9aeb4_row2_col0{\n",
       "            background-color:  #6bc072;\n",
       "            color:  #000000;\n",
       "        }#T_9aeb4_row3_col0{\n",
       "            background-color:  #9cd797;\n",
       "            color:  #000000;\n",
       "        }#T_9aeb4_row4_col0{\n",
       "            background-color:  #b4e1ad;\n",
       "            color:  #000000;\n",
       "        }#T_9aeb4_row5_col0{\n",
       "            background-color:  #c8e9c1;\n",
       "            color:  #000000;\n",
       "        }#T_9aeb4_row6_col0{\n",
       "            background-color:  #d9f0d3;\n",
       "            color:  #000000;\n",
       "        }#T_9aeb4_row7_col0{\n",
       "            background-color:  #def2d9;\n",
       "            color:  #000000;\n",
       "        }#T_9aeb4_row8_col0,#T_9aeb4_row9_col0{\n",
       "            background-color:  #e1f3dc;\n",
       "            color:  #000000;\n",
       "        }#T_9aeb4_row10_col0{\n",
       "            background-color:  #e2f4dd;\n",
       "            color:  #000000;\n",
       "        }#T_9aeb4_row11_col0{\n",
       "            background-color:  #e8f6e3;\n",
       "            color:  #000000;\n",
       "        }#T_9aeb4_row12_col0{\n",
       "            background-color:  #e9f7e5;\n",
       "            color:  #000000;\n",
       "        }#T_9aeb4_row13_col0{\n",
       "            background-color:  #ebf7e7;\n",
       "            color:  #000000;\n",
       "        }#T_9aeb4_row14_col0,#T_9aeb4_row15_col0{\n",
       "            background-color:  #eff9eb;\n",
       "            color:  #000000;\n",
       "        }#T_9aeb4_row16_col0,#T_9aeb4_row17_col0{\n",
       "            background-color:  #eff9ec;\n",
       "            color:  #000000;\n",
       "        }#T_9aeb4_row18_col0{\n",
       "            background-color:  #f0f9ec;\n",
       "            color:  #000000;\n",
       "        }#T_9aeb4_row19_col0{\n",
       "            background-color:  #f0f9ed;\n",
       "            color:  #000000;\n",
       "        }#T_9aeb4_row20_col0,#T_9aeb4_row21_col0{\n",
       "            background-color:  #f1faee;\n",
       "            color:  #000000;\n",
       "        }#T_9aeb4_row22_col0{\n",
       "            background-color:  #f2faef;\n",
       "            color:  #000000;\n",
       "        }#T_9aeb4_row23_col0{\n",
       "            background-color:  #f2faf0;\n",
       "            color:  #000000;\n",
       "        }#T_9aeb4_row24_col0,#T_9aeb4_row25_col0,#T_9aeb4_row26_col0{\n",
       "            background-color:  #f3faf0;\n",
       "            color:  #000000;\n",
       "        }#T_9aeb4_row27_col0,#T_9aeb4_row28_col0{\n",
       "            background-color:  #f4fbf1;\n",
       "            color:  #000000;\n",
       "        }#T_9aeb4_row29_col0{\n",
       "            background-color:  #f4fbf2;\n",
       "            color:  #000000;\n",
       "        }#T_9aeb4_row30_col0,#T_9aeb4_row31_col0,#T_9aeb4_row32_col0{\n",
       "            background-color:  #f5fbf2;\n",
       "            color:  #000000;\n",
       "        }#T_9aeb4_row33_col0{\n",
       "            background-color:  #f6fcf4;\n",
       "            color:  #000000;\n",
       "        }#T_9aeb4_row34_col0{\n",
       "            background-color:  #f7fcf5;\n",
       "            color:  #000000;\n",
       "        }</style><table id=\"T_9aeb4_\" ><thead>    <tr>        <th class=\"blank level0\" ></th>        <th class=\"col_heading level0 col0\" >Recovered</th>    </tr>    <tr>        <th class=\"index_name level0\" >Districts</th>        <th class=\"blank\" ></th>    </tr></thead><tbody>\n",
       "                <tr>\n",
       "                        <th id=\"T_9aeb4_level0_row0\" class=\"row_heading level0 row0\" >Pune</th>\n",
       "                        <td id=\"T_9aeb4_row0_col0\" class=\"data row0 col0\" >1428051</td>\n",
       "            </tr>\n",
       "            <tr>\n",
       "                        <th id=\"T_9aeb4_level0_row1\" class=\"row_heading level0 row1\" >Mumbai</th>\n",
       "                        <td id=\"T_9aeb4_row1_col0\" class=\"data row1 col0\" >1035610</td>\n",
       "            </tr>\n",
       "            <tr>\n",
       "                        <th id=\"T_9aeb4_level0_row2\" class=\"row_heading level0 row2\" >Thane</th>\n",
       "                        <td id=\"T_9aeb4_row2_col0\" class=\"data row2 col0\" >753903</td>\n",
       "            </tr>\n",
       "            <tr>\n",
       "                        <th id=\"T_9aeb4_level0_row3\" class=\"row_heading level0 row3\" >Nagpur</th>\n",
       "                        <td id=\"T_9aeb4_row3_col0\" class=\"data row3 col0\" >566766</td>\n",
       "            </tr>\n",
       "            <tr>\n",
       "                        <th id=\"T_9aeb4_level0_row4\" class=\"row_heading level0 row4\" >Nashik</th>\n",
       "                        <td id=\"T_9aeb4_row4_col0\" class=\"data row4 col0\" >463406</td>\n",
       "            </tr>\n",
       "            <tr>\n",
       "                        <th id=\"T_9aeb4_level0_row5\" class=\"row_heading level0 row5\" >Ahmednagar</th>\n",
       "                        <td id=\"T_9aeb4_row5_col0\" class=\"data row5 col0\" >369253</td>\n",
       "            </tr>\n",
       "            <tr>\n",
       "                        <th id=\"T_9aeb4_level0_row6\" class=\"row_heading level0 row6\" >Satara</th>\n",
       "                        <td id=\"T_9aeb4_row6_col0\" class=\"data row6 col0\" >271259</td>\n",
       "            </tr>\n",
       "            <tr>\n",
       "                        <th id=\"T_9aeb4_level0_row7\" class=\"row_heading level0 row7\" >Raigad</th>\n",
       "                        <td id=\"T_9aeb4_row7_col0\" class=\"data row7 col0\" >239092</td>\n",
       "            </tr>\n",
       "            <tr>\n",
       "                        <th id=\"T_9aeb4_level0_row8\" class=\"row_heading level0 row8\" >Sangli</th>\n",
       "                        <td id=\"T_9aeb4_row8_col0\" class=\"data row8 col0\" >221232</td>\n",
       "            </tr>\n",
       "            <tr>\n",
       "                        <th id=\"T_9aeb4_level0_row9\" class=\"row_heading level0 row9\" >Solapur</th>\n",
       "                        <td id=\"T_9aeb4_row9_col0\" class=\"data row9 col0\" >221035</td>\n",
       "            </tr>\n",
       "            <tr>\n",
       "                        <th id=\"T_9aeb4_level0_row10\" class=\"row_heading level0 row10\" >Kolhapur</th>\n",
       "                        <td id=\"T_9aeb4_row10_col0\" class=\"data row10 col0\" >214441</td>\n",
       "            </tr>\n",
       "            <tr>\n",
       "                        <th id=\"T_9aeb4_level0_row11\" class=\"row_heading level0 row11\" >Aurangabad</th>\n",
       "                        <td id=\"T_9aeb4_row11_col0\" class=\"data row11 col0\" >171892</td>\n",
       "            </tr>\n",
       "            <tr>\n",
       "                        <th id=\"T_9aeb4_level0_row12\" class=\"row_heading level0 row12\" >Palghar</th>\n",
       "                        <td id=\"T_9aeb4_row12_col0\" class=\"data row12 col0\" >159935</td>\n",
       "            </tr>\n",
       "            <tr>\n",
       "                        <th id=\"T_9aeb4_level0_row13\" class=\"row_heading level0 row13\" >Jalgaon</th>\n",
       "                        <td id=\"T_9aeb4_row13_col0\" class=\"data row13 col0\" >146678</td>\n",
       "            </tr>\n",
       "            <tr>\n",
       "                        <th id=\"T_9aeb4_level0_row14\" class=\"row_heading level0 row14\" >Beed</th>\n",
       "                        <td id=\"T_9aeb4_row14_col0\" class=\"data row14 col0\" >106143</td>\n",
       "            </tr>\n",
       "            <tr>\n",
       "                        <th id=\"T_9aeb4_level0_row15\" class=\"row_heading level0 row15\" >Amravati</th>\n",
       "                        <td id=\"T_9aeb4_row15_col0\" class=\"data row15 col0\" >104272</td>\n",
       "            </tr>\n",
       "            <tr>\n",
       "                        <th id=\"T_9aeb4_level0_row16\" class=\"row_heading level0 row16\" >Latur</th>\n",
       "                        <td id=\"T_9aeb4_row16_col0\" class=\"data row16 col0\" >102378</td>\n",
       "            </tr>\n",
       "            <tr>\n",
       "                        <th id=\"T_9aeb4_level0_row17\" class=\"row_heading level0 row17\" >Nanded</th>\n",
       "                        <td id=\"T_9aeb4_row17_col0\" class=\"data row17 col0\" >99903</td>\n",
       "            </tr>\n",
       "            <tr>\n",
       "                        <th id=\"T_9aeb4_level0_row18\" class=\"row_heading level0 row18\" >Chandrapur</th>\n",
       "                        <td id=\"T_9aeb4_row18_col0\" class=\"data row18 col0\" >97182</td>\n",
       "            </tr>\n",
       "            <tr>\n",
       "                        <th id=\"T_9aeb4_level0_row19\" class=\"row_heading level0 row19\" >Buldhana</th>\n",
       "                        <td id=\"T_9aeb4_row19_col0\" class=\"data row19 col0\" >90922</td>\n",
       "            </tr>\n",
       "            <tr>\n",
       "                        <th id=\"T_9aeb4_level0_row20\" class=\"row_heading level0 row20\" >Ratnagiri</th>\n",
       "                        <td id=\"T_9aeb4_row20_col0\" class=\"data row20 col0\" >81827</td>\n",
       "            </tr>\n",
       "            <tr>\n",
       "                        <th id=\"T_9aeb4_level0_row21\" class=\"row_heading level0 row21\" >Yavatmal</th>\n",
       "                        <td id=\"T_9aeb4_row21_col0\" class=\"data row21 col0\" >80134</td>\n",
       "            </tr>\n",
       "            <tr>\n",
       "                        <th id=\"T_9aeb4_level0_row22\" class=\"row_heading level0 row22\" >Osmanabad</th>\n",
       "                        <td id=\"T_9aeb4_row22_col0\" class=\"data row22 col0\" >72916</td>\n",
       "            </tr>\n",
       "            <tr>\n",
       "                        <th id=\"T_9aeb4_level0_row23\" class=\"row_heading level0 row23\" >Bhandara</th>\n",
       "                        <td id=\"T_9aeb4_row23_col0\" class=\"data row23 col0\" >66755</td>\n",
       "            </tr>\n",
       "            <tr>\n",
       "                        <th id=\"T_9aeb4_level0_row24\" class=\"row_heading level0 row24\" >Jalna</th>\n",
       "                        <td id=\"T_9aeb4_row24_col0\" class=\"data row24 col0\" >65068</td>\n",
       "            </tr>\n",
       "            <tr>\n",
       "                        <th id=\"T_9aeb4_level0_row25\" class=\"row_heading level0 row25\" >Akola</th>\n",
       "                        <td id=\"T_9aeb4_row25_col0\" class=\"data row25 col0\" >64646</td>\n",
       "            </tr>\n",
       "            <tr>\n",
       "                        <th id=\"T_9aeb4_level0_row26\" class=\"row_heading level0 row26\" >Wardha</th>\n",
       "                        <td id=\"T_9aeb4_row26_col0\" class=\"data row26 col0\" >64235</td>\n",
       "            </tr>\n",
       "            <tr>\n",
       "                        <th id=\"T_9aeb4_level0_row27\" class=\"row_heading level0 row27\" >Parbhani</th>\n",
       "                        <td id=\"T_9aeb4_row27_col0\" class=\"data row27 col0\" >57207</td>\n",
       "            </tr>\n",
       "            <tr>\n",
       "                        <th id=\"T_9aeb4_level0_row28\" class=\"row_heading level0 row28\" >Sindhudurg</th>\n",
       "                        <td id=\"T_9aeb4_row28_col0\" class=\"data row28 col0\" >55469</td>\n",
       "            </tr>\n",
       "            <tr>\n",
       "                        <th id=\"T_9aeb4_level0_row29\" class=\"row_heading level0 row29\" >Dhule</th>\n",
       "                        <td id=\"T_9aeb4_row29_col0\" class=\"data row29 col0\" >49963</td>\n",
       "            </tr>\n",
       "            <tr>\n",
       "                        <th id=\"T_9aeb4_level0_row30\" class=\"row_heading level0 row30\" >Nandurbar</th>\n",
       "                        <td id=\"T_9aeb4_row30_col0\" class=\"data row30 col0\" >45608</td>\n",
       "            </tr>\n",
       "            <tr>\n",
       "                        <th id=\"T_9aeb4_level0_row31\" class=\"row_heading level0 row31\" >Washim</th>\n",
       "                        <td id=\"T_9aeb4_row31_col0\" class=\"data row31 col0\" >44934</td>\n",
       "            </tr>\n",
       "            <tr>\n",
       "                        <th id=\"T_9aeb4_level0_row32\" class=\"row_heading level0 row32\" >Gondia</th>\n",
       "                        <td id=\"T_9aeb4_row32_col0\" class=\"data row32 col0\" >44796</td>\n",
       "            </tr>\n",
       "            <tr>\n",
       "                        <th id=\"T_9aeb4_level0_row33\" class=\"row_heading level0 row33\" >Gadchiroli</th>\n",
       "                        <td id=\"T_9aeb4_row33_col0\" class=\"data row33 col0\" >36131</td>\n",
       "            </tr>\n",
       "            <tr>\n",
       "                        <th id=\"T_9aeb4_level0_row34\" class=\"row_heading level0 row34\" >Hingoli</th>\n",
       "                        <td id=\"T_9aeb4_row34_col0\" class=\"data row34 col0\" >21646</td>\n",
       "            </tr>\n",
       "    </tbody></table>"
      ],
      "text/plain": [
       "<pandas.io.formats.style.Styler at 0x188af2c54c0>"
      ]
     },
     "execution_count": 40,
     "metadata": {},
     "output_type": "execute_result"
    }
   ],
   "source": [
    "Total_Recovered_Cases=dataframe.groupby(\"Districts\")[\"Recovered\"].sum().sort_values(ascending=False).to_frame()\n",
    "Total_Recovered_Cases.style.background_gradient(cmap='Greens')"
   ]
  },
  {
   "cell_type": "markdown",
   "metadata": {
    "id": "L3EVVWXYHajS"
   },
   "source": [
    "**Total Deceased Cases in Maharashtra in Descending Order (Last Updated 4 March 2022)**"
   ]
  },
  {
   "cell_type": "code",
   "execution_count": 41,
   "metadata": {
    "colab": {
     "base_uri": "https://localhost:8080/",
     "height": 1000
    },
    "id": "jOjgvPp9HNdu",
    "outputId": "45b916d5-08fd-4ca1-ce26-21c8f04e405f",
    "scrolled": false
   },
   "outputs": [
    {
     "data": {
      "text/html": [
       "<style  type=\"text/css\" >\n",
       "#T_53a20_row0_col0{\n",
       "            background-color:  #08306b;\n",
       "            color:  #f1f1f1;\n",
       "        }#T_53a20_row1_col0{\n",
       "            background-color:  #125ea6;\n",
       "            color:  #f1f1f1;\n",
       "        }#T_53a20_row2_col0{\n",
       "            background-color:  #529dcc;\n",
       "            color:  #000000;\n",
       "        }#T_53a20_row3_col0{\n",
       "            background-color:  #84bcdb;\n",
       "            color:  #000000;\n",
       "        }#T_53a20_row4_col0{\n",
       "            background-color:  #89bedc;\n",
       "            color:  #000000;\n",
       "        }#T_53a20_row5_col0{\n",
       "            background-color:  #a9cfe5;\n",
       "            color:  #000000;\n",
       "        }#T_53a20_row6_col0{\n",
       "            background-color:  #b2d2e8;\n",
       "            color:  #000000;\n",
       "        }#T_53a20_row7_col0{\n",
       "            background-color:  #bed8ec;\n",
       "            color:  #000000;\n",
       "        }#T_53a20_row8_col0{\n",
       "            background-color:  #c1d9ed;\n",
       "            color:  #000000;\n",
       "        }#T_53a20_row9_col0{\n",
       "            background-color:  #c2d9ee;\n",
       "            color:  #000000;\n",
       "        }#T_53a20_row10_col0{\n",
       "            background-color:  #cbdef1;\n",
       "            color:  #000000;\n",
       "        }#T_53a20_row11_col0{\n",
       "            background-color:  #d2e3f3;\n",
       "            color:  #000000;\n",
       "        }#T_53a20_row12_col0{\n",
       "            background-color:  #dae8f6;\n",
       "            color:  #000000;\n",
       "        }#T_53a20_row13_col0{\n",
       "            background-color:  #dfecf7;\n",
       "            color:  #000000;\n",
       "        }#T_53a20_row14_col0,#T_53a20_row15_col0{\n",
       "            background-color:  #e1edf8;\n",
       "            color:  #000000;\n",
       "        }#T_53a20_row16_col0{\n",
       "            background-color:  #e3eef8;\n",
       "            color:  #000000;\n",
       "        }#T_53a20_row17_col0{\n",
       "            background-color:  #e3eef9;\n",
       "            color:  #000000;\n",
       "        }#T_53a20_row18_col0{\n",
       "            background-color:  #e8f1fa;\n",
       "            color:  #000000;\n",
       "        }#T_53a20_row19_col0{\n",
       "            background-color:  #eaf3fb;\n",
       "            color:  #000000;\n",
       "        }#T_53a20_row20_col0{\n",
       "            background-color:  #ecf4fb;\n",
       "            color:  #000000;\n",
       "        }#T_53a20_row21_col0,#T_53a20_row22_col0{\n",
       "            background-color:  #edf4fc;\n",
       "            color:  #000000;\n",
       "        }#T_53a20_row23_col0{\n",
       "            background-color:  #eef5fc;\n",
       "            color:  #000000;\n",
       "        }#T_53a20_row24_col0,#T_53a20_row25_col0,#T_53a20_row26_col0{\n",
       "            background-color:  #f0f6fd;\n",
       "            color:  #000000;\n",
       "        }#T_53a20_row27_col0{\n",
       "            background-color:  #f1f7fd;\n",
       "            color:  #000000;\n",
       "        }#T_53a20_row28_col0{\n",
       "            background-color:  #f3f8fe;\n",
       "            color:  #000000;\n",
       "        }#T_53a20_row29_col0{\n",
       "            background-color:  #f5f9fe;\n",
       "            color:  #000000;\n",
       "        }#T_53a20_row30_col0{\n",
       "            background-color:  #f5fafe;\n",
       "            color:  #000000;\n",
       "        }#T_53a20_row31_col0,#T_53a20_row32_col0{\n",
       "            background-color:  #f6faff;\n",
       "            color:  #000000;\n",
       "        }#T_53a20_row33_col0,#T_53a20_row34_col0{\n",
       "            background-color:  #f7fbff;\n",
       "            color:  #000000;\n",
       "        }</style><table id=\"T_53a20_\" ><thead>    <tr>        <th class=\"blank level0\" ></th>        <th class=\"col_heading level0 col0\" >Deceased</th>    </tr>    <tr>        <th class=\"index_name level0\" >Districts</th>        <th class=\"blank\" ></th>    </tr></thead><tbody>\n",
       "                <tr>\n",
       "                        <th id=\"T_53a20_level0_row0\" class=\"row_heading level0 row0\" >Pune</th>\n",
       "                        <td id=\"T_53a20_row0_col0\" class=\"data row0 col0\" >20156</td>\n",
       "            </tr>\n",
       "            <tr>\n",
       "                        <th id=\"T_53a20_level0_row1\" class=\"row_heading level0 row1\" >Mumbai</th>\n",
       "                        <td id=\"T_53a20_row1_col0\" class=\"data row1 col0\" >16691</td>\n",
       "            </tr>\n",
       "            <tr>\n",
       "                        <th id=\"T_53a20_level0_row2\" class=\"row_heading level0 row2\" >Thane</th>\n",
       "                        <td id=\"T_53a20_row2_col0\" class=\"data row2 col0\" >11859</td>\n",
       "            </tr>\n",
       "            <tr>\n",
       "                        <th id=\"T_53a20_level0_row3\" class=\"row_heading level0 row3\" >Nagpur</th>\n",
       "                        <td id=\"T_53a20_row3_col0\" class=\"data row3 col0\" >9143</td>\n",
       "            </tr>\n",
       "            <tr>\n",
       "                        <th id=\"T_53a20_level0_row4\" class=\"row_heading level0 row4\" >Nashik</th>\n",
       "                        <td id=\"T_53a20_row4_col0\" class=\"data row4 col0\" >8901</td>\n",
       "            </tr>\n",
       "            <tr>\n",
       "                        <th id=\"T_53a20_level0_row5\" class=\"row_heading level0 row5\" >Ahmednagar</th>\n",
       "                        <td id=\"T_53a20_row5_col0\" class=\"data row5 col0\" >7228</td>\n",
       "            </tr>\n",
       "            <tr>\n",
       "                        <th id=\"T_53a20_level0_row6\" class=\"row_heading level0 row6\" >Satara</th>\n",
       "                        <td id=\"T_53a20_row6_col0\" class=\"data row6 col0\" >6674</td>\n",
       "            </tr>\n",
       "            <tr>\n",
       "                        <th id=\"T_53a20_level0_row7\" class=\"row_heading level0 row7\" >Kolhapur</th>\n",
       "                        <td id=\"T_53a20_row7_col0\" class=\"data row7 col0\" >5899</td>\n",
       "            </tr>\n",
       "            <tr>\n",
       "                        <th id=\"T_53a20_level0_row8\" class=\"row_heading level0 row8\" >Solapur</th>\n",
       "                        <td id=\"T_53a20_row8_col0\" class=\"data row8 col0\" >5757</td>\n",
       "            </tr>\n",
       "            <tr>\n",
       "                        <th id=\"T_53a20_level0_row9\" class=\"row_heading level0 row9\" >Sangli</th>\n",
       "                        <td id=\"T_53a20_row9_col0\" class=\"data row9 col0\" >5655</td>\n",
       "            </tr>\n",
       "            <tr>\n",
       "                        <th id=\"T_53a20_level0_row10\" class=\"row_heading level0 row10\" >Raigad</th>\n",
       "                        <td id=\"T_53a20_row10_col0\" class=\"data row10 col0\" >4936</td>\n",
       "            </tr>\n",
       "            <tr>\n",
       "                        <th id=\"T_53a20_level0_row11\" class=\"row_heading level0 row11\" >Aurangabad</th>\n",
       "                        <td id=\"T_53a20_row11_col0\" class=\"data row11 col0\" >4270</td>\n",
       "            </tr>\n",
       "            <tr>\n",
       "                        <th id=\"T_53a20_level0_row12\" class=\"row_heading level0 row12\" >Palghar</th>\n",
       "                        <td id=\"T_53a20_row12_col0\" class=\"data row12 col0\" >3392</td>\n",
       "            </tr>\n",
       "            <tr>\n",
       "                        <th id=\"T_53a20_level0_row13\" class=\"row_heading level0 row13\" >Beed</th>\n",
       "                        <td id=\"T_53a20_row13_col0\" class=\"data row13 col0\" >2874</td>\n",
       "            </tr>\n",
       "            <tr>\n",
       "                        <th id=\"T_53a20_level0_row14\" class=\"row_heading level0 row14\" >Jalgaon</th>\n",
       "                        <td id=\"T_53a20_row14_col0\" class=\"data row14 col0\" >2728</td>\n",
       "            </tr>\n",
       "            <tr>\n",
       "                        <th id=\"T_53a20_level0_row15\" class=\"row_heading level0 row15\" >Nanded</th>\n",
       "                        <td id=\"T_53a20_row15_col0\" class=\"data row15 col0\" >2695</td>\n",
       "            </tr>\n",
       "            <tr>\n",
       "                        <th id=\"T_53a20_level0_row16\" class=\"row_heading level0 row16\" >Ratnagiri</th>\n",
       "                        <td id=\"T_53a20_row16_col0\" class=\"data row16 col0\" >2541</td>\n",
       "            </tr>\n",
       "            <tr>\n",
       "                        <th id=\"T_53a20_level0_row17\" class=\"row_heading level0 row17\" >Latur</th>\n",
       "                        <td id=\"T_53a20_row17_col0\" class=\"data row17 col0\" >2483</td>\n",
       "            </tr>\n",
       "            <tr>\n",
       "                        <th id=\"T_53a20_level0_row18\" class=\"row_heading level0 row18\" >Osmanabad</th>\n",
       "                        <td id=\"T_53a20_row18_col0\" class=\"data row18 col0\" >2023</td>\n",
       "            </tr>\n",
       "            <tr>\n",
       "                        <th id=\"T_53a20_level0_row19\" class=\"row_heading level0 row19\" >Yavatmal</th>\n",
       "                        <td id=\"T_53a20_row19_col0\" class=\"data row19 col0\" >1816</td>\n",
       "            </tr>\n",
       "            <tr>\n",
       "                        <th id=\"T_53a20_level0_row20\" class=\"row_heading level0 row20\" >Amravati</th>\n",
       "                        <td id=\"T_53a20_row20_col0\" class=\"data row20 col0\" >1622</td>\n",
       "            </tr>\n",
       "            <tr>\n",
       "                        <th id=\"T_53a20_level0_row21\" class=\"row_heading level0 row21\" >Chandrapur</th>\n",
       "                        <td id=\"T_53a20_row21_col0\" class=\"data row21 col0\" >1587</td>\n",
       "            </tr>\n",
       "            <tr>\n",
       "                        <th id=\"T_53a20_level0_row22\" class=\"row_heading level0 row22\" >Sindhudurg</th>\n",
       "                        <td id=\"T_53a20_row22_col0\" class=\"data row22 col0\" >1511</td>\n",
       "            </tr>\n",
       "            <tr>\n",
       "                        <th id=\"T_53a20_level0_row23\" class=\"row_heading level0 row23\" >Akola</th>\n",
       "                        <td id=\"T_53a20_row23_col0\" class=\"data row23 col0\" >1464</td>\n",
       "            </tr>\n",
       "            <tr>\n",
       "                        <th id=\"T_53a20_level0_row24\" class=\"row_heading level0 row24\" >Parbhani</th>\n",
       "                        <td id=\"T_53a20_row24_col0\" class=\"data row24 col0\" >1256</td>\n",
       "            </tr>\n",
       "            <tr>\n",
       "                        <th id=\"T_53a20_level0_row25\" class=\"row_heading level0 row25\" >Wardha</th>\n",
       "                        <td id=\"T_53a20_row25_col0\" class=\"data row25 col0\" >1237</td>\n",
       "            </tr>\n",
       "            <tr>\n",
       "                        <th id=\"T_53a20_level0_row26\" class=\"row_heading level0 row26\" >Jalna</th>\n",
       "                        <td id=\"T_53a20_row26_col0\" class=\"data row26 col0\" >1223</td>\n",
       "            </tr>\n",
       "            <tr>\n",
       "                        <th id=\"T_53a20_level0_row27\" class=\"row_heading level0 row27\" >Bhandara</th>\n",
       "                        <td id=\"T_53a20_row27_col0\" class=\"data row27 col0\" >1132</td>\n",
       "            </tr>\n",
       "            <tr>\n",
       "                        <th id=\"T_53a20_level0_row28\" class=\"row_heading level0 row28\" >Nandurbar</th>\n",
       "                        <td id=\"T_53a20_row28_col0\" class=\"data row28 col0\" >959</td>\n",
       "            </tr>\n",
       "            <tr>\n",
       "                        <th id=\"T_53a20_level0_row29\" class=\"row_heading level0 row29\" >Buldhana</th>\n",
       "                        <td id=\"T_53a20_row29_col0\" class=\"data row29 col0\" >815</td>\n",
       "            </tr>\n",
       "            <tr>\n",
       "                        <th id=\"T_53a20_level0_row30\" class=\"row_heading level0 row30\" >Gadchiroli</th>\n",
       "                        <td id=\"T_53a20_row30_col0\" class=\"data row30 col0\" >691</td>\n",
       "            </tr>\n",
       "            <tr>\n",
       "                        <th id=\"T_53a20_level0_row31\" class=\"row_heading level0 row31\" >Dhule</th>\n",
       "                        <td id=\"T_53a20_row31_col0\" class=\"data row31 col0\" >659</td>\n",
       "            </tr>\n",
       "            <tr>\n",
       "                        <th id=\"T_53a20_level0_row32\" class=\"row_heading level0 row32\" >Washim</th>\n",
       "                        <td id=\"T_53a20_row32_col0\" class=\"data row32 col0\" >638</td>\n",
       "            </tr>\n",
       "            <tr>\n",
       "                        <th id=\"T_53a20_level0_row33\" class=\"row_heading level0 row33\" >Gondia</th>\n",
       "                        <td id=\"T_53a20_row33_col0\" class=\"data row33 col0\" >579</td>\n",
       "            </tr>\n",
       "            <tr>\n",
       "                        <th id=\"T_53a20_level0_row34\" class=\"row_heading level0 row34\" >Hingoli</th>\n",
       "                        <td id=\"T_53a20_row34_col0\" class=\"data row34 col0\" >513</td>\n",
       "            </tr>\n",
       "    </tbody></table>"
      ],
      "text/plain": [
       "<pandas.io.formats.style.Styler at 0x188ad963a90>"
      ]
     },
     "execution_count": 41,
     "metadata": {},
     "output_type": "execute_result"
    }
   ],
   "source": [
    "Total_Deceased_Cases=dataframe.groupby(\"Districts\")[\"Deceased\"].sum().sort_values(ascending=False).to_frame()\n",
    "Total_Deceased_Cases.style.background_gradient(cmap='Blues')"
   ]
  },
  {
   "cell_type": "code",
   "execution_count": 43,
   "metadata": {},
   "outputs": [
    {
     "data": {
      "text/html": [
       "<style  type=\"text/css\" >\n",
       "#T_e5e58_row0_col0{\n",
       "            background-color:  #00441b;\n",
       "            color:  #f1f1f1;\n",
       "        }#T_e5e58_row1_col0,#T_e5e58_row2_col0{\n",
       "            background-color:  #127c39;\n",
       "            color:  #f1f1f1;\n",
       "        }#T_e5e58_row3_col0{\n",
       "            background-color:  #1f8742;\n",
       "            color:  #000000;\n",
       "        }#T_e5e58_row4_col0,#T_e5e58_row5_col0{\n",
       "            background-color:  #2c944c;\n",
       "            color:  #000000;\n",
       "        }#T_e5e58_row6_col0,#T_e5e58_row7_col0,#T_e5e58_row8_col0{\n",
       "            background-color:  #37a055;\n",
       "            color:  #000000;\n",
       "        }#T_e5e58_row9_col0{\n",
       "            background-color:  #43ac5e;\n",
       "            color:  #000000;\n",
       "        }#T_e5e58_row10_col0,#T_e5e58_row11_col0,#T_e5e58_row12_col0,#T_e5e58_row13_col0{\n",
       "            background-color:  #6abf71;\n",
       "            color:  #000000;\n",
       "        }#T_e5e58_row14_col0{\n",
       "            background-color:  #7dc87e;\n",
       "            color:  #000000;\n",
       "        }#T_e5e58_row15_col0,#T_e5e58_row16_col0,#T_e5e58_row17_col0{\n",
       "            background-color:  #8ed08b;\n",
       "            color:  #000000;\n",
       "        }#T_e5e58_row18_col0,#T_e5e58_row19_col0,#T_e5e58_row20_col0,#T_e5e58_row21_col0{\n",
       "            background-color:  #9fd899;\n",
       "            color:  #000000;\n",
       "        }#T_e5e58_row22_col0,#T_e5e58_row23_col0{\n",
       "            background-color:  #aedea7;\n",
       "            color:  #000000;\n",
       "        }#T_e5e58_row24_col0,#T_e5e58_row25_col0{\n",
       "            background-color:  #bce4b5;\n",
       "            color:  #000000;\n",
       "        }#T_e5e58_row26_col0,#T_e5e58_row27_col0{\n",
       "            background-color:  #cbeac4;\n",
       "            color:  #000000;\n",
       "        }#T_e5e58_row28_col0{\n",
       "            background-color:  #d6efd0;\n",
       "            color:  #000000;\n",
       "        }#T_e5e58_row29_col0,#T_e5e58_row30_col0,#T_e5e58_row31_col0{\n",
       "            background-color:  #e1f3dc;\n",
       "            color:  #000000;\n",
       "        }#T_e5e58_row32_col0,#T_e5e58_row33_col0{\n",
       "            background-color:  #f0f9ed;\n",
       "            color:  #000000;\n",
       "        }#T_e5e58_row34_col0{\n",
       "            background-color:  #f7fcf5;\n",
       "            color:  #000000;\n",
       "        }</style><table id=\"T_e5e58_\" ><thead>    <tr>        <th class=\"blank level0\" ></th>        <th class=\"col_heading level0 col0\" >Recovery Rate(%)</th>    </tr>    <tr>        <th class=\"index_name level0\" >Districts</th>        <th class=\"blank\" ></th>    </tr></thead><tbody>\n",
       "                <tr>\n",
       "                        <th id=\"T_e5e58_level0_row0\" class=\"row_heading level0 row0\" >Buldhana</th>\n",
       "                        <td id=\"T_e5e58_row0_col0\" class=\"data row0 col0\" >99.100000</td>\n",
       "            </tr>\n",
       "            <tr>\n",
       "                        <th id=\"T_e5e58_level0_row1\" class=\"row_heading level0 row1\" >Dhule</th>\n",
       "                        <td id=\"T_e5e58_row1_col0\" class=\"data row1 col0\" >98.700000</td>\n",
       "            </tr>\n",
       "            <tr>\n",
       "                        <th id=\"T_e5e58_level0_row2\" class=\"row_heading level0 row2\" >Gondia</th>\n",
       "                        <td id=\"T_e5e58_row2_col0\" class=\"data row2 col0\" >98.700000</td>\n",
       "            </tr>\n",
       "            <tr>\n",
       "                        <th id=\"T_e5e58_level0_row3\" class=\"row_heading level0 row3\" >Washim</th>\n",
       "                        <td id=\"T_e5e58_row3_col0\" class=\"data row3 col0\" >98.600000</td>\n",
       "            </tr>\n",
       "            <tr>\n",
       "                        <th id=\"T_e5e58_level0_row4\" class=\"row_heading level0 row4\" >Amravati</th>\n",
       "                        <td id=\"T_e5e58_row4_col0\" class=\"data row4 col0\" >98.500000</td>\n",
       "            </tr>\n",
       "            <tr>\n",
       "                        <th id=\"T_e5e58_level0_row5\" class=\"row_heading level0 row5\" >Pune</th>\n",
       "                        <td id=\"T_e5e58_row5_col0\" class=\"data row5 col0\" >98.500000</td>\n",
       "            </tr>\n",
       "            <tr>\n",
       "                        <th id=\"T_e5e58_level0_row6\" class=\"row_heading level0 row6\" >Nagpur</th>\n",
       "                        <td id=\"T_e5e58_row6_col0\" class=\"data row6 col0\" >98.400000</td>\n",
       "            </tr>\n",
       "            <tr>\n",
       "                        <th id=\"T_e5e58_level0_row7\" class=\"row_heading level0 row7\" >Thane</th>\n",
       "                        <td id=\"T_e5e58_row7_col0\" class=\"data row7 col0\" >98.400000</td>\n",
       "            </tr>\n",
       "            <tr>\n",
       "                        <th id=\"T_e5e58_level0_row8\" class=\"row_heading level0 row8\" >Chandrapur</th>\n",
       "                        <td id=\"T_e5e58_row8_col0\" class=\"data row8 col0\" >98.400000</td>\n",
       "            </tr>\n",
       "            <tr>\n",
       "                        <th id=\"T_e5e58_level0_row9\" class=\"row_heading level0 row9\" >Bhandara</th>\n",
       "                        <td id=\"T_e5e58_row9_col0\" class=\"data row9 col0\" >98.300000</td>\n",
       "            </tr>\n",
       "            <tr>\n",
       "                        <th id=\"T_e5e58_level0_row10\" class=\"row_heading level0 row10\" >Mumbai</th>\n",
       "                        <td id=\"T_e5e58_row10_col0\" class=\"data row10 col0\" >98.100000</td>\n",
       "            </tr>\n",
       "            <tr>\n",
       "                        <th id=\"T_e5e58_level0_row11\" class=\"row_heading level0 row11\" >Nashik</th>\n",
       "                        <td id=\"T_e5e58_row11_col0\" class=\"data row11 col0\" >98.100000</td>\n",
       "            </tr>\n",
       "            <tr>\n",
       "                        <th id=\"T_e5e58_level0_row12\" class=\"row_heading level0 row12\" >Jalgaon</th>\n",
       "                        <td id=\"T_e5e58_row12_col0\" class=\"data row12 col0\" >98.100000</td>\n",
       "            </tr>\n",
       "            <tr>\n",
       "                        <th id=\"T_e5e58_level0_row13\" class=\"row_heading level0 row13\" >Jalna</th>\n",
       "                        <td id=\"T_e5e58_row13_col0\" class=\"data row13 col0\" >98.100000</td>\n",
       "            </tr>\n",
       "            <tr>\n",
       "                        <th id=\"T_e5e58_level0_row14\" class=\"row_heading level0 row14\" >Ahmednagar</th>\n",
       "                        <td id=\"T_e5e58_row14_col0\" class=\"data row14 col0\" >98.000000</td>\n",
       "            </tr>\n",
       "            <tr>\n",
       "                        <th id=\"T_e5e58_level0_row15\" class=\"row_heading level0 row15\" >Raigad</th>\n",
       "                        <td id=\"T_e5e58_row15_col0\" class=\"data row15 col0\" >97.900000</td>\n",
       "            </tr>\n",
       "            <tr>\n",
       "                        <th id=\"T_e5e58_level0_row16\" class=\"row_heading level0 row16\" >Palghar</th>\n",
       "                        <td id=\"T_e5e58_row16_col0\" class=\"data row16 col0\" >97.900000</td>\n",
       "            </tr>\n",
       "            <tr>\n",
       "                        <th id=\"T_e5e58_level0_row17\" class=\"row_heading level0 row17\" >Nandurbar</th>\n",
       "                        <td id=\"T_e5e58_row17_col0\" class=\"data row17 col0\" >97.900000</td>\n",
       "            </tr>\n",
       "            <tr>\n",
       "                        <th id=\"T_e5e58_level0_row18\" class=\"row_heading level0 row18\" >Wardha</th>\n",
       "                        <td id=\"T_e5e58_row18_col0\" class=\"data row18 col0\" >97.800000</td>\n",
       "            </tr>\n",
       "            <tr>\n",
       "                        <th id=\"T_e5e58_level0_row19\" class=\"row_heading level0 row19\" >Gadchiroli</th>\n",
       "                        <td id=\"T_e5e58_row19_col0\" class=\"data row19 col0\" >97.800000</td>\n",
       "            </tr>\n",
       "            <tr>\n",
       "                        <th id=\"T_e5e58_level0_row20\" class=\"row_heading level0 row20\" >Parbhani</th>\n",
       "                        <td id=\"T_e5e58_row20_col0\" class=\"data row20 col0\" >97.800000</td>\n",
       "            </tr>\n",
       "            <tr>\n",
       "                        <th id=\"T_e5e58_level0_row21\" class=\"row_heading level0 row21\" >Yavatmal</th>\n",
       "                        <td id=\"T_e5e58_row21_col0\" class=\"data row21 col0\" >97.800000</td>\n",
       "            </tr>\n",
       "            <tr>\n",
       "                        <th id=\"T_e5e58_level0_row22\" class=\"row_heading level0 row22\" >Hingoli</th>\n",
       "                        <td id=\"T_e5e58_row22_col0\" class=\"data row22 col0\" >97.700000</td>\n",
       "            </tr>\n",
       "            <tr>\n",
       "                        <th id=\"T_e5e58_level0_row23\" class=\"row_heading level0 row23\" >Akola</th>\n",
       "                        <td id=\"T_e5e58_row23_col0\" class=\"data row23 col0\" >97.700000</td>\n",
       "            </tr>\n",
       "            <tr>\n",
       "                        <th id=\"T_e5e58_level0_row24\" class=\"row_heading level0 row24\" >Satara</th>\n",
       "                        <td id=\"T_e5e58_row24_col0\" class=\"data row24 col0\" >97.600000</td>\n",
       "            </tr>\n",
       "            <tr>\n",
       "                        <th id=\"T_e5e58_level0_row25\" class=\"row_heading level0 row25\" >Latur</th>\n",
       "                        <td id=\"T_e5e58_row25_col0\" class=\"data row25 col0\" >97.600000</td>\n",
       "            </tr>\n",
       "            <tr>\n",
       "                        <th id=\"T_e5e58_level0_row26\" class=\"row_heading level0 row26\" >Sangli</th>\n",
       "                        <td id=\"T_e5e58_row26_col0\" class=\"data row26 col0\" >97.500000</td>\n",
       "            </tr>\n",
       "            <tr>\n",
       "                        <th id=\"T_e5e58_level0_row27\" class=\"row_heading level0 row27\" >Aurangabad</th>\n",
       "                        <td id=\"T_e5e58_row27_col0\" class=\"data row27 col0\" >97.500000</td>\n",
       "            </tr>\n",
       "            <tr>\n",
       "                        <th id=\"T_e5e58_level0_row28\" class=\"row_heading level0 row28\" >Solapur</th>\n",
       "                        <td id=\"T_e5e58_row28_col0\" class=\"data row28 col0\" >97.400000</td>\n",
       "            </tr>\n",
       "            <tr>\n",
       "                        <th id=\"T_e5e58_level0_row29\" class=\"row_heading level0 row29\" >Nanded</th>\n",
       "                        <td id=\"T_e5e58_row29_col0\" class=\"data row29 col0\" >97.300000</td>\n",
       "            </tr>\n",
       "            <tr>\n",
       "                        <th id=\"T_e5e58_level0_row30\" class=\"row_heading level0 row30\" >Kolhapur</th>\n",
       "                        <td id=\"T_e5e58_row30_col0\" class=\"data row30 col0\" >97.300000</td>\n",
       "            </tr>\n",
       "            <tr>\n",
       "                        <th id=\"T_e5e58_level0_row31\" class=\"row_heading level0 row31\" >Beed</th>\n",
       "                        <td id=\"T_e5e58_row31_col0\" class=\"data row31 col0\" >97.300000</td>\n",
       "            </tr>\n",
       "            <tr>\n",
       "                        <th id=\"T_e5e58_level0_row32\" class=\"row_heading level0 row32\" >Osmanabad</th>\n",
       "                        <td id=\"T_e5e58_row32_col0\" class=\"data row32 col0\" >97.100000</td>\n",
       "            </tr>\n",
       "            <tr>\n",
       "                        <th id=\"T_e5e58_level0_row33\" class=\"row_heading level0 row33\" >Sindhudurg</th>\n",
       "                        <td id=\"T_e5e58_row33_col0\" class=\"data row33 col0\" >97.100000</td>\n",
       "            </tr>\n",
       "            <tr>\n",
       "                        <th id=\"T_e5e58_level0_row34\" class=\"row_heading level0 row34\" >Ratnagiri</th>\n",
       "                        <td id=\"T_e5e58_row34_col0\" class=\"data row34 col0\" >97.000000</td>\n",
       "            </tr>\n",
       "    </tbody></table>"
      ],
      "text/plain": [
       "<pandas.io.formats.style.Styler at 0x188af329a30>"
      ]
     },
     "execution_count": 43,
     "metadata": {},
     "output_type": "execute_result"
    }
   ],
   "source": [
    "Total_Recovery_Rate=dataframe.groupby(\"Districts\")[\"Recovery Rate(%)\"].sum().sort_values(ascending=False).to_frame()\n",
    "Total_Recovery_Rate.style.background_gradient(cmap='Greens')"
   ]
  },
  {
   "cell_type": "code",
   "execution_count": 45,
   "metadata": {
    "scrolled": false
   },
   "outputs": [
    {
     "data": {
      "text/html": [
       "<style  type=\"text/css\" >\n",
       "#T_31a8f_row0_col0{\n",
       "            background-color:  #3f007d;\n",
       "            color:  #f1f1f1;\n",
       "        }#T_31a8f_row1_col0,#T_31a8f_row2_col0{\n",
       "            background-color:  #572c92;\n",
       "            color:  #f1f1f1;\n",
       "        }#T_31a8f_row3_col0,#T_31a8f_row4_col0,#T_31a8f_row5_col0{\n",
       "            background-color:  #5f3c99;\n",
       "            color:  #f1f1f1;\n",
       "        }#T_31a8f_row6_col0,#T_31a8f_row7_col0{\n",
       "            background-color:  #674ca1;\n",
       "            color:  #f1f1f1;\n",
       "        }#T_31a8f_row8_col0,#T_31a8f_row9_col0,#T_31a8f_row10_col0{\n",
       "            background-color:  #705eaa;\n",
       "            color:  #f1f1f1;\n",
       "        }#T_31a8f_row11_col0{\n",
       "            background-color:  #796eb2;\n",
       "            color:  #000000;\n",
       "        }#T_31a8f_row12_col0,#T_31a8f_row13_col0{\n",
       "            background-color:  #817ebb;\n",
       "            color:  #000000;\n",
       "        }#T_31a8f_row14_col0,#T_31a8f_row15_col0,#T_31a8f_row16_col0{\n",
       "            background-color:  #8d89c0;\n",
       "            color:  #000000;\n",
       "        }#T_31a8f_row17_col0{\n",
       "            background-color:  #9894c5;\n",
       "            color:  #000000;\n",
       "        }#T_31a8f_row18_col0,#T_31a8f_row19_col0,#T_31a8f_row20_col0,#T_31a8f_row21_col0{\n",
       "            background-color:  #a4a1cc;\n",
       "            color:  #000000;\n",
       "        }#T_31a8f_row22_col0,#T_31a8f_row23_col0{\n",
       "            background-color:  #afaed4;\n",
       "            color:  #000000;\n",
       "        }#T_31a8f_row24_col0{\n",
       "            background-color:  #bbbbdb;\n",
       "            color:  #000000;\n",
       "        }#T_31a8f_row25_col0,#T_31a8f_row26_col0,#T_31a8f_row27_col0{\n",
       "            background-color:  #c6c7e1;\n",
       "            color:  #000000;\n",
       "        }#T_31a8f_row28_col0,#T_31a8f_row29_col0{\n",
       "            background-color:  #d1d2e7;\n",
       "            color:  #000000;\n",
       "        }#T_31a8f_row30_col0,#T_31a8f_row31_col0{\n",
       "            background-color:  #dcdcec;\n",
       "            color:  #000000;\n",
       "        }#T_31a8f_row32_col0,#T_31a8f_row33_col0{\n",
       "            background-color:  #e4e3f0;\n",
       "            color:  #000000;\n",
       "        }#T_31a8f_row34_col0{\n",
       "            background-color:  #fcfbfd;\n",
       "            color:  #000000;\n",
       "        }</style><table id=\"T_31a8f_\" ><thead>    <tr>        <th class=\"blank level0\" ></th>        <th class=\"col_heading level0 col0\" >Fatality Rate(%)</th>    </tr>    <tr>        <th class=\"index_name level0\" >Districts</th>        <th class=\"blank\" ></th>    </tr></thead><tbody>\n",
       "                <tr>\n",
       "                        <th id=\"T_31a8f_level0_row0\" class=\"row_heading level0 row0\" >Ratnagiri</th>\n",
       "                        <td id=\"T_31a8f_row0_col0\" class=\"data row0 col0\" >3.000000</td>\n",
       "            </tr>\n",
       "            <tr>\n",
       "                        <th id=\"T_31a8f_level0_row1\" class=\"row_heading level0 row1\" >Kolhapur</th>\n",
       "                        <td id=\"T_31a8f_row1_col0\" class=\"data row1 col0\" >2.700000</td>\n",
       "            </tr>\n",
       "            <tr>\n",
       "                        <th id=\"T_31a8f_level0_row2\" class=\"row_heading level0 row2\" >Osmanabad</th>\n",
       "                        <td id=\"T_31a8f_row2_col0\" class=\"data row2 col0\" >2.700000</td>\n",
       "            </tr>\n",
       "            <tr>\n",
       "                        <th id=\"T_31a8f_level0_row3\" class=\"row_heading level0 row3\" >Nanded</th>\n",
       "                        <td id=\"T_31a8f_row3_col0\" class=\"data row3 col0\" >2.600000</td>\n",
       "            </tr>\n",
       "            <tr>\n",
       "                        <th id=\"T_31a8f_level0_row4\" class=\"row_heading level0 row4\" >Beed</th>\n",
       "                        <td id=\"T_31a8f_row4_col0\" class=\"data row4 col0\" >2.600000</td>\n",
       "            </tr>\n",
       "            <tr>\n",
       "                        <th id=\"T_31a8f_level0_row5\" class=\"row_heading level0 row5\" >Sindhudurg</th>\n",
       "                        <td id=\"T_31a8f_row5_col0\" class=\"data row5 col0\" >2.600000</td>\n",
       "            </tr>\n",
       "            <tr>\n",
       "                        <th id=\"T_31a8f_level0_row6\" class=\"row_heading level0 row6\" >Solapur</th>\n",
       "                        <td id=\"T_31a8f_row6_col0\" class=\"data row6 col0\" >2.500000</td>\n",
       "            </tr>\n",
       "            <tr>\n",
       "                        <th id=\"T_31a8f_level0_row7\" class=\"row_heading level0 row7\" >Sangli</th>\n",
       "                        <td id=\"T_31a8f_row7_col0\" class=\"data row7 col0\" >2.500000</td>\n",
       "            </tr>\n",
       "            <tr>\n",
       "                        <th id=\"T_31a8f_level0_row8\" class=\"row_heading level0 row8\" >Aurangabad</th>\n",
       "                        <td id=\"T_31a8f_row8_col0\" class=\"data row8 col0\" >2.400000</td>\n",
       "            </tr>\n",
       "            <tr>\n",
       "                        <th id=\"T_31a8f_level0_row9\" class=\"row_heading level0 row9\" >Satara</th>\n",
       "                        <td id=\"T_31a8f_row9_col0\" class=\"data row9 col0\" >2.400000</td>\n",
       "            </tr>\n",
       "            <tr>\n",
       "                        <th id=\"T_31a8f_level0_row10\" class=\"row_heading level0 row10\" >Latur</th>\n",
       "                        <td id=\"T_31a8f_row10_col0\" class=\"data row10 col0\" >2.400000</td>\n",
       "            </tr>\n",
       "            <tr>\n",
       "                        <th id=\"T_31a8f_level0_row11\" class=\"row_heading level0 row11\" >Hingoli</th>\n",
       "                        <td id=\"T_31a8f_row11_col0\" class=\"data row11 col0\" >2.300000</td>\n",
       "            </tr>\n",
       "            <tr>\n",
       "                        <th id=\"T_31a8f_level0_row12\" class=\"row_heading level0 row12\" >Yavatmal</th>\n",
       "                        <td id=\"T_31a8f_row12_col0\" class=\"data row12 col0\" >2.200000</td>\n",
       "            </tr>\n",
       "            <tr>\n",
       "                        <th id=\"T_31a8f_level0_row13\" class=\"row_heading level0 row13\" >Akola</th>\n",
       "                        <td id=\"T_31a8f_row13_col0\" class=\"data row13 col0\" >2.200000</td>\n",
       "            </tr>\n",
       "            <tr>\n",
       "                        <th id=\"T_31a8f_level0_row14\" class=\"row_heading level0 row14\" >Nandurbar</th>\n",
       "                        <td id=\"T_31a8f_row14_col0\" class=\"data row14 col0\" >2.100000</td>\n",
       "            </tr>\n",
       "            <tr>\n",
       "                        <th id=\"T_31a8f_level0_row15\" class=\"row_heading level0 row15\" >Palghar</th>\n",
       "                        <td id=\"T_31a8f_row15_col0\" class=\"data row15 col0\" >2.100000</td>\n",
       "            </tr>\n",
       "            <tr>\n",
       "                        <th id=\"T_31a8f_level0_row16\" class=\"row_heading level0 row16\" >Parbhani</th>\n",
       "                        <td id=\"T_31a8f_row16_col0\" class=\"data row16 col0\" >2.100000</td>\n",
       "            </tr>\n",
       "            <tr>\n",
       "                        <th id=\"T_31a8f_level0_row17\" class=\"row_heading level0 row17\" >Raigad</th>\n",
       "                        <td id=\"T_31a8f_row17_col0\" class=\"data row17 col0\" >2.000000</td>\n",
       "            </tr>\n",
       "            <tr>\n",
       "                        <th id=\"T_31a8f_level0_row18\" class=\"row_heading level0 row18\" >Nashik</th>\n",
       "                        <td id=\"T_31a8f_row18_col0\" class=\"data row18 col0\" >1.900000</td>\n",
       "            </tr>\n",
       "            <tr>\n",
       "                        <th id=\"T_31a8f_level0_row19\" class=\"row_heading level0 row19\" >Wardha</th>\n",
       "                        <td id=\"T_31a8f_row19_col0\" class=\"data row19 col0\" >1.900000</td>\n",
       "            </tr>\n",
       "            <tr>\n",
       "                        <th id=\"T_31a8f_level0_row20\" class=\"row_heading level0 row20\" >Ahmednagar</th>\n",
       "                        <td id=\"T_31a8f_row20_col0\" class=\"data row20 col0\" >1.900000</td>\n",
       "            </tr>\n",
       "            <tr>\n",
       "                        <th id=\"T_31a8f_level0_row21\" class=\"row_heading level0 row21\" >Gadchiroli</th>\n",
       "                        <td id=\"T_31a8f_row21_col0\" class=\"data row21 col0\" >1.900000</td>\n",
       "            </tr>\n",
       "            <tr>\n",
       "                        <th id=\"T_31a8f_level0_row22\" class=\"row_heading level0 row22\" >Jalna</th>\n",
       "                        <td id=\"T_31a8f_row22_col0\" class=\"data row22 col0\" >1.800000</td>\n",
       "            </tr>\n",
       "            <tr>\n",
       "                        <th id=\"T_31a8f_level0_row23\" class=\"row_heading level0 row23\" >Jalgaon</th>\n",
       "                        <td id=\"T_31a8f_row23_col0\" class=\"data row23 col0\" >1.800000</td>\n",
       "            </tr>\n",
       "            <tr>\n",
       "                        <th id=\"T_31a8f_level0_row24\" class=\"row_heading level0 row24\" >Bhandara</th>\n",
       "                        <td id=\"T_31a8f_row24_col0\" class=\"data row24 col0\" >1.700000</td>\n",
       "            </tr>\n",
       "            <tr>\n",
       "                        <th id=\"T_31a8f_level0_row25\" class=\"row_heading level0 row25\" >Mumbai</th>\n",
       "                        <td id=\"T_31a8f_row25_col0\" class=\"data row25 col0\" >1.600000</td>\n",
       "            </tr>\n",
       "            <tr>\n",
       "                        <th id=\"T_31a8f_level0_row26\" class=\"row_heading level0 row26\" >Chandrapur</th>\n",
       "                        <td id=\"T_31a8f_row26_col0\" class=\"data row26 col0\" >1.600000</td>\n",
       "            </tr>\n",
       "            <tr>\n",
       "                        <th id=\"T_31a8f_level0_row27\" class=\"row_heading level0 row27\" >Nagpur</th>\n",
       "                        <td id=\"T_31a8f_row27_col0\" class=\"data row27 col0\" >1.600000</td>\n",
       "            </tr>\n",
       "            <tr>\n",
       "                        <th id=\"T_31a8f_level0_row28\" class=\"row_heading level0 row28\" >Thane</th>\n",
       "                        <td id=\"T_31a8f_row28_col0\" class=\"data row28 col0\" >1.500000</td>\n",
       "            </tr>\n",
       "            <tr>\n",
       "                        <th id=\"T_31a8f_level0_row29\" class=\"row_heading level0 row29\" >Amravati</th>\n",
       "                        <td id=\"T_31a8f_row29_col0\" class=\"data row29 col0\" >1.500000</td>\n",
       "            </tr>\n",
       "            <tr>\n",
       "                        <th id=\"T_31a8f_level0_row30\" class=\"row_heading level0 row30\" >Pune</th>\n",
       "                        <td id=\"T_31a8f_row30_col0\" class=\"data row30 col0\" >1.400000</td>\n",
       "            </tr>\n",
       "            <tr>\n",
       "                        <th id=\"T_31a8f_level0_row31\" class=\"row_heading level0 row31\" >Washim</th>\n",
       "                        <td id=\"T_31a8f_row31_col0\" class=\"data row31 col0\" >1.400000</td>\n",
       "            </tr>\n",
       "            <tr>\n",
       "                        <th id=\"T_31a8f_level0_row32\" class=\"row_heading level0 row32\" >Gondia</th>\n",
       "                        <td id=\"T_31a8f_row32_col0\" class=\"data row32 col0\" >1.300000</td>\n",
       "            </tr>\n",
       "            <tr>\n",
       "                        <th id=\"T_31a8f_level0_row33\" class=\"row_heading level0 row33\" >Dhule</th>\n",
       "                        <td id=\"T_31a8f_row33_col0\" class=\"data row33 col0\" >1.300000</td>\n",
       "            </tr>\n",
       "            <tr>\n",
       "                        <th id=\"T_31a8f_level0_row34\" class=\"row_heading level0 row34\" >Buldhana</th>\n",
       "                        <td id=\"T_31a8f_row34_col0\" class=\"data row34 col0\" >0.900000</td>\n",
       "            </tr>\n",
       "    </tbody></table>"
      ],
      "text/plain": [
       "<pandas.io.formats.style.Styler at 0x188af151820>"
      ]
     },
     "execution_count": 45,
     "metadata": {},
     "output_type": "execute_result"
    }
   ],
   "source": [
    "Total_Fatality_Rate=dataframe.groupby(\"Districts\")[\"Fatality Rate(%)\"].sum().sort_values(ascending=False).to_frame()\n",
    "Total_Fatality_Rate.style.background_gradient(cmap='Purples')"
   ]
  },
  {
   "cell_type": "markdown",
   "metadata": {
    "id": "MTr_RgvmHt3q"
   },
   "source": [
    "# Covid 19 Maharashtra Data Visuliazation"
   ]
  },
  {
   "cell_type": "markdown",
   "metadata": {
    "id": "No8g68BKIG_q"
   },
   "source": [
    "**Total Positive cases in Maharashtra Districtwise**"
   ]
  },
  {
   "cell_type": "code",
   "execution_count": 34,
   "metadata": {
    "colab": {
     "base_uri": "https://localhost:8080/",
     "height": 542
    },
    "id": "OQ-7eiYtHYm9",
    "outputId": "e0026c68-0a92-4215-8d49-64ac6376b7e3"
   },
   "outputs": [
    {
     "data": {
      "application/vnd.plotly.v1+json": {
       "config": {
        "plotlyServerURL": "https://plot.ly"
       },
       "data": [
        {
         "alignmentgroup": "True",
         "hovertemplate": "Districts=%{x}<br>Positive Cases=%{y}<extra></extra>",
         "legendgroup": "Ahmednagar",
         "marker": {
          "color": "#636efa",
          "pattern": {
           "shape": ""
          }
         },
         "name": "Ahmednagar",
         "offsetgroup": "Ahmednagar",
         "orientation": "v",
         "showlegend": true,
         "textposition": "auto",
         "type": "bar",
         "x": [
          "Ahmednagar"
         ],
         "xaxis": "x",
         "y": [
          376964
         ],
         "yaxis": "y"
        },
        {
         "alignmentgroup": "True",
         "hovertemplate": "Districts=%{x}<br>Positive Cases=%{y}<extra></extra>",
         "legendgroup": "Akola",
         "marker": {
          "color": "#EF553B",
          "pattern": {
           "shape": ""
          }
         },
         "name": "Akola",
         "offsetgroup": "Akola",
         "orientation": "v",
         "showlegend": true,
         "textposition": "auto",
         "type": "bar",
         "x": [
          "Akola"
         ],
         "xaxis": "x",
         "y": [
          66135
         ],
         "yaxis": "y"
        },
        {
         "alignmentgroup": "True",
         "hovertemplate": "Districts=%{x}<br>Positive Cases=%{y}<extra></extra>",
         "legendgroup": "Amravati",
         "marker": {
          "color": "#00cc96",
          "pattern": {
           "shape": ""
          }
         },
         "name": "Amravati",
         "offsetgroup": "Amravati",
         "orientation": "v",
         "showlegend": true,
         "textposition": "auto",
         "type": "bar",
         "x": [
          "Amravati"
         ],
         "xaxis": "x",
         "y": [
          105909
         ],
         "yaxis": "y"
        },
        {
         "alignmentgroup": "True",
         "hovertemplate": "Districts=%{x}<br>Positive Cases=%{y}<extra></extra>",
         "legendgroup": "Aurangabad",
         "marker": {
          "color": "#ab63fa",
          "pattern": {
           "shape": ""
          }
         },
         "name": "Aurangabad",
         "offsetgroup": "Aurangabad",
         "orientation": "v",
         "showlegend": true,
         "textposition": "auto",
         "type": "bar",
         "x": [
          "Aurangabad"
         ],
         "xaxis": "x",
         "y": [
          176264
         ],
         "yaxis": "y"
        },
        {
         "alignmentgroup": "True",
         "hovertemplate": "Districts=%{x}<br>Positive Cases=%{y}<extra></extra>",
         "legendgroup": "Beed",
         "marker": {
          "color": "#FFA15A",
          "pattern": {
           "shape": ""
          }
         },
         "name": "Beed",
         "offsetgroup": "Beed",
         "orientation": "v",
         "showlegend": true,
         "textposition": "auto",
         "type": "bar",
         "x": [
          "Beed"
         ],
         "xaxis": "x",
         "y": [
          109067
         ],
         "yaxis": "y"
        },
        {
         "alignmentgroup": "True",
         "hovertemplate": "Districts=%{x}<br>Positive Cases=%{y}<extra></extra>",
         "legendgroup": "Bhandara",
         "marker": {
          "color": "#19d3f3",
          "pattern": {
           "shape": ""
          }
         },
         "name": "Bhandara",
         "offsetgroup": "Bhandara",
         "orientation": "v",
         "showlegend": true,
         "textposition": "auto",
         "type": "bar",
         "x": [
          "Bhandara"
         ],
         "xaxis": "x",
         "y": [
          67919
         ],
         "yaxis": "y"
        },
        {
         "alignmentgroup": "True",
         "hovertemplate": "Districts=%{x}<br>Positive Cases=%{y}<extra></extra>",
         "legendgroup": "Buldhana",
         "marker": {
          "color": "#FF6692",
          "pattern": {
           "shape": ""
          }
         },
         "name": "Buldhana",
         "offsetgroup": "Buldhana",
         "orientation": "v",
         "showlegend": true,
         "textposition": "auto",
         "type": "bar",
         "x": [
          "Buldhana"
         ],
         "xaxis": "x",
         "y": [
          91792
         ],
         "yaxis": "y"
        },
        {
         "alignmentgroup": "True",
         "hovertemplate": "Districts=%{x}<br>Positive Cases=%{y}<extra></extra>",
         "legendgroup": "Chandrapur",
         "marker": {
          "color": "#B6E880",
          "pattern": {
           "shape": ""
          }
         },
         "name": "Chandrapur",
         "offsetgroup": "Chandrapur",
         "orientation": "v",
         "showlegend": true,
         "textposition": "auto",
         "type": "bar",
         "x": [
          "Chandrapur"
         ],
         "xaxis": "x",
         "y": [
          98793
         ],
         "yaxis": "y"
        },
        {
         "alignmentgroup": "True",
         "hovertemplate": "Districts=%{x}<br>Positive Cases=%{y}<extra></extra>",
         "legendgroup": "Dhule",
         "marker": {
          "color": "#FF97FF",
          "pattern": {
           "shape": ""
          }
         },
         "name": "Dhule",
         "offsetgroup": "Dhule",
         "orientation": "v",
         "showlegend": true,
         "textposition": "auto",
         "type": "bar",
         "x": [
          "Dhule"
         ],
         "xaxis": "x",
         "y": [
          50637
         ],
         "yaxis": "y"
        },
        {
         "alignmentgroup": "True",
         "hovertemplate": "Districts=%{x}<br>Positive Cases=%{y}<extra></extra>",
         "legendgroup": "Gadchiroli",
         "marker": {
          "color": "#FECB52",
          "pattern": {
           "shape": ""
          }
         },
         "name": "Gadchiroli",
         "offsetgroup": "Gadchiroli",
         "orientation": "v",
         "showlegend": true,
         "textposition": "auto",
         "type": "bar",
         "x": [
          "Gadchiroli"
         ],
         "xaxis": "x",
         "y": [
          36929
         ],
         "yaxis": "y"
        },
        {
         "alignmentgroup": "True",
         "hovertemplate": "Districts=%{x}<br>Positive Cases=%{y}<extra></extra>",
         "legendgroup": "Gondia",
         "marker": {
          "color": "#636efa",
          "pattern": {
           "shape": ""
          }
         },
         "name": "Gondia",
         "offsetgroup": "Gondia",
         "orientation": "v",
         "showlegend": true,
         "textposition": "auto",
         "type": "bar",
         "x": [
          "Gondia"
         ],
         "xaxis": "x",
         "y": [
          45387
         ],
         "yaxis": "y"
        },
        {
         "alignmentgroup": "True",
         "hovertemplate": "Districts=%{x}<br>Positive Cases=%{y}<extra></extra>",
         "legendgroup": "Hingoli",
         "marker": {
          "color": "#EF553B",
          "pattern": {
           "shape": ""
          }
         },
         "name": "Hingoli",
         "offsetgroup": "Hingoli",
         "orientation": "v",
         "showlegend": true,
         "textposition": "auto",
         "type": "bar",
         "x": [
          "Hingoli"
         ],
         "xaxis": "x",
         "y": [
          22164
         ],
         "yaxis": "y"
        },
        {
         "alignmentgroup": "True",
         "hovertemplate": "Districts=%{x}<br>Positive Cases=%{y}<extra></extra>",
         "legendgroup": "Jalgaon",
         "marker": {
          "color": "#00cc96",
          "pattern": {
           "shape": ""
          }
         },
         "name": "Jalgaon",
         "offsetgroup": "Jalgaon",
         "orientation": "v",
         "showlegend": true,
         "textposition": "auto",
         "type": "bar",
         "x": [
          "Jalgaon"
         ],
         "xaxis": "x",
         "y": [
          149454
         ],
         "yaxis": "y"
        },
        {
         "alignmentgroup": "True",
         "hovertemplate": "Districts=%{x}<br>Positive Cases=%{y}<extra></extra>",
         "legendgroup": "Jalna",
         "marker": {
          "color": "#ab63fa",
          "pattern": {
           "shape": ""
          }
         },
         "name": "Jalna",
         "offsetgroup": "Jalna",
         "orientation": "v",
         "showlegend": true,
         "textposition": "auto",
         "type": "bar",
         "x": [
          "Jalna"
         ],
         "xaxis": "x",
         "y": [
          66296
         ],
         "yaxis": "y"
        },
        {
         "alignmentgroup": "True",
         "hovertemplate": "Districts=%{x}<br>Positive Cases=%{y}<extra></extra>",
         "legendgroup": "Kolhapur",
         "marker": {
          "color": "#FFA15A",
          "pattern": {
           "shape": ""
          }
         },
         "name": "Kolhapur",
         "offsetgroup": "Kolhapur",
         "orientation": "v",
         "showlegend": true,
         "textposition": "auto",
         "type": "bar",
         "x": [
          "Kolhapur"
         ],
         "xaxis": "x",
         "y": [
          220400
         ],
         "yaxis": "y"
        },
        {
         "alignmentgroup": "True",
         "hovertemplate": "Districts=%{x}<br>Positive Cases=%{y}<extra></extra>",
         "legendgroup": "Latur",
         "marker": {
          "color": "#19d3f3",
          "pattern": {
           "shape": ""
          }
         },
         "name": "Latur",
         "offsetgroup": "Latur",
         "orientation": "v",
         "showlegend": true,
         "textposition": "auto",
         "type": "bar",
         "x": [
          "Latur"
         ],
         "xaxis": "x",
         "y": [
          104879
         ],
         "yaxis": "y"
        },
        {
         "alignmentgroup": "True",
         "hovertemplate": "Districts=%{x}<br>Positive Cases=%{y}<extra></extra>",
         "legendgroup": "Mumbai",
         "marker": {
          "color": "#FF6692",
          "pattern": {
           "shape": ""
          }
         },
         "name": "Mumbai",
         "offsetgroup": "Mumbai",
         "orientation": "v",
         "showlegend": true,
         "textposition": "auto",
         "type": "bar",
         "x": [
          "Mumbai"
         ],
         "xaxis": "x",
         "y": [
          1055811
         ],
         "yaxis": "y"
        },
        {
         "alignmentgroup": "True",
         "hovertemplate": "Districts=%{x}<br>Positive Cases=%{y}<extra></extra>",
         "legendgroup": "Nagpur",
         "marker": {
          "color": "#B6E880",
          "pattern": {
           "shape": ""
          }
         },
         "name": "Nagpur",
         "offsetgroup": "Nagpur",
         "orientation": "v",
         "showlegend": true,
         "textposition": "auto",
         "type": "bar",
         "x": [
          "Nagpur"
         ],
         "xaxis": "x",
         "y": [
          576191
         ],
         "yaxis": "y"
        },
        {
         "alignmentgroup": "True",
         "hovertemplate": "Districts=%{x}<br>Positive Cases=%{y}<extra></extra>",
         "legendgroup": "Nanded",
         "marker": {
          "color": "#FF97FF",
          "pattern": {
           "shape": ""
          }
         },
         "name": "Nanded",
         "offsetgroup": "Nanded",
         "orientation": "v",
         "showlegend": true,
         "textposition": "auto",
         "type": "bar",
         "x": [
          "Nanded"
         ],
         "xaxis": "x",
         "y": [
          102626
         ],
         "yaxis": "y"
        },
        {
         "alignmentgroup": "True",
         "hovertemplate": "Districts=%{x}<br>Positive Cases=%{y}<extra></extra>",
         "legendgroup": "Nandurbar",
         "marker": {
          "color": "#FECB52",
          "pattern": {
           "shape": ""
          }
         },
         "name": "Nandurbar",
         "offsetgroup": "Nandurbar",
         "orientation": "v",
         "showlegend": true,
         "textposition": "auto",
         "type": "bar",
         "x": [
          "Nandurbar"
         ],
         "xaxis": "x",
         "y": [
          46590
         ],
         "yaxis": "y"
        },
        {
         "alignmentgroup": "True",
         "hovertemplate": "Districts=%{x}<br>Positive Cases=%{y}<extra></extra>",
         "legendgroup": "Nashik",
         "marker": {
          "color": "#636efa",
          "pattern": {
           "shape": ""
          }
         },
         "name": "Nashik",
         "offsetgroup": "Nashik",
         "orientation": "v",
         "showlegend": true,
         "textposition": "auto",
         "type": "bar",
         "x": [
          "Nashik"
         ],
         "xaxis": "x",
         "y": [
          472611
         ],
         "yaxis": "y"
        },
        {
         "alignmentgroup": "True",
         "hovertemplate": "Districts=%{x}<br>Positive Cases=%{y}<extra></extra>",
         "legendgroup": "Osmanabad",
         "marker": {
          "color": "#EF553B",
          "pattern": {
           "shape": ""
          }
         },
         "name": "Osmanabad",
         "offsetgroup": "Osmanabad",
         "orientation": "v",
         "showlegend": true,
         "textposition": "auto",
         "type": "bar",
         "x": [
          "Osmanabad"
         ],
         "xaxis": "x",
         "y": [
          75083
         ],
         "yaxis": "y"
        },
        {
         "alignmentgroup": "True",
         "hovertemplate": "Districts=%{x}<br>Positive Cases=%{y}<extra></extra>",
         "legendgroup": "Palghar",
         "marker": {
          "color": "#00cc96",
          "pattern": {
           "shape": ""
          }
         },
         "name": "Palghar",
         "offsetgroup": "Palghar",
         "orientation": "v",
         "showlegend": true,
         "textposition": "auto",
         "type": "bar",
         "x": [
          "Palghar"
         ],
         "xaxis": "x",
         "y": [
          163402
         ],
         "yaxis": "y"
        },
        {
         "alignmentgroup": "True",
         "hovertemplate": "Districts=%{x}<br>Positive Cases=%{y}<extra></extra>",
         "legendgroup": "Parbhani",
         "marker": {
          "color": "#ab63fa",
          "pattern": {
           "shape": ""
          }
         },
         "name": "Parbhani",
         "offsetgroup": "Parbhani",
         "orientation": "v",
         "showlegend": true,
         "textposition": "auto",
         "type": "bar",
         "x": [
          "Parbhani"
         ],
         "xaxis": "x",
         "y": [
          58507
         ],
         "yaxis": "y"
        },
        {
         "alignmentgroup": "True",
         "hovertemplate": "Districts=%{x}<br>Positive Cases=%{y}<extra></extra>",
         "legendgroup": "Pune",
         "marker": {
          "color": "#FFA15A",
          "pattern": {
           "shape": ""
          }
         },
         "name": "Pune",
         "offsetgroup": "Pune",
         "orientation": "v",
         "showlegend": true,
         "textposition": "auto",
         "type": "bar",
         "x": [
          "Pune"
         ],
         "xaxis": "x",
         "y": [
          1450390
         ],
         "yaxis": "y"
        },
        {
         "alignmentgroup": "True",
         "hovertemplate": "Districts=%{x}<br>Positive Cases=%{y}<extra></extra>",
         "legendgroup": "Raigad",
         "marker": {
          "color": "#19d3f3",
          "pattern": {
           "shape": ""
          }
         },
         "name": "Raigad",
         "offsetgroup": "Raigad",
         "orientation": "v",
         "showlegend": true,
         "textposition": "auto",
         "type": "bar",
         "x": [
          "Raigad"
         ],
         "xaxis": "x",
         "y": [
          244158
         ],
         "yaxis": "y"
        },
        {
         "alignmentgroup": "True",
         "hovertemplate": "Districts=%{x}<br>Positive Cases=%{y}<extra></extra>",
         "legendgroup": "Ratnagiri",
         "marker": {
          "color": "#FF6692",
          "pattern": {
           "shape": ""
          }
         },
         "name": "Ratnagiri",
         "offsetgroup": "Ratnagiri",
         "orientation": "v",
         "showlegend": true,
         "textposition": "auto",
         "type": "bar",
         "x": [
          "Ratnagiri"
         ],
         "xaxis": "x",
         "y": [
          84383
         ],
         "yaxis": "y"
        },
        {
         "alignmentgroup": "True",
         "hovertemplate": "Districts=%{x}<br>Positive Cases=%{y}<extra></extra>",
         "legendgroup": "Sangli",
         "marker": {
          "color": "#B6E880",
          "pattern": {
           "shape": ""
          }
         },
         "name": "Sangli",
         "offsetgroup": "Sangli",
         "orientation": "v",
         "showlegend": true,
         "textposition": "auto",
         "type": "bar",
         "x": [
          "Sangli"
         ],
         "xaxis": "x",
         "y": [
          226945
         ],
         "yaxis": "y"
        },
        {
         "alignmentgroup": "True",
         "hovertemplate": "Districts=%{x}<br>Positive Cases=%{y}<extra></extra>",
         "legendgroup": "Satara",
         "marker": {
          "color": "#FF97FF",
          "pattern": {
           "shape": ""
          }
         },
         "name": "Satara",
         "offsetgroup": "Satara",
         "orientation": "v",
         "showlegend": true,
         "textposition": "auto",
         "type": "bar",
         "x": [
          "Satara"
         ],
         "xaxis": "x",
         "y": [
          278046
         ],
         "yaxis": "y"
        },
        {
         "alignmentgroup": "True",
         "hovertemplate": "Districts=%{x}<br>Positive Cases=%{y}<extra></extra>",
         "legendgroup": "Sindhudurg",
         "marker": {
          "color": "#FECB52",
          "pattern": {
           "shape": ""
          }
         },
         "name": "Sindhudurg",
         "offsetgroup": "Sindhudurg",
         "orientation": "v",
         "showlegend": true,
         "textposition": "auto",
         "type": "bar",
         "x": [
          "Sindhudurg"
         ],
         "xaxis": "x",
         "y": [
          57125
         ],
         "yaxis": "y"
        },
        {
         "alignmentgroup": "True",
         "hovertemplate": "Districts=%{x}<br>Positive Cases=%{y}<extra></extra>",
         "legendgroup": "Solapur",
         "marker": {
          "color": "#636efa",
          "pattern": {
           "shape": ""
          }
         },
         "name": "Solapur",
         "offsetgroup": "Solapur",
         "orientation": "v",
         "showlegend": true,
         "textposition": "auto",
         "type": "bar",
         "x": [
          "Solapur"
         ],
         "xaxis": "x",
         "y": [
          226968
         ],
         "yaxis": "y"
        },
        {
         "alignmentgroup": "True",
         "hovertemplate": "Districts=%{x}<br>Positive Cases=%{y}<extra></extra>",
         "legendgroup": "Thane",
         "marker": {
          "color": "#EF553B",
          "pattern": {
           "shape": ""
          }
         },
         "name": "Thane",
         "offsetgroup": "Thane",
         "orientation": "v",
         "showlegend": true,
         "textposition": "auto",
         "type": "bar",
         "x": [
          "Thane"
         ],
         "xaxis": "x",
         "y": [
          766202
         ],
         "yaxis": "y"
        },
        {
         "alignmentgroup": "True",
         "hovertemplate": "Districts=%{x}<br>Positive Cases=%{y}<extra></extra>",
         "legendgroup": "Wardha",
         "marker": {
          "color": "#00cc96",
          "pattern": {
           "shape": ""
          }
         },
         "name": "Wardha",
         "offsetgroup": "Wardha",
         "orientation": "v",
         "showlegend": true,
         "textposition": "auto",
         "type": "bar",
         "x": [
          "Wardha"
         ],
         "xaxis": "x",
         "y": [
          65656
         ],
         "yaxis": "y"
        },
        {
         "alignmentgroup": "True",
         "hovertemplate": "Districts=%{x}<br>Positive Cases=%{y}<extra></extra>",
         "legendgroup": "Washim",
         "marker": {
          "color": "#ab63fa",
          "pattern": {
           "shape": ""
          }
         },
         "name": "Washim",
         "offsetgroup": "Washim",
         "orientation": "v",
         "showlegend": true,
         "textposition": "auto",
         "type": "bar",
         "x": [
          "Washim"
         ],
         "xaxis": "x",
         "y": [
          45592
         ],
         "yaxis": "y"
        },
        {
         "alignmentgroup": "True",
         "hovertemplate": "Districts=%{x}<br>Positive Cases=%{y}<extra></extra>",
         "legendgroup": "Yavatmal",
         "marker": {
          "color": "#FFA15A",
          "pattern": {
           "shape": ""
          }
         },
         "name": "Yavatmal",
         "offsetgroup": "Yavatmal",
         "orientation": "v",
         "showlegend": true,
         "textposition": "auto",
         "type": "bar",
         "x": [
          "Yavatmal"
         ],
         "xaxis": "x",
         "y": [
          81972
         ],
         "yaxis": "y"
        }
       ],
       "layout": {
        "barmode": "relative",
        "legend": {
         "title": {
          "text": "Districts"
         },
         "tracegroupgap": 0
        },
        "template": {
         "data": {
          "bar": [
           {
            "error_x": {
             "color": "#2a3f5f"
            },
            "error_y": {
             "color": "#2a3f5f"
            },
            "marker": {
             "line": {
              "color": "#E5ECF6",
              "width": 0.5
             },
             "pattern": {
              "fillmode": "overlay",
              "size": 10,
              "solidity": 0.2
             }
            },
            "type": "bar"
           }
          ],
          "barpolar": [
           {
            "marker": {
             "line": {
              "color": "#E5ECF6",
              "width": 0.5
             },
             "pattern": {
              "fillmode": "overlay",
              "size": 10,
              "solidity": 0.2
             }
            },
            "type": "barpolar"
           }
          ],
          "carpet": [
           {
            "aaxis": {
             "endlinecolor": "#2a3f5f",
             "gridcolor": "white",
             "linecolor": "white",
             "minorgridcolor": "white",
             "startlinecolor": "#2a3f5f"
            },
            "baxis": {
             "endlinecolor": "#2a3f5f",
             "gridcolor": "white",
             "linecolor": "white",
             "minorgridcolor": "white",
             "startlinecolor": "#2a3f5f"
            },
            "type": "carpet"
           }
          ],
          "choropleth": [
           {
            "colorbar": {
             "outlinewidth": 0,
             "ticks": ""
            },
            "type": "choropleth"
           }
          ],
          "contour": [
           {
            "colorbar": {
             "outlinewidth": 0,
             "ticks": ""
            },
            "colorscale": [
             [
              0,
              "#0d0887"
             ],
             [
              0.1111111111111111,
              "#46039f"
             ],
             [
              0.2222222222222222,
              "#7201a8"
             ],
             [
              0.3333333333333333,
              "#9c179e"
             ],
             [
              0.4444444444444444,
              "#bd3786"
             ],
             [
              0.5555555555555556,
              "#d8576b"
             ],
             [
              0.6666666666666666,
              "#ed7953"
             ],
             [
              0.7777777777777778,
              "#fb9f3a"
             ],
             [
              0.8888888888888888,
              "#fdca26"
             ],
             [
              1,
              "#f0f921"
             ]
            ],
            "type": "contour"
           }
          ],
          "contourcarpet": [
           {
            "colorbar": {
             "outlinewidth": 0,
             "ticks": ""
            },
            "type": "contourcarpet"
           }
          ],
          "heatmap": [
           {
            "colorbar": {
             "outlinewidth": 0,
             "ticks": ""
            },
            "colorscale": [
             [
              0,
              "#0d0887"
             ],
             [
              0.1111111111111111,
              "#46039f"
             ],
             [
              0.2222222222222222,
              "#7201a8"
             ],
             [
              0.3333333333333333,
              "#9c179e"
             ],
             [
              0.4444444444444444,
              "#bd3786"
             ],
             [
              0.5555555555555556,
              "#d8576b"
             ],
             [
              0.6666666666666666,
              "#ed7953"
             ],
             [
              0.7777777777777778,
              "#fb9f3a"
             ],
             [
              0.8888888888888888,
              "#fdca26"
             ],
             [
              1,
              "#f0f921"
             ]
            ],
            "type": "heatmap"
           }
          ],
          "heatmapgl": [
           {
            "colorbar": {
             "outlinewidth": 0,
             "ticks": ""
            },
            "colorscale": [
             [
              0,
              "#0d0887"
             ],
             [
              0.1111111111111111,
              "#46039f"
             ],
             [
              0.2222222222222222,
              "#7201a8"
             ],
             [
              0.3333333333333333,
              "#9c179e"
             ],
             [
              0.4444444444444444,
              "#bd3786"
             ],
             [
              0.5555555555555556,
              "#d8576b"
             ],
             [
              0.6666666666666666,
              "#ed7953"
             ],
             [
              0.7777777777777778,
              "#fb9f3a"
             ],
             [
              0.8888888888888888,
              "#fdca26"
             ],
             [
              1,
              "#f0f921"
             ]
            ],
            "type": "heatmapgl"
           }
          ],
          "histogram": [
           {
            "marker": {
             "pattern": {
              "fillmode": "overlay",
              "size": 10,
              "solidity": 0.2
             }
            },
            "type": "histogram"
           }
          ],
          "histogram2d": [
           {
            "colorbar": {
             "outlinewidth": 0,
             "ticks": ""
            },
            "colorscale": [
             [
              0,
              "#0d0887"
             ],
             [
              0.1111111111111111,
              "#46039f"
             ],
             [
              0.2222222222222222,
              "#7201a8"
             ],
             [
              0.3333333333333333,
              "#9c179e"
             ],
             [
              0.4444444444444444,
              "#bd3786"
             ],
             [
              0.5555555555555556,
              "#d8576b"
             ],
             [
              0.6666666666666666,
              "#ed7953"
             ],
             [
              0.7777777777777778,
              "#fb9f3a"
             ],
             [
              0.8888888888888888,
              "#fdca26"
             ],
             [
              1,
              "#f0f921"
             ]
            ],
            "type": "histogram2d"
           }
          ],
          "histogram2dcontour": [
           {
            "colorbar": {
             "outlinewidth": 0,
             "ticks": ""
            },
            "colorscale": [
             [
              0,
              "#0d0887"
             ],
             [
              0.1111111111111111,
              "#46039f"
             ],
             [
              0.2222222222222222,
              "#7201a8"
             ],
             [
              0.3333333333333333,
              "#9c179e"
             ],
             [
              0.4444444444444444,
              "#bd3786"
             ],
             [
              0.5555555555555556,
              "#d8576b"
             ],
             [
              0.6666666666666666,
              "#ed7953"
             ],
             [
              0.7777777777777778,
              "#fb9f3a"
             ],
             [
              0.8888888888888888,
              "#fdca26"
             ],
             [
              1,
              "#f0f921"
             ]
            ],
            "type": "histogram2dcontour"
           }
          ],
          "mesh3d": [
           {
            "colorbar": {
             "outlinewidth": 0,
             "ticks": ""
            },
            "type": "mesh3d"
           }
          ],
          "parcoords": [
           {
            "line": {
             "colorbar": {
              "outlinewidth": 0,
              "ticks": ""
             }
            },
            "type": "parcoords"
           }
          ],
          "pie": [
           {
            "automargin": true,
            "type": "pie"
           }
          ],
          "scatter": [
           {
            "marker": {
             "colorbar": {
              "outlinewidth": 0,
              "ticks": ""
             }
            },
            "type": "scatter"
           }
          ],
          "scatter3d": [
           {
            "line": {
             "colorbar": {
              "outlinewidth": 0,
              "ticks": ""
             }
            },
            "marker": {
             "colorbar": {
              "outlinewidth": 0,
              "ticks": ""
             }
            },
            "type": "scatter3d"
           }
          ],
          "scattercarpet": [
           {
            "marker": {
             "colorbar": {
              "outlinewidth": 0,
              "ticks": ""
             }
            },
            "type": "scattercarpet"
           }
          ],
          "scattergeo": [
           {
            "marker": {
             "colorbar": {
              "outlinewidth": 0,
              "ticks": ""
             }
            },
            "type": "scattergeo"
           }
          ],
          "scattergl": [
           {
            "marker": {
             "colorbar": {
              "outlinewidth": 0,
              "ticks": ""
             }
            },
            "type": "scattergl"
           }
          ],
          "scattermapbox": [
           {
            "marker": {
             "colorbar": {
              "outlinewidth": 0,
              "ticks": ""
             }
            },
            "type": "scattermapbox"
           }
          ],
          "scatterpolar": [
           {
            "marker": {
             "colorbar": {
              "outlinewidth": 0,
              "ticks": ""
             }
            },
            "type": "scatterpolar"
           }
          ],
          "scatterpolargl": [
           {
            "marker": {
             "colorbar": {
              "outlinewidth": 0,
              "ticks": ""
             }
            },
            "type": "scatterpolargl"
           }
          ],
          "scatterternary": [
           {
            "marker": {
             "colorbar": {
              "outlinewidth": 0,
              "ticks": ""
             }
            },
            "type": "scatterternary"
           }
          ],
          "surface": [
           {
            "colorbar": {
             "outlinewidth": 0,
             "ticks": ""
            },
            "colorscale": [
             [
              0,
              "#0d0887"
             ],
             [
              0.1111111111111111,
              "#46039f"
             ],
             [
              0.2222222222222222,
              "#7201a8"
             ],
             [
              0.3333333333333333,
              "#9c179e"
             ],
             [
              0.4444444444444444,
              "#bd3786"
             ],
             [
              0.5555555555555556,
              "#d8576b"
             ],
             [
              0.6666666666666666,
              "#ed7953"
             ],
             [
              0.7777777777777778,
              "#fb9f3a"
             ],
             [
              0.8888888888888888,
              "#fdca26"
             ],
             [
              1,
              "#f0f921"
             ]
            ],
            "type": "surface"
           }
          ],
          "table": [
           {
            "cells": {
             "fill": {
              "color": "#EBF0F8"
             },
             "line": {
              "color": "white"
             }
            },
            "header": {
             "fill": {
              "color": "#C8D4E3"
             },
             "line": {
              "color": "white"
             }
            },
            "type": "table"
           }
          ]
         },
         "layout": {
          "annotationdefaults": {
           "arrowcolor": "#2a3f5f",
           "arrowhead": 0,
           "arrowwidth": 1
          },
          "autotypenumbers": "strict",
          "coloraxis": {
           "colorbar": {
            "outlinewidth": 0,
            "ticks": ""
           }
          },
          "colorscale": {
           "diverging": [
            [
             0,
             "#8e0152"
            ],
            [
             0.1,
             "#c51b7d"
            ],
            [
             0.2,
             "#de77ae"
            ],
            [
             0.3,
             "#f1b6da"
            ],
            [
             0.4,
             "#fde0ef"
            ],
            [
             0.5,
             "#f7f7f7"
            ],
            [
             0.6,
             "#e6f5d0"
            ],
            [
             0.7,
             "#b8e186"
            ],
            [
             0.8,
             "#7fbc41"
            ],
            [
             0.9,
             "#4d9221"
            ],
            [
             1,
             "#276419"
            ]
           ],
           "sequential": [
            [
             0,
             "#0d0887"
            ],
            [
             0.1111111111111111,
             "#46039f"
            ],
            [
             0.2222222222222222,
             "#7201a8"
            ],
            [
             0.3333333333333333,
             "#9c179e"
            ],
            [
             0.4444444444444444,
             "#bd3786"
            ],
            [
             0.5555555555555556,
             "#d8576b"
            ],
            [
             0.6666666666666666,
             "#ed7953"
            ],
            [
             0.7777777777777778,
             "#fb9f3a"
            ],
            [
             0.8888888888888888,
             "#fdca26"
            ],
            [
             1,
             "#f0f921"
            ]
           ],
           "sequentialminus": [
            [
             0,
             "#0d0887"
            ],
            [
             0.1111111111111111,
             "#46039f"
            ],
            [
             0.2222222222222222,
             "#7201a8"
            ],
            [
             0.3333333333333333,
             "#9c179e"
            ],
            [
             0.4444444444444444,
             "#bd3786"
            ],
            [
             0.5555555555555556,
             "#d8576b"
            ],
            [
             0.6666666666666666,
             "#ed7953"
            ],
            [
             0.7777777777777778,
             "#fb9f3a"
            ],
            [
             0.8888888888888888,
             "#fdca26"
            ],
            [
             1,
             "#f0f921"
            ]
           ]
          },
          "colorway": [
           "#636efa",
           "#EF553B",
           "#00cc96",
           "#ab63fa",
           "#FFA15A",
           "#19d3f3",
           "#FF6692",
           "#B6E880",
           "#FF97FF",
           "#FECB52"
          ],
          "font": {
           "color": "#2a3f5f"
          },
          "geo": {
           "bgcolor": "white",
           "lakecolor": "white",
           "landcolor": "#E5ECF6",
           "showlakes": true,
           "showland": true,
           "subunitcolor": "white"
          },
          "hoverlabel": {
           "align": "left"
          },
          "hovermode": "closest",
          "mapbox": {
           "style": "light"
          },
          "paper_bgcolor": "white",
          "plot_bgcolor": "#E5ECF6",
          "polar": {
           "angularaxis": {
            "gridcolor": "white",
            "linecolor": "white",
            "ticks": ""
           },
           "bgcolor": "#E5ECF6",
           "radialaxis": {
            "gridcolor": "white",
            "linecolor": "white",
            "ticks": ""
           }
          },
          "scene": {
           "xaxis": {
            "backgroundcolor": "#E5ECF6",
            "gridcolor": "white",
            "gridwidth": 2,
            "linecolor": "white",
            "showbackground": true,
            "ticks": "",
            "zerolinecolor": "white"
           },
           "yaxis": {
            "backgroundcolor": "#E5ECF6",
            "gridcolor": "white",
            "gridwidth": 2,
            "linecolor": "white",
            "showbackground": true,
            "ticks": "",
            "zerolinecolor": "white"
           },
           "zaxis": {
            "backgroundcolor": "#E5ECF6",
            "gridcolor": "white",
            "gridwidth": 2,
            "linecolor": "white",
            "showbackground": true,
            "ticks": "",
            "zerolinecolor": "white"
           }
          },
          "shapedefaults": {
           "line": {
            "color": "#2a3f5f"
           }
          },
          "ternary": {
           "aaxis": {
            "gridcolor": "white",
            "linecolor": "white",
            "ticks": ""
           },
           "baxis": {
            "gridcolor": "white",
            "linecolor": "white",
            "ticks": ""
           },
           "bgcolor": "#E5ECF6",
           "caxis": {
            "gridcolor": "white",
            "linecolor": "white",
            "ticks": ""
           }
          },
          "title": {
           "x": 0.05
          },
          "xaxis": {
           "automargin": true,
           "gridcolor": "white",
           "linecolor": "white",
           "ticks": "",
           "title": {
            "standoff": 15
           },
           "zerolinecolor": "white",
           "zerolinewidth": 2
          },
          "yaxis": {
           "automargin": true,
           "gridcolor": "white",
           "linecolor": "white",
           "ticks": "",
           "title": {
            "standoff": 15
           },
           "zerolinecolor": "white",
           "zerolinewidth": 2
          }
         }
        },
        "title": {
         "text": "Total Positive cases in Maharashtra Districtwise"
        },
        "xaxis": {
         "anchor": "y",
         "categoryarray": [
          "Ahmednagar",
          "Akola",
          "Amravati",
          "Aurangabad",
          "Beed",
          "Bhandara",
          "Buldhana",
          "Chandrapur",
          "Dhule",
          "Gadchiroli",
          "Gondia",
          "Hingoli",
          "Jalgaon",
          "Jalna",
          "Kolhapur",
          "Latur",
          "Mumbai",
          "Nagpur",
          "Nanded",
          "Nandurbar",
          "Nashik",
          "Osmanabad",
          "Palghar",
          "Parbhani",
          "Pune",
          "Raigad",
          "Ratnagiri",
          "Sangli",
          "Satara",
          "Sindhudurg",
          "Solapur",
          "Thane",
          "Wardha",
          "Washim",
          "Yavatmal"
         ],
         "categoryorder": "array",
         "domain": [
          0,
          1
         ],
         "title": {
          "text": "Districts"
         }
        },
        "yaxis": {
         "anchor": "x",
         "domain": [
          0,
          1
         ],
         "title": {
          "text": "Positive Cases"
         }
        }
       }
      },
      "text/html": [
       "<div>                            <div id=\"eeef122e-159f-458d-99e6-4682ab6992f5\" class=\"plotly-graph-div\" style=\"height:525px; width:100%;\"></div>            <script type=\"text/javascript\">                require([\"plotly\"], function(Plotly) {                    window.PLOTLYENV=window.PLOTLYENV || {};                                    if (document.getElementById(\"eeef122e-159f-458d-99e6-4682ab6992f5\")) {                    Plotly.newPlot(                        \"eeef122e-159f-458d-99e6-4682ab6992f5\",                        [{\"alignmentgroup\":\"True\",\"hovertemplate\":\"Districts=%{x}<br>Positive Cases=%{y}<extra></extra>\",\"legendgroup\":\"Ahmednagar\",\"marker\":{\"color\":\"#636efa\",\"pattern\":{\"shape\":\"\"}},\"name\":\"Ahmednagar\",\"offsetgroup\":\"Ahmednagar\",\"orientation\":\"v\",\"showlegend\":true,\"textposition\":\"auto\",\"x\":[\"Ahmednagar\"],\"xaxis\":\"x\",\"y\":[376964],\"yaxis\":\"y\",\"type\":\"bar\"},{\"alignmentgroup\":\"True\",\"hovertemplate\":\"Districts=%{x}<br>Positive Cases=%{y}<extra></extra>\",\"legendgroup\":\"Akola\",\"marker\":{\"color\":\"#EF553B\",\"pattern\":{\"shape\":\"\"}},\"name\":\"Akola\",\"offsetgroup\":\"Akola\",\"orientation\":\"v\",\"showlegend\":true,\"textposition\":\"auto\",\"x\":[\"Akola\"],\"xaxis\":\"x\",\"y\":[66135],\"yaxis\":\"y\",\"type\":\"bar\"},{\"alignmentgroup\":\"True\",\"hovertemplate\":\"Districts=%{x}<br>Positive Cases=%{y}<extra></extra>\",\"legendgroup\":\"Amravati\",\"marker\":{\"color\":\"#00cc96\",\"pattern\":{\"shape\":\"\"}},\"name\":\"Amravati\",\"offsetgroup\":\"Amravati\",\"orientation\":\"v\",\"showlegend\":true,\"textposition\":\"auto\",\"x\":[\"Amravati\"],\"xaxis\":\"x\",\"y\":[105909],\"yaxis\":\"y\",\"type\":\"bar\"},{\"alignmentgroup\":\"True\",\"hovertemplate\":\"Districts=%{x}<br>Positive Cases=%{y}<extra></extra>\",\"legendgroup\":\"Aurangabad\",\"marker\":{\"color\":\"#ab63fa\",\"pattern\":{\"shape\":\"\"}},\"name\":\"Aurangabad\",\"offsetgroup\":\"Aurangabad\",\"orientation\":\"v\",\"showlegend\":true,\"textposition\":\"auto\",\"x\":[\"Aurangabad\"],\"xaxis\":\"x\",\"y\":[176264],\"yaxis\":\"y\",\"type\":\"bar\"},{\"alignmentgroup\":\"True\",\"hovertemplate\":\"Districts=%{x}<br>Positive Cases=%{y}<extra></extra>\",\"legendgroup\":\"Beed\",\"marker\":{\"color\":\"#FFA15A\",\"pattern\":{\"shape\":\"\"}},\"name\":\"Beed\",\"offsetgroup\":\"Beed\",\"orientation\":\"v\",\"showlegend\":true,\"textposition\":\"auto\",\"x\":[\"Beed\"],\"xaxis\":\"x\",\"y\":[109067],\"yaxis\":\"y\",\"type\":\"bar\"},{\"alignmentgroup\":\"True\",\"hovertemplate\":\"Districts=%{x}<br>Positive Cases=%{y}<extra></extra>\",\"legendgroup\":\"Bhandara\",\"marker\":{\"color\":\"#19d3f3\",\"pattern\":{\"shape\":\"\"}},\"name\":\"Bhandara\",\"offsetgroup\":\"Bhandara\",\"orientation\":\"v\",\"showlegend\":true,\"textposition\":\"auto\",\"x\":[\"Bhandara\"],\"xaxis\":\"x\",\"y\":[67919],\"yaxis\":\"y\",\"type\":\"bar\"},{\"alignmentgroup\":\"True\",\"hovertemplate\":\"Districts=%{x}<br>Positive Cases=%{y}<extra></extra>\",\"legendgroup\":\"Buldhana\",\"marker\":{\"color\":\"#FF6692\",\"pattern\":{\"shape\":\"\"}},\"name\":\"Buldhana\",\"offsetgroup\":\"Buldhana\",\"orientation\":\"v\",\"showlegend\":true,\"textposition\":\"auto\",\"x\":[\"Buldhana\"],\"xaxis\":\"x\",\"y\":[91792],\"yaxis\":\"y\",\"type\":\"bar\"},{\"alignmentgroup\":\"True\",\"hovertemplate\":\"Districts=%{x}<br>Positive Cases=%{y}<extra></extra>\",\"legendgroup\":\"Chandrapur\",\"marker\":{\"color\":\"#B6E880\",\"pattern\":{\"shape\":\"\"}},\"name\":\"Chandrapur\",\"offsetgroup\":\"Chandrapur\",\"orientation\":\"v\",\"showlegend\":true,\"textposition\":\"auto\",\"x\":[\"Chandrapur\"],\"xaxis\":\"x\",\"y\":[98793],\"yaxis\":\"y\",\"type\":\"bar\"},{\"alignmentgroup\":\"True\",\"hovertemplate\":\"Districts=%{x}<br>Positive Cases=%{y}<extra></extra>\",\"legendgroup\":\"Dhule\",\"marker\":{\"color\":\"#FF97FF\",\"pattern\":{\"shape\":\"\"}},\"name\":\"Dhule\",\"offsetgroup\":\"Dhule\",\"orientation\":\"v\",\"showlegend\":true,\"textposition\":\"auto\",\"x\":[\"Dhule\"],\"xaxis\":\"x\",\"y\":[50637],\"yaxis\":\"y\",\"type\":\"bar\"},{\"alignmentgroup\":\"True\",\"hovertemplate\":\"Districts=%{x}<br>Positive Cases=%{y}<extra></extra>\",\"legendgroup\":\"Gadchiroli\",\"marker\":{\"color\":\"#FECB52\",\"pattern\":{\"shape\":\"\"}},\"name\":\"Gadchiroli\",\"offsetgroup\":\"Gadchiroli\",\"orientation\":\"v\",\"showlegend\":true,\"textposition\":\"auto\",\"x\":[\"Gadchiroli\"],\"xaxis\":\"x\",\"y\":[36929],\"yaxis\":\"y\",\"type\":\"bar\"},{\"alignmentgroup\":\"True\",\"hovertemplate\":\"Districts=%{x}<br>Positive Cases=%{y}<extra></extra>\",\"legendgroup\":\"Gondia\",\"marker\":{\"color\":\"#636efa\",\"pattern\":{\"shape\":\"\"}},\"name\":\"Gondia\",\"offsetgroup\":\"Gondia\",\"orientation\":\"v\",\"showlegend\":true,\"textposition\":\"auto\",\"x\":[\"Gondia\"],\"xaxis\":\"x\",\"y\":[45387],\"yaxis\":\"y\",\"type\":\"bar\"},{\"alignmentgroup\":\"True\",\"hovertemplate\":\"Districts=%{x}<br>Positive Cases=%{y}<extra></extra>\",\"legendgroup\":\"Hingoli\",\"marker\":{\"color\":\"#EF553B\",\"pattern\":{\"shape\":\"\"}},\"name\":\"Hingoli\",\"offsetgroup\":\"Hingoli\",\"orientation\":\"v\",\"showlegend\":true,\"textposition\":\"auto\",\"x\":[\"Hingoli\"],\"xaxis\":\"x\",\"y\":[22164],\"yaxis\":\"y\",\"type\":\"bar\"},{\"alignmentgroup\":\"True\",\"hovertemplate\":\"Districts=%{x}<br>Positive Cases=%{y}<extra></extra>\",\"legendgroup\":\"Jalgaon\",\"marker\":{\"color\":\"#00cc96\",\"pattern\":{\"shape\":\"\"}},\"name\":\"Jalgaon\",\"offsetgroup\":\"Jalgaon\",\"orientation\":\"v\",\"showlegend\":true,\"textposition\":\"auto\",\"x\":[\"Jalgaon\"],\"xaxis\":\"x\",\"y\":[149454],\"yaxis\":\"y\",\"type\":\"bar\"},{\"alignmentgroup\":\"True\",\"hovertemplate\":\"Districts=%{x}<br>Positive Cases=%{y}<extra></extra>\",\"legendgroup\":\"Jalna\",\"marker\":{\"color\":\"#ab63fa\",\"pattern\":{\"shape\":\"\"}},\"name\":\"Jalna\",\"offsetgroup\":\"Jalna\",\"orientation\":\"v\",\"showlegend\":true,\"textposition\":\"auto\",\"x\":[\"Jalna\"],\"xaxis\":\"x\",\"y\":[66296],\"yaxis\":\"y\",\"type\":\"bar\"},{\"alignmentgroup\":\"True\",\"hovertemplate\":\"Districts=%{x}<br>Positive Cases=%{y}<extra></extra>\",\"legendgroup\":\"Kolhapur\",\"marker\":{\"color\":\"#FFA15A\",\"pattern\":{\"shape\":\"\"}},\"name\":\"Kolhapur\",\"offsetgroup\":\"Kolhapur\",\"orientation\":\"v\",\"showlegend\":true,\"textposition\":\"auto\",\"x\":[\"Kolhapur\"],\"xaxis\":\"x\",\"y\":[220400],\"yaxis\":\"y\",\"type\":\"bar\"},{\"alignmentgroup\":\"True\",\"hovertemplate\":\"Districts=%{x}<br>Positive Cases=%{y}<extra></extra>\",\"legendgroup\":\"Latur\",\"marker\":{\"color\":\"#19d3f3\",\"pattern\":{\"shape\":\"\"}},\"name\":\"Latur\",\"offsetgroup\":\"Latur\",\"orientation\":\"v\",\"showlegend\":true,\"textposition\":\"auto\",\"x\":[\"Latur\"],\"xaxis\":\"x\",\"y\":[104879],\"yaxis\":\"y\",\"type\":\"bar\"},{\"alignmentgroup\":\"True\",\"hovertemplate\":\"Districts=%{x}<br>Positive Cases=%{y}<extra></extra>\",\"legendgroup\":\"Mumbai\",\"marker\":{\"color\":\"#FF6692\",\"pattern\":{\"shape\":\"\"}},\"name\":\"Mumbai\",\"offsetgroup\":\"Mumbai\",\"orientation\":\"v\",\"showlegend\":true,\"textposition\":\"auto\",\"x\":[\"Mumbai\"],\"xaxis\":\"x\",\"y\":[1055811],\"yaxis\":\"y\",\"type\":\"bar\"},{\"alignmentgroup\":\"True\",\"hovertemplate\":\"Districts=%{x}<br>Positive Cases=%{y}<extra></extra>\",\"legendgroup\":\"Nagpur\",\"marker\":{\"color\":\"#B6E880\",\"pattern\":{\"shape\":\"\"}},\"name\":\"Nagpur\",\"offsetgroup\":\"Nagpur\",\"orientation\":\"v\",\"showlegend\":true,\"textposition\":\"auto\",\"x\":[\"Nagpur\"],\"xaxis\":\"x\",\"y\":[576191],\"yaxis\":\"y\",\"type\":\"bar\"},{\"alignmentgroup\":\"True\",\"hovertemplate\":\"Districts=%{x}<br>Positive Cases=%{y}<extra></extra>\",\"legendgroup\":\"Nanded\",\"marker\":{\"color\":\"#FF97FF\",\"pattern\":{\"shape\":\"\"}},\"name\":\"Nanded\",\"offsetgroup\":\"Nanded\",\"orientation\":\"v\",\"showlegend\":true,\"textposition\":\"auto\",\"x\":[\"Nanded\"],\"xaxis\":\"x\",\"y\":[102626],\"yaxis\":\"y\",\"type\":\"bar\"},{\"alignmentgroup\":\"True\",\"hovertemplate\":\"Districts=%{x}<br>Positive Cases=%{y}<extra></extra>\",\"legendgroup\":\"Nandurbar\",\"marker\":{\"color\":\"#FECB52\",\"pattern\":{\"shape\":\"\"}},\"name\":\"Nandurbar\",\"offsetgroup\":\"Nandurbar\",\"orientation\":\"v\",\"showlegend\":true,\"textposition\":\"auto\",\"x\":[\"Nandurbar\"],\"xaxis\":\"x\",\"y\":[46590],\"yaxis\":\"y\",\"type\":\"bar\"},{\"alignmentgroup\":\"True\",\"hovertemplate\":\"Districts=%{x}<br>Positive Cases=%{y}<extra></extra>\",\"legendgroup\":\"Nashik\",\"marker\":{\"color\":\"#636efa\",\"pattern\":{\"shape\":\"\"}},\"name\":\"Nashik\",\"offsetgroup\":\"Nashik\",\"orientation\":\"v\",\"showlegend\":true,\"textposition\":\"auto\",\"x\":[\"Nashik\"],\"xaxis\":\"x\",\"y\":[472611],\"yaxis\":\"y\",\"type\":\"bar\"},{\"alignmentgroup\":\"True\",\"hovertemplate\":\"Districts=%{x}<br>Positive Cases=%{y}<extra></extra>\",\"legendgroup\":\"Osmanabad\",\"marker\":{\"color\":\"#EF553B\",\"pattern\":{\"shape\":\"\"}},\"name\":\"Osmanabad\",\"offsetgroup\":\"Osmanabad\",\"orientation\":\"v\",\"showlegend\":true,\"textposition\":\"auto\",\"x\":[\"Osmanabad\"],\"xaxis\":\"x\",\"y\":[75083],\"yaxis\":\"y\",\"type\":\"bar\"},{\"alignmentgroup\":\"True\",\"hovertemplate\":\"Districts=%{x}<br>Positive Cases=%{y}<extra></extra>\",\"legendgroup\":\"Palghar\",\"marker\":{\"color\":\"#00cc96\",\"pattern\":{\"shape\":\"\"}},\"name\":\"Palghar\",\"offsetgroup\":\"Palghar\",\"orientation\":\"v\",\"showlegend\":true,\"textposition\":\"auto\",\"x\":[\"Palghar\"],\"xaxis\":\"x\",\"y\":[163402],\"yaxis\":\"y\",\"type\":\"bar\"},{\"alignmentgroup\":\"True\",\"hovertemplate\":\"Districts=%{x}<br>Positive Cases=%{y}<extra></extra>\",\"legendgroup\":\"Parbhani\",\"marker\":{\"color\":\"#ab63fa\",\"pattern\":{\"shape\":\"\"}},\"name\":\"Parbhani\",\"offsetgroup\":\"Parbhani\",\"orientation\":\"v\",\"showlegend\":true,\"textposition\":\"auto\",\"x\":[\"Parbhani\"],\"xaxis\":\"x\",\"y\":[58507],\"yaxis\":\"y\",\"type\":\"bar\"},{\"alignmentgroup\":\"True\",\"hovertemplate\":\"Districts=%{x}<br>Positive Cases=%{y}<extra></extra>\",\"legendgroup\":\"Pune\",\"marker\":{\"color\":\"#FFA15A\",\"pattern\":{\"shape\":\"\"}},\"name\":\"Pune\",\"offsetgroup\":\"Pune\",\"orientation\":\"v\",\"showlegend\":true,\"textposition\":\"auto\",\"x\":[\"Pune\"],\"xaxis\":\"x\",\"y\":[1450390],\"yaxis\":\"y\",\"type\":\"bar\"},{\"alignmentgroup\":\"True\",\"hovertemplate\":\"Districts=%{x}<br>Positive Cases=%{y}<extra></extra>\",\"legendgroup\":\"Raigad\",\"marker\":{\"color\":\"#19d3f3\",\"pattern\":{\"shape\":\"\"}},\"name\":\"Raigad\",\"offsetgroup\":\"Raigad\",\"orientation\":\"v\",\"showlegend\":true,\"textposition\":\"auto\",\"x\":[\"Raigad\"],\"xaxis\":\"x\",\"y\":[244158],\"yaxis\":\"y\",\"type\":\"bar\"},{\"alignmentgroup\":\"True\",\"hovertemplate\":\"Districts=%{x}<br>Positive Cases=%{y}<extra></extra>\",\"legendgroup\":\"Ratnagiri\",\"marker\":{\"color\":\"#FF6692\",\"pattern\":{\"shape\":\"\"}},\"name\":\"Ratnagiri\",\"offsetgroup\":\"Ratnagiri\",\"orientation\":\"v\",\"showlegend\":true,\"textposition\":\"auto\",\"x\":[\"Ratnagiri\"],\"xaxis\":\"x\",\"y\":[84383],\"yaxis\":\"y\",\"type\":\"bar\"},{\"alignmentgroup\":\"True\",\"hovertemplate\":\"Districts=%{x}<br>Positive Cases=%{y}<extra></extra>\",\"legendgroup\":\"Sangli\",\"marker\":{\"color\":\"#B6E880\",\"pattern\":{\"shape\":\"\"}},\"name\":\"Sangli\",\"offsetgroup\":\"Sangli\",\"orientation\":\"v\",\"showlegend\":true,\"textposition\":\"auto\",\"x\":[\"Sangli\"],\"xaxis\":\"x\",\"y\":[226945],\"yaxis\":\"y\",\"type\":\"bar\"},{\"alignmentgroup\":\"True\",\"hovertemplate\":\"Districts=%{x}<br>Positive Cases=%{y}<extra></extra>\",\"legendgroup\":\"Satara\",\"marker\":{\"color\":\"#FF97FF\",\"pattern\":{\"shape\":\"\"}},\"name\":\"Satara\",\"offsetgroup\":\"Satara\",\"orientation\":\"v\",\"showlegend\":true,\"textposition\":\"auto\",\"x\":[\"Satara\"],\"xaxis\":\"x\",\"y\":[278046],\"yaxis\":\"y\",\"type\":\"bar\"},{\"alignmentgroup\":\"True\",\"hovertemplate\":\"Districts=%{x}<br>Positive Cases=%{y}<extra></extra>\",\"legendgroup\":\"Sindhudurg\",\"marker\":{\"color\":\"#FECB52\",\"pattern\":{\"shape\":\"\"}},\"name\":\"Sindhudurg\",\"offsetgroup\":\"Sindhudurg\",\"orientation\":\"v\",\"showlegend\":true,\"textposition\":\"auto\",\"x\":[\"Sindhudurg\"],\"xaxis\":\"x\",\"y\":[57125],\"yaxis\":\"y\",\"type\":\"bar\"},{\"alignmentgroup\":\"True\",\"hovertemplate\":\"Districts=%{x}<br>Positive Cases=%{y}<extra></extra>\",\"legendgroup\":\"Solapur\",\"marker\":{\"color\":\"#636efa\",\"pattern\":{\"shape\":\"\"}},\"name\":\"Solapur\",\"offsetgroup\":\"Solapur\",\"orientation\":\"v\",\"showlegend\":true,\"textposition\":\"auto\",\"x\":[\"Solapur\"],\"xaxis\":\"x\",\"y\":[226968],\"yaxis\":\"y\",\"type\":\"bar\"},{\"alignmentgroup\":\"True\",\"hovertemplate\":\"Districts=%{x}<br>Positive Cases=%{y}<extra></extra>\",\"legendgroup\":\"Thane\",\"marker\":{\"color\":\"#EF553B\",\"pattern\":{\"shape\":\"\"}},\"name\":\"Thane\",\"offsetgroup\":\"Thane\",\"orientation\":\"v\",\"showlegend\":true,\"textposition\":\"auto\",\"x\":[\"Thane\"],\"xaxis\":\"x\",\"y\":[766202],\"yaxis\":\"y\",\"type\":\"bar\"},{\"alignmentgroup\":\"True\",\"hovertemplate\":\"Districts=%{x}<br>Positive Cases=%{y}<extra></extra>\",\"legendgroup\":\"Wardha\",\"marker\":{\"color\":\"#00cc96\",\"pattern\":{\"shape\":\"\"}},\"name\":\"Wardha\",\"offsetgroup\":\"Wardha\",\"orientation\":\"v\",\"showlegend\":true,\"textposition\":\"auto\",\"x\":[\"Wardha\"],\"xaxis\":\"x\",\"y\":[65656],\"yaxis\":\"y\",\"type\":\"bar\"},{\"alignmentgroup\":\"True\",\"hovertemplate\":\"Districts=%{x}<br>Positive Cases=%{y}<extra></extra>\",\"legendgroup\":\"Washim\",\"marker\":{\"color\":\"#ab63fa\",\"pattern\":{\"shape\":\"\"}},\"name\":\"Washim\",\"offsetgroup\":\"Washim\",\"orientation\":\"v\",\"showlegend\":true,\"textposition\":\"auto\",\"x\":[\"Washim\"],\"xaxis\":\"x\",\"y\":[45592],\"yaxis\":\"y\",\"type\":\"bar\"},{\"alignmentgroup\":\"True\",\"hovertemplate\":\"Districts=%{x}<br>Positive Cases=%{y}<extra></extra>\",\"legendgroup\":\"Yavatmal\",\"marker\":{\"color\":\"#FFA15A\",\"pattern\":{\"shape\":\"\"}},\"name\":\"Yavatmal\",\"offsetgroup\":\"Yavatmal\",\"orientation\":\"v\",\"showlegend\":true,\"textposition\":\"auto\",\"x\":[\"Yavatmal\"],\"xaxis\":\"x\",\"y\":[81972],\"yaxis\":\"y\",\"type\":\"bar\"}],                        {\"template\":{\"data\":{\"bar\":[{\"error_x\":{\"color\":\"#2a3f5f\"},\"error_y\":{\"color\":\"#2a3f5f\"},\"marker\":{\"line\":{\"color\":\"#E5ECF6\",\"width\":0.5},\"pattern\":{\"fillmode\":\"overlay\",\"size\":10,\"solidity\":0.2}},\"type\":\"bar\"}],\"barpolar\":[{\"marker\":{\"line\":{\"color\":\"#E5ECF6\",\"width\":0.5},\"pattern\":{\"fillmode\":\"overlay\",\"size\":10,\"solidity\":0.2}},\"type\":\"barpolar\"}],\"carpet\":[{\"aaxis\":{\"endlinecolor\":\"#2a3f5f\",\"gridcolor\":\"white\",\"linecolor\":\"white\",\"minorgridcolor\":\"white\",\"startlinecolor\":\"#2a3f5f\"},\"baxis\":{\"endlinecolor\":\"#2a3f5f\",\"gridcolor\":\"white\",\"linecolor\":\"white\",\"minorgridcolor\":\"white\",\"startlinecolor\":\"#2a3f5f\"},\"type\":\"carpet\"}],\"choropleth\":[{\"colorbar\":{\"outlinewidth\":0,\"ticks\":\"\"},\"type\":\"choropleth\"}],\"contour\":[{\"colorbar\":{\"outlinewidth\":0,\"ticks\":\"\"},\"colorscale\":[[0.0,\"#0d0887\"],[0.1111111111111111,\"#46039f\"],[0.2222222222222222,\"#7201a8\"],[0.3333333333333333,\"#9c179e\"],[0.4444444444444444,\"#bd3786\"],[0.5555555555555556,\"#d8576b\"],[0.6666666666666666,\"#ed7953\"],[0.7777777777777778,\"#fb9f3a\"],[0.8888888888888888,\"#fdca26\"],[1.0,\"#f0f921\"]],\"type\":\"contour\"}],\"contourcarpet\":[{\"colorbar\":{\"outlinewidth\":0,\"ticks\":\"\"},\"type\":\"contourcarpet\"}],\"heatmap\":[{\"colorbar\":{\"outlinewidth\":0,\"ticks\":\"\"},\"colorscale\":[[0.0,\"#0d0887\"],[0.1111111111111111,\"#46039f\"],[0.2222222222222222,\"#7201a8\"],[0.3333333333333333,\"#9c179e\"],[0.4444444444444444,\"#bd3786\"],[0.5555555555555556,\"#d8576b\"],[0.6666666666666666,\"#ed7953\"],[0.7777777777777778,\"#fb9f3a\"],[0.8888888888888888,\"#fdca26\"],[1.0,\"#f0f921\"]],\"type\":\"heatmap\"}],\"heatmapgl\":[{\"colorbar\":{\"outlinewidth\":0,\"ticks\":\"\"},\"colorscale\":[[0.0,\"#0d0887\"],[0.1111111111111111,\"#46039f\"],[0.2222222222222222,\"#7201a8\"],[0.3333333333333333,\"#9c179e\"],[0.4444444444444444,\"#bd3786\"],[0.5555555555555556,\"#d8576b\"],[0.6666666666666666,\"#ed7953\"],[0.7777777777777778,\"#fb9f3a\"],[0.8888888888888888,\"#fdca26\"],[1.0,\"#f0f921\"]],\"type\":\"heatmapgl\"}],\"histogram\":[{\"marker\":{\"pattern\":{\"fillmode\":\"overlay\",\"size\":10,\"solidity\":0.2}},\"type\":\"histogram\"}],\"histogram2d\":[{\"colorbar\":{\"outlinewidth\":0,\"ticks\":\"\"},\"colorscale\":[[0.0,\"#0d0887\"],[0.1111111111111111,\"#46039f\"],[0.2222222222222222,\"#7201a8\"],[0.3333333333333333,\"#9c179e\"],[0.4444444444444444,\"#bd3786\"],[0.5555555555555556,\"#d8576b\"],[0.6666666666666666,\"#ed7953\"],[0.7777777777777778,\"#fb9f3a\"],[0.8888888888888888,\"#fdca26\"],[1.0,\"#f0f921\"]],\"type\":\"histogram2d\"}],\"histogram2dcontour\":[{\"colorbar\":{\"outlinewidth\":0,\"ticks\":\"\"},\"colorscale\":[[0.0,\"#0d0887\"],[0.1111111111111111,\"#46039f\"],[0.2222222222222222,\"#7201a8\"],[0.3333333333333333,\"#9c179e\"],[0.4444444444444444,\"#bd3786\"],[0.5555555555555556,\"#d8576b\"],[0.6666666666666666,\"#ed7953\"],[0.7777777777777778,\"#fb9f3a\"],[0.8888888888888888,\"#fdca26\"],[1.0,\"#f0f921\"]],\"type\":\"histogram2dcontour\"}],\"mesh3d\":[{\"colorbar\":{\"outlinewidth\":0,\"ticks\":\"\"},\"type\":\"mesh3d\"}],\"parcoords\":[{\"line\":{\"colorbar\":{\"outlinewidth\":0,\"ticks\":\"\"}},\"type\":\"parcoords\"}],\"pie\":[{\"automargin\":true,\"type\":\"pie\"}],\"scatter\":[{\"marker\":{\"colorbar\":{\"outlinewidth\":0,\"ticks\":\"\"}},\"type\":\"scatter\"}],\"scatter3d\":[{\"line\":{\"colorbar\":{\"outlinewidth\":0,\"ticks\":\"\"}},\"marker\":{\"colorbar\":{\"outlinewidth\":0,\"ticks\":\"\"}},\"type\":\"scatter3d\"}],\"scattercarpet\":[{\"marker\":{\"colorbar\":{\"outlinewidth\":0,\"ticks\":\"\"}},\"type\":\"scattercarpet\"}],\"scattergeo\":[{\"marker\":{\"colorbar\":{\"outlinewidth\":0,\"ticks\":\"\"}},\"type\":\"scattergeo\"}],\"scattergl\":[{\"marker\":{\"colorbar\":{\"outlinewidth\":0,\"ticks\":\"\"}},\"type\":\"scattergl\"}],\"scattermapbox\":[{\"marker\":{\"colorbar\":{\"outlinewidth\":0,\"ticks\":\"\"}},\"type\":\"scattermapbox\"}],\"scatterpolar\":[{\"marker\":{\"colorbar\":{\"outlinewidth\":0,\"ticks\":\"\"}},\"type\":\"scatterpolar\"}],\"scatterpolargl\":[{\"marker\":{\"colorbar\":{\"outlinewidth\":0,\"ticks\":\"\"}},\"type\":\"scatterpolargl\"}],\"scatterternary\":[{\"marker\":{\"colorbar\":{\"outlinewidth\":0,\"ticks\":\"\"}},\"type\":\"scatterternary\"}],\"surface\":[{\"colorbar\":{\"outlinewidth\":0,\"ticks\":\"\"},\"colorscale\":[[0.0,\"#0d0887\"],[0.1111111111111111,\"#46039f\"],[0.2222222222222222,\"#7201a8\"],[0.3333333333333333,\"#9c179e\"],[0.4444444444444444,\"#bd3786\"],[0.5555555555555556,\"#d8576b\"],[0.6666666666666666,\"#ed7953\"],[0.7777777777777778,\"#fb9f3a\"],[0.8888888888888888,\"#fdca26\"],[1.0,\"#f0f921\"]],\"type\":\"surface\"}],\"table\":[{\"cells\":{\"fill\":{\"color\":\"#EBF0F8\"},\"line\":{\"color\":\"white\"}},\"header\":{\"fill\":{\"color\":\"#C8D4E3\"},\"line\":{\"color\":\"white\"}},\"type\":\"table\"}]},\"layout\":{\"annotationdefaults\":{\"arrowcolor\":\"#2a3f5f\",\"arrowhead\":0,\"arrowwidth\":1},\"autotypenumbers\":\"strict\",\"coloraxis\":{\"colorbar\":{\"outlinewidth\":0,\"ticks\":\"\"}},\"colorscale\":{\"diverging\":[[0,\"#8e0152\"],[0.1,\"#c51b7d\"],[0.2,\"#de77ae\"],[0.3,\"#f1b6da\"],[0.4,\"#fde0ef\"],[0.5,\"#f7f7f7\"],[0.6,\"#e6f5d0\"],[0.7,\"#b8e186\"],[0.8,\"#7fbc41\"],[0.9,\"#4d9221\"],[1,\"#276419\"]],\"sequential\":[[0.0,\"#0d0887\"],[0.1111111111111111,\"#46039f\"],[0.2222222222222222,\"#7201a8\"],[0.3333333333333333,\"#9c179e\"],[0.4444444444444444,\"#bd3786\"],[0.5555555555555556,\"#d8576b\"],[0.6666666666666666,\"#ed7953\"],[0.7777777777777778,\"#fb9f3a\"],[0.8888888888888888,\"#fdca26\"],[1.0,\"#f0f921\"]],\"sequentialminus\":[[0.0,\"#0d0887\"],[0.1111111111111111,\"#46039f\"],[0.2222222222222222,\"#7201a8\"],[0.3333333333333333,\"#9c179e\"],[0.4444444444444444,\"#bd3786\"],[0.5555555555555556,\"#d8576b\"],[0.6666666666666666,\"#ed7953\"],[0.7777777777777778,\"#fb9f3a\"],[0.8888888888888888,\"#fdca26\"],[1.0,\"#f0f921\"]]},\"colorway\":[\"#636efa\",\"#EF553B\",\"#00cc96\",\"#ab63fa\",\"#FFA15A\",\"#19d3f3\",\"#FF6692\",\"#B6E880\",\"#FF97FF\",\"#FECB52\"],\"font\":{\"color\":\"#2a3f5f\"},\"geo\":{\"bgcolor\":\"white\",\"lakecolor\":\"white\",\"landcolor\":\"#E5ECF6\",\"showlakes\":true,\"showland\":true,\"subunitcolor\":\"white\"},\"hoverlabel\":{\"align\":\"left\"},\"hovermode\":\"closest\",\"mapbox\":{\"style\":\"light\"},\"paper_bgcolor\":\"white\",\"plot_bgcolor\":\"#E5ECF6\",\"polar\":{\"angularaxis\":{\"gridcolor\":\"white\",\"linecolor\":\"white\",\"ticks\":\"\"},\"bgcolor\":\"#E5ECF6\",\"radialaxis\":{\"gridcolor\":\"white\",\"linecolor\":\"white\",\"ticks\":\"\"}},\"scene\":{\"xaxis\":{\"backgroundcolor\":\"#E5ECF6\",\"gridcolor\":\"white\",\"gridwidth\":2,\"linecolor\":\"white\",\"showbackground\":true,\"ticks\":\"\",\"zerolinecolor\":\"white\"},\"yaxis\":{\"backgroundcolor\":\"#E5ECF6\",\"gridcolor\":\"white\",\"gridwidth\":2,\"linecolor\":\"white\",\"showbackground\":true,\"ticks\":\"\",\"zerolinecolor\":\"white\"},\"zaxis\":{\"backgroundcolor\":\"#E5ECF6\",\"gridcolor\":\"white\",\"gridwidth\":2,\"linecolor\":\"white\",\"showbackground\":true,\"ticks\":\"\",\"zerolinecolor\":\"white\"}},\"shapedefaults\":{\"line\":{\"color\":\"#2a3f5f\"}},\"ternary\":{\"aaxis\":{\"gridcolor\":\"white\",\"linecolor\":\"white\",\"ticks\":\"\"},\"baxis\":{\"gridcolor\":\"white\",\"linecolor\":\"white\",\"ticks\":\"\"},\"bgcolor\":\"#E5ECF6\",\"caxis\":{\"gridcolor\":\"white\",\"linecolor\":\"white\",\"ticks\":\"\"}},\"title\":{\"x\":0.05},\"xaxis\":{\"automargin\":true,\"gridcolor\":\"white\",\"linecolor\":\"white\",\"ticks\":\"\",\"title\":{\"standoff\":15},\"zerolinecolor\":\"white\",\"zerolinewidth\":2},\"yaxis\":{\"automargin\":true,\"gridcolor\":\"white\",\"linecolor\":\"white\",\"ticks\":\"\",\"title\":{\"standoff\":15},\"zerolinecolor\":\"white\",\"zerolinewidth\":2}}},\"xaxis\":{\"anchor\":\"y\",\"domain\":[0.0,1.0],\"title\":{\"text\":\"Districts\"},\"categoryorder\":\"array\",\"categoryarray\":[\"Ahmednagar\",\"Akola\",\"Amravati\",\"Aurangabad\",\"Beed\",\"Bhandara\",\"Buldhana\",\"Chandrapur\",\"Dhule\",\"Gadchiroli\",\"Gondia\",\"Hingoli\",\"Jalgaon\",\"Jalna\",\"Kolhapur\",\"Latur\",\"Mumbai\",\"Nagpur\",\"Nanded\",\"Nandurbar\",\"Nashik\",\"Osmanabad\",\"Palghar\",\"Parbhani\",\"Pune\",\"Raigad\",\"Ratnagiri\",\"Sangli\",\"Satara\",\"Sindhudurg\",\"Solapur\",\"Thane\",\"Wardha\",\"Washim\",\"Yavatmal\"]},\"yaxis\":{\"anchor\":\"x\",\"domain\":[0.0,1.0],\"title\":{\"text\":\"Positive Cases\"}},\"legend\":{\"title\":{\"text\":\"Districts\"},\"tracegroupgap\":0},\"title\":{\"text\":\"Total Positive cases in Maharashtra Districtwise\"},\"barmode\":\"relative\"},                        {\"responsive\": true}                    ).then(function(){\n",
       "                            \n",
       "var gd = document.getElementById('eeef122e-159f-458d-99e6-4682ab6992f5');\n",
       "var x = new MutationObserver(function (mutations, observer) {{\n",
       "        var display = window.getComputedStyle(gd).display;\n",
       "        if (!display || display === 'none') {{\n",
       "            console.log([gd, 'removed!']);\n",
       "            Plotly.purge(gd);\n",
       "            observer.disconnect();\n",
       "        }}\n",
       "}});\n",
       "\n",
       "// Listen for the removal of the full notebook cells\n",
       "var notebookContainer = gd.closest('#notebook-container');\n",
       "if (notebookContainer) {{\n",
       "    x.observe(notebookContainer, {childList: true});\n",
       "}}\n",
       "\n",
       "// Listen for the clearing of the current output cell\n",
       "var outputEl = gd.closest('.output');\n",
       "if (outputEl) {{\n",
       "    x.observe(outputEl, {childList: true});\n",
       "}}\n",
       "\n",
       "                        })                };                });            </script>        </div>"
      ]
     },
     "metadata": {},
     "output_type": "display_data"
    }
   ],
   "source": [
    "fig=px.bar(dataframe,x=\"Districts\",y=\"Positive Cases\",title=\"Total Positive cases in Maharashtra Districtwise\",color='Districts')\n",
    "fig.show()"
   ]
  },
  {
   "cell_type": "code",
   "execution_count": 48,
   "metadata": {},
   "outputs": [
    {
     "data": {
      "application/vnd.plotly.v1+json": {
       "config": {
        "plotlyServerURL": "https://plot.ly"
       },
       "data": [
        {
         "customdata": [
          [
           "Ahmednagar"
          ],
          [
           "Akola"
          ],
          [
           "Amravati"
          ],
          [
           "Aurangabad"
          ],
          [
           "Beed"
          ],
          [
           "Bhandara"
          ],
          [
           "Buldhana"
          ],
          [
           "Chandrapur"
          ],
          [
           "Dhule"
          ],
          [
           "Gadchiroli"
          ],
          [
           "Gondia"
          ],
          [
           "Hingoli"
          ],
          [
           "Jalgaon"
          ],
          [
           "Jalna"
          ],
          [
           "Kolhapur"
          ],
          [
           "Latur"
          ],
          [
           "Mumbai"
          ],
          [
           "Nagpur"
          ],
          [
           "Nanded"
          ],
          [
           "Nandurbar"
          ],
          [
           "Nashik"
          ],
          [
           "Osmanabad"
          ],
          [
           "Palghar"
          ],
          [
           "Parbhani"
          ],
          [
           "Pune"
          ],
          [
           "Raigad"
          ],
          [
           "Ratnagiri"
          ],
          [
           "Sangli"
          ],
          [
           "Satara"
          ],
          [
           "Sindhudurg"
          ],
          [
           "Solapur"
          ],
          [
           "Thane"
          ],
          [
           "Wardha"
          ],
          [
           "Washim"
          ],
          [
           "Yavatmal"
          ]
         ],
         "domain": {
          "x": [
           0,
           1
          ],
          "y": [
           0,
           1
          ]
         },
         "hovertemplate": "Districts=%{customdata[0]}<br>Positive Cases=%{value}<extra></extra>",
         "labels": [
          "Ahmednagar",
          "Akola",
          "Amravati",
          "Aurangabad",
          "Beed",
          "Bhandara",
          "Buldhana",
          "Chandrapur",
          "Dhule",
          "Gadchiroli",
          "Gondia",
          "Hingoli",
          "Jalgaon",
          "Jalna",
          "Kolhapur",
          "Latur",
          "Mumbai",
          "Nagpur",
          "Nanded",
          "Nandurbar",
          "Nashik",
          "Osmanabad",
          "Palghar",
          "Parbhani",
          "Pune",
          "Raigad",
          "Ratnagiri",
          "Sangli",
          "Satara",
          "Sindhudurg",
          "Solapur",
          "Thane",
          "Wardha",
          "Washim",
          "Yavatmal"
         ],
         "legendgroup": "",
         "marker": {
          "colors": [
           "#636efa",
           "#EF553B",
           "#00cc96",
           "#ab63fa",
           "#FFA15A",
           "#19d3f3",
           "#FF6692",
           "#B6E880",
           "#FF97FF",
           "#FECB52",
           "#636efa",
           "#EF553B",
           "#00cc96",
           "#ab63fa",
           "#FFA15A",
           "#19d3f3",
           "#FF6692",
           "#B6E880",
           "#FF97FF",
           "#FECB52",
           "#636efa",
           "#EF553B",
           "#00cc96",
           "#ab63fa",
           "#FFA15A",
           "#19d3f3",
           "#FF6692",
           "#B6E880",
           "#FF97FF",
           "#FECB52",
           "#636efa",
           "#EF553B",
           "#00cc96",
           "#ab63fa",
           "#FFA15A"
          ]
         },
         "name": "",
         "showlegend": true,
         "type": "pie",
         "values": [
          376964,
          66135,
          105909,
          176264,
          109067,
          67919,
          91792,
          98793,
          50637,
          36929,
          45387,
          22164,
          149454,
          66296,
          220400,
          104879,
          1055811,
          576191,
          102626,
          46590,
          472611,
          75083,
          163402,
          58507,
          1450390,
          244158,
          84383,
          226945,
          278046,
          57125,
          226968,
          766202,
          65656,
          45592,
          81972
         ]
        }
       ],
       "layout": {
        "legend": {
         "tracegroupgap": 0
        },
        "template": {
         "data": {
          "bar": [
           {
            "error_x": {
             "color": "#2a3f5f"
            },
            "error_y": {
             "color": "#2a3f5f"
            },
            "marker": {
             "line": {
              "color": "#E5ECF6",
              "width": 0.5
             },
             "pattern": {
              "fillmode": "overlay",
              "size": 10,
              "solidity": 0.2
             }
            },
            "type": "bar"
           }
          ],
          "barpolar": [
           {
            "marker": {
             "line": {
              "color": "#E5ECF6",
              "width": 0.5
             },
             "pattern": {
              "fillmode": "overlay",
              "size": 10,
              "solidity": 0.2
             }
            },
            "type": "barpolar"
           }
          ],
          "carpet": [
           {
            "aaxis": {
             "endlinecolor": "#2a3f5f",
             "gridcolor": "white",
             "linecolor": "white",
             "minorgridcolor": "white",
             "startlinecolor": "#2a3f5f"
            },
            "baxis": {
             "endlinecolor": "#2a3f5f",
             "gridcolor": "white",
             "linecolor": "white",
             "minorgridcolor": "white",
             "startlinecolor": "#2a3f5f"
            },
            "type": "carpet"
           }
          ],
          "choropleth": [
           {
            "colorbar": {
             "outlinewidth": 0,
             "ticks": ""
            },
            "type": "choropleth"
           }
          ],
          "contour": [
           {
            "colorbar": {
             "outlinewidth": 0,
             "ticks": ""
            },
            "colorscale": [
             [
              0,
              "#0d0887"
             ],
             [
              0.1111111111111111,
              "#46039f"
             ],
             [
              0.2222222222222222,
              "#7201a8"
             ],
             [
              0.3333333333333333,
              "#9c179e"
             ],
             [
              0.4444444444444444,
              "#bd3786"
             ],
             [
              0.5555555555555556,
              "#d8576b"
             ],
             [
              0.6666666666666666,
              "#ed7953"
             ],
             [
              0.7777777777777778,
              "#fb9f3a"
             ],
             [
              0.8888888888888888,
              "#fdca26"
             ],
             [
              1,
              "#f0f921"
             ]
            ],
            "type": "contour"
           }
          ],
          "contourcarpet": [
           {
            "colorbar": {
             "outlinewidth": 0,
             "ticks": ""
            },
            "type": "contourcarpet"
           }
          ],
          "heatmap": [
           {
            "colorbar": {
             "outlinewidth": 0,
             "ticks": ""
            },
            "colorscale": [
             [
              0,
              "#0d0887"
             ],
             [
              0.1111111111111111,
              "#46039f"
             ],
             [
              0.2222222222222222,
              "#7201a8"
             ],
             [
              0.3333333333333333,
              "#9c179e"
             ],
             [
              0.4444444444444444,
              "#bd3786"
             ],
             [
              0.5555555555555556,
              "#d8576b"
             ],
             [
              0.6666666666666666,
              "#ed7953"
             ],
             [
              0.7777777777777778,
              "#fb9f3a"
             ],
             [
              0.8888888888888888,
              "#fdca26"
             ],
             [
              1,
              "#f0f921"
             ]
            ],
            "type": "heatmap"
           }
          ],
          "heatmapgl": [
           {
            "colorbar": {
             "outlinewidth": 0,
             "ticks": ""
            },
            "colorscale": [
             [
              0,
              "#0d0887"
             ],
             [
              0.1111111111111111,
              "#46039f"
             ],
             [
              0.2222222222222222,
              "#7201a8"
             ],
             [
              0.3333333333333333,
              "#9c179e"
             ],
             [
              0.4444444444444444,
              "#bd3786"
             ],
             [
              0.5555555555555556,
              "#d8576b"
             ],
             [
              0.6666666666666666,
              "#ed7953"
             ],
             [
              0.7777777777777778,
              "#fb9f3a"
             ],
             [
              0.8888888888888888,
              "#fdca26"
             ],
             [
              1,
              "#f0f921"
             ]
            ],
            "type": "heatmapgl"
           }
          ],
          "histogram": [
           {
            "marker": {
             "pattern": {
              "fillmode": "overlay",
              "size": 10,
              "solidity": 0.2
             }
            },
            "type": "histogram"
           }
          ],
          "histogram2d": [
           {
            "colorbar": {
             "outlinewidth": 0,
             "ticks": ""
            },
            "colorscale": [
             [
              0,
              "#0d0887"
             ],
             [
              0.1111111111111111,
              "#46039f"
             ],
             [
              0.2222222222222222,
              "#7201a8"
             ],
             [
              0.3333333333333333,
              "#9c179e"
             ],
             [
              0.4444444444444444,
              "#bd3786"
             ],
             [
              0.5555555555555556,
              "#d8576b"
             ],
             [
              0.6666666666666666,
              "#ed7953"
             ],
             [
              0.7777777777777778,
              "#fb9f3a"
             ],
             [
              0.8888888888888888,
              "#fdca26"
             ],
             [
              1,
              "#f0f921"
             ]
            ],
            "type": "histogram2d"
           }
          ],
          "histogram2dcontour": [
           {
            "colorbar": {
             "outlinewidth": 0,
             "ticks": ""
            },
            "colorscale": [
             [
              0,
              "#0d0887"
             ],
             [
              0.1111111111111111,
              "#46039f"
             ],
             [
              0.2222222222222222,
              "#7201a8"
             ],
             [
              0.3333333333333333,
              "#9c179e"
             ],
             [
              0.4444444444444444,
              "#bd3786"
             ],
             [
              0.5555555555555556,
              "#d8576b"
             ],
             [
              0.6666666666666666,
              "#ed7953"
             ],
             [
              0.7777777777777778,
              "#fb9f3a"
             ],
             [
              0.8888888888888888,
              "#fdca26"
             ],
             [
              1,
              "#f0f921"
             ]
            ],
            "type": "histogram2dcontour"
           }
          ],
          "mesh3d": [
           {
            "colorbar": {
             "outlinewidth": 0,
             "ticks": ""
            },
            "type": "mesh3d"
           }
          ],
          "parcoords": [
           {
            "line": {
             "colorbar": {
              "outlinewidth": 0,
              "ticks": ""
             }
            },
            "type": "parcoords"
           }
          ],
          "pie": [
           {
            "automargin": true,
            "type": "pie"
           }
          ],
          "scatter": [
           {
            "marker": {
             "colorbar": {
              "outlinewidth": 0,
              "ticks": ""
             }
            },
            "type": "scatter"
           }
          ],
          "scatter3d": [
           {
            "line": {
             "colorbar": {
              "outlinewidth": 0,
              "ticks": ""
             }
            },
            "marker": {
             "colorbar": {
              "outlinewidth": 0,
              "ticks": ""
             }
            },
            "type": "scatter3d"
           }
          ],
          "scattercarpet": [
           {
            "marker": {
             "colorbar": {
              "outlinewidth": 0,
              "ticks": ""
             }
            },
            "type": "scattercarpet"
           }
          ],
          "scattergeo": [
           {
            "marker": {
             "colorbar": {
              "outlinewidth": 0,
              "ticks": ""
             }
            },
            "type": "scattergeo"
           }
          ],
          "scattergl": [
           {
            "marker": {
             "colorbar": {
              "outlinewidth": 0,
              "ticks": ""
             }
            },
            "type": "scattergl"
           }
          ],
          "scattermapbox": [
           {
            "marker": {
             "colorbar": {
              "outlinewidth": 0,
              "ticks": ""
             }
            },
            "type": "scattermapbox"
           }
          ],
          "scatterpolar": [
           {
            "marker": {
             "colorbar": {
              "outlinewidth": 0,
              "ticks": ""
             }
            },
            "type": "scatterpolar"
           }
          ],
          "scatterpolargl": [
           {
            "marker": {
             "colorbar": {
              "outlinewidth": 0,
              "ticks": ""
             }
            },
            "type": "scatterpolargl"
           }
          ],
          "scatterternary": [
           {
            "marker": {
             "colorbar": {
              "outlinewidth": 0,
              "ticks": ""
             }
            },
            "type": "scatterternary"
           }
          ],
          "surface": [
           {
            "colorbar": {
             "outlinewidth": 0,
             "ticks": ""
            },
            "colorscale": [
             [
              0,
              "#0d0887"
             ],
             [
              0.1111111111111111,
              "#46039f"
             ],
             [
              0.2222222222222222,
              "#7201a8"
             ],
             [
              0.3333333333333333,
              "#9c179e"
             ],
             [
              0.4444444444444444,
              "#bd3786"
             ],
             [
              0.5555555555555556,
              "#d8576b"
             ],
             [
              0.6666666666666666,
              "#ed7953"
             ],
             [
              0.7777777777777778,
              "#fb9f3a"
             ],
             [
              0.8888888888888888,
              "#fdca26"
             ],
             [
              1,
              "#f0f921"
             ]
            ],
            "type": "surface"
           }
          ],
          "table": [
           {
            "cells": {
             "fill": {
              "color": "#EBF0F8"
             },
             "line": {
              "color": "white"
             }
            },
            "header": {
             "fill": {
              "color": "#C8D4E3"
             },
             "line": {
              "color": "white"
             }
            },
            "type": "table"
           }
          ]
         },
         "layout": {
          "annotationdefaults": {
           "arrowcolor": "#2a3f5f",
           "arrowhead": 0,
           "arrowwidth": 1
          },
          "autotypenumbers": "strict",
          "coloraxis": {
           "colorbar": {
            "outlinewidth": 0,
            "ticks": ""
           }
          },
          "colorscale": {
           "diverging": [
            [
             0,
             "#8e0152"
            ],
            [
             0.1,
             "#c51b7d"
            ],
            [
             0.2,
             "#de77ae"
            ],
            [
             0.3,
             "#f1b6da"
            ],
            [
             0.4,
             "#fde0ef"
            ],
            [
             0.5,
             "#f7f7f7"
            ],
            [
             0.6,
             "#e6f5d0"
            ],
            [
             0.7,
             "#b8e186"
            ],
            [
             0.8,
             "#7fbc41"
            ],
            [
             0.9,
             "#4d9221"
            ],
            [
             1,
             "#276419"
            ]
           ],
           "sequential": [
            [
             0,
             "#0d0887"
            ],
            [
             0.1111111111111111,
             "#46039f"
            ],
            [
             0.2222222222222222,
             "#7201a8"
            ],
            [
             0.3333333333333333,
             "#9c179e"
            ],
            [
             0.4444444444444444,
             "#bd3786"
            ],
            [
             0.5555555555555556,
             "#d8576b"
            ],
            [
             0.6666666666666666,
             "#ed7953"
            ],
            [
             0.7777777777777778,
             "#fb9f3a"
            ],
            [
             0.8888888888888888,
             "#fdca26"
            ],
            [
             1,
             "#f0f921"
            ]
           ],
           "sequentialminus": [
            [
             0,
             "#0d0887"
            ],
            [
             0.1111111111111111,
             "#46039f"
            ],
            [
             0.2222222222222222,
             "#7201a8"
            ],
            [
             0.3333333333333333,
             "#9c179e"
            ],
            [
             0.4444444444444444,
             "#bd3786"
            ],
            [
             0.5555555555555556,
             "#d8576b"
            ],
            [
             0.6666666666666666,
             "#ed7953"
            ],
            [
             0.7777777777777778,
             "#fb9f3a"
            ],
            [
             0.8888888888888888,
             "#fdca26"
            ],
            [
             1,
             "#f0f921"
            ]
           ]
          },
          "colorway": [
           "#636efa",
           "#EF553B",
           "#00cc96",
           "#ab63fa",
           "#FFA15A",
           "#19d3f3",
           "#FF6692",
           "#B6E880",
           "#FF97FF",
           "#FECB52"
          ],
          "font": {
           "color": "#2a3f5f"
          },
          "geo": {
           "bgcolor": "white",
           "lakecolor": "white",
           "landcolor": "#E5ECF6",
           "showlakes": true,
           "showland": true,
           "subunitcolor": "white"
          },
          "hoverlabel": {
           "align": "left"
          },
          "hovermode": "closest",
          "mapbox": {
           "style": "light"
          },
          "paper_bgcolor": "white",
          "plot_bgcolor": "#E5ECF6",
          "polar": {
           "angularaxis": {
            "gridcolor": "white",
            "linecolor": "white",
            "ticks": ""
           },
           "bgcolor": "#E5ECF6",
           "radialaxis": {
            "gridcolor": "white",
            "linecolor": "white",
            "ticks": ""
           }
          },
          "scene": {
           "xaxis": {
            "backgroundcolor": "#E5ECF6",
            "gridcolor": "white",
            "gridwidth": 2,
            "linecolor": "white",
            "showbackground": true,
            "ticks": "",
            "zerolinecolor": "white"
           },
           "yaxis": {
            "backgroundcolor": "#E5ECF6",
            "gridcolor": "white",
            "gridwidth": 2,
            "linecolor": "white",
            "showbackground": true,
            "ticks": "",
            "zerolinecolor": "white"
           },
           "zaxis": {
            "backgroundcolor": "#E5ECF6",
            "gridcolor": "white",
            "gridwidth": 2,
            "linecolor": "white",
            "showbackground": true,
            "ticks": "",
            "zerolinecolor": "white"
           }
          },
          "shapedefaults": {
           "line": {
            "color": "#2a3f5f"
           }
          },
          "ternary": {
           "aaxis": {
            "gridcolor": "white",
            "linecolor": "white",
            "ticks": ""
           },
           "baxis": {
            "gridcolor": "white",
            "linecolor": "white",
            "ticks": ""
           },
           "bgcolor": "#E5ECF6",
           "caxis": {
            "gridcolor": "white",
            "linecolor": "white",
            "ticks": ""
           }
          },
          "title": {
           "x": 0.05
          },
          "xaxis": {
           "automargin": true,
           "gridcolor": "white",
           "linecolor": "white",
           "ticks": "",
           "title": {
            "standoff": 15
           },
           "zerolinecolor": "white",
           "zerolinewidth": 2
          },
          "yaxis": {
           "automargin": true,
           "gridcolor": "white",
           "linecolor": "white",
           "ticks": "",
           "title": {
            "standoff": 15
           },
           "zerolinecolor": "white",
           "zerolinewidth": 2
          }
         }
        },
        "title": {
         "text": "Total Positive cases in Maharashtra Districtwise"
        }
       }
      },
      "text/html": [
       "<div>                            <div id=\"bb11d3fe-7dfe-464b-b408-df7cf8d31b57\" class=\"plotly-graph-div\" style=\"height:525px; width:100%;\"></div>            <script type=\"text/javascript\">                require([\"plotly\"], function(Plotly) {                    window.PLOTLYENV=window.PLOTLYENV || {};                                    if (document.getElementById(\"bb11d3fe-7dfe-464b-b408-df7cf8d31b57\")) {                    Plotly.newPlot(                        \"bb11d3fe-7dfe-464b-b408-df7cf8d31b57\",                        [{\"customdata\":[[\"Ahmednagar\"],[\"Akola\"],[\"Amravati\"],[\"Aurangabad\"],[\"Beed\"],[\"Bhandara\"],[\"Buldhana\"],[\"Chandrapur\"],[\"Dhule\"],[\"Gadchiroli\"],[\"Gondia\"],[\"Hingoli\"],[\"Jalgaon\"],[\"Jalna\"],[\"Kolhapur\"],[\"Latur\"],[\"Mumbai\"],[\"Nagpur\"],[\"Nanded\"],[\"Nandurbar\"],[\"Nashik\"],[\"Osmanabad\"],[\"Palghar\"],[\"Parbhani\"],[\"Pune\"],[\"Raigad\"],[\"Ratnagiri\"],[\"Sangli\"],[\"Satara\"],[\"Sindhudurg\"],[\"Solapur\"],[\"Thane\"],[\"Wardha\"],[\"Washim\"],[\"Yavatmal\"]],\"domain\":{\"x\":[0.0,1.0],\"y\":[0.0,1.0]},\"hovertemplate\":\"Districts=%{customdata[0]}<br>Positive Cases=%{value}<extra></extra>\",\"labels\":[\"Ahmednagar\",\"Akola\",\"Amravati\",\"Aurangabad\",\"Beed\",\"Bhandara\",\"Buldhana\",\"Chandrapur\",\"Dhule\",\"Gadchiroli\",\"Gondia\",\"Hingoli\",\"Jalgaon\",\"Jalna\",\"Kolhapur\",\"Latur\",\"Mumbai\",\"Nagpur\",\"Nanded\",\"Nandurbar\",\"Nashik\",\"Osmanabad\",\"Palghar\",\"Parbhani\",\"Pune\",\"Raigad\",\"Ratnagiri\",\"Sangli\",\"Satara\",\"Sindhudurg\",\"Solapur\",\"Thane\",\"Wardha\",\"Washim\",\"Yavatmal\"],\"legendgroup\":\"\",\"marker\":{\"colors\":[\"#636efa\",\"#EF553B\",\"#00cc96\",\"#ab63fa\",\"#FFA15A\",\"#19d3f3\",\"#FF6692\",\"#B6E880\",\"#FF97FF\",\"#FECB52\",\"#636efa\",\"#EF553B\",\"#00cc96\",\"#ab63fa\",\"#FFA15A\",\"#19d3f3\",\"#FF6692\",\"#B6E880\",\"#FF97FF\",\"#FECB52\",\"#636efa\",\"#EF553B\",\"#00cc96\",\"#ab63fa\",\"#FFA15A\",\"#19d3f3\",\"#FF6692\",\"#B6E880\",\"#FF97FF\",\"#FECB52\",\"#636efa\",\"#EF553B\",\"#00cc96\",\"#ab63fa\",\"#FFA15A\"]},\"name\":\"\",\"showlegend\":true,\"values\":[376964,66135,105909,176264,109067,67919,91792,98793,50637,36929,45387,22164,149454,66296,220400,104879,1055811,576191,102626,46590,472611,75083,163402,58507,1450390,244158,84383,226945,278046,57125,226968,766202,65656,45592,81972],\"type\":\"pie\"}],                        {\"template\":{\"data\":{\"bar\":[{\"error_x\":{\"color\":\"#2a3f5f\"},\"error_y\":{\"color\":\"#2a3f5f\"},\"marker\":{\"line\":{\"color\":\"#E5ECF6\",\"width\":0.5},\"pattern\":{\"fillmode\":\"overlay\",\"size\":10,\"solidity\":0.2}},\"type\":\"bar\"}],\"barpolar\":[{\"marker\":{\"line\":{\"color\":\"#E5ECF6\",\"width\":0.5},\"pattern\":{\"fillmode\":\"overlay\",\"size\":10,\"solidity\":0.2}},\"type\":\"barpolar\"}],\"carpet\":[{\"aaxis\":{\"endlinecolor\":\"#2a3f5f\",\"gridcolor\":\"white\",\"linecolor\":\"white\",\"minorgridcolor\":\"white\",\"startlinecolor\":\"#2a3f5f\"},\"baxis\":{\"endlinecolor\":\"#2a3f5f\",\"gridcolor\":\"white\",\"linecolor\":\"white\",\"minorgridcolor\":\"white\",\"startlinecolor\":\"#2a3f5f\"},\"type\":\"carpet\"}],\"choropleth\":[{\"colorbar\":{\"outlinewidth\":0,\"ticks\":\"\"},\"type\":\"choropleth\"}],\"contour\":[{\"colorbar\":{\"outlinewidth\":0,\"ticks\":\"\"},\"colorscale\":[[0.0,\"#0d0887\"],[0.1111111111111111,\"#46039f\"],[0.2222222222222222,\"#7201a8\"],[0.3333333333333333,\"#9c179e\"],[0.4444444444444444,\"#bd3786\"],[0.5555555555555556,\"#d8576b\"],[0.6666666666666666,\"#ed7953\"],[0.7777777777777778,\"#fb9f3a\"],[0.8888888888888888,\"#fdca26\"],[1.0,\"#f0f921\"]],\"type\":\"contour\"}],\"contourcarpet\":[{\"colorbar\":{\"outlinewidth\":0,\"ticks\":\"\"},\"type\":\"contourcarpet\"}],\"heatmap\":[{\"colorbar\":{\"outlinewidth\":0,\"ticks\":\"\"},\"colorscale\":[[0.0,\"#0d0887\"],[0.1111111111111111,\"#46039f\"],[0.2222222222222222,\"#7201a8\"],[0.3333333333333333,\"#9c179e\"],[0.4444444444444444,\"#bd3786\"],[0.5555555555555556,\"#d8576b\"],[0.6666666666666666,\"#ed7953\"],[0.7777777777777778,\"#fb9f3a\"],[0.8888888888888888,\"#fdca26\"],[1.0,\"#f0f921\"]],\"type\":\"heatmap\"}],\"heatmapgl\":[{\"colorbar\":{\"outlinewidth\":0,\"ticks\":\"\"},\"colorscale\":[[0.0,\"#0d0887\"],[0.1111111111111111,\"#46039f\"],[0.2222222222222222,\"#7201a8\"],[0.3333333333333333,\"#9c179e\"],[0.4444444444444444,\"#bd3786\"],[0.5555555555555556,\"#d8576b\"],[0.6666666666666666,\"#ed7953\"],[0.7777777777777778,\"#fb9f3a\"],[0.8888888888888888,\"#fdca26\"],[1.0,\"#f0f921\"]],\"type\":\"heatmapgl\"}],\"histogram\":[{\"marker\":{\"pattern\":{\"fillmode\":\"overlay\",\"size\":10,\"solidity\":0.2}},\"type\":\"histogram\"}],\"histogram2d\":[{\"colorbar\":{\"outlinewidth\":0,\"ticks\":\"\"},\"colorscale\":[[0.0,\"#0d0887\"],[0.1111111111111111,\"#46039f\"],[0.2222222222222222,\"#7201a8\"],[0.3333333333333333,\"#9c179e\"],[0.4444444444444444,\"#bd3786\"],[0.5555555555555556,\"#d8576b\"],[0.6666666666666666,\"#ed7953\"],[0.7777777777777778,\"#fb9f3a\"],[0.8888888888888888,\"#fdca26\"],[1.0,\"#f0f921\"]],\"type\":\"histogram2d\"}],\"histogram2dcontour\":[{\"colorbar\":{\"outlinewidth\":0,\"ticks\":\"\"},\"colorscale\":[[0.0,\"#0d0887\"],[0.1111111111111111,\"#46039f\"],[0.2222222222222222,\"#7201a8\"],[0.3333333333333333,\"#9c179e\"],[0.4444444444444444,\"#bd3786\"],[0.5555555555555556,\"#d8576b\"],[0.6666666666666666,\"#ed7953\"],[0.7777777777777778,\"#fb9f3a\"],[0.8888888888888888,\"#fdca26\"],[1.0,\"#f0f921\"]],\"type\":\"histogram2dcontour\"}],\"mesh3d\":[{\"colorbar\":{\"outlinewidth\":0,\"ticks\":\"\"},\"type\":\"mesh3d\"}],\"parcoords\":[{\"line\":{\"colorbar\":{\"outlinewidth\":0,\"ticks\":\"\"}},\"type\":\"parcoords\"}],\"pie\":[{\"automargin\":true,\"type\":\"pie\"}],\"scatter\":[{\"marker\":{\"colorbar\":{\"outlinewidth\":0,\"ticks\":\"\"}},\"type\":\"scatter\"}],\"scatter3d\":[{\"line\":{\"colorbar\":{\"outlinewidth\":0,\"ticks\":\"\"}},\"marker\":{\"colorbar\":{\"outlinewidth\":0,\"ticks\":\"\"}},\"type\":\"scatter3d\"}],\"scattercarpet\":[{\"marker\":{\"colorbar\":{\"outlinewidth\":0,\"ticks\":\"\"}},\"type\":\"scattercarpet\"}],\"scattergeo\":[{\"marker\":{\"colorbar\":{\"outlinewidth\":0,\"ticks\":\"\"}},\"type\":\"scattergeo\"}],\"scattergl\":[{\"marker\":{\"colorbar\":{\"outlinewidth\":0,\"ticks\":\"\"}},\"type\":\"scattergl\"}],\"scattermapbox\":[{\"marker\":{\"colorbar\":{\"outlinewidth\":0,\"ticks\":\"\"}},\"type\":\"scattermapbox\"}],\"scatterpolar\":[{\"marker\":{\"colorbar\":{\"outlinewidth\":0,\"ticks\":\"\"}},\"type\":\"scatterpolar\"}],\"scatterpolargl\":[{\"marker\":{\"colorbar\":{\"outlinewidth\":0,\"ticks\":\"\"}},\"type\":\"scatterpolargl\"}],\"scatterternary\":[{\"marker\":{\"colorbar\":{\"outlinewidth\":0,\"ticks\":\"\"}},\"type\":\"scatterternary\"}],\"surface\":[{\"colorbar\":{\"outlinewidth\":0,\"ticks\":\"\"},\"colorscale\":[[0.0,\"#0d0887\"],[0.1111111111111111,\"#46039f\"],[0.2222222222222222,\"#7201a8\"],[0.3333333333333333,\"#9c179e\"],[0.4444444444444444,\"#bd3786\"],[0.5555555555555556,\"#d8576b\"],[0.6666666666666666,\"#ed7953\"],[0.7777777777777778,\"#fb9f3a\"],[0.8888888888888888,\"#fdca26\"],[1.0,\"#f0f921\"]],\"type\":\"surface\"}],\"table\":[{\"cells\":{\"fill\":{\"color\":\"#EBF0F8\"},\"line\":{\"color\":\"white\"}},\"header\":{\"fill\":{\"color\":\"#C8D4E3\"},\"line\":{\"color\":\"white\"}},\"type\":\"table\"}]},\"layout\":{\"annotationdefaults\":{\"arrowcolor\":\"#2a3f5f\",\"arrowhead\":0,\"arrowwidth\":1},\"autotypenumbers\":\"strict\",\"coloraxis\":{\"colorbar\":{\"outlinewidth\":0,\"ticks\":\"\"}},\"colorscale\":{\"diverging\":[[0,\"#8e0152\"],[0.1,\"#c51b7d\"],[0.2,\"#de77ae\"],[0.3,\"#f1b6da\"],[0.4,\"#fde0ef\"],[0.5,\"#f7f7f7\"],[0.6,\"#e6f5d0\"],[0.7,\"#b8e186\"],[0.8,\"#7fbc41\"],[0.9,\"#4d9221\"],[1,\"#276419\"]],\"sequential\":[[0.0,\"#0d0887\"],[0.1111111111111111,\"#46039f\"],[0.2222222222222222,\"#7201a8\"],[0.3333333333333333,\"#9c179e\"],[0.4444444444444444,\"#bd3786\"],[0.5555555555555556,\"#d8576b\"],[0.6666666666666666,\"#ed7953\"],[0.7777777777777778,\"#fb9f3a\"],[0.8888888888888888,\"#fdca26\"],[1.0,\"#f0f921\"]],\"sequentialminus\":[[0.0,\"#0d0887\"],[0.1111111111111111,\"#46039f\"],[0.2222222222222222,\"#7201a8\"],[0.3333333333333333,\"#9c179e\"],[0.4444444444444444,\"#bd3786\"],[0.5555555555555556,\"#d8576b\"],[0.6666666666666666,\"#ed7953\"],[0.7777777777777778,\"#fb9f3a\"],[0.8888888888888888,\"#fdca26\"],[1.0,\"#f0f921\"]]},\"colorway\":[\"#636efa\",\"#EF553B\",\"#00cc96\",\"#ab63fa\",\"#FFA15A\",\"#19d3f3\",\"#FF6692\",\"#B6E880\",\"#FF97FF\",\"#FECB52\"],\"font\":{\"color\":\"#2a3f5f\"},\"geo\":{\"bgcolor\":\"white\",\"lakecolor\":\"white\",\"landcolor\":\"#E5ECF6\",\"showlakes\":true,\"showland\":true,\"subunitcolor\":\"white\"},\"hoverlabel\":{\"align\":\"left\"},\"hovermode\":\"closest\",\"mapbox\":{\"style\":\"light\"},\"paper_bgcolor\":\"white\",\"plot_bgcolor\":\"#E5ECF6\",\"polar\":{\"angularaxis\":{\"gridcolor\":\"white\",\"linecolor\":\"white\",\"ticks\":\"\"},\"bgcolor\":\"#E5ECF6\",\"radialaxis\":{\"gridcolor\":\"white\",\"linecolor\":\"white\",\"ticks\":\"\"}},\"scene\":{\"xaxis\":{\"backgroundcolor\":\"#E5ECF6\",\"gridcolor\":\"white\",\"gridwidth\":2,\"linecolor\":\"white\",\"showbackground\":true,\"ticks\":\"\",\"zerolinecolor\":\"white\"},\"yaxis\":{\"backgroundcolor\":\"#E5ECF6\",\"gridcolor\":\"white\",\"gridwidth\":2,\"linecolor\":\"white\",\"showbackground\":true,\"ticks\":\"\",\"zerolinecolor\":\"white\"},\"zaxis\":{\"backgroundcolor\":\"#E5ECF6\",\"gridcolor\":\"white\",\"gridwidth\":2,\"linecolor\":\"white\",\"showbackground\":true,\"ticks\":\"\",\"zerolinecolor\":\"white\"}},\"shapedefaults\":{\"line\":{\"color\":\"#2a3f5f\"}},\"ternary\":{\"aaxis\":{\"gridcolor\":\"white\",\"linecolor\":\"white\",\"ticks\":\"\"},\"baxis\":{\"gridcolor\":\"white\",\"linecolor\":\"white\",\"ticks\":\"\"},\"bgcolor\":\"#E5ECF6\",\"caxis\":{\"gridcolor\":\"white\",\"linecolor\":\"white\",\"ticks\":\"\"}},\"title\":{\"x\":0.05},\"xaxis\":{\"automargin\":true,\"gridcolor\":\"white\",\"linecolor\":\"white\",\"ticks\":\"\",\"title\":{\"standoff\":15},\"zerolinecolor\":\"white\",\"zerolinewidth\":2},\"yaxis\":{\"automargin\":true,\"gridcolor\":\"white\",\"linecolor\":\"white\",\"ticks\":\"\",\"title\":{\"standoff\":15},\"zerolinecolor\":\"white\",\"zerolinewidth\":2}}},\"legend\":{\"tracegroupgap\":0},\"title\":{\"text\":\"Total Positive cases in Maharashtra Districtwise\"}},                        {\"responsive\": true}                    ).then(function(){\n",
       "                            \n",
       "var gd = document.getElementById('bb11d3fe-7dfe-464b-b408-df7cf8d31b57');\n",
       "var x = new MutationObserver(function (mutations, observer) {{\n",
       "        var display = window.getComputedStyle(gd).display;\n",
       "        if (!display || display === 'none') {{\n",
       "            console.log([gd, 'removed!']);\n",
       "            Plotly.purge(gd);\n",
       "            observer.disconnect();\n",
       "        }}\n",
       "}});\n",
       "\n",
       "// Listen for the removal of the full notebook cells\n",
       "var notebookContainer = gd.closest('#notebook-container');\n",
       "if (notebookContainer) {{\n",
       "    x.observe(notebookContainer, {childList: true});\n",
       "}}\n",
       "\n",
       "// Listen for the clearing of the current output cell\n",
       "var outputEl = gd.closest('.output');\n",
       "if (outputEl) {{\n",
       "    x.observe(outputEl, {childList: true});\n",
       "}}\n",
       "\n",
       "                        })                };                });            </script>        </div>"
      ]
     },
     "metadata": {},
     "output_type": "display_data"
    }
   ],
   "source": [
    "fig=px.pie(dataframe,values=\"Positive Cases\",names=\"Districts\",title=\"Total Positive cases in Maharashtra Districtwise\",color='Districts')\n",
    "fig.show()"
   ]
  },
  {
   "cell_type": "markdown",
   "metadata": {
    "colab": {
     "base_uri": "https://localhost:8080/",
     "height": 172
    },
    "id": "96ivBhcVJ7OY",
    "outputId": "1efe009f-3312-4fda-fb1b-7698cfd8ee92"
   },
   "source": [
    "**Total Active cases in Maharashtra Districtwise** "
   ]
  },
  {
   "cell_type": "code",
   "execution_count": 33,
   "metadata": {
    "id": "-y4ahkWdLOxk"
   },
   "outputs": [
    {
     "data": {
      "application/vnd.plotly.v1+json": {
       "config": {
        "plotlyServerURL": "https://plot.ly"
       },
       "data": [
        {
         "alignmentgroup": "True",
         "hovertemplate": "Districts=%{x}<br>Active Cases=%{y}<extra></extra>",
         "legendgroup": "Ahmednagar",
         "marker": {
          "color": "#636efa",
          "pattern": {
           "shape": ""
          }
         },
         "name": "Ahmednagar",
         "offsetgroup": "Ahmednagar",
         "orientation": "v",
         "showlegend": true,
         "textposition": "auto",
         "type": "bar",
         "x": [
          "Ahmednagar"
         ],
         "xaxis": "x",
         "y": [
          472
         ],
         "yaxis": "y"
        },
        {
         "alignmentgroup": "True",
         "hovertemplate": "Districts=%{x}<br>Active Cases=%{y}<extra></extra>",
         "legendgroup": "Akola",
         "marker": {
          "color": "#EF553B",
          "pattern": {
           "shape": ""
          }
         },
         "name": "Akola",
         "offsetgroup": "Akola",
         "orientation": "v",
         "showlegend": true,
         "textposition": "auto",
         "type": "bar",
         "x": [
          "Akola"
         ],
         "xaxis": "x",
         "y": [
          21
         ],
         "yaxis": "y"
        },
        {
         "alignmentgroup": "True",
         "hovertemplate": "Districts=%{x}<br>Active Cases=%{y}<extra></extra>",
         "legendgroup": "Amravati",
         "marker": {
          "color": "#00cc96",
          "pattern": {
           "shape": ""
          }
         },
         "name": "Amravati",
         "offsetgroup": "Amravati",
         "orientation": "v",
         "showlegend": true,
         "textposition": "auto",
         "type": "bar",
         "x": [
          "Amravati"
         ],
         "xaxis": "x",
         "y": [
          13
         ],
         "yaxis": "y"
        },
        {
         "alignmentgroup": "True",
         "hovertemplate": "Districts=%{x}<br>Active Cases=%{y}<extra></extra>",
         "legendgroup": "Aurangabad",
         "marker": {
          "color": "#ab63fa",
          "pattern": {
           "shape": ""
          }
         },
         "name": "Aurangabad",
         "offsetgroup": "Aurangabad",
         "orientation": "v",
         "showlegend": true,
         "textposition": "auto",
         "type": "bar",
         "x": [
          "Aurangabad"
         ],
         "xaxis": "x",
         "y": [
          88
         ],
         "yaxis": "y"
        },
        {
         "alignmentgroup": "True",
         "hovertemplate": "Districts=%{x}<br>Active Cases=%{y}<extra></extra>",
         "legendgroup": "Beed",
         "marker": {
          "color": "#FFA15A",
          "pattern": {
           "shape": ""
          }
         },
         "name": "Beed",
         "offsetgroup": "Beed",
         "orientation": "v",
         "showlegend": true,
         "textposition": "auto",
         "type": "bar",
         "x": [
          "Beed"
         ],
         "xaxis": "x",
         "y": [
          43
         ],
         "yaxis": "y"
        },
        {
         "alignmentgroup": "True",
         "hovertemplate": "Districts=%{x}<br>Active Cases=%{y}<extra></extra>",
         "legendgroup": "Bhandara",
         "marker": {
          "color": "#19d3f3",
          "pattern": {
           "shape": ""
          }
         },
         "name": "Bhandara",
         "offsetgroup": "Bhandara",
         "orientation": "v",
         "showlegend": true,
         "textposition": "auto",
         "type": "bar",
         "x": [
          "Bhandara"
         ],
         "xaxis": "x",
         "y": [
          22
         ],
         "yaxis": "y"
        },
        {
         "alignmentgroup": "True",
         "hovertemplate": "Districts=%{x}<br>Active Cases=%{y}<extra></extra>",
         "legendgroup": "Buldhana",
         "marker": {
          "color": "#FF6692",
          "pattern": {
           "shape": ""
          }
         },
         "name": "Buldhana",
         "offsetgroup": "Buldhana",
         "orientation": "v",
         "showlegend": true,
         "textposition": "auto",
         "type": "bar",
         "x": [
          "Buldhana"
         ],
         "xaxis": "x",
         "y": [
          49
         ],
         "yaxis": "y"
        },
        {
         "alignmentgroup": "True",
         "hovertemplate": "Districts=%{x}<br>Active Cases=%{y}<extra></extra>",
         "legendgroup": "Chandrapur",
         "marker": {
          "color": "#B6E880",
          "pattern": {
           "shape": ""
          }
         },
         "name": "Chandrapur",
         "offsetgroup": "Chandrapur",
         "orientation": "v",
         "showlegend": true,
         "textposition": "auto",
         "type": "bar",
         "x": [
          "Chandrapur"
         ],
         "xaxis": "x",
         "y": [
          20
         ],
         "yaxis": "y"
        },
        {
         "alignmentgroup": "True",
         "hovertemplate": "Districts=%{x}<br>Active Cases=%{y}<extra></extra>",
         "legendgroup": "Dhule",
         "marker": {
          "color": "#FF97FF",
          "pattern": {
           "shape": ""
          }
         },
         "name": "Dhule",
         "offsetgroup": "Dhule",
         "orientation": "v",
         "showlegend": true,
         "textposition": "auto",
         "type": "bar",
         "x": [
          "Dhule"
         ],
         "xaxis": "x",
         "y": [
          4
         ],
         "yaxis": "y"
        },
        {
         "alignmentgroup": "True",
         "hovertemplate": "Districts=%{x}<br>Active Cases=%{y}<extra></extra>",
         "legendgroup": "Gadchiroli",
         "marker": {
          "color": "#FECB52",
          "pattern": {
           "shape": ""
          }
         },
         "name": "Gadchiroli",
         "offsetgroup": "Gadchiroli",
         "orientation": "v",
         "showlegend": true,
         "textposition": "auto",
         "type": "bar",
         "x": [
          "Gadchiroli"
         ],
         "xaxis": "x",
         "y": [
          73
         ],
         "yaxis": "y"
        },
        {
         "alignmentgroup": "True",
         "hovertemplate": "Districts=%{x}<br>Active Cases=%{y}<extra></extra>",
         "legendgroup": "Gondia",
         "marker": {
          "color": "#636efa",
          "pattern": {
           "shape": ""
          }
         },
         "name": "Gondia",
         "offsetgroup": "Gondia",
         "orientation": "v",
         "showlegend": true,
         "textposition": "auto",
         "type": "bar",
         "x": [
          "Gondia"
         ],
         "xaxis": "x",
         "y": [
          5
         ],
         "yaxis": "y"
        },
        {
         "alignmentgroup": "True",
         "hovertemplate": "Districts=%{x}<br>Active Cases=%{y}<extra></extra>",
         "legendgroup": "Hingoli",
         "marker": {
          "color": "#EF553B",
          "pattern": {
           "shape": ""
          }
         },
         "name": "Hingoli",
         "offsetgroup": "Hingoli",
         "orientation": "v",
         "showlegend": true,
         "textposition": "auto",
         "type": "bar",
         "x": [
          "Hingoli"
         ],
         "xaxis": "x",
         "y": [
          4
         ],
         "yaxis": "y"
        },
        {
         "alignmentgroup": "True",
         "hovertemplate": "Districts=%{x}<br>Active Cases=%{y}<extra></extra>",
         "legendgroup": "Jalgaon",
         "marker": {
          "color": "#00cc96",
          "pattern": {
           "shape": ""
          }
         },
         "name": "Jalgaon",
         "offsetgroup": "Jalgaon",
         "orientation": "v",
         "showlegend": true,
         "textposition": "auto",
         "type": "bar",
         "x": [
          "Jalgaon"
         ],
         "xaxis": "x",
         "y": [
          15
         ],
         "yaxis": "y"
        },
        {
         "alignmentgroup": "True",
         "hovertemplate": "Districts=%{x}<br>Active Cases=%{y}<extra></extra>",
         "legendgroup": "Jalna",
         "marker": {
          "color": "#ab63fa",
          "pattern": {
           "shape": ""
          }
         },
         "name": "Jalna",
         "offsetgroup": "Jalna",
         "orientation": "v",
         "showlegend": true,
         "textposition": "auto",
         "type": "bar",
         "x": [
          "Jalna"
         ],
         "xaxis": "x",
         "y": [
          4
         ],
         "yaxis": "y"
        },
        {
         "alignmentgroup": "True",
         "hovertemplate": "Districts=%{x}<br>Active Cases=%{y}<extra></extra>",
         "legendgroup": "Kolhapur",
         "marker": {
          "color": "#FFA15A",
          "pattern": {
           "shape": ""
          }
         },
         "name": "Kolhapur",
         "offsetgroup": "Kolhapur",
         "orientation": "v",
         "showlegend": true,
         "textposition": "auto",
         "type": "bar",
         "x": [
          "Kolhapur"
         ],
         "xaxis": "x",
         "y": [
          55
         ],
         "yaxis": "y"
        },
        {
         "alignmentgroup": "True",
         "hovertemplate": "Districts=%{x}<br>Active Cases=%{y}<extra></extra>",
         "legendgroup": "Latur",
         "marker": {
          "color": "#19d3f3",
          "pattern": {
           "shape": ""
          }
         },
         "name": "Latur",
         "offsetgroup": "Latur",
         "orientation": "v",
         "showlegend": true,
         "textposition": "auto",
         "type": "bar",
         "x": [
          "Latur"
         ],
         "xaxis": "x",
         "y": [
          12
         ],
         "yaxis": "y"
        },
        {
         "alignmentgroup": "True",
         "hovertemplate": "Districts=%{x}<br>Active Cases=%{y}<extra></extra>",
         "legendgroup": "Mumbai",
         "marker": {
          "color": "#FF6692",
          "pattern": {
           "shape": ""
          }
         },
         "name": "Mumbai",
         "offsetgroup": "Mumbai",
         "orientation": "v",
         "showlegend": true,
         "textposition": "auto",
         "type": "bar",
         "x": [
          "Mumbai"
         ],
         "xaxis": "x",
         "y": [
          650
         ],
         "yaxis": "y"
        },
        {
         "alignmentgroup": "True",
         "hovertemplate": "Districts=%{x}<br>Active Cases=%{y}<extra></extra>",
         "legendgroup": "Nagpur",
         "marker": {
          "color": "#B6E880",
          "pattern": {
           "shape": ""
          }
         },
         "name": "Nagpur",
         "offsetgroup": "Nagpur",
         "orientation": "v",
         "showlegend": true,
         "textposition": "auto",
         "type": "bar",
         "x": [
          "Nagpur"
         ],
         "xaxis": "x",
         "y": [
          211
         ],
         "yaxis": "y"
        },
        {
         "alignmentgroup": "True",
         "hovertemplate": "Districts=%{x}<br>Active Cases=%{y}<extra></extra>",
         "legendgroup": "Nanded",
         "marker": {
          "color": "#FF97FF",
          "pattern": {
           "shape": ""
          }
         },
         "name": "Nanded",
         "offsetgroup": "Nanded",
         "orientation": "v",
         "showlegend": true,
         "textposition": "auto",
         "type": "bar",
         "x": [
          "Nanded"
         ],
         "xaxis": "x",
         "y": [
          21
         ],
         "yaxis": "y"
        },
        {
         "alignmentgroup": "True",
         "hovertemplate": "Districts=%{x}<br>Active Cases=%{y}<extra></extra>",
         "legendgroup": "Nandurbar",
         "marker": {
          "color": "#FECB52",
          "pattern": {
           "shape": ""
          }
         },
         "name": "Nandurbar",
         "offsetgroup": "Nandurbar",
         "orientation": "v",
         "showlegend": true,
         "textposition": "auto",
         "type": "bar",
         "x": [
          "Nandurbar"
         ],
         "xaxis": "x",
         "y": [
          20
         ],
         "yaxis": "y"
        },
        {
         "alignmentgroup": "True",
         "hovertemplate": "Districts=%{x}<br>Active Cases=%{y}<extra></extra>",
         "legendgroup": "Nashik",
         "marker": {
          "color": "#636efa",
          "pattern": {
           "shape": ""
          }
         },
         "name": "Nashik",
         "offsetgroup": "Nashik",
         "orientation": "v",
         "showlegend": true,
         "textposition": "auto",
         "type": "bar",
         "x": [
          "Nashik"
         ],
         "xaxis": "x",
         "y": [
          303
         ],
         "yaxis": "y"
        },
        {
         "alignmentgroup": "True",
         "hovertemplate": "Districts=%{x}<br>Active Cases=%{y}<extra></extra>",
         "legendgroup": "Osmanabad",
         "marker": {
          "color": "#EF553B",
          "pattern": {
           "shape": ""
          }
         },
         "name": "Osmanabad",
         "offsetgroup": "Osmanabad",
         "orientation": "v",
         "showlegend": true,
         "textposition": "auto",
         "type": "bar",
         "x": [
          "Osmanabad"
         ],
         "xaxis": "x",
         "y": [
          28
         ],
         "yaxis": "y"
        },
        {
         "alignmentgroup": "True",
         "hovertemplate": "Districts=%{x}<br>Active Cases=%{y}<extra></extra>",
         "legendgroup": "Palghar",
         "marker": {
          "color": "#00cc96",
          "pattern": {
           "shape": ""
          }
         },
         "name": "Palghar",
         "offsetgroup": "Palghar",
         "orientation": "v",
         "showlegend": true,
         "textposition": "auto",
         "type": "bar",
         "x": [
          "Palghar"
         ],
         "xaxis": "x",
         "y": [
          60
         ],
         "yaxis": "y"
        },
        {
         "alignmentgroup": "True",
         "hovertemplate": "Districts=%{x}<br>Active Cases=%{y}<extra></extra>",
         "legendgroup": "Parbhani",
         "marker": {
          "color": "#ab63fa",
          "pattern": {
           "shape": ""
          }
         },
         "name": "Parbhani",
         "offsetgroup": "Parbhani",
         "orientation": "v",
         "showlegend": true,
         "textposition": "auto",
         "type": "bar",
         "x": [
          "Parbhani"
         ],
         "xaxis": "x",
         "y": [
          24
         ],
         "yaxis": "y"
        },
        {
         "alignmentgroup": "True",
         "hovertemplate": "Districts=%{x}<br>Active Cases=%{y}<extra></extra>",
         "legendgroup": "Pune",
         "marker": {
          "color": "#FFA15A",
          "pattern": {
           "shape": ""
          }
         },
         "name": "Pune",
         "offsetgroup": "Pune",
         "orientation": "v",
         "showlegend": true,
         "textposition": "auto",
         "type": "bar",
         "x": [
          "Pune"
         ],
         "xaxis": "x",
         "y": [
          1833
         ],
         "yaxis": "y"
        },
        {
         "alignmentgroup": "True",
         "hovertemplate": "Districts=%{x}<br>Active Cases=%{y}<extra></extra>",
         "legendgroup": "Raigad",
         "marker": {
          "color": "#19d3f3",
          "pattern": {
           "shape": ""
          }
         },
         "name": "Raigad",
         "offsetgroup": "Raigad",
         "orientation": "v",
         "showlegend": true,
         "textposition": "auto",
         "type": "bar",
         "x": [
          "Raigad"
         ],
         "xaxis": "x",
         "y": [
          123
         ],
         "yaxis": "y"
        },
        {
         "alignmentgroup": "True",
         "hovertemplate": "Districts=%{x}<br>Active Cases=%{y}<extra></extra>",
         "legendgroup": "Ratnagiri",
         "marker": {
          "color": "#FF6692",
          "pattern": {
           "shape": ""
          }
         },
         "name": "Ratnagiri",
         "offsetgroup": "Ratnagiri",
         "orientation": "v",
         "showlegend": true,
         "textposition": "auto",
         "type": "bar",
         "x": [
          "Ratnagiri"
         ],
         "xaxis": "x",
         "y": [
          10
         ],
         "yaxis": "y"
        },
        {
         "alignmentgroup": "True",
         "hovertemplate": "Districts=%{x}<br>Active Cases=%{y}<extra></extra>",
         "legendgroup": "Sangli",
         "marker": {
          "color": "#B6E880",
          "pattern": {
           "shape": ""
          }
         },
         "name": "Sangli",
         "offsetgroup": "Sangli",
         "orientation": "v",
         "showlegend": true,
         "textposition": "auto",
         "type": "bar",
         "x": [
          "Sangli"
         ],
         "xaxis": "x",
         "y": [
          49
         ],
         "yaxis": "y"
        },
        {
         "alignmentgroup": "True",
         "hovertemplate": "Districts=%{x}<br>Active Cases=%{y}<extra></extra>",
         "legendgroup": "Satara",
         "marker": {
          "color": "#FF97FF",
          "pattern": {
           "shape": ""
          }
         },
         "name": "Satara",
         "offsetgroup": "Satara",
         "orientation": "v",
         "showlegend": true,
         "textposition": "auto",
         "type": "bar",
         "x": [
          "Satara"
         ],
         "xaxis": "x",
         "y": [
          79
         ],
         "yaxis": "y"
        },
        {
         "alignmentgroup": "True",
         "hovertemplate": "Districts=%{x}<br>Active Cases=%{y}<extra></extra>",
         "legendgroup": "Sindhudurg",
         "marker": {
          "color": "#FECB52",
          "pattern": {
           "shape": ""
          }
         },
         "name": "Sindhudurg",
         "offsetgroup": "Sindhudurg",
         "orientation": "v",
         "showlegend": true,
         "textposition": "auto",
         "type": "bar",
         "x": [
          "Sindhudurg"
         ],
         "xaxis": "x",
         "y": [
          130
         ],
         "yaxis": "y"
        },
        {
         "alignmentgroup": "True",
         "hovertemplate": "Districts=%{x}<br>Active Cases=%{y}<extra></extra>",
         "legendgroup": "Solapur",
         "marker": {
          "color": "#636efa",
          "pattern": {
           "shape": ""
          }
         },
         "name": "Solapur",
         "offsetgroup": "Solapur",
         "orientation": "v",
         "showlegend": true,
         "textposition": "auto",
         "type": "bar",
         "x": [
          "Solapur"
         ],
         "xaxis": "x",
         "y": [
          59
         ],
         "yaxis": "y"
        },
        {
         "alignmentgroup": "True",
         "hovertemplate": "Districts=%{x}<br>Active Cases=%{y}<extra></extra>",
         "legendgroup": "Thane",
         "marker": {
          "color": "#EF553B",
          "pattern": {
           "shape": ""
          }
         },
         "name": "Thane",
         "offsetgroup": "Thane",
         "orientation": "v",
         "showlegend": true,
         "textposition": "auto",
         "type": "bar",
         "x": [
          "Thane"
         ],
         "xaxis": "x",
         "y": [
          405
         ],
         "yaxis": "y"
        },
        {
         "alignmentgroup": "True",
         "hovertemplate": "Districts=%{x}<br>Active Cases=%{y}<extra></extra>",
         "legendgroup": "Wardha",
         "marker": {
          "color": "#00cc96",
          "pattern": {
           "shape": ""
          }
         },
         "name": "Wardha",
         "offsetgroup": "Wardha",
         "orientation": "v",
         "showlegend": true,
         "textposition": "auto",
         "type": "bar",
         "x": [
          "Wardha"
         ],
         "xaxis": "x",
         "y": [
          13
         ],
         "yaxis": "y"
        },
        {
         "alignmentgroup": "True",
         "hovertemplate": "Districts=%{x}<br>Active Cases=%{y}<extra></extra>",
         "legendgroup": "Washim",
         "marker": {
          "color": "#ab63fa",
          "pattern": {
           "shape": ""
          }
         },
         "name": "Washim",
         "offsetgroup": "Washim",
         "orientation": "v",
         "showlegend": true,
         "textposition": "auto",
         "type": "bar",
         "x": [
          "Washim"
         ],
         "xaxis": "x",
         "y": [
          17
         ],
         "yaxis": "y"
        },
        {
         "alignmentgroup": "True",
         "hovertemplate": "Districts=%{x}<br>Active Cases=%{y}<extra></extra>",
         "legendgroup": "Yavatmal",
         "marker": {
          "color": "#FFA15A",
          "pattern": {
           "shape": ""
          }
         },
         "name": "Yavatmal",
         "offsetgroup": "Yavatmal",
         "orientation": "v",
         "showlegend": true,
         "textposition": "auto",
         "type": "bar",
         "x": [
          "Yavatmal"
         ],
         "xaxis": "x",
         "y": [
          18
         ],
         "yaxis": "y"
        }
       ],
       "layout": {
        "barmode": "relative",
        "legend": {
         "title": {
          "text": "Districts"
         },
         "tracegroupgap": 0
        },
        "template": {
         "data": {
          "bar": [
           {
            "error_x": {
             "color": "#2a3f5f"
            },
            "error_y": {
             "color": "#2a3f5f"
            },
            "marker": {
             "line": {
              "color": "#E5ECF6",
              "width": 0.5
             },
             "pattern": {
              "fillmode": "overlay",
              "size": 10,
              "solidity": 0.2
             }
            },
            "type": "bar"
           }
          ],
          "barpolar": [
           {
            "marker": {
             "line": {
              "color": "#E5ECF6",
              "width": 0.5
             },
             "pattern": {
              "fillmode": "overlay",
              "size": 10,
              "solidity": 0.2
             }
            },
            "type": "barpolar"
           }
          ],
          "carpet": [
           {
            "aaxis": {
             "endlinecolor": "#2a3f5f",
             "gridcolor": "white",
             "linecolor": "white",
             "minorgridcolor": "white",
             "startlinecolor": "#2a3f5f"
            },
            "baxis": {
             "endlinecolor": "#2a3f5f",
             "gridcolor": "white",
             "linecolor": "white",
             "minorgridcolor": "white",
             "startlinecolor": "#2a3f5f"
            },
            "type": "carpet"
           }
          ],
          "choropleth": [
           {
            "colorbar": {
             "outlinewidth": 0,
             "ticks": ""
            },
            "type": "choropleth"
           }
          ],
          "contour": [
           {
            "colorbar": {
             "outlinewidth": 0,
             "ticks": ""
            },
            "colorscale": [
             [
              0,
              "#0d0887"
             ],
             [
              0.1111111111111111,
              "#46039f"
             ],
             [
              0.2222222222222222,
              "#7201a8"
             ],
             [
              0.3333333333333333,
              "#9c179e"
             ],
             [
              0.4444444444444444,
              "#bd3786"
             ],
             [
              0.5555555555555556,
              "#d8576b"
             ],
             [
              0.6666666666666666,
              "#ed7953"
             ],
             [
              0.7777777777777778,
              "#fb9f3a"
             ],
             [
              0.8888888888888888,
              "#fdca26"
             ],
             [
              1,
              "#f0f921"
             ]
            ],
            "type": "contour"
           }
          ],
          "contourcarpet": [
           {
            "colorbar": {
             "outlinewidth": 0,
             "ticks": ""
            },
            "type": "contourcarpet"
           }
          ],
          "heatmap": [
           {
            "colorbar": {
             "outlinewidth": 0,
             "ticks": ""
            },
            "colorscale": [
             [
              0,
              "#0d0887"
             ],
             [
              0.1111111111111111,
              "#46039f"
             ],
             [
              0.2222222222222222,
              "#7201a8"
             ],
             [
              0.3333333333333333,
              "#9c179e"
             ],
             [
              0.4444444444444444,
              "#bd3786"
             ],
             [
              0.5555555555555556,
              "#d8576b"
             ],
             [
              0.6666666666666666,
              "#ed7953"
             ],
             [
              0.7777777777777778,
              "#fb9f3a"
             ],
             [
              0.8888888888888888,
              "#fdca26"
             ],
             [
              1,
              "#f0f921"
             ]
            ],
            "type": "heatmap"
           }
          ],
          "heatmapgl": [
           {
            "colorbar": {
             "outlinewidth": 0,
             "ticks": ""
            },
            "colorscale": [
             [
              0,
              "#0d0887"
             ],
             [
              0.1111111111111111,
              "#46039f"
             ],
             [
              0.2222222222222222,
              "#7201a8"
             ],
             [
              0.3333333333333333,
              "#9c179e"
             ],
             [
              0.4444444444444444,
              "#bd3786"
             ],
             [
              0.5555555555555556,
              "#d8576b"
             ],
             [
              0.6666666666666666,
              "#ed7953"
             ],
             [
              0.7777777777777778,
              "#fb9f3a"
             ],
             [
              0.8888888888888888,
              "#fdca26"
             ],
             [
              1,
              "#f0f921"
             ]
            ],
            "type": "heatmapgl"
           }
          ],
          "histogram": [
           {
            "marker": {
             "pattern": {
              "fillmode": "overlay",
              "size": 10,
              "solidity": 0.2
             }
            },
            "type": "histogram"
           }
          ],
          "histogram2d": [
           {
            "colorbar": {
             "outlinewidth": 0,
             "ticks": ""
            },
            "colorscale": [
             [
              0,
              "#0d0887"
             ],
             [
              0.1111111111111111,
              "#46039f"
             ],
             [
              0.2222222222222222,
              "#7201a8"
             ],
             [
              0.3333333333333333,
              "#9c179e"
             ],
             [
              0.4444444444444444,
              "#bd3786"
             ],
             [
              0.5555555555555556,
              "#d8576b"
             ],
             [
              0.6666666666666666,
              "#ed7953"
             ],
             [
              0.7777777777777778,
              "#fb9f3a"
             ],
             [
              0.8888888888888888,
              "#fdca26"
             ],
             [
              1,
              "#f0f921"
             ]
            ],
            "type": "histogram2d"
           }
          ],
          "histogram2dcontour": [
           {
            "colorbar": {
             "outlinewidth": 0,
             "ticks": ""
            },
            "colorscale": [
             [
              0,
              "#0d0887"
             ],
             [
              0.1111111111111111,
              "#46039f"
             ],
             [
              0.2222222222222222,
              "#7201a8"
             ],
             [
              0.3333333333333333,
              "#9c179e"
             ],
             [
              0.4444444444444444,
              "#bd3786"
             ],
             [
              0.5555555555555556,
              "#d8576b"
             ],
             [
              0.6666666666666666,
              "#ed7953"
             ],
             [
              0.7777777777777778,
              "#fb9f3a"
             ],
             [
              0.8888888888888888,
              "#fdca26"
             ],
             [
              1,
              "#f0f921"
             ]
            ],
            "type": "histogram2dcontour"
           }
          ],
          "mesh3d": [
           {
            "colorbar": {
             "outlinewidth": 0,
             "ticks": ""
            },
            "type": "mesh3d"
           }
          ],
          "parcoords": [
           {
            "line": {
             "colorbar": {
              "outlinewidth": 0,
              "ticks": ""
             }
            },
            "type": "parcoords"
           }
          ],
          "pie": [
           {
            "automargin": true,
            "type": "pie"
           }
          ],
          "scatter": [
           {
            "marker": {
             "colorbar": {
              "outlinewidth": 0,
              "ticks": ""
             }
            },
            "type": "scatter"
           }
          ],
          "scatter3d": [
           {
            "line": {
             "colorbar": {
              "outlinewidth": 0,
              "ticks": ""
             }
            },
            "marker": {
             "colorbar": {
              "outlinewidth": 0,
              "ticks": ""
             }
            },
            "type": "scatter3d"
           }
          ],
          "scattercarpet": [
           {
            "marker": {
             "colorbar": {
              "outlinewidth": 0,
              "ticks": ""
             }
            },
            "type": "scattercarpet"
           }
          ],
          "scattergeo": [
           {
            "marker": {
             "colorbar": {
              "outlinewidth": 0,
              "ticks": ""
             }
            },
            "type": "scattergeo"
           }
          ],
          "scattergl": [
           {
            "marker": {
             "colorbar": {
              "outlinewidth": 0,
              "ticks": ""
             }
            },
            "type": "scattergl"
           }
          ],
          "scattermapbox": [
           {
            "marker": {
             "colorbar": {
              "outlinewidth": 0,
              "ticks": ""
             }
            },
            "type": "scattermapbox"
           }
          ],
          "scatterpolar": [
           {
            "marker": {
             "colorbar": {
              "outlinewidth": 0,
              "ticks": ""
             }
            },
            "type": "scatterpolar"
           }
          ],
          "scatterpolargl": [
           {
            "marker": {
             "colorbar": {
              "outlinewidth": 0,
              "ticks": ""
             }
            },
            "type": "scatterpolargl"
           }
          ],
          "scatterternary": [
           {
            "marker": {
             "colorbar": {
              "outlinewidth": 0,
              "ticks": ""
             }
            },
            "type": "scatterternary"
           }
          ],
          "surface": [
           {
            "colorbar": {
             "outlinewidth": 0,
             "ticks": ""
            },
            "colorscale": [
             [
              0,
              "#0d0887"
             ],
             [
              0.1111111111111111,
              "#46039f"
             ],
             [
              0.2222222222222222,
              "#7201a8"
             ],
             [
              0.3333333333333333,
              "#9c179e"
             ],
             [
              0.4444444444444444,
              "#bd3786"
             ],
             [
              0.5555555555555556,
              "#d8576b"
             ],
             [
              0.6666666666666666,
              "#ed7953"
             ],
             [
              0.7777777777777778,
              "#fb9f3a"
             ],
             [
              0.8888888888888888,
              "#fdca26"
             ],
             [
              1,
              "#f0f921"
             ]
            ],
            "type": "surface"
           }
          ],
          "table": [
           {
            "cells": {
             "fill": {
              "color": "#EBF0F8"
             },
             "line": {
              "color": "white"
             }
            },
            "header": {
             "fill": {
              "color": "#C8D4E3"
             },
             "line": {
              "color": "white"
             }
            },
            "type": "table"
           }
          ]
         },
         "layout": {
          "annotationdefaults": {
           "arrowcolor": "#2a3f5f",
           "arrowhead": 0,
           "arrowwidth": 1
          },
          "autotypenumbers": "strict",
          "coloraxis": {
           "colorbar": {
            "outlinewidth": 0,
            "ticks": ""
           }
          },
          "colorscale": {
           "diverging": [
            [
             0,
             "#8e0152"
            ],
            [
             0.1,
             "#c51b7d"
            ],
            [
             0.2,
             "#de77ae"
            ],
            [
             0.3,
             "#f1b6da"
            ],
            [
             0.4,
             "#fde0ef"
            ],
            [
             0.5,
             "#f7f7f7"
            ],
            [
             0.6,
             "#e6f5d0"
            ],
            [
             0.7,
             "#b8e186"
            ],
            [
             0.8,
             "#7fbc41"
            ],
            [
             0.9,
             "#4d9221"
            ],
            [
             1,
             "#276419"
            ]
           ],
           "sequential": [
            [
             0,
             "#0d0887"
            ],
            [
             0.1111111111111111,
             "#46039f"
            ],
            [
             0.2222222222222222,
             "#7201a8"
            ],
            [
             0.3333333333333333,
             "#9c179e"
            ],
            [
             0.4444444444444444,
             "#bd3786"
            ],
            [
             0.5555555555555556,
             "#d8576b"
            ],
            [
             0.6666666666666666,
             "#ed7953"
            ],
            [
             0.7777777777777778,
             "#fb9f3a"
            ],
            [
             0.8888888888888888,
             "#fdca26"
            ],
            [
             1,
             "#f0f921"
            ]
           ],
           "sequentialminus": [
            [
             0,
             "#0d0887"
            ],
            [
             0.1111111111111111,
             "#46039f"
            ],
            [
             0.2222222222222222,
             "#7201a8"
            ],
            [
             0.3333333333333333,
             "#9c179e"
            ],
            [
             0.4444444444444444,
             "#bd3786"
            ],
            [
             0.5555555555555556,
             "#d8576b"
            ],
            [
             0.6666666666666666,
             "#ed7953"
            ],
            [
             0.7777777777777778,
             "#fb9f3a"
            ],
            [
             0.8888888888888888,
             "#fdca26"
            ],
            [
             1,
             "#f0f921"
            ]
           ]
          },
          "colorway": [
           "#636efa",
           "#EF553B",
           "#00cc96",
           "#ab63fa",
           "#FFA15A",
           "#19d3f3",
           "#FF6692",
           "#B6E880",
           "#FF97FF",
           "#FECB52"
          ],
          "font": {
           "color": "#2a3f5f"
          },
          "geo": {
           "bgcolor": "white",
           "lakecolor": "white",
           "landcolor": "#E5ECF6",
           "showlakes": true,
           "showland": true,
           "subunitcolor": "white"
          },
          "hoverlabel": {
           "align": "left"
          },
          "hovermode": "closest",
          "mapbox": {
           "style": "light"
          },
          "paper_bgcolor": "white",
          "plot_bgcolor": "#E5ECF6",
          "polar": {
           "angularaxis": {
            "gridcolor": "white",
            "linecolor": "white",
            "ticks": ""
           },
           "bgcolor": "#E5ECF6",
           "radialaxis": {
            "gridcolor": "white",
            "linecolor": "white",
            "ticks": ""
           }
          },
          "scene": {
           "xaxis": {
            "backgroundcolor": "#E5ECF6",
            "gridcolor": "white",
            "gridwidth": 2,
            "linecolor": "white",
            "showbackground": true,
            "ticks": "",
            "zerolinecolor": "white"
           },
           "yaxis": {
            "backgroundcolor": "#E5ECF6",
            "gridcolor": "white",
            "gridwidth": 2,
            "linecolor": "white",
            "showbackground": true,
            "ticks": "",
            "zerolinecolor": "white"
           },
           "zaxis": {
            "backgroundcolor": "#E5ECF6",
            "gridcolor": "white",
            "gridwidth": 2,
            "linecolor": "white",
            "showbackground": true,
            "ticks": "",
            "zerolinecolor": "white"
           }
          },
          "shapedefaults": {
           "line": {
            "color": "#2a3f5f"
           }
          },
          "ternary": {
           "aaxis": {
            "gridcolor": "white",
            "linecolor": "white",
            "ticks": ""
           },
           "baxis": {
            "gridcolor": "white",
            "linecolor": "white",
            "ticks": ""
           },
           "bgcolor": "#E5ECF6",
           "caxis": {
            "gridcolor": "white",
            "linecolor": "white",
            "ticks": ""
           }
          },
          "title": {
           "x": 0.05
          },
          "xaxis": {
           "automargin": true,
           "gridcolor": "white",
           "linecolor": "white",
           "ticks": "",
           "title": {
            "standoff": 15
           },
           "zerolinecolor": "white",
           "zerolinewidth": 2
          },
          "yaxis": {
           "automargin": true,
           "gridcolor": "white",
           "linecolor": "white",
           "ticks": "",
           "title": {
            "standoff": 15
           },
           "zerolinecolor": "white",
           "zerolinewidth": 2
          }
         }
        },
        "title": {
         "text": "Total Active cases in Maharashtra Districtwise"
        },
        "xaxis": {
         "anchor": "y",
         "categoryarray": [
          "Ahmednagar",
          "Akola",
          "Amravati",
          "Aurangabad",
          "Beed",
          "Bhandara",
          "Buldhana",
          "Chandrapur",
          "Dhule",
          "Gadchiroli",
          "Gondia",
          "Hingoli",
          "Jalgaon",
          "Jalna",
          "Kolhapur",
          "Latur",
          "Mumbai",
          "Nagpur",
          "Nanded",
          "Nandurbar",
          "Nashik",
          "Osmanabad",
          "Palghar",
          "Parbhani",
          "Pune",
          "Raigad",
          "Ratnagiri",
          "Sangli",
          "Satara",
          "Sindhudurg",
          "Solapur",
          "Thane",
          "Wardha",
          "Washim",
          "Yavatmal"
         ],
         "categoryorder": "array",
         "domain": [
          0,
          1
         ],
         "title": {
          "text": "Districts"
         }
        },
        "yaxis": {
         "anchor": "x",
         "domain": [
          0,
          1
         ],
         "title": {
          "text": "Active Cases"
         }
        }
       }
      },
      "text/html": [
       "<div>                            <div id=\"262f79df-608f-4711-b058-d81c514342ed\" class=\"plotly-graph-div\" style=\"height:525px; width:100%;\"></div>            <script type=\"text/javascript\">                require([\"plotly\"], function(Plotly) {                    window.PLOTLYENV=window.PLOTLYENV || {};                                    if (document.getElementById(\"262f79df-608f-4711-b058-d81c514342ed\")) {                    Plotly.newPlot(                        \"262f79df-608f-4711-b058-d81c514342ed\",                        [{\"alignmentgroup\":\"True\",\"hovertemplate\":\"Districts=%{x}<br>Active Cases=%{y}<extra></extra>\",\"legendgroup\":\"Ahmednagar\",\"marker\":{\"color\":\"#636efa\",\"pattern\":{\"shape\":\"\"}},\"name\":\"Ahmednagar\",\"offsetgroup\":\"Ahmednagar\",\"orientation\":\"v\",\"showlegend\":true,\"textposition\":\"auto\",\"x\":[\"Ahmednagar\"],\"xaxis\":\"x\",\"y\":[472],\"yaxis\":\"y\",\"type\":\"bar\"},{\"alignmentgroup\":\"True\",\"hovertemplate\":\"Districts=%{x}<br>Active Cases=%{y}<extra></extra>\",\"legendgroup\":\"Akola\",\"marker\":{\"color\":\"#EF553B\",\"pattern\":{\"shape\":\"\"}},\"name\":\"Akola\",\"offsetgroup\":\"Akola\",\"orientation\":\"v\",\"showlegend\":true,\"textposition\":\"auto\",\"x\":[\"Akola\"],\"xaxis\":\"x\",\"y\":[21],\"yaxis\":\"y\",\"type\":\"bar\"},{\"alignmentgroup\":\"True\",\"hovertemplate\":\"Districts=%{x}<br>Active Cases=%{y}<extra></extra>\",\"legendgroup\":\"Amravati\",\"marker\":{\"color\":\"#00cc96\",\"pattern\":{\"shape\":\"\"}},\"name\":\"Amravati\",\"offsetgroup\":\"Amravati\",\"orientation\":\"v\",\"showlegend\":true,\"textposition\":\"auto\",\"x\":[\"Amravati\"],\"xaxis\":\"x\",\"y\":[13],\"yaxis\":\"y\",\"type\":\"bar\"},{\"alignmentgroup\":\"True\",\"hovertemplate\":\"Districts=%{x}<br>Active Cases=%{y}<extra></extra>\",\"legendgroup\":\"Aurangabad\",\"marker\":{\"color\":\"#ab63fa\",\"pattern\":{\"shape\":\"\"}},\"name\":\"Aurangabad\",\"offsetgroup\":\"Aurangabad\",\"orientation\":\"v\",\"showlegend\":true,\"textposition\":\"auto\",\"x\":[\"Aurangabad\"],\"xaxis\":\"x\",\"y\":[88],\"yaxis\":\"y\",\"type\":\"bar\"},{\"alignmentgroup\":\"True\",\"hovertemplate\":\"Districts=%{x}<br>Active Cases=%{y}<extra></extra>\",\"legendgroup\":\"Beed\",\"marker\":{\"color\":\"#FFA15A\",\"pattern\":{\"shape\":\"\"}},\"name\":\"Beed\",\"offsetgroup\":\"Beed\",\"orientation\":\"v\",\"showlegend\":true,\"textposition\":\"auto\",\"x\":[\"Beed\"],\"xaxis\":\"x\",\"y\":[43],\"yaxis\":\"y\",\"type\":\"bar\"},{\"alignmentgroup\":\"True\",\"hovertemplate\":\"Districts=%{x}<br>Active Cases=%{y}<extra></extra>\",\"legendgroup\":\"Bhandara\",\"marker\":{\"color\":\"#19d3f3\",\"pattern\":{\"shape\":\"\"}},\"name\":\"Bhandara\",\"offsetgroup\":\"Bhandara\",\"orientation\":\"v\",\"showlegend\":true,\"textposition\":\"auto\",\"x\":[\"Bhandara\"],\"xaxis\":\"x\",\"y\":[22],\"yaxis\":\"y\",\"type\":\"bar\"},{\"alignmentgroup\":\"True\",\"hovertemplate\":\"Districts=%{x}<br>Active Cases=%{y}<extra></extra>\",\"legendgroup\":\"Buldhana\",\"marker\":{\"color\":\"#FF6692\",\"pattern\":{\"shape\":\"\"}},\"name\":\"Buldhana\",\"offsetgroup\":\"Buldhana\",\"orientation\":\"v\",\"showlegend\":true,\"textposition\":\"auto\",\"x\":[\"Buldhana\"],\"xaxis\":\"x\",\"y\":[49],\"yaxis\":\"y\",\"type\":\"bar\"},{\"alignmentgroup\":\"True\",\"hovertemplate\":\"Districts=%{x}<br>Active Cases=%{y}<extra></extra>\",\"legendgroup\":\"Chandrapur\",\"marker\":{\"color\":\"#B6E880\",\"pattern\":{\"shape\":\"\"}},\"name\":\"Chandrapur\",\"offsetgroup\":\"Chandrapur\",\"orientation\":\"v\",\"showlegend\":true,\"textposition\":\"auto\",\"x\":[\"Chandrapur\"],\"xaxis\":\"x\",\"y\":[20],\"yaxis\":\"y\",\"type\":\"bar\"},{\"alignmentgroup\":\"True\",\"hovertemplate\":\"Districts=%{x}<br>Active Cases=%{y}<extra></extra>\",\"legendgroup\":\"Dhule\",\"marker\":{\"color\":\"#FF97FF\",\"pattern\":{\"shape\":\"\"}},\"name\":\"Dhule\",\"offsetgroup\":\"Dhule\",\"orientation\":\"v\",\"showlegend\":true,\"textposition\":\"auto\",\"x\":[\"Dhule\"],\"xaxis\":\"x\",\"y\":[4],\"yaxis\":\"y\",\"type\":\"bar\"},{\"alignmentgroup\":\"True\",\"hovertemplate\":\"Districts=%{x}<br>Active Cases=%{y}<extra></extra>\",\"legendgroup\":\"Gadchiroli\",\"marker\":{\"color\":\"#FECB52\",\"pattern\":{\"shape\":\"\"}},\"name\":\"Gadchiroli\",\"offsetgroup\":\"Gadchiroli\",\"orientation\":\"v\",\"showlegend\":true,\"textposition\":\"auto\",\"x\":[\"Gadchiroli\"],\"xaxis\":\"x\",\"y\":[73],\"yaxis\":\"y\",\"type\":\"bar\"},{\"alignmentgroup\":\"True\",\"hovertemplate\":\"Districts=%{x}<br>Active Cases=%{y}<extra></extra>\",\"legendgroup\":\"Gondia\",\"marker\":{\"color\":\"#636efa\",\"pattern\":{\"shape\":\"\"}},\"name\":\"Gondia\",\"offsetgroup\":\"Gondia\",\"orientation\":\"v\",\"showlegend\":true,\"textposition\":\"auto\",\"x\":[\"Gondia\"],\"xaxis\":\"x\",\"y\":[5],\"yaxis\":\"y\",\"type\":\"bar\"},{\"alignmentgroup\":\"True\",\"hovertemplate\":\"Districts=%{x}<br>Active Cases=%{y}<extra></extra>\",\"legendgroup\":\"Hingoli\",\"marker\":{\"color\":\"#EF553B\",\"pattern\":{\"shape\":\"\"}},\"name\":\"Hingoli\",\"offsetgroup\":\"Hingoli\",\"orientation\":\"v\",\"showlegend\":true,\"textposition\":\"auto\",\"x\":[\"Hingoli\"],\"xaxis\":\"x\",\"y\":[4],\"yaxis\":\"y\",\"type\":\"bar\"},{\"alignmentgroup\":\"True\",\"hovertemplate\":\"Districts=%{x}<br>Active Cases=%{y}<extra></extra>\",\"legendgroup\":\"Jalgaon\",\"marker\":{\"color\":\"#00cc96\",\"pattern\":{\"shape\":\"\"}},\"name\":\"Jalgaon\",\"offsetgroup\":\"Jalgaon\",\"orientation\":\"v\",\"showlegend\":true,\"textposition\":\"auto\",\"x\":[\"Jalgaon\"],\"xaxis\":\"x\",\"y\":[15],\"yaxis\":\"y\",\"type\":\"bar\"},{\"alignmentgroup\":\"True\",\"hovertemplate\":\"Districts=%{x}<br>Active Cases=%{y}<extra></extra>\",\"legendgroup\":\"Jalna\",\"marker\":{\"color\":\"#ab63fa\",\"pattern\":{\"shape\":\"\"}},\"name\":\"Jalna\",\"offsetgroup\":\"Jalna\",\"orientation\":\"v\",\"showlegend\":true,\"textposition\":\"auto\",\"x\":[\"Jalna\"],\"xaxis\":\"x\",\"y\":[4],\"yaxis\":\"y\",\"type\":\"bar\"},{\"alignmentgroup\":\"True\",\"hovertemplate\":\"Districts=%{x}<br>Active Cases=%{y}<extra></extra>\",\"legendgroup\":\"Kolhapur\",\"marker\":{\"color\":\"#FFA15A\",\"pattern\":{\"shape\":\"\"}},\"name\":\"Kolhapur\",\"offsetgroup\":\"Kolhapur\",\"orientation\":\"v\",\"showlegend\":true,\"textposition\":\"auto\",\"x\":[\"Kolhapur\"],\"xaxis\":\"x\",\"y\":[55],\"yaxis\":\"y\",\"type\":\"bar\"},{\"alignmentgroup\":\"True\",\"hovertemplate\":\"Districts=%{x}<br>Active Cases=%{y}<extra></extra>\",\"legendgroup\":\"Latur\",\"marker\":{\"color\":\"#19d3f3\",\"pattern\":{\"shape\":\"\"}},\"name\":\"Latur\",\"offsetgroup\":\"Latur\",\"orientation\":\"v\",\"showlegend\":true,\"textposition\":\"auto\",\"x\":[\"Latur\"],\"xaxis\":\"x\",\"y\":[12],\"yaxis\":\"y\",\"type\":\"bar\"},{\"alignmentgroup\":\"True\",\"hovertemplate\":\"Districts=%{x}<br>Active Cases=%{y}<extra></extra>\",\"legendgroup\":\"Mumbai\",\"marker\":{\"color\":\"#FF6692\",\"pattern\":{\"shape\":\"\"}},\"name\":\"Mumbai\",\"offsetgroup\":\"Mumbai\",\"orientation\":\"v\",\"showlegend\":true,\"textposition\":\"auto\",\"x\":[\"Mumbai\"],\"xaxis\":\"x\",\"y\":[650],\"yaxis\":\"y\",\"type\":\"bar\"},{\"alignmentgroup\":\"True\",\"hovertemplate\":\"Districts=%{x}<br>Active Cases=%{y}<extra></extra>\",\"legendgroup\":\"Nagpur\",\"marker\":{\"color\":\"#B6E880\",\"pattern\":{\"shape\":\"\"}},\"name\":\"Nagpur\",\"offsetgroup\":\"Nagpur\",\"orientation\":\"v\",\"showlegend\":true,\"textposition\":\"auto\",\"x\":[\"Nagpur\"],\"xaxis\":\"x\",\"y\":[211],\"yaxis\":\"y\",\"type\":\"bar\"},{\"alignmentgroup\":\"True\",\"hovertemplate\":\"Districts=%{x}<br>Active Cases=%{y}<extra></extra>\",\"legendgroup\":\"Nanded\",\"marker\":{\"color\":\"#FF97FF\",\"pattern\":{\"shape\":\"\"}},\"name\":\"Nanded\",\"offsetgroup\":\"Nanded\",\"orientation\":\"v\",\"showlegend\":true,\"textposition\":\"auto\",\"x\":[\"Nanded\"],\"xaxis\":\"x\",\"y\":[21],\"yaxis\":\"y\",\"type\":\"bar\"},{\"alignmentgroup\":\"True\",\"hovertemplate\":\"Districts=%{x}<br>Active Cases=%{y}<extra></extra>\",\"legendgroup\":\"Nandurbar\",\"marker\":{\"color\":\"#FECB52\",\"pattern\":{\"shape\":\"\"}},\"name\":\"Nandurbar\",\"offsetgroup\":\"Nandurbar\",\"orientation\":\"v\",\"showlegend\":true,\"textposition\":\"auto\",\"x\":[\"Nandurbar\"],\"xaxis\":\"x\",\"y\":[20],\"yaxis\":\"y\",\"type\":\"bar\"},{\"alignmentgroup\":\"True\",\"hovertemplate\":\"Districts=%{x}<br>Active Cases=%{y}<extra></extra>\",\"legendgroup\":\"Nashik\",\"marker\":{\"color\":\"#636efa\",\"pattern\":{\"shape\":\"\"}},\"name\":\"Nashik\",\"offsetgroup\":\"Nashik\",\"orientation\":\"v\",\"showlegend\":true,\"textposition\":\"auto\",\"x\":[\"Nashik\"],\"xaxis\":\"x\",\"y\":[303],\"yaxis\":\"y\",\"type\":\"bar\"},{\"alignmentgroup\":\"True\",\"hovertemplate\":\"Districts=%{x}<br>Active Cases=%{y}<extra></extra>\",\"legendgroup\":\"Osmanabad\",\"marker\":{\"color\":\"#EF553B\",\"pattern\":{\"shape\":\"\"}},\"name\":\"Osmanabad\",\"offsetgroup\":\"Osmanabad\",\"orientation\":\"v\",\"showlegend\":true,\"textposition\":\"auto\",\"x\":[\"Osmanabad\"],\"xaxis\":\"x\",\"y\":[28],\"yaxis\":\"y\",\"type\":\"bar\"},{\"alignmentgroup\":\"True\",\"hovertemplate\":\"Districts=%{x}<br>Active Cases=%{y}<extra></extra>\",\"legendgroup\":\"Palghar\",\"marker\":{\"color\":\"#00cc96\",\"pattern\":{\"shape\":\"\"}},\"name\":\"Palghar\",\"offsetgroup\":\"Palghar\",\"orientation\":\"v\",\"showlegend\":true,\"textposition\":\"auto\",\"x\":[\"Palghar\"],\"xaxis\":\"x\",\"y\":[60],\"yaxis\":\"y\",\"type\":\"bar\"},{\"alignmentgroup\":\"True\",\"hovertemplate\":\"Districts=%{x}<br>Active Cases=%{y}<extra></extra>\",\"legendgroup\":\"Parbhani\",\"marker\":{\"color\":\"#ab63fa\",\"pattern\":{\"shape\":\"\"}},\"name\":\"Parbhani\",\"offsetgroup\":\"Parbhani\",\"orientation\":\"v\",\"showlegend\":true,\"textposition\":\"auto\",\"x\":[\"Parbhani\"],\"xaxis\":\"x\",\"y\":[24],\"yaxis\":\"y\",\"type\":\"bar\"},{\"alignmentgroup\":\"True\",\"hovertemplate\":\"Districts=%{x}<br>Active Cases=%{y}<extra></extra>\",\"legendgroup\":\"Pune\",\"marker\":{\"color\":\"#FFA15A\",\"pattern\":{\"shape\":\"\"}},\"name\":\"Pune\",\"offsetgroup\":\"Pune\",\"orientation\":\"v\",\"showlegend\":true,\"textposition\":\"auto\",\"x\":[\"Pune\"],\"xaxis\":\"x\",\"y\":[1833],\"yaxis\":\"y\",\"type\":\"bar\"},{\"alignmentgroup\":\"True\",\"hovertemplate\":\"Districts=%{x}<br>Active Cases=%{y}<extra></extra>\",\"legendgroup\":\"Raigad\",\"marker\":{\"color\":\"#19d3f3\",\"pattern\":{\"shape\":\"\"}},\"name\":\"Raigad\",\"offsetgroup\":\"Raigad\",\"orientation\":\"v\",\"showlegend\":true,\"textposition\":\"auto\",\"x\":[\"Raigad\"],\"xaxis\":\"x\",\"y\":[123],\"yaxis\":\"y\",\"type\":\"bar\"},{\"alignmentgroup\":\"True\",\"hovertemplate\":\"Districts=%{x}<br>Active Cases=%{y}<extra></extra>\",\"legendgroup\":\"Ratnagiri\",\"marker\":{\"color\":\"#FF6692\",\"pattern\":{\"shape\":\"\"}},\"name\":\"Ratnagiri\",\"offsetgroup\":\"Ratnagiri\",\"orientation\":\"v\",\"showlegend\":true,\"textposition\":\"auto\",\"x\":[\"Ratnagiri\"],\"xaxis\":\"x\",\"y\":[10],\"yaxis\":\"y\",\"type\":\"bar\"},{\"alignmentgroup\":\"True\",\"hovertemplate\":\"Districts=%{x}<br>Active Cases=%{y}<extra></extra>\",\"legendgroup\":\"Sangli\",\"marker\":{\"color\":\"#B6E880\",\"pattern\":{\"shape\":\"\"}},\"name\":\"Sangli\",\"offsetgroup\":\"Sangli\",\"orientation\":\"v\",\"showlegend\":true,\"textposition\":\"auto\",\"x\":[\"Sangli\"],\"xaxis\":\"x\",\"y\":[49],\"yaxis\":\"y\",\"type\":\"bar\"},{\"alignmentgroup\":\"True\",\"hovertemplate\":\"Districts=%{x}<br>Active Cases=%{y}<extra></extra>\",\"legendgroup\":\"Satara\",\"marker\":{\"color\":\"#FF97FF\",\"pattern\":{\"shape\":\"\"}},\"name\":\"Satara\",\"offsetgroup\":\"Satara\",\"orientation\":\"v\",\"showlegend\":true,\"textposition\":\"auto\",\"x\":[\"Satara\"],\"xaxis\":\"x\",\"y\":[79],\"yaxis\":\"y\",\"type\":\"bar\"},{\"alignmentgroup\":\"True\",\"hovertemplate\":\"Districts=%{x}<br>Active Cases=%{y}<extra></extra>\",\"legendgroup\":\"Sindhudurg\",\"marker\":{\"color\":\"#FECB52\",\"pattern\":{\"shape\":\"\"}},\"name\":\"Sindhudurg\",\"offsetgroup\":\"Sindhudurg\",\"orientation\":\"v\",\"showlegend\":true,\"textposition\":\"auto\",\"x\":[\"Sindhudurg\"],\"xaxis\":\"x\",\"y\":[130],\"yaxis\":\"y\",\"type\":\"bar\"},{\"alignmentgroup\":\"True\",\"hovertemplate\":\"Districts=%{x}<br>Active Cases=%{y}<extra></extra>\",\"legendgroup\":\"Solapur\",\"marker\":{\"color\":\"#636efa\",\"pattern\":{\"shape\":\"\"}},\"name\":\"Solapur\",\"offsetgroup\":\"Solapur\",\"orientation\":\"v\",\"showlegend\":true,\"textposition\":\"auto\",\"x\":[\"Solapur\"],\"xaxis\":\"x\",\"y\":[59],\"yaxis\":\"y\",\"type\":\"bar\"},{\"alignmentgroup\":\"True\",\"hovertemplate\":\"Districts=%{x}<br>Active Cases=%{y}<extra></extra>\",\"legendgroup\":\"Thane\",\"marker\":{\"color\":\"#EF553B\",\"pattern\":{\"shape\":\"\"}},\"name\":\"Thane\",\"offsetgroup\":\"Thane\",\"orientation\":\"v\",\"showlegend\":true,\"textposition\":\"auto\",\"x\":[\"Thane\"],\"xaxis\":\"x\",\"y\":[405],\"yaxis\":\"y\",\"type\":\"bar\"},{\"alignmentgroup\":\"True\",\"hovertemplate\":\"Districts=%{x}<br>Active Cases=%{y}<extra></extra>\",\"legendgroup\":\"Wardha\",\"marker\":{\"color\":\"#00cc96\",\"pattern\":{\"shape\":\"\"}},\"name\":\"Wardha\",\"offsetgroup\":\"Wardha\",\"orientation\":\"v\",\"showlegend\":true,\"textposition\":\"auto\",\"x\":[\"Wardha\"],\"xaxis\":\"x\",\"y\":[13],\"yaxis\":\"y\",\"type\":\"bar\"},{\"alignmentgroup\":\"True\",\"hovertemplate\":\"Districts=%{x}<br>Active Cases=%{y}<extra></extra>\",\"legendgroup\":\"Washim\",\"marker\":{\"color\":\"#ab63fa\",\"pattern\":{\"shape\":\"\"}},\"name\":\"Washim\",\"offsetgroup\":\"Washim\",\"orientation\":\"v\",\"showlegend\":true,\"textposition\":\"auto\",\"x\":[\"Washim\"],\"xaxis\":\"x\",\"y\":[17],\"yaxis\":\"y\",\"type\":\"bar\"},{\"alignmentgroup\":\"True\",\"hovertemplate\":\"Districts=%{x}<br>Active Cases=%{y}<extra></extra>\",\"legendgroup\":\"Yavatmal\",\"marker\":{\"color\":\"#FFA15A\",\"pattern\":{\"shape\":\"\"}},\"name\":\"Yavatmal\",\"offsetgroup\":\"Yavatmal\",\"orientation\":\"v\",\"showlegend\":true,\"textposition\":\"auto\",\"x\":[\"Yavatmal\"],\"xaxis\":\"x\",\"y\":[18],\"yaxis\":\"y\",\"type\":\"bar\"}],                        {\"template\":{\"data\":{\"bar\":[{\"error_x\":{\"color\":\"#2a3f5f\"},\"error_y\":{\"color\":\"#2a3f5f\"},\"marker\":{\"line\":{\"color\":\"#E5ECF6\",\"width\":0.5},\"pattern\":{\"fillmode\":\"overlay\",\"size\":10,\"solidity\":0.2}},\"type\":\"bar\"}],\"barpolar\":[{\"marker\":{\"line\":{\"color\":\"#E5ECF6\",\"width\":0.5},\"pattern\":{\"fillmode\":\"overlay\",\"size\":10,\"solidity\":0.2}},\"type\":\"barpolar\"}],\"carpet\":[{\"aaxis\":{\"endlinecolor\":\"#2a3f5f\",\"gridcolor\":\"white\",\"linecolor\":\"white\",\"minorgridcolor\":\"white\",\"startlinecolor\":\"#2a3f5f\"},\"baxis\":{\"endlinecolor\":\"#2a3f5f\",\"gridcolor\":\"white\",\"linecolor\":\"white\",\"minorgridcolor\":\"white\",\"startlinecolor\":\"#2a3f5f\"},\"type\":\"carpet\"}],\"choropleth\":[{\"colorbar\":{\"outlinewidth\":0,\"ticks\":\"\"},\"type\":\"choropleth\"}],\"contour\":[{\"colorbar\":{\"outlinewidth\":0,\"ticks\":\"\"},\"colorscale\":[[0.0,\"#0d0887\"],[0.1111111111111111,\"#46039f\"],[0.2222222222222222,\"#7201a8\"],[0.3333333333333333,\"#9c179e\"],[0.4444444444444444,\"#bd3786\"],[0.5555555555555556,\"#d8576b\"],[0.6666666666666666,\"#ed7953\"],[0.7777777777777778,\"#fb9f3a\"],[0.8888888888888888,\"#fdca26\"],[1.0,\"#f0f921\"]],\"type\":\"contour\"}],\"contourcarpet\":[{\"colorbar\":{\"outlinewidth\":0,\"ticks\":\"\"},\"type\":\"contourcarpet\"}],\"heatmap\":[{\"colorbar\":{\"outlinewidth\":0,\"ticks\":\"\"},\"colorscale\":[[0.0,\"#0d0887\"],[0.1111111111111111,\"#46039f\"],[0.2222222222222222,\"#7201a8\"],[0.3333333333333333,\"#9c179e\"],[0.4444444444444444,\"#bd3786\"],[0.5555555555555556,\"#d8576b\"],[0.6666666666666666,\"#ed7953\"],[0.7777777777777778,\"#fb9f3a\"],[0.8888888888888888,\"#fdca26\"],[1.0,\"#f0f921\"]],\"type\":\"heatmap\"}],\"heatmapgl\":[{\"colorbar\":{\"outlinewidth\":0,\"ticks\":\"\"},\"colorscale\":[[0.0,\"#0d0887\"],[0.1111111111111111,\"#46039f\"],[0.2222222222222222,\"#7201a8\"],[0.3333333333333333,\"#9c179e\"],[0.4444444444444444,\"#bd3786\"],[0.5555555555555556,\"#d8576b\"],[0.6666666666666666,\"#ed7953\"],[0.7777777777777778,\"#fb9f3a\"],[0.8888888888888888,\"#fdca26\"],[1.0,\"#f0f921\"]],\"type\":\"heatmapgl\"}],\"histogram\":[{\"marker\":{\"pattern\":{\"fillmode\":\"overlay\",\"size\":10,\"solidity\":0.2}},\"type\":\"histogram\"}],\"histogram2d\":[{\"colorbar\":{\"outlinewidth\":0,\"ticks\":\"\"},\"colorscale\":[[0.0,\"#0d0887\"],[0.1111111111111111,\"#46039f\"],[0.2222222222222222,\"#7201a8\"],[0.3333333333333333,\"#9c179e\"],[0.4444444444444444,\"#bd3786\"],[0.5555555555555556,\"#d8576b\"],[0.6666666666666666,\"#ed7953\"],[0.7777777777777778,\"#fb9f3a\"],[0.8888888888888888,\"#fdca26\"],[1.0,\"#f0f921\"]],\"type\":\"histogram2d\"}],\"histogram2dcontour\":[{\"colorbar\":{\"outlinewidth\":0,\"ticks\":\"\"},\"colorscale\":[[0.0,\"#0d0887\"],[0.1111111111111111,\"#46039f\"],[0.2222222222222222,\"#7201a8\"],[0.3333333333333333,\"#9c179e\"],[0.4444444444444444,\"#bd3786\"],[0.5555555555555556,\"#d8576b\"],[0.6666666666666666,\"#ed7953\"],[0.7777777777777778,\"#fb9f3a\"],[0.8888888888888888,\"#fdca26\"],[1.0,\"#f0f921\"]],\"type\":\"histogram2dcontour\"}],\"mesh3d\":[{\"colorbar\":{\"outlinewidth\":0,\"ticks\":\"\"},\"type\":\"mesh3d\"}],\"parcoords\":[{\"line\":{\"colorbar\":{\"outlinewidth\":0,\"ticks\":\"\"}},\"type\":\"parcoords\"}],\"pie\":[{\"automargin\":true,\"type\":\"pie\"}],\"scatter\":[{\"marker\":{\"colorbar\":{\"outlinewidth\":0,\"ticks\":\"\"}},\"type\":\"scatter\"}],\"scatter3d\":[{\"line\":{\"colorbar\":{\"outlinewidth\":0,\"ticks\":\"\"}},\"marker\":{\"colorbar\":{\"outlinewidth\":0,\"ticks\":\"\"}},\"type\":\"scatter3d\"}],\"scattercarpet\":[{\"marker\":{\"colorbar\":{\"outlinewidth\":0,\"ticks\":\"\"}},\"type\":\"scattercarpet\"}],\"scattergeo\":[{\"marker\":{\"colorbar\":{\"outlinewidth\":0,\"ticks\":\"\"}},\"type\":\"scattergeo\"}],\"scattergl\":[{\"marker\":{\"colorbar\":{\"outlinewidth\":0,\"ticks\":\"\"}},\"type\":\"scattergl\"}],\"scattermapbox\":[{\"marker\":{\"colorbar\":{\"outlinewidth\":0,\"ticks\":\"\"}},\"type\":\"scattermapbox\"}],\"scatterpolar\":[{\"marker\":{\"colorbar\":{\"outlinewidth\":0,\"ticks\":\"\"}},\"type\":\"scatterpolar\"}],\"scatterpolargl\":[{\"marker\":{\"colorbar\":{\"outlinewidth\":0,\"ticks\":\"\"}},\"type\":\"scatterpolargl\"}],\"scatterternary\":[{\"marker\":{\"colorbar\":{\"outlinewidth\":0,\"ticks\":\"\"}},\"type\":\"scatterternary\"}],\"surface\":[{\"colorbar\":{\"outlinewidth\":0,\"ticks\":\"\"},\"colorscale\":[[0.0,\"#0d0887\"],[0.1111111111111111,\"#46039f\"],[0.2222222222222222,\"#7201a8\"],[0.3333333333333333,\"#9c179e\"],[0.4444444444444444,\"#bd3786\"],[0.5555555555555556,\"#d8576b\"],[0.6666666666666666,\"#ed7953\"],[0.7777777777777778,\"#fb9f3a\"],[0.8888888888888888,\"#fdca26\"],[1.0,\"#f0f921\"]],\"type\":\"surface\"}],\"table\":[{\"cells\":{\"fill\":{\"color\":\"#EBF0F8\"},\"line\":{\"color\":\"white\"}},\"header\":{\"fill\":{\"color\":\"#C8D4E3\"},\"line\":{\"color\":\"white\"}},\"type\":\"table\"}]},\"layout\":{\"annotationdefaults\":{\"arrowcolor\":\"#2a3f5f\",\"arrowhead\":0,\"arrowwidth\":1},\"autotypenumbers\":\"strict\",\"coloraxis\":{\"colorbar\":{\"outlinewidth\":0,\"ticks\":\"\"}},\"colorscale\":{\"diverging\":[[0,\"#8e0152\"],[0.1,\"#c51b7d\"],[0.2,\"#de77ae\"],[0.3,\"#f1b6da\"],[0.4,\"#fde0ef\"],[0.5,\"#f7f7f7\"],[0.6,\"#e6f5d0\"],[0.7,\"#b8e186\"],[0.8,\"#7fbc41\"],[0.9,\"#4d9221\"],[1,\"#276419\"]],\"sequential\":[[0.0,\"#0d0887\"],[0.1111111111111111,\"#46039f\"],[0.2222222222222222,\"#7201a8\"],[0.3333333333333333,\"#9c179e\"],[0.4444444444444444,\"#bd3786\"],[0.5555555555555556,\"#d8576b\"],[0.6666666666666666,\"#ed7953\"],[0.7777777777777778,\"#fb9f3a\"],[0.8888888888888888,\"#fdca26\"],[1.0,\"#f0f921\"]],\"sequentialminus\":[[0.0,\"#0d0887\"],[0.1111111111111111,\"#46039f\"],[0.2222222222222222,\"#7201a8\"],[0.3333333333333333,\"#9c179e\"],[0.4444444444444444,\"#bd3786\"],[0.5555555555555556,\"#d8576b\"],[0.6666666666666666,\"#ed7953\"],[0.7777777777777778,\"#fb9f3a\"],[0.8888888888888888,\"#fdca26\"],[1.0,\"#f0f921\"]]},\"colorway\":[\"#636efa\",\"#EF553B\",\"#00cc96\",\"#ab63fa\",\"#FFA15A\",\"#19d3f3\",\"#FF6692\",\"#B6E880\",\"#FF97FF\",\"#FECB52\"],\"font\":{\"color\":\"#2a3f5f\"},\"geo\":{\"bgcolor\":\"white\",\"lakecolor\":\"white\",\"landcolor\":\"#E5ECF6\",\"showlakes\":true,\"showland\":true,\"subunitcolor\":\"white\"},\"hoverlabel\":{\"align\":\"left\"},\"hovermode\":\"closest\",\"mapbox\":{\"style\":\"light\"},\"paper_bgcolor\":\"white\",\"plot_bgcolor\":\"#E5ECF6\",\"polar\":{\"angularaxis\":{\"gridcolor\":\"white\",\"linecolor\":\"white\",\"ticks\":\"\"},\"bgcolor\":\"#E5ECF6\",\"radialaxis\":{\"gridcolor\":\"white\",\"linecolor\":\"white\",\"ticks\":\"\"}},\"scene\":{\"xaxis\":{\"backgroundcolor\":\"#E5ECF6\",\"gridcolor\":\"white\",\"gridwidth\":2,\"linecolor\":\"white\",\"showbackground\":true,\"ticks\":\"\",\"zerolinecolor\":\"white\"},\"yaxis\":{\"backgroundcolor\":\"#E5ECF6\",\"gridcolor\":\"white\",\"gridwidth\":2,\"linecolor\":\"white\",\"showbackground\":true,\"ticks\":\"\",\"zerolinecolor\":\"white\"},\"zaxis\":{\"backgroundcolor\":\"#E5ECF6\",\"gridcolor\":\"white\",\"gridwidth\":2,\"linecolor\":\"white\",\"showbackground\":true,\"ticks\":\"\",\"zerolinecolor\":\"white\"}},\"shapedefaults\":{\"line\":{\"color\":\"#2a3f5f\"}},\"ternary\":{\"aaxis\":{\"gridcolor\":\"white\",\"linecolor\":\"white\",\"ticks\":\"\"},\"baxis\":{\"gridcolor\":\"white\",\"linecolor\":\"white\",\"ticks\":\"\"},\"bgcolor\":\"#E5ECF6\",\"caxis\":{\"gridcolor\":\"white\",\"linecolor\":\"white\",\"ticks\":\"\"}},\"title\":{\"x\":0.05},\"xaxis\":{\"automargin\":true,\"gridcolor\":\"white\",\"linecolor\":\"white\",\"ticks\":\"\",\"title\":{\"standoff\":15},\"zerolinecolor\":\"white\",\"zerolinewidth\":2},\"yaxis\":{\"automargin\":true,\"gridcolor\":\"white\",\"linecolor\":\"white\",\"ticks\":\"\",\"title\":{\"standoff\":15},\"zerolinecolor\":\"white\",\"zerolinewidth\":2}}},\"xaxis\":{\"anchor\":\"y\",\"domain\":[0.0,1.0],\"title\":{\"text\":\"Districts\"},\"categoryorder\":\"array\",\"categoryarray\":[\"Ahmednagar\",\"Akola\",\"Amravati\",\"Aurangabad\",\"Beed\",\"Bhandara\",\"Buldhana\",\"Chandrapur\",\"Dhule\",\"Gadchiroli\",\"Gondia\",\"Hingoli\",\"Jalgaon\",\"Jalna\",\"Kolhapur\",\"Latur\",\"Mumbai\",\"Nagpur\",\"Nanded\",\"Nandurbar\",\"Nashik\",\"Osmanabad\",\"Palghar\",\"Parbhani\",\"Pune\",\"Raigad\",\"Ratnagiri\",\"Sangli\",\"Satara\",\"Sindhudurg\",\"Solapur\",\"Thane\",\"Wardha\",\"Washim\",\"Yavatmal\"]},\"yaxis\":{\"anchor\":\"x\",\"domain\":[0.0,1.0],\"title\":{\"text\":\"Active Cases\"}},\"legend\":{\"title\":{\"text\":\"Districts\"},\"tracegroupgap\":0},\"title\":{\"text\":\"Total Active cases in Maharashtra Districtwise\"},\"barmode\":\"relative\"},                        {\"responsive\": true}                    ).then(function(){\n",
       "                            \n",
       "var gd = document.getElementById('262f79df-608f-4711-b058-d81c514342ed');\n",
       "var x = new MutationObserver(function (mutations, observer) {{\n",
       "        var display = window.getComputedStyle(gd).display;\n",
       "        if (!display || display === 'none') {{\n",
       "            console.log([gd, 'removed!']);\n",
       "            Plotly.purge(gd);\n",
       "            observer.disconnect();\n",
       "        }}\n",
       "}});\n",
       "\n",
       "// Listen for the removal of the full notebook cells\n",
       "var notebookContainer = gd.closest('#notebook-container');\n",
       "if (notebookContainer) {{\n",
       "    x.observe(notebookContainer, {childList: true});\n",
       "}}\n",
       "\n",
       "// Listen for the clearing of the current output cell\n",
       "var outputEl = gd.closest('.output');\n",
       "if (outputEl) {{\n",
       "    x.observe(outputEl, {childList: true});\n",
       "}}\n",
       "\n",
       "                        })                };                });            </script>        </div>"
      ]
     },
     "metadata": {},
     "output_type": "display_data"
    }
   ],
   "source": [
    "fig=px.bar(dataframe,x=\"Districts\",y=\"Active Cases\",title=\"Total Active cases in Maharashtra Districtwise\",color='Districts')\n",
    "fig.show()"
   ]
  },
  {
   "cell_type": "markdown",
   "metadata": {},
   "source": [
    "**Total Recovered cases in Maharashtra Districtwise**"
   ]
  },
  {
   "cell_type": "code",
   "execution_count": 32,
   "metadata": {
    "scrolled": false
   },
   "outputs": [
    {
     "data": {
      "application/vnd.plotly.v1+json": {
       "config": {
        "plotlyServerURL": "https://plot.ly"
       },
       "data": [
        {
         "alignmentgroup": "True",
         "hovertemplate": "Districts=%{x}<br>Recovered=%{y}<extra></extra>",
         "legendgroup": "Ahmednagar",
         "marker": {
          "color": "#636efa",
          "pattern": {
           "shape": ""
          }
         },
         "name": "Ahmednagar",
         "offsetgroup": "Ahmednagar",
         "orientation": "v",
         "showlegend": true,
         "textposition": "auto",
         "type": "bar",
         "x": [
          "Ahmednagar"
         ],
         "xaxis": "x",
         "y": [
          369253
         ],
         "yaxis": "y"
        },
        {
         "alignmentgroup": "True",
         "hovertemplate": "Districts=%{x}<br>Recovered=%{y}<extra></extra>",
         "legendgroup": "Akola",
         "marker": {
          "color": "#EF553B",
          "pattern": {
           "shape": ""
          }
         },
         "name": "Akola",
         "offsetgroup": "Akola",
         "orientation": "v",
         "showlegend": true,
         "textposition": "auto",
         "type": "bar",
         "x": [
          "Akola"
         ],
         "xaxis": "x",
         "y": [
          64646
         ],
         "yaxis": "y"
        },
        {
         "alignmentgroup": "True",
         "hovertemplate": "Districts=%{x}<br>Recovered=%{y}<extra></extra>",
         "legendgroup": "Amravati",
         "marker": {
          "color": "#00cc96",
          "pattern": {
           "shape": ""
          }
         },
         "name": "Amravati",
         "offsetgroup": "Amravati",
         "orientation": "v",
         "showlegend": true,
         "textposition": "auto",
         "type": "bar",
         "x": [
          "Amravati"
         ],
         "xaxis": "x",
         "y": [
          104272
         ],
         "yaxis": "y"
        },
        {
         "alignmentgroup": "True",
         "hovertemplate": "Districts=%{x}<br>Recovered=%{y}<extra></extra>",
         "legendgroup": "Aurangabad",
         "marker": {
          "color": "#ab63fa",
          "pattern": {
           "shape": ""
          }
         },
         "name": "Aurangabad",
         "offsetgroup": "Aurangabad",
         "orientation": "v",
         "showlegend": true,
         "textposition": "auto",
         "type": "bar",
         "x": [
          "Aurangabad"
         ],
         "xaxis": "x",
         "y": [
          171892
         ],
         "yaxis": "y"
        },
        {
         "alignmentgroup": "True",
         "hovertemplate": "Districts=%{x}<br>Recovered=%{y}<extra></extra>",
         "legendgroup": "Beed",
         "marker": {
          "color": "#FFA15A",
          "pattern": {
           "shape": ""
          }
         },
         "name": "Beed",
         "offsetgroup": "Beed",
         "orientation": "v",
         "showlegend": true,
         "textposition": "auto",
         "type": "bar",
         "x": [
          "Beed"
         ],
         "xaxis": "x",
         "y": [
          106143
         ],
         "yaxis": "y"
        },
        {
         "alignmentgroup": "True",
         "hovertemplate": "Districts=%{x}<br>Recovered=%{y}<extra></extra>",
         "legendgroup": "Bhandara",
         "marker": {
          "color": "#19d3f3",
          "pattern": {
           "shape": ""
          }
         },
         "name": "Bhandara",
         "offsetgroup": "Bhandara",
         "orientation": "v",
         "showlegend": true,
         "textposition": "auto",
         "type": "bar",
         "x": [
          "Bhandara"
         ],
         "xaxis": "x",
         "y": [
          66755
         ],
         "yaxis": "y"
        },
        {
         "alignmentgroup": "True",
         "hovertemplate": "Districts=%{x}<br>Recovered=%{y}<extra></extra>",
         "legendgroup": "Buldhana",
         "marker": {
          "color": "#FF6692",
          "pattern": {
           "shape": ""
          }
         },
         "name": "Buldhana",
         "offsetgroup": "Buldhana",
         "orientation": "v",
         "showlegend": true,
         "textposition": "auto",
         "type": "bar",
         "x": [
          "Buldhana"
         ],
         "xaxis": "x",
         "y": [
          90922
         ],
         "yaxis": "y"
        },
        {
         "alignmentgroup": "True",
         "hovertemplate": "Districts=%{x}<br>Recovered=%{y}<extra></extra>",
         "legendgroup": "Chandrapur",
         "marker": {
          "color": "#B6E880",
          "pattern": {
           "shape": ""
          }
         },
         "name": "Chandrapur",
         "offsetgroup": "Chandrapur",
         "orientation": "v",
         "showlegend": true,
         "textposition": "auto",
         "type": "bar",
         "x": [
          "Chandrapur"
         ],
         "xaxis": "x",
         "y": [
          97182
         ],
         "yaxis": "y"
        },
        {
         "alignmentgroup": "True",
         "hovertemplate": "Districts=%{x}<br>Recovered=%{y}<extra></extra>",
         "legendgroup": "Dhule",
         "marker": {
          "color": "#FF97FF",
          "pattern": {
           "shape": ""
          }
         },
         "name": "Dhule",
         "offsetgroup": "Dhule",
         "orientation": "v",
         "showlegend": true,
         "textposition": "auto",
         "type": "bar",
         "x": [
          "Dhule"
         ],
         "xaxis": "x",
         "y": [
          49963
         ],
         "yaxis": "y"
        },
        {
         "alignmentgroup": "True",
         "hovertemplate": "Districts=%{x}<br>Recovered=%{y}<extra></extra>",
         "legendgroup": "Gadchiroli",
         "marker": {
          "color": "#FECB52",
          "pattern": {
           "shape": ""
          }
         },
         "name": "Gadchiroli",
         "offsetgroup": "Gadchiroli",
         "orientation": "v",
         "showlegend": true,
         "textposition": "auto",
         "type": "bar",
         "x": [
          "Gadchiroli"
         ],
         "xaxis": "x",
         "y": [
          36131
         ],
         "yaxis": "y"
        },
        {
         "alignmentgroup": "True",
         "hovertemplate": "Districts=%{x}<br>Recovered=%{y}<extra></extra>",
         "legendgroup": "Gondia",
         "marker": {
          "color": "#636efa",
          "pattern": {
           "shape": ""
          }
         },
         "name": "Gondia",
         "offsetgroup": "Gondia",
         "orientation": "v",
         "showlegend": true,
         "textposition": "auto",
         "type": "bar",
         "x": [
          "Gondia"
         ],
         "xaxis": "x",
         "y": [
          44796
         ],
         "yaxis": "y"
        },
        {
         "alignmentgroup": "True",
         "hovertemplate": "Districts=%{x}<br>Recovered=%{y}<extra></extra>",
         "legendgroup": "Hingoli",
         "marker": {
          "color": "#EF553B",
          "pattern": {
           "shape": ""
          }
         },
         "name": "Hingoli",
         "offsetgroup": "Hingoli",
         "orientation": "v",
         "showlegend": true,
         "textposition": "auto",
         "type": "bar",
         "x": [
          "Hingoli"
         ],
         "xaxis": "x",
         "y": [
          21646
         ],
         "yaxis": "y"
        },
        {
         "alignmentgroup": "True",
         "hovertemplate": "Districts=%{x}<br>Recovered=%{y}<extra></extra>",
         "legendgroup": "Jalgaon",
         "marker": {
          "color": "#00cc96",
          "pattern": {
           "shape": ""
          }
         },
         "name": "Jalgaon",
         "offsetgroup": "Jalgaon",
         "orientation": "v",
         "showlegend": true,
         "textposition": "auto",
         "type": "bar",
         "x": [
          "Jalgaon"
         ],
         "xaxis": "x",
         "y": [
          146678
         ],
         "yaxis": "y"
        },
        {
         "alignmentgroup": "True",
         "hovertemplate": "Districts=%{x}<br>Recovered=%{y}<extra></extra>",
         "legendgroup": "Jalna",
         "marker": {
          "color": "#ab63fa",
          "pattern": {
           "shape": ""
          }
         },
         "name": "Jalna",
         "offsetgroup": "Jalna",
         "orientation": "v",
         "showlegend": true,
         "textposition": "auto",
         "type": "bar",
         "x": [
          "Jalna"
         ],
         "xaxis": "x",
         "y": [
          65068
         ],
         "yaxis": "y"
        },
        {
         "alignmentgroup": "True",
         "hovertemplate": "Districts=%{x}<br>Recovered=%{y}<extra></extra>",
         "legendgroup": "Kolhapur",
         "marker": {
          "color": "#FFA15A",
          "pattern": {
           "shape": ""
          }
         },
         "name": "Kolhapur",
         "offsetgroup": "Kolhapur",
         "orientation": "v",
         "showlegend": true,
         "textposition": "auto",
         "type": "bar",
         "x": [
          "Kolhapur"
         ],
         "xaxis": "x",
         "y": [
          214441
         ],
         "yaxis": "y"
        },
        {
         "alignmentgroup": "True",
         "hovertemplate": "Districts=%{x}<br>Recovered=%{y}<extra></extra>",
         "legendgroup": "Latur",
         "marker": {
          "color": "#19d3f3",
          "pattern": {
           "shape": ""
          }
         },
         "name": "Latur",
         "offsetgroup": "Latur",
         "orientation": "v",
         "showlegend": true,
         "textposition": "auto",
         "type": "bar",
         "x": [
          "Latur"
         ],
         "xaxis": "x",
         "y": [
          102378
         ],
         "yaxis": "y"
        },
        {
         "alignmentgroup": "True",
         "hovertemplate": "Districts=%{x}<br>Recovered=%{y}<extra></extra>",
         "legendgroup": "Mumbai",
         "marker": {
          "color": "#FF6692",
          "pattern": {
           "shape": ""
          }
         },
         "name": "Mumbai",
         "offsetgroup": "Mumbai",
         "orientation": "v",
         "showlegend": true,
         "textposition": "auto",
         "type": "bar",
         "x": [
          "Mumbai"
         ],
         "xaxis": "x",
         "y": [
          1035610
         ],
         "yaxis": "y"
        },
        {
         "alignmentgroup": "True",
         "hovertemplate": "Districts=%{x}<br>Recovered=%{y}<extra></extra>",
         "legendgroup": "Nagpur",
         "marker": {
          "color": "#B6E880",
          "pattern": {
           "shape": ""
          }
         },
         "name": "Nagpur",
         "offsetgroup": "Nagpur",
         "orientation": "v",
         "showlegend": true,
         "textposition": "auto",
         "type": "bar",
         "x": [
          "Nagpur"
         ],
         "xaxis": "x",
         "y": [
          566766
         ],
         "yaxis": "y"
        },
        {
         "alignmentgroup": "True",
         "hovertemplate": "Districts=%{x}<br>Recovered=%{y}<extra></extra>",
         "legendgroup": "Nanded",
         "marker": {
          "color": "#FF97FF",
          "pattern": {
           "shape": ""
          }
         },
         "name": "Nanded",
         "offsetgroup": "Nanded",
         "orientation": "v",
         "showlegend": true,
         "textposition": "auto",
         "type": "bar",
         "x": [
          "Nanded"
         ],
         "xaxis": "x",
         "y": [
          99903
         ],
         "yaxis": "y"
        },
        {
         "alignmentgroup": "True",
         "hovertemplate": "Districts=%{x}<br>Recovered=%{y}<extra></extra>",
         "legendgroup": "Nandurbar",
         "marker": {
          "color": "#FECB52",
          "pattern": {
           "shape": ""
          }
         },
         "name": "Nandurbar",
         "offsetgroup": "Nandurbar",
         "orientation": "v",
         "showlegend": true,
         "textposition": "auto",
         "type": "bar",
         "x": [
          "Nandurbar"
         ],
         "xaxis": "x",
         "y": [
          45608
         ],
         "yaxis": "y"
        },
        {
         "alignmentgroup": "True",
         "hovertemplate": "Districts=%{x}<br>Recovered=%{y}<extra></extra>",
         "legendgroup": "Nashik",
         "marker": {
          "color": "#636efa",
          "pattern": {
           "shape": ""
          }
         },
         "name": "Nashik",
         "offsetgroup": "Nashik",
         "orientation": "v",
         "showlegend": true,
         "textposition": "auto",
         "type": "bar",
         "x": [
          "Nashik"
         ],
         "xaxis": "x",
         "y": [
          463406
         ],
         "yaxis": "y"
        },
        {
         "alignmentgroup": "True",
         "hovertemplate": "Districts=%{x}<br>Recovered=%{y}<extra></extra>",
         "legendgroup": "Osmanabad",
         "marker": {
          "color": "#EF553B",
          "pattern": {
           "shape": ""
          }
         },
         "name": "Osmanabad",
         "offsetgroup": "Osmanabad",
         "orientation": "v",
         "showlegend": true,
         "textposition": "auto",
         "type": "bar",
         "x": [
          "Osmanabad"
         ],
         "xaxis": "x",
         "y": [
          72916
         ],
         "yaxis": "y"
        },
        {
         "alignmentgroup": "True",
         "hovertemplate": "Districts=%{x}<br>Recovered=%{y}<extra></extra>",
         "legendgroup": "Palghar",
         "marker": {
          "color": "#00cc96",
          "pattern": {
           "shape": ""
          }
         },
         "name": "Palghar",
         "offsetgroup": "Palghar",
         "orientation": "v",
         "showlegend": true,
         "textposition": "auto",
         "type": "bar",
         "x": [
          "Palghar"
         ],
         "xaxis": "x",
         "y": [
          159935
         ],
         "yaxis": "y"
        },
        {
         "alignmentgroup": "True",
         "hovertemplate": "Districts=%{x}<br>Recovered=%{y}<extra></extra>",
         "legendgroup": "Parbhani",
         "marker": {
          "color": "#ab63fa",
          "pattern": {
           "shape": ""
          }
         },
         "name": "Parbhani",
         "offsetgroup": "Parbhani",
         "orientation": "v",
         "showlegend": true,
         "textposition": "auto",
         "type": "bar",
         "x": [
          "Parbhani"
         ],
         "xaxis": "x",
         "y": [
          57207
         ],
         "yaxis": "y"
        },
        {
         "alignmentgroup": "True",
         "hovertemplate": "Districts=%{x}<br>Recovered=%{y}<extra></extra>",
         "legendgroup": "Pune",
         "marker": {
          "color": "#FFA15A",
          "pattern": {
           "shape": ""
          }
         },
         "name": "Pune",
         "offsetgroup": "Pune",
         "orientation": "v",
         "showlegend": true,
         "textposition": "auto",
         "type": "bar",
         "x": [
          "Pune"
         ],
         "xaxis": "x",
         "y": [
          1428051
         ],
         "yaxis": "y"
        },
        {
         "alignmentgroup": "True",
         "hovertemplate": "Districts=%{x}<br>Recovered=%{y}<extra></extra>",
         "legendgroup": "Raigad",
         "marker": {
          "color": "#19d3f3",
          "pattern": {
           "shape": ""
          }
         },
         "name": "Raigad",
         "offsetgroup": "Raigad",
         "orientation": "v",
         "showlegend": true,
         "textposition": "auto",
         "type": "bar",
         "x": [
          "Raigad"
         ],
         "xaxis": "x",
         "y": [
          239092
         ],
         "yaxis": "y"
        },
        {
         "alignmentgroup": "True",
         "hovertemplate": "Districts=%{x}<br>Recovered=%{y}<extra></extra>",
         "legendgroup": "Ratnagiri",
         "marker": {
          "color": "#FF6692",
          "pattern": {
           "shape": ""
          }
         },
         "name": "Ratnagiri",
         "offsetgroup": "Ratnagiri",
         "orientation": "v",
         "showlegend": true,
         "textposition": "auto",
         "type": "bar",
         "x": [
          "Ratnagiri"
         ],
         "xaxis": "x",
         "y": [
          81827
         ],
         "yaxis": "y"
        },
        {
         "alignmentgroup": "True",
         "hovertemplate": "Districts=%{x}<br>Recovered=%{y}<extra></extra>",
         "legendgroup": "Sangli",
         "marker": {
          "color": "#B6E880",
          "pattern": {
           "shape": ""
          }
         },
         "name": "Sangli",
         "offsetgroup": "Sangli",
         "orientation": "v",
         "showlegend": true,
         "textposition": "auto",
         "type": "bar",
         "x": [
          "Sangli"
         ],
         "xaxis": "x",
         "y": [
          221232
         ],
         "yaxis": "y"
        },
        {
         "alignmentgroup": "True",
         "hovertemplate": "Districts=%{x}<br>Recovered=%{y}<extra></extra>",
         "legendgroup": "Satara",
         "marker": {
          "color": "#FF97FF",
          "pattern": {
           "shape": ""
          }
         },
         "name": "Satara",
         "offsetgroup": "Satara",
         "orientation": "v",
         "showlegend": true,
         "textposition": "auto",
         "type": "bar",
         "x": [
          "Satara"
         ],
         "xaxis": "x",
         "y": [
          271259
         ],
         "yaxis": "y"
        },
        {
         "alignmentgroup": "True",
         "hovertemplate": "Districts=%{x}<br>Recovered=%{y}<extra></extra>",
         "legendgroup": "Sindhudurg",
         "marker": {
          "color": "#FECB52",
          "pattern": {
           "shape": ""
          }
         },
         "name": "Sindhudurg",
         "offsetgroup": "Sindhudurg",
         "orientation": "v",
         "showlegend": true,
         "textposition": "auto",
         "type": "bar",
         "x": [
          "Sindhudurg"
         ],
         "xaxis": "x",
         "y": [
          55469
         ],
         "yaxis": "y"
        },
        {
         "alignmentgroup": "True",
         "hovertemplate": "Districts=%{x}<br>Recovered=%{y}<extra></extra>",
         "legendgroup": "Solapur",
         "marker": {
          "color": "#636efa",
          "pattern": {
           "shape": ""
          }
         },
         "name": "Solapur",
         "offsetgroup": "Solapur",
         "orientation": "v",
         "showlegend": true,
         "textposition": "auto",
         "type": "bar",
         "x": [
          "Solapur"
         ],
         "xaxis": "x",
         "y": [
          221035
         ],
         "yaxis": "y"
        },
        {
         "alignmentgroup": "True",
         "hovertemplate": "Districts=%{x}<br>Recovered=%{y}<extra></extra>",
         "legendgroup": "Thane",
         "marker": {
          "color": "#EF553B",
          "pattern": {
           "shape": ""
          }
         },
         "name": "Thane",
         "offsetgroup": "Thane",
         "orientation": "v",
         "showlegend": true,
         "textposition": "auto",
         "type": "bar",
         "x": [
          "Thane"
         ],
         "xaxis": "x",
         "y": [
          753903
         ],
         "yaxis": "y"
        },
        {
         "alignmentgroup": "True",
         "hovertemplate": "Districts=%{x}<br>Recovered=%{y}<extra></extra>",
         "legendgroup": "Wardha",
         "marker": {
          "color": "#00cc96",
          "pattern": {
           "shape": ""
          }
         },
         "name": "Wardha",
         "offsetgroup": "Wardha",
         "orientation": "v",
         "showlegend": true,
         "textposition": "auto",
         "type": "bar",
         "x": [
          "Wardha"
         ],
         "xaxis": "x",
         "y": [
          64235
         ],
         "yaxis": "y"
        },
        {
         "alignmentgroup": "True",
         "hovertemplate": "Districts=%{x}<br>Recovered=%{y}<extra></extra>",
         "legendgroup": "Washim",
         "marker": {
          "color": "#ab63fa",
          "pattern": {
           "shape": ""
          }
         },
         "name": "Washim",
         "offsetgroup": "Washim",
         "orientation": "v",
         "showlegend": true,
         "textposition": "auto",
         "type": "bar",
         "x": [
          "Washim"
         ],
         "xaxis": "x",
         "y": [
          44934
         ],
         "yaxis": "y"
        },
        {
         "alignmentgroup": "True",
         "hovertemplate": "Districts=%{x}<br>Recovered=%{y}<extra></extra>",
         "legendgroup": "Yavatmal",
         "marker": {
          "color": "#FFA15A",
          "pattern": {
           "shape": ""
          }
         },
         "name": "Yavatmal",
         "offsetgroup": "Yavatmal",
         "orientation": "v",
         "showlegend": true,
         "textposition": "auto",
         "type": "bar",
         "x": [
          "Yavatmal"
         ],
         "xaxis": "x",
         "y": [
          80134
         ],
         "yaxis": "y"
        }
       ],
       "layout": {
        "barmode": "relative",
        "legend": {
         "title": {
          "text": "Districts"
         },
         "tracegroupgap": 0
        },
        "template": {
         "data": {
          "bar": [
           {
            "error_x": {
             "color": "#2a3f5f"
            },
            "error_y": {
             "color": "#2a3f5f"
            },
            "marker": {
             "line": {
              "color": "#E5ECF6",
              "width": 0.5
             },
             "pattern": {
              "fillmode": "overlay",
              "size": 10,
              "solidity": 0.2
             }
            },
            "type": "bar"
           }
          ],
          "barpolar": [
           {
            "marker": {
             "line": {
              "color": "#E5ECF6",
              "width": 0.5
             },
             "pattern": {
              "fillmode": "overlay",
              "size": 10,
              "solidity": 0.2
             }
            },
            "type": "barpolar"
           }
          ],
          "carpet": [
           {
            "aaxis": {
             "endlinecolor": "#2a3f5f",
             "gridcolor": "white",
             "linecolor": "white",
             "minorgridcolor": "white",
             "startlinecolor": "#2a3f5f"
            },
            "baxis": {
             "endlinecolor": "#2a3f5f",
             "gridcolor": "white",
             "linecolor": "white",
             "minorgridcolor": "white",
             "startlinecolor": "#2a3f5f"
            },
            "type": "carpet"
           }
          ],
          "choropleth": [
           {
            "colorbar": {
             "outlinewidth": 0,
             "ticks": ""
            },
            "type": "choropleth"
           }
          ],
          "contour": [
           {
            "colorbar": {
             "outlinewidth": 0,
             "ticks": ""
            },
            "colorscale": [
             [
              0,
              "#0d0887"
             ],
             [
              0.1111111111111111,
              "#46039f"
             ],
             [
              0.2222222222222222,
              "#7201a8"
             ],
             [
              0.3333333333333333,
              "#9c179e"
             ],
             [
              0.4444444444444444,
              "#bd3786"
             ],
             [
              0.5555555555555556,
              "#d8576b"
             ],
             [
              0.6666666666666666,
              "#ed7953"
             ],
             [
              0.7777777777777778,
              "#fb9f3a"
             ],
             [
              0.8888888888888888,
              "#fdca26"
             ],
             [
              1,
              "#f0f921"
             ]
            ],
            "type": "contour"
           }
          ],
          "contourcarpet": [
           {
            "colorbar": {
             "outlinewidth": 0,
             "ticks": ""
            },
            "type": "contourcarpet"
           }
          ],
          "heatmap": [
           {
            "colorbar": {
             "outlinewidth": 0,
             "ticks": ""
            },
            "colorscale": [
             [
              0,
              "#0d0887"
             ],
             [
              0.1111111111111111,
              "#46039f"
             ],
             [
              0.2222222222222222,
              "#7201a8"
             ],
             [
              0.3333333333333333,
              "#9c179e"
             ],
             [
              0.4444444444444444,
              "#bd3786"
             ],
             [
              0.5555555555555556,
              "#d8576b"
             ],
             [
              0.6666666666666666,
              "#ed7953"
             ],
             [
              0.7777777777777778,
              "#fb9f3a"
             ],
             [
              0.8888888888888888,
              "#fdca26"
             ],
             [
              1,
              "#f0f921"
             ]
            ],
            "type": "heatmap"
           }
          ],
          "heatmapgl": [
           {
            "colorbar": {
             "outlinewidth": 0,
             "ticks": ""
            },
            "colorscale": [
             [
              0,
              "#0d0887"
             ],
             [
              0.1111111111111111,
              "#46039f"
             ],
             [
              0.2222222222222222,
              "#7201a8"
             ],
             [
              0.3333333333333333,
              "#9c179e"
             ],
             [
              0.4444444444444444,
              "#bd3786"
             ],
             [
              0.5555555555555556,
              "#d8576b"
             ],
             [
              0.6666666666666666,
              "#ed7953"
             ],
             [
              0.7777777777777778,
              "#fb9f3a"
             ],
             [
              0.8888888888888888,
              "#fdca26"
             ],
             [
              1,
              "#f0f921"
             ]
            ],
            "type": "heatmapgl"
           }
          ],
          "histogram": [
           {
            "marker": {
             "pattern": {
              "fillmode": "overlay",
              "size": 10,
              "solidity": 0.2
             }
            },
            "type": "histogram"
           }
          ],
          "histogram2d": [
           {
            "colorbar": {
             "outlinewidth": 0,
             "ticks": ""
            },
            "colorscale": [
             [
              0,
              "#0d0887"
             ],
             [
              0.1111111111111111,
              "#46039f"
             ],
             [
              0.2222222222222222,
              "#7201a8"
             ],
             [
              0.3333333333333333,
              "#9c179e"
             ],
             [
              0.4444444444444444,
              "#bd3786"
             ],
             [
              0.5555555555555556,
              "#d8576b"
             ],
             [
              0.6666666666666666,
              "#ed7953"
             ],
             [
              0.7777777777777778,
              "#fb9f3a"
             ],
             [
              0.8888888888888888,
              "#fdca26"
             ],
             [
              1,
              "#f0f921"
             ]
            ],
            "type": "histogram2d"
           }
          ],
          "histogram2dcontour": [
           {
            "colorbar": {
             "outlinewidth": 0,
             "ticks": ""
            },
            "colorscale": [
             [
              0,
              "#0d0887"
             ],
             [
              0.1111111111111111,
              "#46039f"
             ],
             [
              0.2222222222222222,
              "#7201a8"
             ],
             [
              0.3333333333333333,
              "#9c179e"
             ],
             [
              0.4444444444444444,
              "#bd3786"
             ],
             [
              0.5555555555555556,
              "#d8576b"
             ],
             [
              0.6666666666666666,
              "#ed7953"
             ],
             [
              0.7777777777777778,
              "#fb9f3a"
             ],
             [
              0.8888888888888888,
              "#fdca26"
             ],
             [
              1,
              "#f0f921"
             ]
            ],
            "type": "histogram2dcontour"
           }
          ],
          "mesh3d": [
           {
            "colorbar": {
             "outlinewidth": 0,
             "ticks": ""
            },
            "type": "mesh3d"
           }
          ],
          "parcoords": [
           {
            "line": {
             "colorbar": {
              "outlinewidth": 0,
              "ticks": ""
             }
            },
            "type": "parcoords"
           }
          ],
          "pie": [
           {
            "automargin": true,
            "type": "pie"
           }
          ],
          "scatter": [
           {
            "marker": {
             "colorbar": {
              "outlinewidth": 0,
              "ticks": ""
             }
            },
            "type": "scatter"
           }
          ],
          "scatter3d": [
           {
            "line": {
             "colorbar": {
              "outlinewidth": 0,
              "ticks": ""
             }
            },
            "marker": {
             "colorbar": {
              "outlinewidth": 0,
              "ticks": ""
             }
            },
            "type": "scatter3d"
           }
          ],
          "scattercarpet": [
           {
            "marker": {
             "colorbar": {
              "outlinewidth": 0,
              "ticks": ""
             }
            },
            "type": "scattercarpet"
           }
          ],
          "scattergeo": [
           {
            "marker": {
             "colorbar": {
              "outlinewidth": 0,
              "ticks": ""
             }
            },
            "type": "scattergeo"
           }
          ],
          "scattergl": [
           {
            "marker": {
             "colorbar": {
              "outlinewidth": 0,
              "ticks": ""
             }
            },
            "type": "scattergl"
           }
          ],
          "scattermapbox": [
           {
            "marker": {
             "colorbar": {
              "outlinewidth": 0,
              "ticks": ""
             }
            },
            "type": "scattermapbox"
           }
          ],
          "scatterpolar": [
           {
            "marker": {
             "colorbar": {
              "outlinewidth": 0,
              "ticks": ""
             }
            },
            "type": "scatterpolar"
           }
          ],
          "scatterpolargl": [
           {
            "marker": {
             "colorbar": {
              "outlinewidth": 0,
              "ticks": ""
             }
            },
            "type": "scatterpolargl"
           }
          ],
          "scatterternary": [
           {
            "marker": {
             "colorbar": {
              "outlinewidth": 0,
              "ticks": ""
             }
            },
            "type": "scatterternary"
           }
          ],
          "surface": [
           {
            "colorbar": {
             "outlinewidth": 0,
             "ticks": ""
            },
            "colorscale": [
             [
              0,
              "#0d0887"
             ],
             [
              0.1111111111111111,
              "#46039f"
             ],
             [
              0.2222222222222222,
              "#7201a8"
             ],
             [
              0.3333333333333333,
              "#9c179e"
             ],
             [
              0.4444444444444444,
              "#bd3786"
             ],
             [
              0.5555555555555556,
              "#d8576b"
             ],
             [
              0.6666666666666666,
              "#ed7953"
             ],
             [
              0.7777777777777778,
              "#fb9f3a"
             ],
             [
              0.8888888888888888,
              "#fdca26"
             ],
             [
              1,
              "#f0f921"
             ]
            ],
            "type": "surface"
           }
          ],
          "table": [
           {
            "cells": {
             "fill": {
              "color": "#EBF0F8"
             },
             "line": {
              "color": "white"
             }
            },
            "header": {
             "fill": {
              "color": "#C8D4E3"
             },
             "line": {
              "color": "white"
             }
            },
            "type": "table"
           }
          ]
         },
         "layout": {
          "annotationdefaults": {
           "arrowcolor": "#2a3f5f",
           "arrowhead": 0,
           "arrowwidth": 1
          },
          "autotypenumbers": "strict",
          "coloraxis": {
           "colorbar": {
            "outlinewidth": 0,
            "ticks": ""
           }
          },
          "colorscale": {
           "diverging": [
            [
             0,
             "#8e0152"
            ],
            [
             0.1,
             "#c51b7d"
            ],
            [
             0.2,
             "#de77ae"
            ],
            [
             0.3,
             "#f1b6da"
            ],
            [
             0.4,
             "#fde0ef"
            ],
            [
             0.5,
             "#f7f7f7"
            ],
            [
             0.6,
             "#e6f5d0"
            ],
            [
             0.7,
             "#b8e186"
            ],
            [
             0.8,
             "#7fbc41"
            ],
            [
             0.9,
             "#4d9221"
            ],
            [
             1,
             "#276419"
            ]
           ],
           "sequential": [
            [
             0,
             "#0d0887"
            ],
            [
             0.1111111111111111,
             "#46039f"
            ],
            [
             0.2222222222222222,
             "#7201a8"
            ],
            [
             0.3333333333333333,
             "#9c179e"
            ],
            [
             0.4444444444444444,
             "#bd3786"
            ],
            [
             0.5555555555555556,
             "#d8576b"
            ],
            [
             0.6666666666666666,
             "#ed7953"
            ],
            [
             0.7777777777777778,
             "#fb9f3a"
            ],
            [
             0.8888888888888888,
             "#fdca26"
            ],
            [
             1,
             "#f0f921"
            ]
           ],
           "sequentialminus": [
            [
             0,
             "#0d0887"
            ],
            [
             0.1111111111111111,
             "#46039f"
            ],
            [
             0.2222222222222222,
             "#7201a8"
            ],
            [
             0.3333333333333333,
             "#9c179e"
            ],
            [
             0.4444444444444444,
             "#bd3786"
            ],
            [
             0.5555555555555556,
             "#d8576b"
            ],
            [
             0.6666666666666666,
             "#ed7953"
            ],
            [
             0.7777777777777778,
             "#fb9f3a"
            ],
            [
             0.8888888888888888,
             "#fdca26"
            ],
            [
             1,
             "#f0f921"
            ]
           ]
          },
          "colorway": [
           "#636efa",
           "#EF553B",
           "#00cc96",
           "#ab63fa",
           "#FFA15A",
           "#19d3f3",
           "#FF6692",
           "#B6E880",
           "#FF97FF",
           "#FECB52"
          ],
          "font": {
           "color": "#2a3f5f"
          },
          "geo": {
           "bgcolor": "white",
           "lakecolor": "white",
           "landcolor": "#E5ECF6",
           "showlakes": true,
           "showland": true,
           "subunitcolor": "white"
          },
          "hoverlabel": {
           "align": "left"
          },
          "hovermode": "closest",
          "mapbox": {
           "style": "light"
          },
          "paper_bgcolor": "white",
          "plot_bgcolor": "#E5ECF6",
          "polar": {
           "angularaxis": {
            "gridcolor": "white",
            "linecolor": "white",
            "ticks": ""
           },
           "bgcolor": "#E5ECF6",
           "radialaxis": {
            "gridcolor": "white",
            "linecolor": "white",
            "ticks": ""
           }
          },
          "scene": {
           "xaxis": {
            "backgroundcolor": "#E5ECF6",
            "gridcolor": "white",
            "gridwidth": 2,
            "linecolor": "white",
            "showbackground": true,
            "ticks": "",
            "zerolinecolor": "white"
           },
           "yaxis": {
            "backgroundcolor": "#E5ECF6",
            "gridcolor": "white",
            "gridwidth": 2,
            "linecolor": "white",
            "showbackground": true,
            "ticks": "",
            "zerolinecolor": "white"
           },
           "zaxis": {
            "backgroundcolor": "#E5ECF6",
            "gridcolor": "white",
            "gridwidth": 2,
            "linecolor": "white",
            "showbackground": true,
            "ticks": "",
            "zerolinecolor": "white"
           }
          },
          "shapedefaults": {
           "line": {
            "color": "#2a3f5f"
           }
          },
          "ternary": {
           "aaxis": {
            "gridcolor": "white",
            "linecolor": "white",
            "ticks": ""
           },
           "baxis": {
            "gridcolor": "white",
            "linecolor": "white",
            "ticks": ""
           },
           "bgcolor": "#E5ECF6",
           "caxis": {
            "gridcolor": "white",
            "linecolor": "white",
            "ticks": ""
           }
          },
          "title": {
           "x": 0.05
          },
          "xaxis": {
           "automargin": true,
           "gridcolor": "white",
           "linecolor": "white",
           "ticks": "",
           "title": {
            "standoff": 15
           },
           "zerolinecolor": "white",
           "zerolinewidth": 2
          },
          "yaxis": {
           "automargin": true,
           "gridcolor": "white",
           "linecolor": "white",
           "ticks": "",
           "title": {
            "standoff": 15
           },
           "zerolinecolor": "white",
           "zerolinewidth": 2
          }
         }
        },
        "title": {
         "text": "Total Recovered cases in Maharashtra Districtwise"
        },
        "xaxis": {
         "anchor": "y",
         "categoryarray": [
          "Ahmednagar",
          "Akola",
          "Amravati",
          "Aurangabad",
          "Beed",
          "Bhandara",
          "Buldhana",
          "Chandrapur",
          "Dhule",
          "Gadchiroli",
          "Gondia",
          "Hingoli",
          "Jalgaon",
          "Jalna",
          "Kolhapur",
          "Latur",
          "Mumbai",
          "Nagpur",
          "Nanded",
          "Nandurbar",
          "Nashik",
          "Osmanabad",
          "Palghar",
          "Parbhani",
          "Pune",
          "Raigad",
          "Ratnagiri",
          "Sangli",
          "Satara",
          "Sindhudurg",
          "Solapur",
          "Thane",
          "Wardha",
          "Washim",
          "Yavatmal"
         ],
         "categoryorder": "array",
         "domain": [
          0,
          1
         ],
         "title": {
          "text": "Districts"
         }
        },
        "yaxis": {
         "anchor": "x",
         "domain": [
          0,
          1
         ],
         "title": {
          "text": "Recovered"
         }
        }
       }
      },
      "text/html": [
       "<div>                            <div id=\"be644540-15c1-4654-a4b1-53cd3fd14d7f\" class=\"plotly-graph-div\" style=\"height:525px; width:100%;\"></div>            <script type=\"text/javascript\">                require([\"plotly\"], function(Plotly) {                    window.PLOTLYENV=window.PLOTLYENV || {};                                    if (document.getElementById(\"be644540-15c1-4654-a4b1-53cd3fd14d7f\")) {                    Plotly.newPlot(                        \"be644540-15c1-4654-a4b1-53cd3fd14d7f\",                        [{\"alignmentgroup\":\"True\",\"hovertemplate\":\"Districts=%{x}<br>Recovered=%{y}<extra></extra>\",\"legendgroup\":\"Ahmednagar\",\"marker\":{\"color\":\"#636efa\",\"pattern\":{\"shape\":\"\"}},\"name\":\"Ahmednagar\",\"offsetgroup\":\"Ahmednagar\",\"orientation\":\"v\",\"showlegend\":true,\"textposition\":\"auto\",\"x\":[\"Ahmednagar\"],\"xaxis\":\"x\",\"y\":[369253],\"yaxis\":\"y\",\"type\":\"bar\"},{\"alignmentgroup\":\"True\",\"hovertemplate\":\"Districts=%{x}<br>Recovered=%{y}<extra></extra>\",\"legendgroup\":\"Akola\",\"marker\":{\"color\":\"#EF553B\",\"pattern\":{\"shape\":\"\"}},\"name\":\"Akola\",\"offsetgroup\":\"Akola\",\"orientation\":\"v\",\"showlegend\":true,\"textposition\":\"auto\",\"x\":[\"Akola\"],\"xaxis\":\"x\",\"y\":[64646],\"yaxis\":\"y\",\"type\":\"bar\"},{\"alignmentgroup\":\"True\",\"hovertemplate\":\"Districts=%{x}<br>Recovered=%{y}<extra></extra>\",\"legendgroup\":\"Amravati\",\"marker\":{\"color\":\"#00cc96\",\"pattern\":{\"shape\":\"\"}},\"name\":\"Amravati\",\"offsetgroup\":\"Amravati\",\"orientation\":\"v\",\"showlegend\":true,\"textposition\":\"auto\",\"x\":[\"Amravati\"],\"xaxis\":\"x\",\"y\":[104272],\"yaxis\":\"y\",\"type\":\"bar\"},{\"alignmentgroup\":\"True\",\"hovertemplate\":\"Districts=%{x}<br>Recovered=%{y}<extra></extra>\",\"legendgroup\":\"Aurangabad\",\"marker\":{\"color\":\"#ab63fa\",\"pattern\":{\"shape\":\"\"}},\"name\":\"Aurangabad\",\"offsetgroup\":\"Aurangabad\",\"orientation\":\"v\",\"showlegend\":true,\"textposition\":\"auto\",\"x\":[\"Aurangabad\"],\"xaxis\":\"x\",\"y\":[171892],\"yaxis\":\"y\",\"type\":\"bar\"},{\"alignmentgroup\":\"True\",\"hovertemplate\":\"Districts=%{x}<br>Recovered=%{y}<extra></extra>\",\"legendgroup\":\"Beed\",\"marker\":{\"color\":\"#FFA15A\",\"pattern\":{\"shape\":\"\"}},\"name\":\"Beed\",\"offsetgroup\":\"Beed\",\"orientation\":\"v\",\"showlegend\":true,\"textposition\":\"auto\",\"x\":[\"Beed\"],\"xaxis\":\"x\",\"y\":[106143],\"yaxis\":\"y\",\"type\":\"bar\"},{\"alignmentgroup\":\"True\",\"hovertemplate\":\"Districts=%{x}<br>Recovered=%{y}<extra></extra>\",\"legendgroup\":\"Bhandara\",\"marker\":{\"color\":\"#19d3f3\",\"pattern\":{\"shape\":\"\"}},\"name\":\"Bhandara\",\"offsetgroup\":\"Bhandara\",\"orientation\":\"v\",\"showlegend\":true,\"textposition\":\"auto\",\"x\":[\"Bhandara\"],\"xaxis\":\"x\",\"y\":[66755],\"yaxis\":\"y\",\"type\":\"bar\"},{\"alignmentgroup\":\"True\",\"hovertemplate\":\"Districts=%{x}<br>Recovered=%{y}<extra></extra>\",\"legendgroup\":\"Buldhana\",\"marker\":{\"color\":\"#FF6692\",\"pattern\":{\"shape\":\"\"}},\"name\":\"Buldhana\",\"offsetgroup\":\"Buldhana\",\"orientation\":\"v\",\"showlegend\":true,\"textposition\":\"auto\",\"x\":[\"Buldhana\"],\"xaxis\":\"x\",\"y\":[90922],\"yaxis\":\"y\",\"type\":\"bar\"},{\"alignmentgroup\":\"True\",\"hovertemplate\":\"Districts=%{x}<br>Recovered=%{y}<extra></extra>\",\"legendgroup\":\"Chandrapur\",\"marker\":{\"color\":\"#B6E880\",\"pattern\":{\"shape\":\"\"}},\"name\":\"Chandrapur\",\"offsetgroup\":\"Chandrapur\",\"orientation\":\"v\",\"showlegend\":true,\"textposition\":\"auto\",\"x\":[\"Chandrapur\"],\"xaxis\":\"x\",\"y\":[97182],\"yaxis\":\"y\",\"type\":\"bar\"},{\"alignmentgroup\":\"True\",\"hovertemplate\":\"Districts=%{x}<br>Recovered=%{y}<extra></extra>\",\"legendgroup\":\"Dhule\",\"marker\":{\"color\":\"#FF97FF\",\"pattern\":{\"shape\":\"\"}},\"name\":\"Dhule\",\"offsetgroup\":\"Dhule\",\"orientation\":\"v\",\"showlegend\":true,\"textposition\":\"auto\",\"x\":[\"Dhule\"],\"xaxis\":\"x\",\"y\":[49963],\"yaxis\":\"y\",\"type\":\"bar\"},{\"alignmentgroup\":\"True\",\"hovertemplate\":\"Districts=%{x}<br>Recovered=%{y}<extra></extra>\",\"legendgroup\":\"Gadchiroli\",\"marker\":{\"color\":\"#FECB52\",\"pattern\":{\"shape\":\"\"}},\"name\":\"Gadchiroli\",\"offsetgroup\":\"Gadchiroli\",\"orientation\":\"v\",\"showlegend\":true,\"textposition\":\"auto\",\"x\":[\"Gadchiroli\"],\"xaxis\":\"x\",\"y\":[36131],\"yaxis\":\"y\",\"type\":\"bar\"},{\"alignmentgroup\":\"True\",\"hovertemplate\":\"Districts=%{x}<br>Recovered=%{y}<extra></extra>\",\"legendgroup\":\"Gondia\",\"marker\":{\"color\":\"#636efa\",\"pattern\":{\"shape\":\"\"}},\"name\":\"Gondia\",\"offsetgroup\":\"Gondia\",\"orientation\":\"v\",\"showlegend\":true,\"textposition\":\"auto\",\"x\":[\"Gondia\"],\"xaxis\":\"x\",\"y\":[44796],\"yaxis\":\"y\",\"type\":\"bar\"},{\"alignmentgroup\":\"True\",\"hovertemplate\":\"Districts=%{x}<br>Recovered=%{y}<extra></extra>\",\"legendgroup\":\"Hingoli\",\"marker\":{\"color\":\"#EF553B\",\"pattern\":{\"shape\":\"\"}},\"name\":\"Hingoli\",\"offsetgroup\":\"Hingoli\",\"orientation\":\"v\",\"showlegend\":true,\"textposition\":\"auto\",\"x\":[\"Hingoli\"],\"xaxis\":\"x\",\"y\":[21646],\"yaxis\":\"y\",\"type\":\"bar\"},{\"alignmentgroup\":\"True\",\"hovertemplate\":\"Districts=%{x}<br>Recovered=%{y}<extra></extra>\",\"legendgroup\":\"Jalgaon\",\"marker\":{\"color\":\"#00cc96\",\"pattern\":{\"shape\":\"\"}},\"name\":\"Jalgaon\",\"offsetgroup\":\"Jalgaon\",\"orientation\":\"v\",\"showlegend\":true,\"textposition\":\"auto\",\"x\":[\"Jalgaon\"],\"xaxis\":\"x\",\"y\":[146678],\"yaxis\":\"y\",\"type\":\"bar\"},{\"alignmentgroup\":\"True\",\"hovertemplate\":\"Districts=%{x}<br>Recovered=%{y}<extra></extra>\",\"legendgroup\":\"Jalna\",\"marker\":{\"color\":\"#ab63fa\",\"pattern\":{\"shape\":\"\"}},\"name\":\"Jalna\",\"offsetgroup\":\"Jalna\",\"orientation\":\"v\",\"showlegend\":true,\"textposition\":\"auto\",\"x\":[\"Jalna\"],\"xaxis\":\"x\",\"y\":[65068],\"yaxis\":\"y\",\"type\":\"bar\"},{\"alignmentgroup\":\"True\",\"hovertemplate\":\"Districts=%{x}<br>Recovered=%{y}<extra></extra>\",\"legendgroup\":\"Kolhapur\",\"marker\":{\"color\":\"#FFA15A\",\"pattern\":{\"shape\":\"\"}},\"name\":\"Kolhapur\",\"offsetgroup\":\"Kolhapur\",\"orientation\":\"v\",\"showlegend\":true,\"textposition\":\"auto\",\"x\":[\"Kolhapur\"],\"xaxis\":\"x\",\"y\":[214441],\"yaxis\":\"y\",\"type\":\"bar\"},{\"alignmentgroup\":\"True\",\"hovertemplate\":\"Districts=%{x}<br>Recovered=%{y}<extra></extra>\",\"legendgroup\":\"Latur\",\"marker\":{\"color\":\"#19d3f3\",\"pattern\":{\"shape\":\"\"}},\"name\":\"Latur\",\"offsetgroup\":\"Latur\",\"orientation\":\"v\",\"showlegend\":true,\"textposition\":\"auto\",\"x\":[\"Latur\"],\"xaxis\":\"x\",\"y\":[102378],\"yaxis\":\"y\",\"type\":\"bar\"},{\"alignmentgroup\":\"True\",\"hovertemplate\":\"Districts=%{x}<br>Recovered=%{y}<extra></extra>\",\"legendgroup\":\"Mumbai\",\"marker\":{\"color\":\"#FF6692\",\"pattern\":{\"shape\":\"\"}},\"name\":\"Mumbai\",\"offsetgroup\":\"Mumbai\",\"orientation\":\"v\",\"showlegend\":true,\"textposition\":\"auto\",\"x\":[\"Mumbai\"],\"xaxis\":\"x\",\"y\":[1035610],\"yaxis\":\"y\",\"type\":\"bar\"},{\"alignmentgroup\":\"True\",\"hovertemplate\":\"Districts=%{x}<br>Recovered=%{y}<extra></extra>\",\"legendgroup\":\"Nagpur\",\"marker\":{\"color\":\"#B6E880\",\"pattern\":{\"shape\":\"\"}},\"name\":\"Nagpur\",\"offsetgroup\":\"Nagpur\",\"orientation\":\"v\",\"showlegend\":true,\"textposition\":\"auto\",\"x\":[\"Nagpur\"],\"xaxis\":\"x\",\"y\":[566766],\"yaxis\":\"y\",\"type\":\"bar\"},{\"alignmentgroup\":\"True\",\"hovertemplate\":\"Districts=%{x}<br>Recovered=%{y}<extra></extra>\",\"legendgroup\":\"Nanded\",\"marker\":{\"color\":\"#FF97FF\",\"pattern\":{\"shape\":\"\"}},\"name\":\"Nanded\",\"offsetgroup\":\"Nanded\",\"orientation\":\"v\",\"showlegend\":true,\"textposition\":\"auto\",\"x\":[\"Nanded\"],\"xaxis\":\"x\",\"y\":[99903],\"yaxis\":\"y\",\"type\":\"bar\"},{\"alignmentgroup\":\"True\",\"hovertemplate\":\"Districts=%{x}<br>Recovered=%{y}<extra></extra>\",\"legendgroup\":\"Nandurbar\",\"marker\":{\"color\":\"#FECB52\",\"pattern\":{\"shape\":\"\"}},\"name\":\"Nandurbar\",\"offsetgroup\":\"Nandurbar\",\"orientation\":\"v\",\"showlegend\":true,\"textposition\":\"auto\",\"x\":[\"Nandurbar\"],\"xaxis\":\"x\",\"y\":[45608],\"yaxis\":\"y\",\"type\":\"bar\"},{\"alignmentgroup\":\"True\",\"hovertemplate\":\"Districts=%{x}<br>Recovered=%{y}<extra></extra>\",\"legendgroup\":\"Nashik\",\"marker\":{\"color\":\"#636efa\",\"pattern\":{\"shape\":\"\"}},\"name\":\"Nashik\",\"offsetgroup\":\"Nashik\",\"orientation\":\"v\",\"showlegend\":true,\"textposition\":\"auto\",\"x\":[\"Nashik\"],\"xaxis\":\"x\",\"y\":[463406],\"yaxis\":\"y\",\"type\":\"bar\"},{\"alignmentgroup\":\"True\",\"hovertemplate\":\"Districts=%{x}<br>Recovered=%{y}<extra></extra>\",\"legendgroup\":\"Osmanabad\",\"marker\":{\"color\":\"#EF553B\",\"pattern\":{\"shape\":\"\"}},\"name\":\"Osmanabad\",\"offsetgroup\":\"Osmanabad\",\"orientation\":\"v\",\"showlegend\":true,\"textposition\":\"auto\",\"x\":[\"Osmanabad\"],\"xaxis\":\"x\",\"y\":[72916],\"yaxis\":\"y\",\"type\":\"bar\"},{\"alignmentgroup\":\"True\",\"hovertemplate\":\"Districts=%{x}<br>Recovered=%{y}<extra></extra>\",\"legendgroup\":\"Palghar\",\"marker\":{\"color\":\"#00cc96\",\"pattern\":{\"shape\":\"\"}},\"name\":\"Palghar\",\"offsetgroup\":\"Palghar\",\"orientation\":\"v\",\"showlegend\":true,\"textposition\":\"auto\",\"x\":[\"Palghar\"],\"xaxis\":\"x\",\"y\":[159935],\"yaxis\":\"y\",\"type\":\"bar\"},{\"alignmentgroup\":\"True\",\"hovertemplate\":\"Districts=%{x}<br>Recovered=%{y}<extra></extra>\",\"legendgroup\":\"Parbhani\",\"marker\":{\"color\":\"#ab63fa\",\"pattern\":{\"shape\":\"\"}},\"name\":\"Parbhani\",\"offsetgroup\":\"Parbhani\",\"orientation\":\"v\",\"showlegend\":true,\"textposition\":\"auto\",\"x\":[\"Parbhani\"],\"xaxis\":\"x\",\"y\":[57207],\"yaxis\":\"y\",\"type\":\"bar\"},{\"alignmentgroup\":\"True\",\"hovertemplate\":\"Districts=%{x}<br>Recovered=%{y}<extra></extra>\",\"legendgroup\":\"Pune\",\"marker\":{\"color\":\"#FFA15A\",\"pattern\":{\"shape\":\"\"}},\"name\":\"Pune\",\"offsetgroup\":\"Pune\",\"orientation\":\"v\",\"showlegend\":true,\"textposition\":\"auto\",\"x\":[\"Pune\"],\"xaxis\":\"x\",\"y\":[1428051],\"yaxis\":\"y\",\"type\":\"bar\"},{\"alignmentgroup\":\"True\",\"hovertemplate\":\"Districts=%{x}<br>Recovered=%{y}<extra></extra>\",\"legendgroup\":\"Raigad\",\"marker\":{\"color\":\"#19d3f3\",\"pattern\":{\"shape\":\"\"}},\"name\":\"Raigad\",\"offsetgroup\":\"Raigad\",\"orientation\":\"v\",\"showlegend\":true,\"textposition\":\"auto\",\"x\":[\"Raigad\"],\"xaxis\":\"x\",\"y\":[239092],\"yaxis\":\"y\",\"type\":\"bar\"},{\"alignmentgroup\":\"True\",\"hovertemplate\":\"Districts=%{x}<br>Recovered=%{y}<extra></extra>\",\"legendgroup\":\"Ratnagiri\",\"marker\":{\"color\":\"#FF6692\",\"pattern\":{\"shape\":\"\"}},\"name\":\"Ratnagiri\",\"offsetgroup\":\"Ratnagiri\",\"orientation\":\"v\",\"showlegend\":true,\"textposition\":\"auto\",\"x\":[\"Ratnagiri\"],\"xaxis\":\"x\",\"y\":[81827],\"yaxis\":\"y\",\"type\":\"bar\"},{\"alignmentgroup\":\"True\",\"hovertemplate\":\"Districts=%{x}<br>Recovered=%{y}<extra></extra>\",\"legendgroup\":\"Sangli\",\"marker\":{\"color\":\"#B6E880\",\"pattern\":{\"shape\":\"\"}},\"name\":\"Sangli\",\"offsetgroup\":\"Sangli\",\"orientation\":\"v\",\"showlegend\":true,\"textposition\":\"auto\",\"x\":[\"Sangli\"],\"xaxis\":\"x\",\"y\":[221232],\"yaxis\":\"y\",\"type\":\"bar\"},{\"alignmentgroup\":\"True\",\"hovertemplate\":\"Districts=%{x}<br>Recovered=%{y}<extra></extra>\",\"legendgroup\":\"Satara\",\"marker\":{\"color\":\"#FF97FF\",\"pattern\":{\"shape\":\"\"}},\"name\":\"Satara\",\"offsetgroup\":\"Satara\",\"orientation\":\"v\",\"showlegend\":true,\"textposition\":\"auto\",\"x\":[\"Satara\"],\"xaxis\":\"x\",\"y\":[271259],\"yaxis\":\"y\",\"type\":\"bar\"},{\"alignmentgroup\":\"True\",\"hovertemplate\":\"Districts=%{x}<br>Recovered=%{y}<extra></extra>\",\"legendgroup\":\"Sindhudurg\",\"marker\":{\"color\":\"#FECB52\",\"pattern\":{\"shape\":\"\"}},\"name\":\"Sindhudurg\",\"offsetgroup\":\"Sindhudurg\",\"orientation\":\"v\",\"showlegend\":true,\"textposition\":\"auto\",\"x\":[\"Sindhudurg\"],\"xaxis\":\"x\",\"y\":[55469],\"yaxis\":\"y\",\"type\":\"bar\"},{\"alignmentgroup\":\"True\",\"hovertemplate\":\"Districts=%{x}<br>Recovered=%{y}<extra></extra>\",\"legendgroup\":\"Solapur\",\"marker\":{\"color\":\"#636efa\",\"pattern\":{\"shape\":\"\"}},\"name\":\"Solapur\",\"offsetgroup\":\"Solapur\",\"orientation\":\"v\",\"showlegend\":true,\"textposition\":\"auto\",\"x\":[\"Solapur\"],\"xaxis\":\"x\",\"y\":[221035],\"yaxis\":\"y\",\"type\":\"bar\"},{\"alignmentgroup\":\"True\",\"hovertemplate\":\"Districts=%{x}<br>Recovered=%{y}<extra></extra>\",\"legendgroup\":\"Thane\",\"marker\":{\"color\":\"#EF553B\",\"pattern\":{\"shape\":\"\"}},\"name\":\"Thane\",\"offsetgroup\":\"Thane\",\"orientation\":\"v\",\"showlegend\":true,\"textposition\":\"auto\",\"x\":[\"Thane\"],\"xaxis\":\"x\",\"y\":[753903],\"yaxis\":\"y\",\"type\":\"bar\"},{\"alignmentgroup\":\"True\",\"hovertemplate\":\"Districts=%{x}<br>Recovered=%{y}<extra></extra>\",\"legendgroup\":\"Wardha\",\"marker\":{\"color\":\"#00cc96\",\"pattern\":{\"shape\":\"\"}},\"name\":\"Wardha\",\"offsetgroup\":\"Wardha\",\"orientation\":\"v\",\"showlegend\":true,\"textposition\":\"auto\",\"x\":[\"Wardha\"],\"xaxis\":\"x\",\"y\":[64235],\"yaxis\":\"y\",\"type\":\"bar\"},{\"alignmentgroup\":\"True\",\"hovertemplate\":\"Districts=%{x}<br>Recovered=%{y}<extra></extra>\",\"legendgroup\":\"Washim\",\"marker\":{\"color\":\"#ab63fa\",\"pattern\":{\"shape\":\"\"}},\"name\":\"Washim\",\"offsetgroup\":\"Washim\",\"orientation\":\"v\",\"showlegend\":true,\"textposition\":\"auto\",\"x\":[\"Washim\"],\"xaxis\":\"x\",\"y\":[44934],\"yaxis\":\"y\",\"type\":\"bar\"},{\"alignmentgroup\":\"True\",\"hovertemplate\":\"Districts=%{x}<br>Recovered=%{y}<extra></extra>\",\"legendgroup\":\"Yavatmal\",\"marker\":{\"color\":\"#FFA15A\",\"pattern\":{\"shape\":\"\"}},\"name\":\"Yavatmal\",\"offsetgroup\":\"Yavatmal\",\"orientation\":\"v\",\"showlegend\":true,\"textposition\":\"auto\",\"x\":[\"Yavatmal\"],\"xaxis\":\"x\",\"y\":[80134],\"yaxis\":\"y\",\"type\":\"bar\"}],                        {\"template\":{\"data\":{\"bar\":[{\"error_x\":{\"color\":\"#2a3f5f\"},\"error_y\":{\"color\":\"#2a3f5f\"},\"marker\":{\"line\":{\"color\":\"#E5ECF6\",\"width\":0.5},\"pattern\":{\"fillmode\":\"overlay\",\"size\":10,\"solidity\":0.2}},\"type\":\"bar\"}],\"barpolar\":[{\"marker\":{\"line\":{\"color\":\"#E5ECF6\",\"width\":0.5},\"pattern\":{\"fillmode\":\"overlay\",\"size\":10,\"solidity\":0.2}},\"type\":\"barpolar\"}],\"carpet\":[{\"aaxis\":{\"endlinecolor\":\"#2a3f5f\",\"gridcolor\":\"white\",\"linecolor\":\"white\",\"minorgridcolor\":\"white\",\"startlinecolor\":\"#2a3f5f\"},\"baxis\":{\"endlinecolor\":\"#2a3f5f\",\"gridcolor\":\"white\",\"linecolor\":\"white\",\"minorgridcolor\":\"white\",\"startlinecolor\":\"#2a3f5f\"},\"type\":\"carpet\"}],\"choropleth\":[{\"colorbar\":{\"outlinewidth\":0,\"ticks\":\"\"},\"type\":\"choropleth\"}],\"contour\":[{\"colorbar\":{\"outlinewidth\":0,\"ticks\":\"\"},\"colorscale\":[[0.0,\"#0d0887\"],[0.1111111111111111,\"#46039f\"],[0.2222222222222222,\"#7201a8\"],[0.3333333333333333,\"#9c179e\"],[0.4444444444444444,\"#bd3786\"],[0.5555555555555556,\"#d8576b\"],[0.6666666666666666,\"#ed7953\"],[0.7777777777777778,\"#fb9f3a\"],[0.8888888888888888,\"#fdca26\"],[1.0,\"#f0f921\"]],\"type\":\"contour\"}],\"contourcarpet\":[{\"colorbar\":{\"outlinewidth\":0,\"ticks\":\"\"},\"type\":\"contourcarpet\"}],\"heatmap\":[{\"colorbar\":{\"outlinewidth\":0,\"ticks\":\"\"},\"colorscale\":[[0.0,\"#0d0887\"],[0.1111111111111111,\"#46039f\"],[0.2222222222222222,\"#7201a8\"],[0.3333333333333333,\"#9c179e\"],[0.4444444444444444,\"#bd3786\"],[0.5555555555555556,\"#d8576b\"],[0.6666666666666666,\"#ed7953\"],[0.7777777777777778,\"#fb9f3a\"],[0.8888888888888888,\"#fdca26\"],[1.0,\"#f0f921\"]],\"type\":\"heatmap\"}],\"heatmapgl\":[{\"colorbar\":{\"outlinewidth\":0,\"ticks\":\"\"},\"colorscale\":[[0.0,\"#0d0887\"],[0.1111111111111111,\"#46039f\"],[0.2222222222222222,\"#7201a8\"],[0.3333333333333333,\"#9c179e\"],[0.4444444444444444,\"#bd3786\"],[0.5555555555555556,\"#d8576b\"],[0.6666666666666666,\"#ed7953\"],[0.7777777777777778,\"#fb9f3a\"],[0.8888888888888888,\"#fdca26\"],[1.0,\"#f0f921\"]],\"type\":\"heatmapgl\"}],\"histogram\":[{\"marker\":{\"pattern\":{\"fillmode\":\"overlay\",\"size\":10,\"solidity\":0.2}},\"type\":\"histogram\"}],\"histogram2d\":[{\"colorbar\":{\"outlinewidth\":0,\"ticks\":\"\"},\"colorscale\":[[0.0,\"#0d0887\"],[0.1111111111111111,\"#46039f\"],[0.2222222222222222,\"#7201a8\"],[0.3333333333333333,\"#9c179e\"],[0.4444444444444444,\"#bd3786\"],[0.5555555555555556,\"#d8576b\"],[0.6666666666666666,\"#ed7953\"],[0.7777777777777778,\"#fb9f3a\"],[0.8888888888888888,\"#fdca26\"],[1.0,\"#f0f921\"]],\"type\":\"histogram2d\"}],\"histogram2dcontour\":[{\"colorbar\":{\"outlinewidth\":0,\"ticks\":\"\"},\"colorscale\":[[0.0,\"#0d0887\"],[0.1111111111111111,\"#46039f\"],[0.2222222222222222,\"#7201a8\"],[0.3333333333333333,\"#9c179e\"],[0.4444444444444444,\"#bd3786\"],[0.5555555555555556,\"#d8576b\"],[0.6666666666666666,\"#ed7953\"],[0.7777777777777778,\"#fb9f3a\"],[0.8888888888888888,\"#fdca26\"],[1.0,\"#f0f921\"]],\"type\":\"histogram2dcontour\"}],\"mesh3d\":[{\"colorbar\":{\"outlinewidth\":0,\"ticks\":\"\"},\"type\":\"mesh3d\"}],\"parcoords\":[{\"line\":{\"colorbar\":{\"outlinewidth\":0,\"ticks\":\"\"}},\"type\":\"parcoords\"}],\"pie\":[{\"automargin\":true,\"type\":\"pie\"}],\"scatter\":[{\"marker\":{\"colorbar\":{\"outlinewidth\":0,\"ticks\":\"\"}},\"type\":\"scatter\"}],\"scatter3d\":[{\"line\":{\"colorbar\":{\"outlinewidth\":0,\"ticks\":\"\"}},\"marker\":{\"colorbar\":{\"outlinewidth\":0,\"ticks\":\"\"}},\"type\":\"scatter3d\"}],\"scattercarpet\":[{\"marker\":{\"colorbar\":{\"outlinewidth\":0,\"ticks\":\"\"}},\"type\":\"scattercarpet\"}],\"scattergeo\":[{\"marker\":{\"colorbar\":{\"outlinewidth\":0,\"ticks\":\"\"}},\"type\":\"scattergeo\"}],\"scattergl\":[{\"marker\":{\"colorbar\":{\"outlinewidth\":0,\"ticks\":\"\"}},\"type\":\"scattergl\"}],\"scattermapbox\":[{\"marker\":{\"colorbar\":{\"outlinewidth\":0,\"ticks\":\"\"}},\"type\":\"scattermapbox\"}],\"scatterpolar\":[{\"marker\":{\"colorbar\":{\"outlinewidth\":0,\"ticks\":\"\"}},\"type\":\"scatterpolar\"}],\"scatterpolargl\":[{\"marker\":{\"colorbar\":{\"outlinewidth\":0,\"ticks\":\"\"}},\"type\":\"scatterpolargl\"}],\"scatterternary\":[{\"marker\":{\"colorbar\":{\"outlinewidth\":0,\"ticks\":\"\"}},\"type\":\"scatterternary\"}],\"surface\":[{\"colorbar\":{\"outlinewidth\":0,\"ticks\":\"\"},\"colorscale\":[[0.0,\"#0d0887\"],[0.1111111111111111,\"#46039f\"],[0.2222222222222222,\"#7201a8\"],[0.3333333333333333,\"#9c179e\"],[0.4444444444444444,\"#bd3786\"],[0.5555555555555556,\"#d8576b\"],[0.6666666666666666,\"#ed7953\"],[0.7777777777777778,\"#fb9f3a\"],[0.8888888888888888,\"#fdca26\"],[1.0,\"#f0f921\"]],\"type\":\"surface\"}],\"table\":[{\"cells\":{\"fill\":{\"color\":\"#EBF0F8\"},\"line\":{\"color\":\"white\"}},\"header\":{\"fill\":{\"color\":\"#C8D4E3\"},\"line\":{\"color\":\"white\"}},\"type\":\"table\"}]},\"layout\":{\"annotationdefaults\":{\"arrowcolor\":\"#2a3f5f\",\"arrowhead\":0,\"arrowwidth\":1},\"autotypenumbers\":\"strict\",\"coloraxis\":{\"colorbar\":{\"outlinewidth\":0,\"ticks\":\"\"}},\"colorscale\":{\"diverging\":[[0,\"#8e0152\"],[0.1,\"#c51b7d\"],[0.2,\"#de77ae\"],[0.3,\"#f1b6da\"],[0.4,\"#fde0ef\"],[0.5,\"#f7f7f7\"],[0.6,\"#e6f5d0\"],[0.7,\"#b8e186\"],[0.8,\"#7fbc41\"],[0.9,\"#4d9221\"],[1,\"#276419\"]],\"sequential\":[[0.0,\"#0d0887\"],[0.1111111111111111,\"#46039f\"],[0.2222222222222222,\"#7201a8\"],[0.3333333333333333,\"#9c179e\"],[0.4444444444444444,\"#bd3786\"],[0.5555555555555556,\"#d8576b\"],[0.6666666666666666,\"#ed7953\"],[0.7777777777777778,\"#fb9f3a\"],[0.8888888888888888,\"#fdca26\"],[1.0,\"#f0f921\"]],\"sequentialminus\":[[0.0,\"#0d0887\"],[0.1111111111111111,\"#46039f\"],[0.2222222222222222,\"#7201a8\"],[0.3333333333333333,\"#9c179e\"],[0.4444444444444444,\"#bd3786\"],[0.5555555555555556,\"#d8576b\"],[0.6666666666666666,\"#ed7953\"],[0.7777777777777778,\"#fb9f3a\"],[0.8888888888888888,\"#fdca26\"],[1.0,\"#f0f921\"]]},\"colorway\":[\"#636efa\",\"#EF553B\",\"#00cc96\",\"#ab63fa\",\"#FFA15A\",\"#19d3f3\",\"#FF6692\",\"#B6E880\",\"#FF97FF\",\"#FECB52\"],\"font\":{\"color\":\"#2a3f5f\"},\"geo\":{\"bgcolor\":\"white\",\"lakecolor\":\"white\",\"landcolor\":\"#E5ECF6\",\"showlakes\":true,\"showland\":true,\"subunitcolor\":\"white\"},\"hoverlabel\":{\"align\":\"left\"},\"hovermode\":\"closest\",\"mapbox\":{\"style\":\"light\"},\"paper_bgcolor\":\"white\",\"plot_bgcolor\":\"#E5ECF6\",\"polar\":{\"angularaxis\":{\"gridcolor\":\"white\",\"linecolor\":\"white\",\"ticks\":\"\"},\"bgcolor\":\"#E5ECF6\",\"radialaxis\":{\"gridcolor\":\"white\",\"linecolor\":\"white\",\"ticks\":\"\"}},\"scene\":{\"xaxis\":{\"backgroundcolor\":\"#E5ECF6\",\"gridcolor\":\"white\",\"gridwidth\":2,\"linecolor\":\"white\",\"showbackground\":true,\"ticks\":\"\",\"zerolinecolor\":\"white\"},\"yaxis\":{\"backgroundcolor\":\"#E5ECF6\",\"gridcolor\":\"white\",\"gridwidth\":2,\"linecolor\":\"white\",\"showbackground\":true,\"ticks\":\"\",\"zerolinecolor\":\"white\"},\"zaxis\":{\"backgroundcolor\":\"#E5ECF6\",\"gridcolor\":\"white\",\"gridwidth\":2,\"linecolor\":\"white\",\"showbackground\":true,\"ticks\":\"\",\"zerolinecolor\":\"white\"}},\"shapedefaults\":{\"line\":{\"color\":\"#2a3f5f\"}},\"ternary\":{\"aaxis\":{\"gridcolor\":\"white\",\"linecolor\":\"white\",\"ticks\":\"\"},\"baxis\":{\"gridcolor\":\"white\",\"linecolor\":\"white\",\"ticks\":\"\"},\"bgcolor\":\"#E5ECF6\",\"caxis\":{\"gridcolor\":\"white\",\"linecolor\":\"white\",\"ticks\":\"\"}},\"title\":{\"x\":0.05},\"xaxis\":{\"automargin\":true,\"gridcolor\":\"white\",\"linecolor\":\"white\",\"ticks\":\"\",\"title\":{\"standoff\":15},\"zerolinecolor\":\"white\",\"zerolinewidth\":2},\"yaxis\":{\"automargin\":true,\"gridcolor\":\"white\",\"linecolor\":\"white\",\"ticks\":\"\",\"title\":{\"standoff\":15},\"zerolinecolor\":\"white\",\"zerolinewidth\":2}}},\"xaxis\":{\"anchor\":\"y\",\"domain\":[0.0,1.0],\"title\":{\"text\":\"Districts\"},\"categoryorder\":\"array\",\"categoryarray\":[\"Ahmednagar\",\"Akola\",\"Amravati\",\"Aurangabad\",\"Beed\",\"Bhandara\",\"Buldhana\",\"Chandrapur\",\"Dhule\",\"Gadchiroli\",\"Gondia\",\"Hingoli\",\"Jalgaon\",\"Jalna\",\"Kolhapur\",\"Latur\",\"Mumbai\",\"Nagpur\",\"Nanded\",\"Nandurbar\",\"Nashik\",\"Osmanabad\",\"Palghar\",\"Parbhani\",\"Pune\",\"Raigad\",\"Ratnagiri\",\"Sangli\",\"Satara\",\"Sindhudurg\",\"Solapur\",\"Thane\",\"Wardha\",\"Washim\",\"Yavatmal\"]},\"yaxis\":{\"anchor\":\"x\",\"domain\":[0.0,1.0],\"title\":{\"text\":\"Recovered\"}},\"legend\":{\"title\":{\"text\":\"Districts\"},\"tracegroupgap\":0},\"title\":{\"text\":\"Total Recovered cases in Maharashtra Districtwise\"},\"barmode\":\"relative\"},                        {\"responsive\": true}                    ).then(function(){\n",
       "                            \n",
       "var gd = document.getElementById('be644540-15c1-4654-a4b1-53cd3fd14d7f');\n",
       "var x = new MutationObserver(function (mutations, observer) {{\n",
       "        var display = window.getComputedStyle(gd).display;\n",
       "        if (!display || display === 'none') {{\n",
       "            console.log([gd, 'removed!']);\n",
       "            Plotly.purge(gd);\n",
       "            observer.disconnect();\n",
       "        }}\n",
       "}});\n",
       "\n",
       "// Listen for the removal of the full notebook cells\n",
       "var notebookContainer = gd.closest('#notebook-container');\n",
       "if (notebookContainer) {{\n",
       "    x.observe(notebookContainer, {childList: true});\n",
       "}}\n",
       "\n",
       "// Listen for the clearing of the current output cell\n",
       "var outputEl = gd.closest('.output');\n",
       "if (outputEl) {{\n",
       "    x.observe(outputEl, {childList: true});\n",
       "}}\n",
       "\n",
       "                        })                };                });            </script>        </div>"
      ]
     },
     "metadata": {},
     "output_type": "display_data"
    }
   ],
   "source": [
    "fig=px.bar(dataframe,x=\"Districts\",y=\"Recovered\",title=\"Total Recovered cases in Maharashtra Districtwise\",color='Districts')\n",
    "fig.show()"
   ]
  },
  {
   "cell_type": "markdown",
   "metadata": {},
   "source": [
    "**Total Deceased cases in Maharashtra Districtwise**"
   ]
  },
  {
   "cell_type": "code",
   "execution_count": 31,
   "metadata": {
    "scrolled": false
   },
   "outputs": [
    {
     "data": {
      "application/vnd.plotly.v1+json": {
       "config": {
        "plotlyServerURL": "https://plot.ly"
       },
       "data": [
        {
         "alignmentgroup": "True",
         "hovertemplate": "Districts=%{x}<br>Deceased=%{y}<extra></extra>",
         "legendgroup": "Ahmednagar",
         "marker": {
          "color": "#636efa",
          "pattern": {
           "shape": ""
          }
         },
         "name": "Ahmednagar",
         "offsetgroup": "Ahmednagar",
         "orientation": "v",
         "showlegend": true,
         "textposition": "auto",
         "type": "bar",
         "x": [
          "Ahmednagar"
         ],
         "xaxis": "x",
         "y": [
          7228
         ],
         "yaxis": "y"
        },
        {
         "alignmentgroup": "True",
         "hovertemplate": "Districts=%{x}<br>Deceased=%{y}<extra></extra>",
         "legendgroup": "Akola",
         "marker": {
          "color": "#EF553B",
          "pattern": {
           "shape": ""
          }
         },
         "name": "Akola",
         "offsetgroup": "Akola",
         "orientation": "v",
         "showlegend": true,
         "textposition": "auto",
         "type": "bar",
         "x": [
          "Akola"
         ],
         "xaxis": "x",
         "y": [
          1464
         ],
         "yaxis": "y"
        },
        {
         "alignmentgroup": "True",
         "hovertemplate": "Districts=%{x}<br>Deceased=%{y}<extra></extra>",
         "legendgroup": "Amravati",
         "marker": {
          "color": "#00cc96",
          "pattern": {
           "shape": ""
          }
         },
         "name": "Amravati",
         "offsetgroup": "Amravati",
         "orientation": "v",
         "showlegend": true,
         "textposition": "auto",
         "type": "bar",
         "x": [
          "Amravati"
         ],
         "xaxis": "x",
         "y": [
          1622
         ],
         "yaxis": "y"
        },
        {
         "alignmentgroup": "True",
         "hovertemplate": "Districts=%{x}<br>Deceased=%{y}<extra></extra>",
         "legendgroup": "Aurangabad",
         "marker": {
          "color": "#ab63fa",
          "pattern": {
           "shape": ""
          }
         },
         "name": "Aurangabad",
         "offsetgroup": "Aurangabad",
         "orientation": "v",
         "showlegend": true,
         "textposition": "auto",
         "type": "bar",
         "x": [
          "Aurangabad"
         ],
         "xaxis": "x",
         "y": [
          4270
         ],
         "yaxis": "y"
        },
        {
         "alignmentgroup": "True",
         "hovertemplate": "Districts=%{x}<br>Deceased=%{y}<extra></extra>",
         "legendgroup": "Beed",
         "marker": {
          "color": "#FFA15A",
          "pattern": {
           "shape": ""
          }
         },
         "name": "Beed",
         "offsetgroup": "Beed",
         "orientation": "v",
         "showlegend": true,
         "textposition": "auto",
         "type": "bar",
         "x": [
          "Beed"
         ],
         "xaxis": "x",
         "y": [
          2874
         ],
         "yaxis": "y"
        },
        {
         "alignmentgroup": "True",
         "hovertemplate": "Districts=%{x}<br>Deceased=%{y}<extra></extra>",
         "legendgroup": "Bhandara",
         "marker": {
          "color": "#19d3f3",
          "pattern": {
           "shape": ""
          }
         },
         "name": "Bhandara",
         "offsetgroup": "Bhandara",
         "orientation": "v",
         "showlegend": true,
         "textposition": "auto",
         "type": "bar",
         "x": [
          "Bhandara"
         ],
         "xaxis": "x",
         "y": [
          1132
         ],
         "yaxis": "y"
        },
        {
         "alignmentgroup": "True",
         "hovertemplate": "Districts=%{x}<br>Deceased=%{y}<extra></extra>",
         "legendgroup": "Buldhana",
         "marker": {
          "color": "#FF6692",
          "pattern": {
           "shape": ""
          }
         },
         "name": "Buldhana",
         "offsetgroup": "Buldhana",
         "orientation": "v",
         "showlegend": true,
         "textposition": "auto",
         "type": "bar",
         "x": [
          "Buldhana"
         ],
         "xaxis": "x",
         "y": [
          815
         ],
         "yaxis": "y"
        },
        {
         "alignmentgroup": "True",
         "hovertemplate": "Districts=%{x}<br>Deceased=%{y}<extra></extra>",
         "legendgroup": "Chandrapur",
         "marker": {
          "color": "#B6E880",
          "pattern": {
           "shape": ""
          }
         },
         "name": "Chandrapur",
         "offsetgroup": "Chandrapur",
         "orientation": "v",
         "showlegend": true,
         "textposition": "auto",
         "type": "bar",
         "x": [
          "Chandrapur"
         ],
         "xaxis": "x",
         "y": [
          1587
         ],
         "yaxis": "y"
        },
        {
         "alignmentgroup": "True",
         "hovertemplate": "Districts=%{x}<br>Deceased=%{y}<extra></extra>",
         "legendgroup": "Dhule",
         "marker": {
          "color": "#FF97FF",
          "pattern": {
           "shape": ""
          }
         },
         "name": "Dhule",
         "offsetgroup": "Dhule",
         "orientation": "v",
         "showlegend": true,
         "textposition": "auto",
         "type": "bar",
         "x": [
          "Dhule"
         ],
         "xaxis": "x",
         "y": [
          659
         ],
         "yaxis": "y"
        },
        {
         "alignmentgroup": "True",
         "hovertemplate": "Districts=%{x}<br>Deceased=%{y}<extra></extra>",
         "legendgroup": "Gadchiroli",
         "marker": {
          "color": "#FECB52",
          "pattern": {
           "shape": ""
          }
         },
         "name": "Gadchiroli",
         "offsetgroup": "Gadchiroli",
         "orientation": "v",
         "showlegend": true,
         "textposition": "auto",
         "type": "bar",
         "x": [
          "Gadchiroli"
         ],
         "xaxis": "x",
         "y": [
          691
         ],
         "yaxis": "y"
        },
        {
         "alignmentgroup": "True",
         "hovertemplate": "Districts=%{x}<br>Deceased=%{y}<extra></extra>",
         "legendgroup": "Gondia",
         "marker": {
          "color": "#636efa",
          "pattern": {
           "shape": ""
          }
         },
         "name": "Gondia",
         "offsetgroup": "Gondia",
         "orientation": "v",
         "showlegend": true,
         "textposition": "auto",
         "type": "bar",
         "x": [
          "Gondia"
         ],
         "xaxis": "x",
         "y": [
          579
         ],
         "yaxis": "y"
        },
        {
         "alignmentgroup": "True",
         "hovertemplate": "Districts=%{x}<br>Deceased=%{y}<extra></extra>",
         "legendgroup": "Hingoli",
         "marker": {
          "color": "#EF553B",
          "pattern": {
           "shape": ""
          }
         },
         "name": "Hingoli",
         "offsetgroup": "Hingoli",
         "orientation": "v",
         "showlegend": true,
         "textposition": "auto",
         "type": "bar",
         "x": [
          "Hingoli"
         ],
         "xaxis": "x",
         "y": [
          513
         ],
         "yaxis": "y"
        },
        {
         "alignmentgroup": "True",
         "hovertemplate": "Districts=%{x}<br>Deceased=%{y}<extra></extra>",
         "legendgroup": "Jalgaon",
         "marker": {
          "color": "#00cc96",
          "pattern": {
           "shape": ""
          }
         },
         "name": "Jalgaon",
         "offsetgroup": "Jalgaon",
         "orientation": "v",
         "showlegend": true,
         "textposition": "auto",
         "type": "bar",
         "x": [
          "Jalgaon"
         ],
         "xaxis": "x",
         "y": [
          2728
         ],
         "yaxis": "y"
        },
        {
         "alignmentgroup": "True",
         "hovertemplate": "Districts=%{x}<br>Deceased=%{y}<extra></extra>",
         "legendgroup": "Jalna",
         "marker": {
          "color": "#ab63fa",
          "pattern": {
           "shape": ""
          }
         },
         "name": "Jalna",
         "offsetgroup": "Jalna",
         "orientation": "v",
         "showlegend": true,
         "textposition": "auto",
         "type": "bar",
         "x": [
          "Jalna"
         ],
         "xaxis": "x",
         "y": [
          1223
         ],
         "yaxis": "y"
        },
        {
         "alignmentgroup": "True",
         "hovertemplate": "Districts=%{x}<br>Deceased=%{y}<extra></extra>",
         "legendgroup": "Kolhapur",
         "marker": {
          "color": "#FFA15A",
          "pattern": {
           "shape": ""
          }
         },
         "name": "Kolhapur",
         "offsetgroup": "Kolhapur",
         "orientation": "v",
         "showlegend": true,
         "textposition": "auto",
         "type": "bar",
         "x": [
          "Kolhapur"
         ],
         "xaxis": "x",
         "y": [
          5899
         ],
         "yaxis": "y"
        },
        {
         "alignmentgroup": "True",
         "hovertemplate": "Districts=%{x}<br>Deceased=%{y}<extra></extra>",
         "legendgroup": "Latur",
         "marker": {
          "color": "#19d3f3",
          "pattern": {
           "shape": ""
          }
         },
         "name": "Latur",
         "offsetgroup": "Latur",
         "orientation": "v",
         "showlegend": true,
         "textposition": "auto",
         "type": "bar",
         "x": [
          "Latur"
         ],
         "xaxis": "x",
         "y": [
          2483
         ],
         "yaxis": "y"
        },
        {
         "alignmentgroup": "True",
         "hovertemplate": "Districts=%{x}<br>Deceased=%{y}<extra></extra>",
         "legendgroup": "Mumbai",
         "marker": {
          "color": "#FF6692",
          "pattern": {
           "shape": ""
          }
         },
         "name": "Mumbai",
         "offsetgroup": "Mumbai",
         "orientation": "v",
         "showlegend": true,
         "textposition": "auto",
         "type": "bar",
         "x": [
          "Mumbai"
         ],
         "xaxis": "x",
         "y": [
          16691
         ],
         "yaxis": "y"
        },
        {
         "alignmentgroup": "True",
         "hovertemplate": "Districts=%{x}<br>Deceased=%{y}<extra></extra>",
         "legendgroup": "Nagpur",
         "marker": {
          "color": "#B6E880",
          "pattern": {
           "shape": ""
          }
         },
         "name": "Nagpur",
         "offsetgroup": "Nagpur",
         "orientation": "v",
         "showlegend": true,
         "textposition": "auto",
         "type": "bar",
         "x": [
          "Nagpur"
         ],
         "xaxis": "x",
         "y": [
          9143
         ],
         "yaxis": "y"
        },
        {
         "alignmentgroup": "True",
         "hovertemplate": "Districts=%{x}<br>Deceased=%{y}<extra></extra>",
         "legendgroup": "Nanded",
         "marker": {
          "color": "#FF97FF",
          "pattern": {
           "shape": ""
          }
         },
         "name": "Nanded",
         "offsetgroup": "Nanded",
         "orientation": "v",
         "showlegend": true,
         "textposition": "auto",
         "type": "bar",
         "x": [
          "Nanded"
         ],
         "xaxis": "x",
         "y": [
          2695
         ],
         "yaxis": "y"
        },
        {
         "alignmentgroup": "True",
         "hovertemplate": "Districts=%{x}<br>Deceased=%{y}<extra></extra>",
         "legendgroup": "Nandurbar",
         "marker": {
          "color": "#FECB52",
          "pattern": {
           "shape": ""
          }
         },
         "name": "Nandurbar",
         "offsetgroup": "Nandurbar",
         "orientation": "v",
         "showlegend": true,
         "textposition": "auto",
         "type": "bar",
         "x": [
          "Nandurbar"
         ],
         "xaxis": "x",
         "y": [
          959
         ],
         "yaxis": "y"
        },
        {
         "alignmentgroup": "True",
         "hovertemplate": "Districts=%{x}<br>Deceased=%{y}<extra></extra>",
         "legendgroup": "Nashik",
         "marker": {
          "color": "#636efa",
          "pattern": {
           "shape": ""
          }
         },
         "name": "Nashik",
         "offsetgroup": "Nashik",
         "orientation": "v",
         "showlegend": true,
         "textposition": "auto",
         "type": "bar",
         "x": [
          "Nashik"
         ],
         "xaxis": "x",
         "y": [
          8901
         ],
         "yaxis": "y"
        },
        {
         "alignmentgroup": "True",
         "hovertemplate": "Districts=%{x}<br>Deceased=%{y}<extra></extra>",
         "legendgroup": "Osmanabad",
         "marker": {
          "color": "#EF553B",
          "pattern": {
           "shape": ""
          }
         },
         "name": "Osmanabad",
         "offsetgroup": "Osmanabad",
         "orientation": "v",
         "showlegend": true,
         "textposition": "auto",
         "type": "bar",
         "x": [
          "Osmanabad"
         ],
         "xaxis": "x",
         "y": [
          2023
         ],
         "yaxis": "y"
        },
        {
         "alignmentgroup": "True",
         "hovertemplate": "Districts=%{x}<br>Deceased=%{y}<extra></extra>",
         "legendgroup": "Palghar",
         "marker": {
          "color": "#00cc96",
          "pattern": {
           "shape": ""
          }
         },
         "name": "Palghar",
         "offsetgroup": "Palghar",
         "orientation": "v",
         "showlegend": true,
         "textposition": "auto",
         "type": "bar",
         "x": [
          "Palghar"
         ],
         "xaxis": "x",
         "y": [
          3392
         ],
         "yaxis": "y"
        },
        {
         "alignmentgroup": "True",
         "hovertemplate": "Districts=%{x}<br>Deceased=%{y}<extra></extra>",
         "legendgroup": "Parbhani",
         "marker": {
          "color": "#ab63fa",
          "pattern": {
           "shape": ""
          }
         },
         "name": "Parbhani",
         "offsetgroup": "Parbhani",
         "orientation": "v",
         "showlegend": true,
         "textposition": "auto",
         "type": "bar",
         "x": [
          "Parbhani"
         ],
         "xaxis": "x",
         "y": [
          1256
         ],
         "yaxis": "y"
        },
        {
         "alignmentgroup": "True",
         "hovertemplate": "Districts=%{x}<br>Deceased=%{y}<extra></extra>",
         "legendgroup": "Pune",
         "marker": {
          "color": "#FFA15A",
          "pattern": {
           "shape": ""
          }
         },
         "name": "Pune",
         "offsetgroup": "Pune",
         "orientation": "v",
         "showlegend": true,
         "textposition": "auto",
         "type": "bar",
         "x": [
          "Pune"
         ],
         "xaxis": "x",
         "y": [
          20156
         ],
         "yaxis": "y"
        },
        {
         "alignmentgroup": "True",
         "hovertemplate": "Districts=%{x}<br>Deceased=%{y}<extra></extra>",
         "legendgroup": "Raigad",
         "marker": {
          "color": "#19d3f3",
          "pattern": {
           "shape": ""
          }
         },
         "name": "Raigad",
         "offsetgroup": "Raigad",
         "orientation": "v",
         "showlegend": true,
         "textposition": "auto",
         "type": "bar",
         "x": [
          "Raigad"
         ],
         "xaxis": "x",
         "y": [
          4936
         ],
         "yaxis": "y"
        },
        {
         "alignmentgroup": "True",
         "hovertemplate": "Districts=%{x}<br>Deceased=%{y}<extra></extra>",
         "legendgroup": "Ratnagiri",
         "marker": {
          "color": "#FF6692",
          "pattern": {
           "shape": ""
          }
         },
         "name": "Ratnagiri",
         "offsetgroup": "Ratnagiri",
         "orientation": "v",
         "showlegend": true,
         "textposition": "auto",
         "type": "bar",
         "x": [
          "Ratnagiri"
         ],
         "xaxis": "x",
         "y": [
          2541
         ],
         "yaxis": "y"
        },
        {
         "alignmentgroup": "True",
         "hovertemplate": "Districts=%{x}<br>Deceased=%{y}<extra></extra>",
         "legendgroup": "Sangli",
         "marker": {
          "color": "#B6E880",
          "pattern": {
           "shape": ""
          }
         },
         "name": "Sangli",
         "offsetgroup": "Sangli",
         "orientation": "v",
         "showlegend": true,
         "textposition": "auto",
         "type": "bar",
         "x": [
          "Sangli"
         ],
         "xaxis": "x",
         "y": [
          5655
         ],
         "yaxis": "y"
        },
        {
         "alignmentgroup": "True",
         "hovertemplate": "Districts=%{x}<br>Deceased=%{y}<extra></extra>",
         "legendgroup": "Satara",
         "marker": {
          "color": "#FF97FF",
          "pattern": {
           "shape": ""
          }
         },
         "name": "Satara",
         "offsetgroup": "Satara",
         "orientation": "v",
         "showlegend": true,
         "textposition": "auto",
         "type": "bar",
         "x": [
          "Satara"
         ],
         "xaxis": "x",
         "y": [
          6674
         ],
         "yaxis": "y"
        },
        {
         "alignmentgroup": "True",
         "hovertemplate": "Districts=%{x}<br>Deceased=%{y}<extra></extra>",
         "legendgroup": "Sindhudurg",
         "marker": {
          "color": "#FECB52",
          "pattern": {
           "shape": ""
          }
         },
         "name": "Sindhudurg",
         "offsetgroup": "Sindhudurg",
         "orientation": "v",
         "showlegend": true,
         "textposition": "auto",
         "type": "bar",
         "x": [
          "Sindhudurg"
         ],
         "xaxis": "x",
         "y": [
          1511
         ],
         "yaxis": "y"
        },
        {
         "alignmentgroup": "True",
         "hovertemplate": "Districts=%{x}<br>Deceased=%{y}<extra></extra>",
         "legendgroup": "Solapur",
         "marker": {
          "color": "#636efa",
          "pattern": {
           "shape": ""
          }
         },
         "name": "Solapur",
         "offsetgroup": "Solapur",
         "orientation": "v",
         "showlegend": true,
         "textposition": "auto",
         "type": "bar",
         "x": [
          "Solapur"
         ],
         "xaxis": "x",
         "y": [
          5757
         ],
         "yaxis": "y"
        },
        {
         "alignmentgroup": "True",
         "hovertemplate": "Districts=%{x}<br>Deceased=%{y}<extra></extra>",
         "legendgroup": "Thane",
         "marker": {
          "color": "#EF553B",
          "pattern": {
           "shape": ""
          }
         },
         "name": "Thane",
         "offsetgroup": "Thane",
         "orientation": "v",
         "showlegend": true,
         "textposition": "auto",
         "type": "bar",
         "x": [
          "Thane"
         ],
         "xaxis": "x",
         "y": [
          11859
         ],
         "yaxis": "y"
        },
        {
         "alignmentgroup": "True",
         "hovertemplate": "Districts=%{x}<br>Deceased=%{y}<extra></extra>",
         "legendgroup": "Wardha",
         "marker": {
          "color": "#00cc96",
          "pattern": {
           "shape": ""
          }
         },
         "name": "Wardha",
         "offsetgroup": "Wardha",
         "orientation": "v",
         "showlegend": true,
         "textposition": "auto",
         "type": "bar",
         "x": [
          "Wardha"
         ],
         "xaxis": "x",
         "y": [
          1237
         ],
         "yaxis": "y"
        },
        {
         "alignmentgroup": "True",
         "hovertemplate": "Districts=%{x}<br>Deceased=%{y}<extra></extra>",
         "legendgroup": "Washim",
         "marker": {
          "color": "#ab63fa",
          "pattern": {
           "shape": ""
          }
         },
         "name": "Washim",
         "offsetgroup": "Washim",
         "orientation": "v",
         "showlegend": true,
         "textposition": "auto",
         "type": "bar",
         "x": [
          "Washim"
         ],
         "xaxis": "x",
         "y": [
          638
         ],
         "yaxis": "y"
        },
        {
         "alignmentgroup": "True",
         "hovertemplate": "Districts=%{x}<br>Deceased=%{y}<extra></extra>",
         "legendgroup": "Yavatmal",
         "marker": {
          "color": "#FFA15A",
          "pattern": {
           "shape": ""
          }
         },
         "name": "Yavatmal",
         "offsetgroup": "Yavatmal",
         "orientation": "v",
         "showlegend": true,
         "textposition": "auto",
         "type": "bar",
         "x": [
          "Yavatmal"
         ],
         "xaxis": "x",
         "y": [
          1816
         ],
         "yaxis": "y"
        }
       ],
       "layout": {
        "barmode": "relative",
        "legend": {
         "title": {
          "text": "Districts"
         },
         "tracegroupgap": 0
        },
        "template": {
         "data": {
          "bar": [
           {
            "error_x": {
             "color": "#2a3f5f"
            },
            "error_y": {
             "color": "#2a3f5f"
            },
            "marker": {
             "line": {
              "color": "#E5ECF6",
              "width": 0.5
             },
             "pattern": {
              "fillmode": "overlay",
              "size": 10,
              "solidity": 0.2
             }
            },
            "type": "bar"
           }
          ],
          "barpolar": [
           {
            "marker": {
             "line": {
              "color": "#E5ECF6",
              "width": 0.5
             },
             "pattern": {
              "fillmode": "overlay",
              "size": 10,
              "solidity": 0.2
             }
            },
            "type": "barpolar"
           }
          ],
          "carpet": [
           {
            "aaxis": {
             "endlinecolor": "#2a3f5f",
             "gridcolor": "white",
             "linecolor": "white",
             "minorgridcolor": "white",
             "startlinecolor": "#2a3f5f"
            },
            "baxis": {
             "endlinecolor": "#2a3f5f",
             "gridcolor": "white",
             "linecolor": "white",
             "minorgridcolor": "white",
             "startlinecolor": "#2a3f5f"
            },
            "type": "carpet"
           }
          ],
          "choropleth": [
           {
            "colorbar": {
             "outlinewidth": 0,
             "ticks": ""
            },
            "type": "choropleth"
           }
          ],
          "contour": [
           {
            "colorbar": {
             "outlinewidth": 0,
             "ticks": ""
            },
            "colorscale": [
             [
              0,
              "#0d0887"
             ],
             [
              0.1111111111111111,
              "#46039f"
             ],
             [
              0.2222222222222222,
              "#7201a8"
             ],
             [
              0.3333333333333333,
              "#9c179e"
             ],
             [
              0.4444444444444444,
              "#bd3786"
             ],
             [
              0.5555555555555556,
              "#d8576b"
             ],
             [
              0.6666666666666666,
              "#ed7953"
             ],
             [
              0.7777777777777778,
              "#fb9f3a"
             ],
             [
              0.8888888888888888,
              "#fdca26"
             ],
             [
              1,
              "#f0f921"
             ]
            ],
            "type": "contour"
           }
          ],
          "contourcarpet": [
           {
            "colorbar": {
             "outlinewidth": 0,
             "ticks": ""
            },
            "type": "contourcarpet"
           }
          ],
          "heatmap": [
           {
            "colorbar": {
             "outlinewidth": 0,
             "ticks": ""
            },
            "colorscale": [
             [
              0,
              "#0d0887"
             ],
             [
              0.1111111111111111,
              "#46039f"
             ],
             [
              0.2222222222222222,
              "#7201a8"
             ],
             [
              0.3333333333333333,
              "#9c179e"
             ],
             [
              0.4444444444444444,
              "#bd3786"
             ],
             [
              0.5555555555555556,
              "#d8576b"
             ],
             [
              0.6666666666666666,
              "#ed7953"
             ],
             [
              0.7777777777777778,
              "#fb9f3a"
             ],
             [
              0.8888888888888888,
              "#fdca26"
             ],
             [
              1,
              "#f0f921"
             ]
            ],
            "type": "heatmap"
           }
          ],
          "heatmapgl": [
           {
            "colorbar": {
             "outlinewidth": 0,
             "ticks": ""
            },
            "colorscale": [
             [
              0,
              "#0d0887"
             ],
             [
              0.1111111111111111,
              "#46039f"
             ],
             [
              0.2222222222222222,
              "#7201a8"
             ],
             [
              0.3333333333333333,
              "#9c179e"
             ],
             [
              0.4444444444444444,
              "#bd3786"
             ],
             [
              0.5555555555555556,
              "#d8576b"
             ],
             [
              0.6666666666666666,
              "#ed7953"
             ],
             [
              0.7777777777777778,
              "#fb9f3a"
             ],
             [
              0.8888888888888888,
              "#fdca26"
             ],
             [
              1,
              "#f0f921"
             ]
            ],
            "type": "heatmapgl"
           }
          ],
          "histogram": [
           {
            "marker": {
             "pattern": {
              "fillmode": "overlay",
              "size": 10,
              "solidity": 0.2
             }
            },
            "type": "histogram"
           }
          ],
          "histogram2d": [
           {
            "colorbar": {
             "outlinewidth": 0,
             "ticks": ""
            },
            "colorscale": [
             [
              0,
              "#0d0887"
             ],
             [
              0.1111111111111111,
              "#46039f"
             ],
             [
              0.2222222222222222,
              "#7201a8"
             ],
             [
              0.3333333333333333,
              "#9c179e"
             ],
             [
              0.4444444444444444,
              "#bd3786"
             ],
             [
              0.5555555555555556,
              "#d8576b"
             ],
             [
              0.6666666666666666,
              "#ed7953"
             ],
             [
              0.7777777777777778,
              "#fb9f3a"
             ],
             [
              0.8888888888888888,
              "#fdca26"
             ],
             [
              1,
              "#f0f921"
             ]
            ],
            "type": "histogram2d"
           }
          ],
          "histogram2dcontour": [
           {
            "colorbar": {
             "outlinewidth": 0,
             "ticks": ""
            },
            "colorscale": [
             [
              0,
              "#0d0887"
             ],
             [
              0.1111111111111111,
              "#46039f"
             ],
             [
              0.2222222222222222,
              "#7201a8"
             ],
             [
              0.3333333333333333,
              "#9c179e"
             ],
             [
              0.4444444444444444,
              "#bd3786"
             ],
             [
              0.5555555555555556,
              "#d8576b"
             ],
             [
              0.6666666666666666,
              "#ed7953"
             ],
             [
              0.7777777777777778,
              "#fb9f3a"
             ],
             [
              0.8888888888888888,
              "#fdca26"
             ],
             [
              1,
              "#f0f921"
             ]
            ],
            "type": "histogram2dcontour"
           }
          ],
          "mesh3d": [
           {
            "colorbar": {
             "outlinewidth": 0,
             "ticks": ""
            },
            "type": "mesh3d"
           }
          ],
          "parcoords": [
           {
            "line": {
             "colorbar": {
              "outlinewidth": 0,
              "ticks": ""
             }
            },
            "type": "parcoords"
           }
          ],
          "pie": [
           {
            "automargin": true,
            "type": "pie"
           }
          ],
          "scatter": [
           {
            "marker": {
             "colorbar": {
              "outlinewidth": 0,
              "ticks": ""
             }
            },
            "type": "scatter"
           }
          ],
          "scatter3d": [
           {
            "line": {
             "colorbar": {
              "outlinewidth": 0,
              "ticks": ""
             }
            },
            "marker": {
             "colorbar": {
              "outlinewidth": 0,
              "ticks": ""
             }
            },
            "type": "scatter3d"
           }
          ],
          "scattercarpet": [
           {
            "marker": {
             "colorbar": {
              "outlinewidth": 0,
              "ticks": ""
             }
            },
            "type": "scattercarpet"
           }
          ],
          "scattergeo": [
           {
            "marker": {
             "colorbar": {
              "outlinewidth": 0,
              "ticks": ""
             }
            },
            "type": "scattergeo"
           }
          ],
          "scattergl": [
           {
            "marker": {
             "colorbar": {
              "outlinewidth": 0,
              "ticks": ""
             }
            },
            "type": "scattergl"
           }
          ],
          "scattermapbox": [
           {
            "marker": {
             "colorbar": {
              "outlinewidth": 0,
              "ticks": ""
             }
            },
            "type": "scattermapbox"
           }
          ],
          "scatterpolar": [
           {
            "marker": {
             "colorbar": {
              "outlinewidth": 0,
              "ticks": ""
             }
            },
            "type": "scatterpolar"
           }
          ],
          "scatterpolargl": [
           {
            "marker": {
             "colorbar": {
              "outlinewidth": 0,
              "ticks": ""
             }
            },
            "type": "scatterpolargl"
           }
          ],
          "scatterternary": [
           {
            "marker": {
             "colorbar": {
              "outlinewidth": 0,
              "ticks": ""
             }
            },
            "type": "scatterternary"
           }
          ],
          "surface": [
           {
            "colorbar": {
             "outlinewidth": 0,
             "ticks": ""
            },
            "colorscale": [
             [
              0,
              "#0d0887"
             ],
             [
              0.1111111111111111,
              "#46039f"
             ],
             [
              0.2222222222222222,
              "#7201a8"
             ],
             [
              0.3333333333333333,
              "#9c179e"
             ],
             [
              0.4444444444444444,
              "#bd3786"
             ],
             [
              0.5555555555555556,
              "#d8576b"
             ],
             [
              0.6666666666666666,
              "#ed7953"
             ],
             [
              0.7777777777777778,
              "#fb9f3a"
             ],
             [
              0.8888888888888888,
              "#fdca26"
             ],
             [
              1,
              "#f0f921"
             ]
            ],
            "type": "surface"
           }
          ],
          "table": [
           {
            "cells": {
             "fill": {
              "color": "#EBF0F8"
             },
             "line": {
              "color": "white"
             }
            },
            "header": {
             "fill": {
              "color": "#C8D4E3"
             },
             "line": {
              "color": "white"
             }
            },
            "type": "table"
           }
          ]
         },
         "layout": {
          "annotationdefaults": {
           "arrowcolor": "#2a3f5f",
           "arrowhead": 0,
           "arrowwidth": 1
          },
          "autotypenumbers": "strict",
          "coloraxis": {
           "colorbar": {
            "outlinewidth": 0,
            "ticks": ""
           }
          },
          "colorscale": {
           "diverging": [
            [
             0,
             "#8e0152"
            ],
            [
             0.1,
             "#c51b7d"
            ],
            [
             0.2,
             "#de77ae"
            ],
            [
             0.3,
             "#f1b6da"
            ],
            [
             0.4,
             "#fde0ef"
            ],
            [
             0.5,
             "#f7f7f7"
            ],
            [
             0.6,
             "#e6f5d0"
            ],
            [
             0.7,
             "#b8e186"
            ],
            [
             0.8,
             "#7fbc41"
            ],
            [
             0.9,
             "#4d9221"
            ],
            [
             1,
             "#276419"
            ]
           ],
           "sequential": [
            [
             0,
             "#0d0887"
            ],
            [
             0.1111111111111111,
             "#46039f"
            ],
            [
             0.2222222222222222,
             "#7201a8"
            ],
            [
             0.3333333333333333,
             "#9c179e"
            ],
            [
             0.4444444444444444,
             "#bd3786"
            ],
            [
             0.5555555555555556,
             "#d8576b"
            ],
            [
             0.6666666666666666,
             "#ed7953"
            ],
            [
             0.7777777777777778,
             "#fb9f3a"
            ],
            [
             0.8888888888888888,
             "#fdca26"
            ],
            [
             1,
             "#f0f921"
            ]
           ],
           "sequentialminus": [
            [
             0,
             "#0d0887"
            ],
            [
             0.1111111111111111,
             "#46039f"
            ],
            [
             0.2222222222222222,
             "#7201a8"
            ],
            [
             0.3333333333333333,
             "#9c179e"
            ],
            [
             0.4444444444444444,
             "#bd3786"
            ],
            [
             0.5555555555555556,
             "#d8576b"
            ],
            [
             0.6666666666666666,
             "#ed7953"
            ],
            [
             0.7777777777777778,
             "#fb9f3a"
            ],
            [
             0.8888888888888888,
             "#fdca26"
            ],
            [
             1,
             "#f0f921"
            ]
           ]
          },
          "colorway": [
           "#636efa",
           "#EF553B",
           "#00cc96",
           "#ab63fa",
           "#FFA15A",
           "#19d3f3",
           "#FF6692",
           "#B6E880",
           "#FF97FF",
           "#FECB52"
          ],
          "font": {
           "color": "#2a3f5f"
          },
          "geo": {
           "bgcolor": "white",
           "lakecolor": "white",
           "landcolor": "#E5ECF6",
           "showlakes": true,
           "showland": true,
           "subunitcolor": "white"
          },
          "hoverlabel": {
           "align": "left"
          },
          "hovermode": "closest",
          "mapbox": {
           "style": "light"
          },
          "paper_bgcolor": "white",
          "plot_bgcolor": "#E5ECF6",
          "polar": {
           "angularaxis": {
            "gridcolor": "white",
            "linecolor": "white",
            "ticks": ""
           },
           "bgcolor": "#E5ECF6",
           "radialaxis": {
            "gridcolor": "white",
            "linecolor": "white",
            "ticks": ""
           }
          },
          "scene": {
           "xaxis": {
            "backgroundcolor": "#E5ECF6",
            "gridcolor": "white",
            "gridwidth": 2,
            "linecolor": "white",
            "showbackground": true,
            "ticks": "",
            "zerolinecolor": "white"
           },
           "yaxis": {
            "backgroundcolor": "#E5ECF6",
            "gridcolor": "white",
            "gridwidth": 2,
            "linecolor": "white",
            "showbackground": true,
            "ticks": "",
            "zerolinecolor": "white"
           },
           "zaxis": {
            "backgroundcolor": "#E5ECF6",
            "gridcolor": "white",
            "gridwidth": 2,
            "linecolor": "white",
            "showbackground": true,
            "ticks": "",
            "zerolinecolor": "white"
           }
          },
          "shapedefaults": {
           "line": {
            "color": "#2a3f5f"
           }
          },
          "ternary": {
           "aaxis": {
            "gridcolor": "white",
            "linecolor": "white",
            "ticks": ""
           },
           "baxis": {
            "gridcolor": "white",
            "linecolor": "white",
            "ticks": ""
           },
           "bgcolor": "#E5ECF6",
           "caxis": {
            "gridcolor": "white",
            "linecolor": "white",
            "ticks": ""
           }
          },
          "title": {
           "x": 0.05
          },
          "xaxis": {
           "automargin": true,
           "gridcolor": "white",
           "linecolor": "white",
           "ticks": "",
           "title": {
            "standoff": 15
           },
           "zerolinecolor": "white",
           "zerolinewidth": 2
          },
          "yaxis": {
           "automargin": true,
           "gridcolor": "white",
           "linecolor": "white",
           "ticks": "",
           "title": {
            "standoff": 15
           },
           "zerolinecolor": "white",
           "zerolinewidth": 2
          }
         }
        },
        "title": {
         "text": "Total Deceased cases in Maharashtra Districtwise"
        },
        "xaxis": {
         "anchor": "y",
         "categoryarray": [
          "Ahmednagar",
          "Akola",
          "Amravati",
          "Aurangabad",
          "Beed",
          "Bhandara",
          "Buldhana",
          "Chandrapur",
          "Dhule",
          "Gadchiroli",
          "Gondia",
          "Hingoli",
          "Jalgaon",
          "Jalna",
          "Kolhapur",
          "Latur",
          "Mumbai",
          "Nagpur",
          "Nanded",
          "Nandurbar",
          "Nashik",
          "Osmanabad",
          "Palghar",
          "Parbhani",
          "Pune",
          "Raigad",
          "Ratnagiri",
          "Sangli",
          "Satara",
          "Sindhudurg",
          "Solapur",
          "Thane",
          "Wardha",
          "Washim",
          "Yavatmal"
         ],
         "categoryorder": "array",
         "domain": [
          0,
          1
         ],
         "title": {
          "text": "Districts"
         }
        },
        "yaxis": {
         "anchor": "x",
         "domain": [
          0,
          1
         ],
         "title": {
          "text": "Deceased"
         }
        }
       }
      },
      "text/html": [
       "<div>                            <div id=\"d48ec1e2-03c6-4406-8dc2-03fa4571708f\" class=\"plotly-graph-div\" style=\"height:525px; width:100%;\"></div>            <script type=\"text/javascript\">                require([\"plotly\"], function(Plotly) {                    window.PLOTLYENV=window.PLOTLYENV || {};                                    if (document.getElementById(\"d48ec1e2-03c6-4406-8dc2-03fa4571708f\")) {                    Plotly.newPlot(                        \"d48ec1e2-03c6-4406-8dc2-03fa4571708f\",                        [{\"alignmentgroup\":\"True\",\"hovertemplate\":\"Districts=%{x}<br>Deceased=%{y}<extra></extra>\",\"legendgroup\":\"Ahmednagar\",\"marker\":{\"color\":\"#636efa\",\"pattern\":{\"shape\":\"\"}},\"name\":\"Ahmednagar\",\"offsetgroup\":\"Ahmednagar\",\"orientation\":\"v\",\"showlegend\":true,\"textposition\":\"auto\",\"x\":[\"Ahmednagar\"],\"xaxis\":\"x\",\"y\":[7228],\"yaxis\":\"y\",\"type\":\"bar\"},{\"alignmentgroup\":\"True\",\"hovertemplate\":\"Districts=%{x}<br>Deceased=%{y}<extra></extra>\",\"legendgroup\":\"Akola\",\"marker\":{\"color\":\"#EF553B\",\"pattern\":{\"shape\":\"\"}},\"name\":\"Akola\",\"offsetgroup\":\"Akola\",\"orientation\":\"v\",\"showlegend\":true,\"textposition\":\"auto\",\"x\":[\"Akola\"],\"xaxis\":\"x\",\"y\":[1464],\"yaxis\":\"y\",\"type\":\"bar\"},{\"alignmentgroup\":\"True\",\"hovertemplate\":\"Districts=%{x}<br>Deceased=%{y}<extra></extra>\",\"legendgroup\":\"Amravati\",\"marker\":{\"color\":\"#00cc96\",\"pattern\":{\"shape\":\"\"}},\"name\":\"Amravati\",\"offsetgroup\":\"Amravati\",\"orientation\":\"v\",\"showlegend\":true,\"textposition\":\"auto\",\"x\":[\"Amravati\"],\"xaxis\":\"x\",\"y\":[1622],\"yaxis\":\"y\",\"type\":\"bar\"},{\"alignmentgroup\":\"True\",\"hovertemplate\":\"Districts=%{x}<br>Deceased=%{y}<extra></extra>\",\"legendgroup\":\"Aurangabad\",\"marker\":{\"color\":\"#ab63fa\",\"pattern\":{\"shape\":\"\"}},\"name\":\"Aurangabad\",\"offsetgroup\":\"Aurangabad\",\"orientation\":\"v\",\"showlegend\":true,\"textposition\":\"auto\",\"x\":[\"Aurangabad\"],\"xaxis\":\"x\",\"y\":[4270],\"yaxis\":\"y\",\"type\":\"bar\"},{\"alignmentgroup\":\"True\",\"hovertemplate\":\"Districts=%{x}<br>Deceased=%{y}<extra></extra>\",\"legendgroup\":\"Beed\",\"marker\":{\"color\":\"#FFA15A\",\"pattern\":{\"shape\":\"\"}},\"name\":\"Beed\",\"offsetgroup\":\"Beed\",\"orientation\":\"v\",\"showlegend\":true,\"textposition\":\"auto\",\"x\":[\"Beed\"],\"xaxis\":\"x\",\"y\":[2874],\"yaxis\":\"y\",\"type\":\"bar\"},{\"alignmentgroup\":\"True\",\"hovertemplate\":\"Districts=%{x}<br>Deceased=%{y}<extra></extra>\",\"legendgroup\":\"Bhandara\",\"marker\":{\"color\":\"#19d3f3\",\"pattern\":{\"shape\":\"\"}},\"name\":\"Bhandara\",\"offsetgroup\":\"Bhandara\",\"orientation\":\"v\",\"showlegend\":true,\"textposition\":\"auto\",\"x\":[\"Bhandara\"],\"xaxis\":\"x\",\"y\":[1132],\"yaxis\":\"y\",\"type\":\"bar\"},{\"alignmentgroup\":\"True\",\"hovertemplate\":\"Districts=%{x}<br>Deceased=%{y}<extra></extra>\",\"legendgroup\":\"Buldhana\",\"marker\":{\"color\":\"#FF6692\",\"pattern\":{\"shape\":\"\"}},\"name\":\"Buldhana\",\"offsetgroup\":\"Buldhana\",\"orientation\":\"v\",\"showlegend\":true,\"textposition\":\"auto\",\"x\":[\"Buldhana\"],\"xaxis\":\"x\",\"y\":[815],\"yaxis\":\"y\",\"type\":\"bar\"},{\"alignmentgroup\":\"True\",\"hovertemplate\":\"Districts=%{x}<br>Deceased=%{y}<extra></extra>\",\"legendgroup\":\"Chandrapur\",\"marker\":{\"color\":\"#B6E880\",\"pattern\":{\"shape\":\"\"}},\"name\":\"Chandrapur\",\"offsetgroup\":\"Chandrapur\",\"orientation\":\"v\",\"showlegend\":true,\"textposition\":\"auto\",\"x\":[\"Chandrapur\"],\"xaxis\":\"x\",\"y\":[1587],\"yaxis\":\"y\",\"type\":\"bar\"},{\"alignmentgroup\":\"True\",\"hovertemplate\":\"Districts=%{x}<br>Deceased=%{y}<extra></extra>\",\"legendgroup\":\"Dhule\",\"marker\":{\"color\":\"#FF97FF\",\"pattern\":{\"shape\":\"\"}},\"name\":\"Dhule\",\"offsetgroup\":\"Dhule\",\"orientation\":\"v\",\"showlegend\":true,\"textposition\":\"auto\",\"x\":[\"Dhule\"],\"xaxis\":\"x\",\"y\":[659],\"yaxis\":\"y\",\"type\":\"bar\"},{\"alignmentgroup\":\"True\",\"hovertemplate\":\"Districts=%{x}<br>Deceased=%{y}<extra></extra>\",\"legendgroup\":\"Gadchiroli\",\"marker\":{\"color\":\"#FECB52\",\"pattern\":{\"shape\":\"\"}},\"name\":\"Gadchiroli\",\"offsetgroup\":\"Gadchiroli\",\"orientation\":\"v\",\"showlegend\":true,\"textposition\":\"auto\",\"x\":[\"Gadchiroli\"],\"xaxis\":\"x\",\"y\":[691],\"yaxis\":\"y\",\"type\":\"bar\"},{\"alignmentgroup\":\"True\",\"hovertemplate\":\"Districts=%{x}<br>Deceased=%{y}<extra></extra>\",\"legendgroup\":\"Gondia\",\"marker\":{\"color\":\"#636efa\",\"pattern\":{\"shape\":\"\"}},\"name\":\"Gondia\",\"offsetgroup\":\"Gondia\",\"orientation\":\"v\",\"showlegend\":true,\"textposition\":\"auto\",\"x\":[\"Gondia\"],\"xaxis\":\"x\",\"y\":[579],\"yaxis\":\"y\",\"type\":\"bar\"},{\"alignmentgroup\":\"True\",\"hovertemplate\":\"Districts=%{x}<br>Deceased=%{y}<extra></extra>\",\"legendgroup\":\"Hingoli\",\"marker\":{\"color\":\"#EF553B\",\"pattern\":{\"shape\":\"\"}},\"name\":\"Hingoli\",\"offsetgroup\":\"Hingoli\",\"orientation\":\"v\",\"showlegend\":true,\"textposition\":\"auto\",\"x\":[\"Hingoli\"],\"xaxis\":\"x\",\"y\":[513],\"yaxis\":\"y\",\"type\":\"bar\"},{\"alignmentgroup\":\"True\",\"hovertemplate\":\"Districts=%{x}<br>Deceased=%{y}<extra></extra>\",\"legendgroup\":\"Jalgaon\",\"marker\":{\"color\":\"#00cc96\",\"pattern\":{\"shape\":\"\"}},\"name\":\"Jalgaon\",\"offsetgroup\":\"Jalgaon\",\"orientation\":\"v\",\"showlegend\":true,\"textposition\":\"auto\",\"x\":[\"Jalgaon\"],\"xaxis\":\"x\",\"y\":[2728],\"yaxis\":\"y\",\"type\":\"bar\"},{\"alignmentgroup\":\"True\",\"hovertemplate\":\"Districts=%{x}<br>Deceased=%{y}<extra></extra>\",\"legendgroup\":\"Jalna\",\"marker\":{\"color\":\"#ab63fa\",\"pattern\":{\"shape\":\"\"}},\"name\":\"Jalna\",\"offsetgroup\":\"Jalna\",\"orientation\":\"v\",\"showlegend\":true,\"textposition\":\"auto\",\"x\":[\"Jalna\"],\"xaxis\":\"x\",\"y\":[1223],\"yaxis\":\"y\",\"type\":\"bar\"},{\"alignmentgroup\":\"True\",\"hovertemplate\":\"Districts=%{x}<br>Deceased=%{y}<extra></extra>\",\"legendgroup\":\"Kolhapur\",\"marker\":{\"color\":\"#FFA15A\",\"pattern\":{\"shape\":\"\"}},\"name\":\"Kolhapur\",\"offsetgroup\":\"Kolhapur\",\"orientation\":\"v\",\"showlegend\":true,\"textposition\":\"auto\",\"x\":[\"Kolhapur\"],\"xaxis\":\"x\",\"y\":[5899],\"yaxis\":\"y\",\"type\":\"bar\"},{\"alignmentgroup\":\"True\",\"hovertemplate\":\"Districts=%{x}<br>Deceased=%{y}<extra></extra>\",\"legendgroup\":\"Latur\",\"marker\":{\"color\":\"#19d3f3\",\"pattern\":{\"shape\":\"\"}},\"name\":\"Latur\",\"offsetgroup\":\"Latur\",\"orientation\":\"v\",\"showlegend\":true,\"textposition\":\"auto\",\"x\":[\"Latur\"],\"xaxis\":\"x\",\"y\":[2483],\"yaxis\":\"y\",\"type\":\"bar\"},{\"alignmentgroup\":\"True\",\"hovertemplate\":\"Districts=%{x}<br>Deceased=%{y}<extra></extra>\",\"legendgroup\":\"Mumbai\",\"marker\":{\"color\":\"#FF6692\",\"pattern\":{\"shape\":\"\"}},\"name\":\"Mumbai\",\"offsetgroup\":\"Mumbai\",\"orientation\":\"v\",\"showlegend\":true,\"textposition\":\"auto\",\"x\":[\"Mumbai\"],\"xaxis\":\"x\",\"y\":[16691],\"yaxis\":\"y\",\"type\":\"bar\"},{\"alignmentgroup\":\"True\",\"hovertemplate\":\"Districts=%{x}<br>Deceased=%{y}<extra></extra>\",\"legendgroup\":\"Nagpur\",\"marker\":{\"color\":\"#B6E880\",\"pattern\":{\"shape\":\"\"}},\"name\":\"Nagpur\",\"offsetgroup\":\"Nagpur\",\"orientation\":\"v\",\"showlegend\":true,\"textposition\":\"auto\",\"x\":[\"Nagpur\"],\"xaxis\":\"x\",\"y\":[9143],\"yaxis\":\"y\",\"type\":\"bar\"},{\"alignmentgroup\":\"True\",\"hovertemplate\":\"Districts=%{x}<br>Deceased=%{y}<extra></extra>\",\"legendgroup\":\"Nanded\",\"marker\":{\"color\":\"#FF97FF\",\"pattern\":{\"shape\":\"\"}},\"name\":\"Nanded\",\"offsetgroup\":\"Nanded\",\"orientation\":\"v\",\"showlegend\":true,\"textposition\":\"auto\",\"x\":[\"Nanded\"],\"xaxis\":\"x\",\"y\":[2695],\"yaxis\":\"y\",\"type\":\"bar\"},{\"alignmentgroup\":\"True\",\"hovertemplate\":\"Districts=%{x}<br>Deceased=%{y}<extra></extra>\",\"legendgroup\":\"Nandurbar\",\"marker\":{\"color\":\"#FECB52\",\"pattern\":{\"shape\":\"\"}},\"name\":\"Nandurbar\",\"offsetgroup\":\"Nandurbar\",\"orientation\":\"v\",\"showlegend\":true,\"textposition\":\"auto\",\"x\":[\"Nandurbar\"],\"xaxis\":\"x\",\"y\":[959],\"yaxis\":\"y\",\"type\":\"bar\"},{\"alignmentgroup\":\"True\",\"hovertemplate\":\"Districts=%{x}<br>Deceased=%{y}<extra></extra>\",\"legendgroup\":\"Nashik\",\"marker\":{\"color\":\"#636efa\",\"pattern\":{\"shape\":\"\"}},\"name\":\"Nashik\",\"offsetgroup\":\"Nashik\",\"orientation\":\"v\",\"showlegend\":true,\"textposition\":\"auto\",\"x\":[\"Nashik\"],\"xaxis\":\"x\",\"y\":[8901],\"yaxis\":\"y\",\"type\":\"bar\"},{\"alignmentgroup\":\"True\",\"hovertemplate\":\"Districts=%{x}<br>Deceased=%{y}<extra></extra>\",\"legendgroup\":\"Osmanabad\",\"marker\":{\"color\":\"#EF553B\",\"pattern\":{\"shape\":\"\"}},\"name\":\"Osmanabad\",\"offsetgroup\":\"Osmanabad\",\"orientation\":\"v\",\"showlegend\":true,\"textposition\":\"auto\",\"x\":[\"Osmanabad\"],\"xaxis\":\"x\",\"y\":[2023],\"yaxis\":\"y\",\"type\":\"bar\"},{\"alignmentgroup\":\"True\",\"hovertemplate\":\"Districts=%{x}<br>Deceased=%{y}<extra></extra>\",\"legendgroup\":\"Palghar\",\"marker\":{\"color\":\"#00cc96\",\"pattern\":{\"shape\":\"\"}},\"name\":\"Palghar\",\"offsetgroup\":\"Palghar\",\"orientation\":\"v\",\"showlegend\":true,\"textposition\":\"auto\",\"x\":[\"Palghar\"],\"xaxis\":\"x\",\"y\":[3392],\"yaxis\":\"y\",\"type\":\"bar\"},{\"alignmentgroup\":\"True\",\"hovertemplate\":\"Districts=%{x}<br>Deceased=%{y}<extra></extra>\",\"legendgroup\":\"Parbhani\",\"marker\":{\"color\":\"#ab63fa\",\"pattern\":{\"shape\":\"\"}},\"name\":\"Parbhani\",\"offsetgroup\":\"Parbhani\",\"orientation\":\"v\",\"showlegend\":true,\"textposition\":\"auto\",\"x\":[\"Parbhani\"],\"xaxis\":\"x\",\"y\":[1256],\"yaxis\":\"y\",\"type\":\"bar\"},{\"alignmentgroup\":\"True\",\"hovertemplate\":\"Districts=%{x}<br>Deceased=%{y}<extra></extra>\",\"legendgroup\":\"Pune\",\"marker\":{\"color\":\"#FFA15A\",\"pattern\":{\"shape\":\"\"}},\"name\":\"Pune\",\"offsetgroup\":\"Pune\",\"orientation\":\"v\",\"showlegend\":true,\"textposition\":\"auto\",\"x\":[\"Pune\"],\"xaxis\":\"x\",\"y\":[20156],\"yaxis\":\"y\",\"type\":\"bar\"},{\"alignmentgroup\":\"True\",\"hovertemplate\":\"Districts=%{x}<br>Deceased=%{y}<extra></extra>\",\"legendgroup\":\"Raigad\",\"marker\":{\"color\":\"#19d3f3\",\"pattern\":{\"shape\":\"\"}},\"name\":\"Raigad\",\"offsetgroup\":\"Raigad\",\"orientation\":\"v\",\"showlegend\":true,\"textposition\":\"auto\",\"x\":[\"Raigad\"],\"xaxis\":\"x\",\"y\":[4936],\"yaxis\":\"y\",\"type\":\"bar\"},{\"alignmentgroup\":\"True\",\"hovertemplate\":\"Districts=%{x}<br>Deceased=%{y}<extra></extra>\",\"legendgroup\":\"Ratnagiri\",\"marker\":{\"color\":\"#FF6692\",\"pattern\":{\"shape\":\"\"}},\"name\":\"Ratnagiri\",\"offsetgroup\":\"Ratnagiri\",\"orientation\":\"v\",\"showlegend\":true,\"textposition\":\"auto\",\"x\":[\"Ratnagiri\"],\"xaxis\":\"x\",\"y\":[2541],\"yaxis\":\"y\",\"type\":\"bar\"},{\"alignmentgroup\":\"True\",\"hovertemplate\":\"Districts=%{x}<br>Deceased=%{y}<extra></extra>\",\"legendgroup\":\"Sangli\",\"marker\":{\"color\":\"#B6E880\",\"pattern\":{\"shape\":\"\"}},\"name\":\"Sangli\",\"offsetgroup\":\"Sangli\",\"orientation\":\"v\",\"showlegend\":true,\"textposition\":\"auto\",\"x\":[\"Sangli\"],\"xaxis\":\"x\",\"y\":[5655],\"yaxis\":\"y\",\"type\":\"bar\"},{\"alignmentgroup\":\"True\",\"hovertemplate\":\"Districts=%{x}<br>Deceased=%{y}<extra></extra>\",\"legendgroup\":\"Satara\",\"marker\":{\"color\":\"#FF97FF\",\"pattern\":{\"shape\":\"\"}},\"name\":\"Satara\",\"offsetgroup\":\"Satara\",\"orientation\":\"v\",\"showlegend\":true,\"textposition\":\"auto\",\"x\":[\"Satara\"],\"xaxis\":\"x\",\"y\":[6674],\"yaxis\":\"y\",\"type\":\"bar\"},{\"alignmentgroup\":\"True\",\"hovertemplate\":\"Districts=%{x}<br>Deceased=%{y}<extra></extra>\",\"legendgroup\":\"Sindhudurg\",\"marker\":{\"color\":\"#FECB52\",\"pattern\":{\"shape\":\"\"}},\"name\":\"Sindhudurg\",\"offsetgroup\":\"Sindhudurg\",\"orientation\":\"v\",\"showlegend\":true,\"textposition\":\"auto\",\"x\":[\"Sindhudurg\"],\"xaxis\":\"x\",\"y\":[1511],\"yaxis\":\"y\",\"type\":\"bar\"},{\"alignmentgroup\":\"True\",\"hovertemplate\":\"Districts=%{x}<br>Deceased=%{y}<extra></extra>\",\"legendgroup\":\"Solapur\",\"marker\":{\"color\":\"#636efa\",\"pattern\":{\"shape\":\"\"}},\"name\":\"Solapur\",\"offsetgroup\":\"Solapur\",\"orientation\":\"v\",\"showlegend\":true,\"textposition\":\"auto\",\"x\":[\"Solapur\"],\"xaxis\":\"x\",\"y\":[5757],\"yaxis\":\"y\",\"type\":\"bar\"},{\"alignmentgroup\":\"True\",\"hovertemplate\":\"Districts=%{x}<br>Deceased=%{y}<extra></extra>\",\"legendgroup\":\"Thane\",\"marker\":{\"color\":\"#EF553B\",\"pattern\":{\"shape\":\"\"}},\"name\":\"Thane\",\"offsetgroup\":\"Thane\",\"orientation\":\"v\",\"showlegend\":true,\"textposition\":\"auto\",\"x\":[\"Thane\"],\"xaxis\":\"x\",\"y\":[11859],\"yaxis\":\"y\",\"type\":\"bar\"},{\"alignmentgroup\":\"True\",\"hovertemplate\":\"Districts=%{x}<br>Deceased=%{y}<extra></extra>\",\"legendgroup\":\"Wardha\",\"marker\":{\"color\":\"#00cc96\",\"pattern\":{\"shape\":\"\"}},\"name\":\"Wardha\",\"offsetgroup\":\"Wardha\",\"orientation\":\"v\",\"showlegend\":true,\"textposition\":\"auto\",\"x\":[\"Wardha\"],\"xaxis\":\"x\",\"y\":[1237],\"yaxis\":\"y\",\"type\":\"bar\"},{\"alignmentgroup\":\"True\",\"hovertemplate\":\"Districts=%{x}<br>Deceased=%{y}<extra></extra>\",\"legendgroup\":\"Washim\",\"marker\":{\"color\":\"#ab63fa\",\"pattern\":{\"shape\":\"\"}},\"name\":\"Washim\",\"offsetgroup\":\"Washim\",\"orientation\":\"v\",\"showlegend\":true,\"textposition\":\"auto\",\"x\":[\"Washim\"],\"xaxis\":\"x\",\"y\":[638],\"yaxis\":\"y\",\"type\":\"bar\"},{\"alignmentgroup\":\"True\",\"hovertemplate\":\"Districts=%{x}<br>Deceased=%{y}<extra></extra>\",\"legendgroup\":\"Yavatmal\",\"marker\":{\"color\":\"#FFA15A\",\"pattern\":{\"shape\":\"\"}},\"name\":\"Yavatmal\",\"offsetgroup\":\"Yavatmal\",\"orientation\":\"v\",\"showlegend\":true,\"textposition\":\"auto\",\"x\":[\"Yavatmal\"],\"xaxis\":\"x\",\"y\":[1816],\"yaxis\":\"y\",\"type\":\"bar\"}],                        {\"template\":{\"data\":{\"bar\":[{\"error_x\":{\"color\":\"#2a3f5f\"},\"error_y\":{\"color\":\"#2a3f5f\"},\"marker\":{\"line\":{\"color\":\"#E5ECF6\",\"width\":0.5},\"pattern\":{\"fillmode\":\"overlay\",\"size\":10,\"solidity\":0.2}},\"type\":\"bar\"}],\"barpolar\":[{\"marker\":{\"line\":{\"color\":\"#E5ECF6\",\"width\":0.5},\"pattern\":{\"fillmode\":\"overlay\",\"size\":10,\"solidity\":0.2}},\"type\":\"barpolar\"}],\"carpet\":[{\"aaxis\":{\"endlinecolor\":\"#2a3f5f\",\"gridcolor\":\"white\",\"linecolor\":\"white\",\"minorgridcolor\":\"white\",\"startlinecolor\":\"#2a3f5f\"},\"baxis\":{\"endlinecolor\":\"#2a3f5f\",\"gridcolor\":\"white\",\"linecolor\":\"white\",\"minorgridcolor\":\"white\",\"startlinecolor\":\"#2a3f5f\"},\"type\":\"carpet\"}],\"choropleth\":[{\"colorbar\":{\"outlinewidth\":0,\"ticks\":\"\"},\"type\":\"choropleth\"}],\"contour\":[{\"colorbar\":{\"outlinewidth\":0,\"ticks\":\"\"},\"colorscale\":[[0.0,\"#0d0887\"],[0.1111111111111111,\"#46039f\"],[0.2222222222222222,\"#7201a8\"],[0.3333333333333333,\"#9c179e\"],[0.4444444444444444,\"#bd3786\"],[0.5555555555555556,\"#d8576b\"],[0.6666666666666666,\"#ed7953\"],[0.7777777777777778,\"#fb9f3a\"],[0.8888888888888888,\"#fdca26\"],[1.0,\"#f0f921\"]],\"type\":\"contour\"}],\"contourcarpet\":[{\"colorbar\":{\"outlinewidth\":0,\"ticks\":\"\"},\"type\":\"contourcarpet\"}],\"heatmap\":[{\"colorbar\":{\"outlinewidth\":0,\"ticks\":\"\"},\"colorscale\":[[0.0,\"#0d0887\"],[0.1111111111111111,\"#46039f\"],[0.2222222222222222,\"#7201a8\"],[0.3333333333333333,\"#9c179e\"],[0.4444444444444444,\"#bd3786\"],[0.5555555555555556,\"#d8576b\"],[0.6666666666666666,\"#ed7953\"],[0.7777777777777778,\"#fb9f3a\"],[0.8888888888888888,\"#fdca26\"],[1.0,\"#f0f921\"]],\"type\":\"heatmap\"}],\"heatmapgl\":[{\"colorbar\":{\"outlinewidth\":0,\"ticks\":\"\"},\"colorscale\":[[0.0,\"#0d0887\"],[0.1111111111111111,\"#46039f\"],[0.2222222222222222,\"#7201a8\"],[0.3333333333333333,\"#9c179e\"],[0.4444444444444444,\"#bd3786\"],[0.5555555555555556,\"#d8576b\"],[0.6666666666666666,\"#ed7953\"],[0.7777777777777778,\"#fb9f3a\"],[0.8888888888888888,\"#fdca26\"],[1.0,\"#f0f921\"]],\"type\":\"heatmapgl\"}],\"histogram\":[{\"marker\":{\"pattern\":{\"fillmode\":\"overlay\",\"size\":10,\"solidity\":0.2}},\"type\":\"histogram\"}],\"histogram2d\":[{\"colorbar\":{\"outlinewidth\":0,\"ticks\":\"\"},\"colorscale\":[[0.0,\"#0d0887\"],[0.1111111111111111,\"#46039f\"],[0.2222222222222222,\"#7201a8\"],[0.3333333333333333,\"#9c179e\"],[0.4444444444444444,\"#bd3786\"],[0.5555555555555556,\"#d8576b\"],[0.6666666666666666,\"#ed7953\"],[0.7777777777777778,\"#fb9f3a\"],[0.8888888888888888,\"#fdca26\"],[1.0,\"#f0f921\"]],\"type\":\"histogram2d\"}],\"histogram2dcontour\":[{\"colorbar\":{\"outlinewidth\":0,\"ticks\":\"\"},\"colorscale\":[[0.0,\"#0d0887\"],[0.1111111111111111,\"#46039f\"],[0.2222222222222222,\"#7201a8\"],[0.3333333333333333,\"#9c179e\"],[0.4444444444444444,\"#bd3786\"],[0.5555555555555556,\"#d8576b\"],[0.6666666666666666,\"#ed7953\"],[0.7777777777777778,\"#fb9f3a\"],[0.8888888888888888,\"#fdca26\"],[1.0,\"#f0f921\"]],\"type\":\"histogram2dcontour\"}],\"mesh3d\":[{\"colorbar\":{\"outlinewidth\":0,\"ticks\":\"\"},\"type\":\"mesh3d\"}],\"parcoords\":[{\"line\":{\"colorbar\":{\"outlinewidth\":0,\"ticks\":\"\"}},\"type\":\"parcoords\"}],\"pie\":[{\"automargin\":true,\"type\":\"pie\"}],\"scatter\":[{\"marker\":{\"colorbar\":{\"outlinewidth\":0,\"ticks\":\"\"}},\"type\":\"scatter\"}],\"scatter3d\":[{\"line\":{\"colorbar\":{\"outlinewidth\":0,\"ticks\":\"\"}},\"marker\":{\"colorbar\":{\"outlinewidth\":0,\"ticks\":\"\"}},\"type\":\"scatter3d\"}],\"scattercarpet\":[{\"marker\":{\"colorbar\":{\"outlinewidth\":0,\"ticks\":\"\"}},\"type\":\"scattercarpet\"}],\"scattergeo\":[{\"marker\":{\"colorbar\":{\"outlinewidth\":0,\"ticks\":\"\"}},\"type\":\"scattergeo\"}],\"scattergl\":[{\"marker\":{\"colorbar\":{\"outlinewidth\":0,\"ticks\":\"\"}},\"type\":\"scattergl\"}],\"scattermapbox\":[{\"marker\":{\"colorbar\":{\"outlinewidth\":0,\"ticks\":\"\"}},\"type\":\"scattermapbox\"}],\"scatterpolar\":[{\"marker\":{\"colorbar\":{\"outlinewidth\":0,\"ticks\":\"\"}},\"type\":\"scatterpolar\"}],\"scatterpolargl\":[{\"marker\":{\"colorbar\":{\"outlinewidth\":0,\"ticks\":\"\"}},\"type\":\"scatterpolargl\"}],\"scatterternary\":[{\"marker\":{\"colorbar\":{\"outlinewidth\":0,\"ticks\":\"\"}},\"type\":\"scatterternary\"}],\"surface\":[{\"colorbar\":{\"outlinewidth\":0,\"ticks\":\"\"},\"colorscale\":[[0.0,\"#0d0887\"],[0.1111111111111111,\"#46039f\"],[0.2222222222222222,\"#7201a8\"],[0.3333333333333333,\"#9c179e\"],[0.4444444444444444,\"#bd3786\"],[0.5555555555555556,\"#d8576b\"],[0.6666666666666666,\"#ed7953\"],[0.7777777777777778,\"#fb9f3a\"],[0.8888888888888888,\"#fdca26\"],[1.0,\"#f0f921\"]],\"type\":\"surface\"}],\"table\":[{\"cells\":{\"fill\":{\"color\":\"#EBF0F8\"},\"line\":{\"color\":\"white\"}},\"header\":{\"fill\":{\"color\":\"#C8D4E3\"},\"line\":{\"color\":\"white\"}},\"type\":\"table\"}]},\"layout\":{\"annotationdefaults\":{\"arrowcolor\":\"#2a3f5f\",\"arrowhead\":0,\"arrowwidth\":1},\"autotypenumbers\":\"strict\",\"coloraxis\":{\"colorbar\":{\"outlinewidth\":0,\"ticks\":\"\"}},\"colorscale\":{\"diverging\":[[0,\"#8e0152\"],[0.1,\"#c51b7d\"],[0.2,\"#de77ae\"],[0.3,\"#f1b6da\"],[0.4,\"#fde0ef\"],[0.5,\"#f7f7f7\"],[0.6,\"#e6f5d0\"],[0.7,\"#b8e186\"],[0.8,\"#7fbc41\"],[0.9,\"#4d9221\"],[1,\"#276419\"]],\"sequential\":[[0.0,\"#0d0887\"],[0.1111111111111111,\"#46039f\"],[0.2222222222222222,\"#7201a8\"],[0.3333333333333333,\"#9c179e\"],[0.4444444444444444,\"#bd3786\"],[0.5555555555555556,\"#d8576b\"],[0.6666666666666666,\"#ed7953\"],[0.7777777777777778,\"#fb9f3a\"],[0.8888888888888888,\"#fdca26\"],[1.0,\"#f0f921\"]],\"sequentialminus\":[[0.0,\"#0d0887\"],[0.1111111111111111,\"#46039f\"],[0.2222222222222222,\"#7201a8\"],[0.3333333333333333,\"#9c179e\"],[0.4444444444444444,\"#bd3786\"],[0.5555555555555556,\"#d8576b\"],[0.6666666666666666,\"#ed7953\"],[0.7777777777777778,\"#fb9f3a\"],[0.8888888888888888,\"#fdca26\"],[1.0,\"#f0f921\"]]},\"colorway\":[\"#636efa\",\"#EF553B\",\"#00cc96\",\"#ab63fa\",\"#FFA15A\",\"#19d3f3\",\"#FF6692\",\"#B6E880\",\"#FF97FF\",\"#FECB52\"],\"font\":{\"color\":\"#2a3f5f\"},\"geo\":{\"bgcolor\":\"white\",\"lakecolor\":\"white\",\"landcolor\":\"#E5ECF6\",\"showlakes\":true,\"showland\":true,\"subunitcolor\":\"white\"},\"hoverlabel\":{\"align\":\"left\"},\"hovermode\":\"closest\",\"mapbox\":{\"style\":\"light\"},\"paper_bgcolor\":\"white\",\"plot_bgcolor\":\"#E5ECF6\",\"polar\":{\"angularaxis\":{\"gridcolor\":\"white\",\"linecolor\":\"white\",\"ticks\":\"\"},\"bgcolor\":\"#E5ECF6\",\"radialaxis\":{\"gridcolor\":\"white\",\"linecolor\":\"white\",\"ticks\":\"\"}},\"scene\":{\"xaxis\":{\"backgroundcolor\":\"#E5ECF6\",\"gridcolor\":\"white\",\"gridwidth\":2,\"linecolor\":\"white\",\"showbackground\":true,\"ticks\":\"\",\"zerolinecolor\":\"white\"},\"yaxis\":{\"backgroundcolor\":\"#E5ECF6\",\"gridcolor\":\"white\",\"gridwidth\":2,\"linecolor\":\"white\",\"showbackground\":true,\"ticks\":\"\",\"zerolinecolor\":\"white\"},\"zaxis\":{\"backgroundcolor\":\"#E5ECF6\",\"gridcolor\":\"white\",\"gridwidth\":2,\"linecolor\":\"white\",\"showbackground\":true,\"ticks\":\"\",\"zerolinecolor\":\"white\"}},\"shapedefaults\":{\"line\":{\"color\":\"#2a3f5f\"}},\"ternary\":{\"aaxis\":{\"gridcolor\":\"white\",\"linecolor\":\"white\",\"ticks\":\"\"},\"baxis\":{\"gridcolor\":\"white\",\"linecolor\":\"white\",\"ticks\":\"\"},\"bgcolor\":\"#E5ECF6\",\"caxis\":{\"gridcolor\":\"white\",\"linecolor\":\"white\",\"ticks\":\"\"}},\"title\":{\"x\":0.05},\"xaxis\":{\"automargin\":true,\"gridcolor\":\"white\",\"linecolor\":\"white\",\"ticks\":\"\",\"title\":{\"standoff\":15},\"zerolinecolor\":\"white\",\"zerolinewidth\":2},\"yaxis\":{\"automargin\":true,\"gridcolor\":\"white\",\"linecolor\":\"white\",\"ticks\":\"\",\"title\":{\"standoff\":15},\"zerolinecolor\":\"white\",\"zerolinewidth\":2}}},\"xaxis\":{\"anchor\":\"y\",\"domain\":[0.0,1.0],\"title\":{\"text\":\"Districts\"},\"categoryorder\":\"array\",\"categoryarray\":[\"Ahmednagar\",\"Akola\",\"Amravati\",\"Aurangabad\",\"Beed\",\"Bhandara\",\"Buldhana\",\"Chandrapur\",\"Dhule\",\"Gadchiroli\",\"Gondia\",\"Hingoli\",\"Jalgaon\",\"Jalna\",\"Kolhapur\",\"Latur\",\"Mumbai\",\"Nagpur\",\"Nanded\",\"Nandurbar\",\"Nashik\",\"Osmanabad\",\"Palghar\",\"Parbhani\",\"Pune\",\"Raigad\",\"Ratnagiri\",\"Sangli\",\"Satara\",\"Sindhudurg\",\"Solapur\",\"Thane\",\"Wardha\",\"Washim\",\"Yavatmal\"]},\"yaxis\":{\"anchor\":\"x\",\"domain\":[0.0,1.0],\"title\":{\"text\":\"Deceased\"}},\"legend\":{\"title\":{\"text\":\"Districts\"},\"tracegroupgap\":0},\"title\":{\"text\":\"Total Deceased cases in Maharashtra Districtwise\"},\"barmode\":\"relative\"},                        {\"responsive\": true}                    ).then(function(){\n",
       "                            \n",
       "var gd = document.getElementById('d48ec1e2-03c6-4406-8dc2-03fa4571708f');\n",
       "var x = new MutationObserver(function (mutations, observer) {{\n",
       "        var display = window.getComputedStyle(gd).display;\n",
       "        if (!display || display === 'none') {{\n",
       "            console.log([gd, 'removed!']);\n",
       "            Plotly.purge(gd);\n",
       "            observer.disconnect();\n",
       "        }}\n",
       "}});\n",
       "\n",
       "// Listen for the removal of the full notebook cells\n",
       "var notebookContainer = gd.closest('#notebook-container');\n",
       "if (notebookContainer) {{\n",
       "    x.observe(notebookContainer, {childList: true});\n",
       "}}\n",
       "\n",
       "// Listen for the clearing of the current output cell\n",
       "var outputEl = gd.closest('.output');\n",
       "if (outputEl) {{\n",
       "    x.observe(outputEl, {childList: true});\n",
       "}}\n",
       "\n",
       "                        })                };                });            </script>        </div>"
      ]
     },
     "metadata": {},
     "output_type": "display_data"
    }
   ],
   "source": [
    "fig=px.bar(dataframe,x=\"Districts\",y=\"Deceased\",title=\"Total Deceased cases in Maharashtra Districtwise\",color='Districts')\n",
    "fig.show()"
   ]
  },
  {
   "cell_type": "markdown",
   "metadata": {},
   "source": [
    "### Total Recovery Rate(%) in Maharashtra Districtwise"
   ]
  },
  {
   "cell_type": "code",
   "execution_count": 50,
   "metadata": {},
   "outputs": [
    {
     "data": {
      "application/vnd.plotly.v1+json": {
       "config": {
        "plotlyServerURL": "https://plot.ly"
       },
       "data": [
        {
         "alignmentgroup": "True",
         "hovertemplate": "Districts=%{x}<br>Recovery Rate(%)=%{y}<extra></extra>",
         "legendgroup": "Ahmednagar",
         "marker": {
          "color": "#636efa",
          "pattern": {
           "shape": ""
          }
         },
         "name": "Ahmednagar",
         "offsetgroup": "Ahmednagar",
         "orientation": "v",
         "showlegend": true,
         "textposition": "auto",
         "type": "bar",
         "x": [
          "Ahmednagar"
         ],
         "xaxis": "x",
         "y": [
          98
         ],
         "yaxis": "y"
        },
        {
         "alignmentgroup": "True",
         "hovertemplate": "Districts=%{x}<br>Recovery Rate(%)=%{y}<extra></extra>",
         "legendgroup": "Akola",
         "marker": {
          "color": "#EF553B",
          "pattern": {
           "shape": ""
          }
         },
         "name": "Akola",
         "offsetgroup": "Akola",
         "orientation": "v",
         "showlegend": true,
         "textposition": "auto",
         "type": "bar",
         "x": [
          "Akola"
         ],
         "xaxis": "x",
         "y": [
          97.7
         ],
         "yaxis": "y"
        },
        {
         "alignmentgroup": "True",
         "hovertemplate": "Districts=%{x}<br>Recovery Rate(%)=%{y}<extra></extra>",
         "legendgroup": "Amravati",
         "marker": {
          "color": "#00cc96",
          "pattern": {
           "shape": ""
          }
         },
         "name": "Amravati",
         "offsetgroup": "Amravati",
         "orientation": "v",
         "showlegend": true,
         "textposition": "auto",
         "type": "bar",
         "x": [
          "Amravati"
         ],
         "xaxis": "x",
         "y": [
          98.5
         ],
         "yaxis": "y"
        },
        {
         "alignmentgroup": "True",
         "hovertemplate": "Districts=%{x}<br>Recovery Rate(%)=%{y}<extra></extra>",
         "legendgroup": "Aurangabad",
         "marker": {
          "color": "#ab63fa",
          "pattern": {
           "shape": ""
          }
         },
         "name": "Aurangabad",
         "offsetgroup": "Aurangabad",
         "orientation": "v",
         "showlegend": true,
         "textposition": "auto",
         "type": "bar",
         "x": [
          "Aurangabad"
         ],
         "xaxis": "x",
         "y": [
          97.5
         ],
         "yaxis": "y"
        },
        {
         "alignmentgroup": "True",
         "hovertemplate": "Districts=%{x}<br>Recovery Rate(%)=%{y}<extra></extra>",
         "legendgroup": "Beed",
         "marker": {
          "color": "#FFA15A",
          "pattern": {
           "shape": ""
          }
         },
         "name": "Beed",
         "offsetgroup": "Beed",
         "orientation": "v",
         "showlegend": true,
         "textposition": "auto",
         "type": "bar",
         "x": [
          "Beed"
         ],
         "xaxis": "x",
         "y": [
          97.3
         ],
         "yaxis": "y"
        },
        {
         "alignmentgroup": "True",
         "hovertemplate": "Districts=%{x}<br>Recovery Rate(%)=%{y}<extra></extra>",
         "legendgroup": "Bhandara",
         "marker": {
          "color": "#19d3f3",
          "pattern": {
           "shape": ""
          }
         },
         "name": "Bhandara",
         "offsetgroup": "Bhandara",
         "orientation": "v",
         "showlegend": true,
         "textposition": "auto",
         "type": "bar",
         "x": [
          "Bhandara"
         ],
         "xaxis": "x",
         "y": [
          98.3
         ],
         "yaxis": "y"
        },
        {
         "alignmentgroup": "True",
         "hovertemplate": "Districts=%{x}<br>Recovery Rate(%)=%{y}<extra></extra>",
         "legendgroup": "Buldhana",
         "marker": {
          "color": "#FF6692",
          "pattern": {
           "shape": ""
          }
         },
         "name": "Buldhana",
         "offsetgroup": "Buldhana",
         "orientation": "v",
         "showlegend": true,
         "textposition": "auto",
         "type": "bar",
         "x": [
          "Buldhana"
         ],
         "xaxis": "x",
         "y": [
          99.1
         ],
         "yaxis": "y"
        },
        {
         "alignmentgroup": "True",
         "hovertemplate": "Districts=%{x}<br>Recovery Rate(%)=%{y}<extra></extra>",
         "legendgroup": "Chandrapur",
         "marker": {
          "color": "#B6E880",
          "pattern": {
           "shape": ""
          }
         },
         "name": "Chandrapur",
         "offsetgroup": "Chandrapur",
         "orientation": "v",
         "showlegend": true,
         "textposition": "auto",
         "type": "bar",
         "x": [
          "Chandrapur"
         ],
         "xaxis": "x",
         "y": [
          98.4
         ],
         "yaxis": "y"
        },
        {
         "alignmentgroup": "True",
         "hovertemplate": "Districts=%{x}<br>Recovery Rate(%)=%{y}<extra></extra>",
         "legendgroup": "Dhule",
         "marker": {
          "color": "#FF97FF",
          "pattern": {
           "shape": ""
          }
         },
         "name": "Dhule",
         "offsetgroup": "Dhule",
         "orientation": "v",
         "showlegend": true,
         "textposition": "auto",
         "type": "bar",
         "x": [
          "Dhule"
         ],
         "xaxis": "x",
         "y": [
          98.7
         ],
         "yaxis": "y"
        },
        {
         "alignmentgroup": "True",
         "hovertemplate": "Districts=%{x}<br>Recovery Rate(%)=%{y}<extra></extra>",
         "legendgroup": "Gadchiroli",
         "marker": {
          "color": "#FECB52",
          "pattern": {
           "shape": ""
          }
         },
         "name": "Gadchiroli",
         "offsetgroup": "Gadchiroli",
         "orientation": "v",
         "showlegend": true,
         "textposition": "auto",
         "type": "bar",
         "x": [
          "Gadchiroli"
         ],
         "xaxis": "x",
         "y": [
          97.8
         ],
         "yaxis": "y"
        },
        {
         "alignmentgroup": "True",
         "hovertemplate": "Districts=%{x}<br>Recovery Rate(%)=%{y}<extra></extra>",
         "legendgroup": "Gondia",
         "marker": {
          "color": "#636efa",
          "pattern": {
           "shape": ""
          }
         },
         "name": "Gondia",
         "offsetgroup": "Gondia",
         "orientation": "v",
         "showlegend": true,
         "textposition": "auto",
         "type": "bar",
         "x": [
          "Gondia"
         ],
         "xaxis": "x",
         "y": [
          98.7
         ],
         "yaxis": "y"
        },
        {
         "alignmentgroup": "True",
         "hovertemplate": "Districts=%{x}<br>Recovery Rate(%)=%{y}<extra></extra>",
         "legendgroup": "Hingoli",
         "marker": {
          "color": "#EF553B",
          "pattern": {
           "shape": ""
          }
         },
         "name": "Hingoli",
         "offsetgroup": "Hingoli",
         "orientation": "v",
         "showlegend": true,
         "textposition": "auto",
         "type": "bar",
         "x": [
          "Hingoli"
         ],
         "xaxis": "x",
         "y": [
          97.7
         ],
         "yaxis": "y"
        },
        {
         "alignmentgroup": "True",
         "hovertemplate": "Districts=%{x}<br>Recovery Rate(%)=%{y}<extra></extra>",
         "legendgroup": "Jalgaon",
         "marker": {
          "color": "#00cc96",
          "pattern": {
           "shape": ""
          }
         },
         "name": "Jalgaon",
         "offsetgroup": "Jalgaon",
         "orientation": "v",
         "showlegend": true,
         "textposition": "auto",
         "type": "bar",
         "x": [
          "Jalgaon"
         ],
         "xaxis": "x",
         "y": [
          98.1
         ],
         "yaxis": "y"
        },
        {
         "alignmentgroup": "True",
         "hovertemplate": "Districts=%{x}<br>Recovery Rate(%)=%{y}<extra></extra>",
         "legendgroup": "Jalna",
         "marker": {
          "color": "#ab63fa",
          "pattern": {
           "shape": ""
          }
         },
         "name": "Jalna",
         "offsetgroup": "Jalna",
         "orientation": "v",
         "showlegend": true,
         "textposition": "auto",
         "type": "bar",
         "x": [
          "Jalna"
         ],
         "xaxis": "x",
         "y": [
          98.1
         ],
         "yaxis": "y"
        },
        {
         "alignmentgroup": "True",
         "hovertemplate": "Districts=%{x}<br>Recovery Rate(%)=%{y}<extra></extra>",
         "legendgroup": "Kolhapur",
         "marker": {
          "color": "#FFA15A",
          "pattern": {
           "shape": ""
          }
         },
         "name": "Kolhapur",
         "offsetgroup": "Kolhapur",
         "orientation": "v",
         "showlegend": true,
         "textposition": "auto",
         "type": "bar",
         "x": [
          "Kolhapur"
         ],
         "xaxis": "x",
         "y": [
          97.3
         ],
         "yaxis": "y"
        },
        {
         "alignmentgroup": "True",
         "hovertemplate": "Districts=%{x}<br>Recovery Rate(%)=%{y}<extra></extra>",
         "legendgroup": "Latur",
         "marker": {
          "color": "#19d3f3",
          "pattern": {
           "shape": ""
          }
         },
         "name": "Latur",
         "offsetgroup": "Latur",
         "orientation": "v",
         "showlegend": true,
         "textposition": "auto",
         "type": "bar",
         "x": [
          "Latur"
         ],
         "xaxis": "x",
         "y": [
          97.6
         ],
         "yaxis": "y"
        },
        {
         "alignmentgroup": "True",
         "hovertemplate": "Districts=%{x}<br>Recovery Rate(%)=%{y}<extra></extra>",
         "legendgroup": "Mumbai",
         "marker": {
          "color": "#FF6692",
          "pattern": {
           "shape": ""
          }
         },
         "name": "Mumbai",
         "offsetgroup": "Mumbai",
         "orientation": "v",
         "showlegend": true,
         "textposition": "auto",
         "type": "bar",
         "x": [
          "Mumbai"
         ],
         "xaxis": "x",
         "y": [
          98.1
         ],
         "yaxis": "y"
        },
        {
         "alignmentgroup": "True",
         "hovertemplate": "Districts=%{x}<br>Recovery Rate(%)=%{y}<extra></extra>",
         "legendgroup": "Nagpur",
         "marker": {
          "color": "#B6E880",
          "pattern": {
           "shape": ""
          }
         },
         "name": "Nagpur",
         "offsetgroup": "Nagpur",
         "orientation": "v",
         "showlegend": true,
         "textposition": "auto",
         "type": "bar",
         "x": [
          "Nagpur"
         ],
         "xaxis": "x",
         "y": [
          98.4
         ],
         "yaxis": "y"
        },
        {
         "alignmentgroup": "True",
         "hovertemplate": "Districts=%{x}<br>Recovery Rate(%)=%{y}<extra></extra>",
         "legendgroup": "Nanded",
         "marker": {
          "color": "#FF97FF",
          "pattern": {
           "shape": ""
          }
         },
         "name": "Nanded",
         "offsetgroup": "Nanded",
         "orientation": "v",
         "showlegend": true,
         "textposition": "auto",
         "type": "bar",
         "x": [
          "Nanded"
         ],
         "xaxis": "x",
         "y": [
          97.3
         ],
         "yaxis": "y"
        },
        {
         "alignmentgroup": "True",
         "hovertemplate": "Districts=%{x}<br>Recovery Rate(%)=%{y}<extra></extra>",
         "legendgroup": "Nandurbar",
         "marker": {
          "color": "#FECB52",
          "pattern": {
           "shape": ""
          }
         },
         "name": "Nandurbar",
         "offsetgroup": "Nandurbar",
         "orientation": "v",
         "showlegend": true,
         "textposition": "auto",
         "type": "bar",
         "x": [
          "Nandurbar"
         ],
         "xaxis": "x",
         "y": [
          97.9
         ],
         "yaxis": "y"
        },
        {
         "alignmentgroup": "True",
         "hovertemplate": "Districts=%{x}<br>Recovery Rate(%)=%{y}<extra></extra>",
         "legendgroup": "Nashik",
         "marker": {
          "color": "#636efa",
          "pattern": {
           "shape": ""
          }
         },
         "name": "Nashik",
         "offsetgroup": "Nashik",
         "orientation": "v",
         "showlegend": true,
         "textposition": "auto",
         "type": "bar",
         "x": [
          "Nashik"
         ],
         "xaxis": "x",
         "y": [
          98.1
         ],
         "yaxis": "y"
        },
        {
         "alignmentgroup": "True",
         "hovertemplate": "Districts=%{x}<br>Recovery Rate(%)=%{y}<extra></extra>",
         "legendgroup": "Osmanabad",
         "marker": {
          "color": "#EF553B",
          "pattern": {
           "shape": ""
          }
         },
         "name": "Osmanabad",
         "offsetgroup": "Osmanabad",
         "orientation": "v",
         "showlegend": true,
         "textposition": "auto",
         "type": "bar",
         "x": [
          "Osmanabad"
         ],
         "xaxis": "x",
         "y": [
          97.1
         ],
         "yaxis": "y"
        },
        {
         "alignmentgroup": "True",
         "hovertemplate": "Districts=%{x}<br>Recovery Rate(%)=%{y}<extra></extra>",
         "legendgroup": "Palghar",
         "marker": {
          "color": "#00cc96",
          "pattern": {
           "shape": ""
          }
         },
         "name": "Palghar",
         "offsetgroup": "Palghar",
         "orientation": "v",
         "showlegend": true,
         "textposition": "auto",
         "type": "bar",
         "x": [
          "Palghar"
         ],
         "xaxis": "x",
         "y": [
          97.9
         ],
         "yaxis": "y"
        },
        {
         "alignmentgroup": "True",
         "hovertemplate": "Districts=%{x}<br>Recovery Rate(%)=%{y}<extra></extra>",
         "legendgroup": "Parbhani",
         "marker": {
          "color": "#ab63fa",
          "pattern": {
           "shape": ""
          }
         },
         "name": "Parbhani",
         "offsetgroup": "Parbhani",
         "orientation": "v",
         "showlegend": true,
         "textposition": "auto",
         "type": "bar",
         "x": [
          "Parbhani"
         ],
         "xaxis": "x",
         "y": [
          97.8
         ],
         "yaxis": "y"
        },
        {
         "alignmentgroup": "True",
         "hovertemplate": "Districts=%{x}<br>Recovery Rate(%)=%{y}<extra></extra>",
         "legendgroup": "Pune",
         "marker": {
          "color": "#FFA15A",
          "pattern": {
           "shape": ""
          }
         },
         "name": "Pune",
         "offsetgroup": "Pune",
         "orientation": "v",
         "showlegend": true,
         "textposition": "auto",
         "type": "bar",
         "x": [
          "Pune"
         ],
         "xaxis": "x",
         "y": [
          98.5
         ],
         "yaxis": "y"
        },
        {
         "alignmentgroup": "True",
         "hovertemplate": "Districts=%{x}<br>Recovery Rate(%)=%{y}<extra></extra>",
         "legendgroup": "Raigad",
         "marker": {
          "color": "#19d3f3",
          "pattern": {
           "shape": ""
          }
         },
         "name": "Raigad",
         "offsetgroup": "Raigad",
         "orientation": "v",
         "showlegend": true,
         "textposition": "auto",
         "type": "bar",
         "x": [
          "Raigad"
         ],
         "xaxis": "x",
         "y": [
          97.9
         ],
         "yaxis": "y"
        },
        {
         "alignmentgroup": "True",
         "hovertemplate": "Districts=%{x}<br>Recovery Rate(%)=%{y}<extra></extra>",
         "legendgroup": "Ratnagiri",
         "marker": {
          "color": "#FF6692",
          "pattern": {
           "shape": ""
          }
         },
         "name": "Ratnagiri",
         "offsetgroup": "Ratnagiri",
         "orientation": "v",
         "showlegend": true,
         "textposition": "auto",
         "type": "bar",
         "x": [
          "Ratnagiri"
         ],
         "xaxis": "x",
         "y": [
          97
         ],
         "yaxis": "y"
        },
        {
         "alignmentgroup": "True",
         "hovertemplate": "Districts=%{x}<br>Recovery Rate(%)=%{y}<extra></extra>",
         "legendgroup": "Sangli",
         "marker": {
          "color": "#B6E880",
          "pattern": {
           "shape": ""
          }
         },
         "name": "Sangli",
         "offsetgroup": "Sangli",
         "orientation": "v",
         "showlegend": true,
         "textposition": "auto",
         "type": "bar",
         "x": [
          "Sangli"
         ],
         "xaxis": "x",
         "y": [
          97.5
         ],
         "yaxis": "y"
        },
        {
         "alignmentgroup": "True",
         "hovertemplate": "Districts=%{x}<br>Recovery Rate(%)=%{y}<extra></extra>",
         "legendgroup": "Satara",
         "marker": {
          "color": "#FF97FF",
          "pattern": {
           "shape": ""
          }
         },
         "name": "Satara",
         "offsetgroup": "Satara",
         "orientation": "v",
         "showlegend": true,
         "textposition": "auto",
         "type": "bar",
         "x": [
          "Satara"
         ],
         "xaxis": "x",
         "y": [
          97.6
         ],
         "yaxis": "y"
        },
        {
         "alignmentgroup": "True",
         "hovertemplate": "Districts=%{x}<br>Recovery Rate(%)=%{y}<extra></extra>",
         "legendgroup": "Sindhudurg",
         "marker": {
          "color": "#FECB52",
          "pattern": {
           "shape": ""
          }
         },
         "name": "Sindhudurg",
         "offsetgroup": "Sindhudurg",
         "orientation": "v",
         "showlegend": true,
         "textposition": "auto",
         "type": "bar",
         "x": [
          "Sindhudurg"
         ],
         "xaxis": "x",
         "y": [
          97.1
         ],
         "yaxis": "y"
        },
        {
         "alignmentgroup": "True",
         "hovertemplate": "Districts=%{x}<br>Recovery Rate(%)=%{y}<extra></extra>",
         "legendgroup": "Solapur",
         "marker": {
          "color": "#636efa",
          "pattern": {
           "shape": ""
          }
         },
         "name": "Solapur",
         "offsetgroup": "Solapur",
         "orientation": "v",
         "showlegend": true,
         "textposition": "auto",
         "type": "bar",
         "x": [
          "Solapur"
         ],
         "xaxis": "x",
         "y": [
          97.4
         ],
         "yaxis": "y"
        },
        {
         "alignmentgroup": "True",
         "hovertemplate": "Districts=%{x}<br>Recovery Rate(%)=%{y}<extra></extra>",
         "legendgroup": "Thane",
         "marker": {
          "color": "#EF553B",
          "pattern": {
           "shape": ""
          }
         },
         "name": "Thane",
         "offsetgroup": "Thane",
         "orientation": "v",
         "showlegend": true,
         "textposition": "auto",
         "type": "bar",
         "x": [
          "Thane"
         ],
         "xaxis": "x",
         "y": [
          98.4
         ],
         "yaxis": "y"
        },
        {
         "alignmentgroup": "True",
         "hovertemplate": "Districts=%{x}<br>Recovery Rate(%)=%{y}<extra></extra>",
         "legendgroup": "Wardha",
         "marker": {
          "color": "#00cc96",
          "pattern": {
           "shape": ""
          }
         },
         "name": "Wardha",
         "offsetgroup": "Wardha",
         "orientation": "v",
         "showlegend": true,
         "textposition": "auto",
         "type": "bar",
         "x": [
          "Wardha"
         ],
         "xaxis": "x",
         "y": [
          97.8
         ],
         "yaxis": "y"
        },
        {
         "alignmentgroup": "True",
         "hovertemplate": "Districts=%{x}<br>Recovery Rate(%)=%{y}<extra></extra>",
         "legendgroup": "Washim",
         "marker": {
          "color": "#ab63fa",
          "pattern": {
           "shape": ""
          }
         },
         "name": "Washim",
         "offsetgroup": "Washim",
         "orientation": "v",
         "showlegend": true,
         "textposition": "auto",
         "type": "bar",
         "x": [
          "Washim"
         ],
         "xaxis": "x",
         "y": [
          98.6
         ],
         "yaxis": "y"
        },
        {
         "alignmentgroup": "True",
         "hovertemplate": "Districts=%{x}<br>Recovery Rate(%)=%{y}<extra></extra>",
         "legendgroup": "Yavatmal",
         "marker": {
          "color": "#FFA15A",
          "pattern": {
           "shape": ""
          }
         },
         "name": "Yavatmal",
         "offsetgroup": "Yavatmal",
         "orientation": "v",
         "showlegend": true,
         "textposition": "auto",
         "type": "bar",
         "x": [
          "Yavatmal"
         ],
         "xaxis": "x",
         "y": [
          97.8
         ],
         "yaxis": "y"
        }
       ],
       "layout": {
        "barmode": "relative",
        "legend": {
         "title": {
          "text": "Districts"
         },
         "tracegroupgap": 0
        },
        "template": {
         "data": {
          "bar": [
           {
            "error_x": {
             "color": "#2a3f5f"
            },
            "error_y": {
             "color": "#2a3f5f"
            },
            "marker": {
             "line": {
              "color": "#E5ECF6",
              "width": 0.5
             },
             "pattern": {
              "fillmode": "overlay",
              "size": 10,
              "solidity": 0.2
             }
            },
            "type": "bar"
           }
          ],
          "barpolar": [
           {
            "marker": {
             "line": {
              "color": "#E5ECF6",
              "width": 0.5
             },
             "pattern": {
              "fillmode": "overlay",
              "size": 10,
              "solidity": 0.2
             }
            },
            "type": "barpolar"
           }
          ],
          "carpet": [
           {
            "aaxis": {
             "endlinecolor": "#2a3f5f",
             "gridcolor": "white",
             "linecolor": "white",
             "minorgridcolor": "white",
             "startlinecolor": "#2a3f5f"
            },
            "baxis": {
             "endlinecolor": "#2a3f5f",
             "gridcolor": "white",
             "linecolor": "white",
             "minorgridcolor": "white",
             "startlinecolor": "#2a3f5f"
            },
            "type": "carpet"
           }
          ],
          "choropleth": [
           {
            "colorbar": {
             "outlinewidth": 0,
             "ticks": ""
            },
            "type": "choropleth"
           }
          ],
          "contour": [
           {
            "colorbar": {
             "outlinewidth": 0,
             "ticks": ""
            },
            "colorscale": [
             [
              0,
              "#0d0887"
             ],
             [
              0.1111111111111111,
              "#46039f"
             ],
             [
              0.2222222222222222,
              "#7201a8"
             ],
             [
              0.3333333333333333,
              "#9c179e"
             ],
             [
              0.4444444444444444,
              "#bd3786"
             ],
             [
              0.5555555555555556,
              "#d8576b"
             ],
             [
              0.6666666666666666,
              "#ed7953"
             ],
             [
              0.7777777777777778,
              "#fb9f3a"
             ],
             [
              0.8888888888888888,
              "#fdca26"
             ],
             [
              1,
              "#f0f921"
             ]
            ],
            "type": "contour"
           }
          ],
          "contourcarpet": [
           {
            "colorbar": {
             "outlinewidth": 0,
             "ticks": ""
            },
            "type": "contourcarpet"
           }
          ],
          "heatmap": [
           {
            "colorbar": {
             "outlinewidth": 0,
             "ticks": ""
            },
            "colorscale": [
             [
              0,
              "#0d0887"
             ],
             [
              0.1111111111111111,
              "#46039f"
             ],
             [
              0.2222222222222222,
              "#7201a8"
             ],
             [
              0.3333333333333333,
              "#9c179e"
             ],
             [
              0.4444444444444444,
              "#bd3786"
             ],
             [
              0.5555555555555556,
              "#d8576b"
             ],
             [
              0.6666666666666666,
              "#ed7953"
             ],
             [
              0.7777777777777778,
              "#fb9f3a"
             ],
             [
              0.8888888888888888,
              "#fdca26"
             ],
             [
              1,
              "#f0f921"
             ]
            ],
            "type": "heatmap"
           }
          ],
          "heatmapgl": [
           {
            "colorbar": {
             "outlinewidth": 0,
             "ticks": ""
            },
            "colorscale": [
             [
              0,
              "#0d0887"
             ],
             [
              0.1111111111111111,
              "#46039f"
             ],
             [
              0.2222222222222222,
              "#7201a8"
             ],
             [
              0.3333333333333333,
              "#9c179e"
             ],
             [
              0.4444444444444444,
              "#bd3786"
             ],
             [
              0.5555555555555556,
              "#d8576b"
             ],
             [
              0.6666666666666666,
              "#ed7953"
             ],
             [
              0.7777777777777778,
              "#fb9f3a"
             ],
             [
              0.8888888888888888,
              "#fdca26"
             ],
             [
              1,
              "#f0f921"
             ]
            ],
            "type": "heatmapgl"
           }
          ],
          "histogram": [
           {
            "marker": {
             "pattern": {
              "fillmode": "overlay",
              "size": 10,
              "solidity": 0.2
             }
            },
            "type": "histogram"
           }
          ],
          "histogram2d": [
           {
            "colorbar": {
             "outlinewidth": 0,
             "ticks": ""
            },
            "colorscale": [
             [
              0,
              "#0d0887"
             ],
             [
              0.1111111111111111,
              "#46039f"
             ],
             [
              0.2222222222222222,
              "#7201a8"
             ],
             [
              0.3333333333333333,
              "#9c179e"
             ],
             [
              0.4444444444444444,
              "#bd3786"
             ],
             [
              0.5555555555555556,
              "#d8576b"
             ],
             [
              0.6666666666666666,
              "#ed7953"
             ],
             [
              0.7777777777777778,
              "#fb9f3a"
             ],
             [
              0.8888888888888888,
              "#fdca26"
             ],
             [
              1,
              "#f0f921"
             ]
            ],
            "type": "histogram2d"
           }
          ],
          "histogram2dcontour": [
           {
            "colorbar": {
             "outlinewidth": 0,
             "ticks": ""
            },
            "colorscale": [
             [
              0,
              "#0d0887"
             ],
             [
              0.1111111111111111,
              "#46039f"
             ],
             [
              0.2222222222222222,
              "#7201a8"
             ],
             [
              0.3333333333333333,
              "#9c179e"
             ],
             [
              0.4444444444444444,
              "#bd3786"
             ],
             [
              0.5555555555555556,
              "#d8576b"
             ],
             [
              0.6666666666666666,
              "#ed7953"
             ],
             [
              0.7777777777777778,
              "#fb9f3a"
             ],
             [
              0.8888888888888888,
              "#fdca26"
             ],
             [
              1,
              "#f0f921"
             ]
            ],
            "type": "histogram2dcontour"
           }
          ],
          "mesh3d": [
           {
            "colorbar": {
             "outlinewidth": 0,
             "ticks": ""
            },
            "type": "mesh3d"
           }
          ],
          "parcoords": [
           {
            "line": {
             "colorbar": {
              "outlinewidth": 0,
              "ticks": ""
             }
            },
            "type": "parcoords"
           }
          ],
          "pie": [
           {
            "automargin": true,
            "type": "pie"
           }
          ],
          "scatter": [
           {
            "marker": {
             "colorbar": {
              "outlinewidth": 0,
              "ticks": ""
             }
            },
            "type": "scatter"
           }
          ],
          "scatter3d": [
           {
            "line": {
             "colorbar": {
              "outlinewidth": 0,
              "ticks": ""
             }
            },
            "marker": {
             "colorbar": {
              "outlinewidth": 0,
              "ticks": ""
             }
            },
            "type": "scatter3d"
           }
          ],
          "scattercarpet": [
           {
            "marker": {
             "colorbar": {
              "outlinewidth": 0,
              "ticks": ""
             }
            },
            "type": "scattercarpet"
           }
          ],
          "scattergeo": [
           {
            "marker": {
             "colorbar": {
              "outlinewidth": 0,
              "ticks": ""
             }
            },
            "type": "scattergeo"
           }
          ],
          "scattergl": [
           {
            "marker": {
             "colorbar": {
              "outlinewidth": 0,
              "ticks": ""
             }
            },
            "type": "scattergl"
           }
          ],
          "scattermapbox": [
           {
            "marker": {
             "colorbar": {
              "outlinewidth": 0,
              "ticks": ""
             }
            },
            "type": "scattermapbox"
           }
          ],
          "scatterpolar": [
           {
            "marker": {
             "colorbar": {
              "outlinewidth": 0,
              "ticks": ""
             }
            },
            "type": "scatterpolar"
           }
          ],
          "scatterpolargl": [
           {
            "marker": {
             "colorbar": {
              "outlinewidth": 0,
              "ticks": ""
             }
            },
            "type": "scatterpolargl"
           }
          ],
          "scatterternary": [
           {
            "marker": {
             "colorbar": {
              "outlinewidth": 0,
              "ticks": ""
             }
            },
            "type": "scatterternary"
           }
          ],
          "surface": [
           {
            "colorbar": {
             "outlinewidth": 0,
             "ticks": ""
            },
            "colorscale": [
             [
              0,
              "#0d0887"
             ],
             [
              0.1111111111111111,
              "#46039f"
             ],
             [
              0.2222222222222222,
              "#7201a8"
             ],
             [
              0.3333333333333333,
              "#9c179e"
             ],
             [
              0.4444444444444444,
              "#bd3786"
             ],
             [
              0.5555555555555556,
              "#d8576b"
             ],
             [
              0.6666666666666666,
              "#ed7953"
             ],
             [
              0.7777777777777778,
              "#fb9f3a"
             ],
             [
              0.8888888888888888,
              "#fdca26"
             ],
             [
              1,
              "#f0f921"
             ]
            ],
            "type": "surface"
           }
          ],
          "table": [
           {
            "cells": {
             "fill": {
              "color": "#EBF0F8"
             },
             "line": {
              "color": "white"
             }
            },
            "header": {
             "fill": {
              "color": "#C8D4E3"
             },
             "line": {
              "color": "white"
             }
            },
            "type": "table"
           }
          ]
         },
         "layout": {
          "annotationdefaults": {
           "arrowcolor": "#2a3f5f",
           "arrowhead": 0,
           "arrowwidth": 1
          },
          "autotypenumbers": "strict",
          "coloraxis": {
           "colorbar": {
            "outlinewidth": 0,
            "ticks": ""
           }
          },
          "colorscale": {
           "diverging": [
            [
             0,
             "#8e0152"
            ],
            [
             0.1,
             "#c51b7d"
            ],
            [
             0.2,
             "#de77ae"
            ],
            [
             0.3,
             "#f1b6da"
            ],
            [
             0.4,
             "#fde0ef"
            ],
            [
             0.5,
             "#f7f7f7"
            ],
            [
             0.6,
             "#e6f5d0"
            ],
            [
             0.7,
             "#b8e186"
            ],
            [
             0.8,
             "#7fbc41"
            ],
            [
             0.9,
             "#4d9221"
            ],
            [
             1,
             "#276419"
            ]
           ],
           "sequential": [
            [
             0,
             "#0d0887"
            ],
            [
             0.1111111111111111,
             "#46039f"
            ],
            [
             0.2222222222222222,
             "#7201a8"
            ],
            [
             0.3333333333333333,
             "#9c179e"
            ],
            [
             0.4444444444444444,
             "#bd3786"
            ],
            [
             0.5555555555555556,
             "#d8576b"
            ],
            [
             0.6666666666666666,
             "#ed7953"
            ],
            [
             0.7777777777777778,
             "#fb9f3a"
            ],
            [
             0.8888888888888888,
             "#fdca26"
            ],
            [
             1,
             "#f0f921"
            ]
           ],
           "sequentialminus": [
            [
             0,
             "#0d0887"
            ],
            [
             0.1111111111111111,
             "#46039f"
            ],
            [
             0.2222222222222222,
             "#7201a8"
            ],
            [
             0.3333333333333333,
             "#9c179e"
            ],
            [
             0.4444444444444444,
             "#bd3786"
            ],
            [
             0.5555555555555556,
             "#d8576b"
            ],
            [
             0.6666666666666666,
             "#ed7953"
            ],
            [
             0.7777777777777778,
             "#fb9f3a"
            ],
            [
             0.8888888888888888,
             "#fdca26"
            ],
            [
             1,
             "#f0f921"
            ]
           ]
          },
          "colorway": [
           "#636efa",
           "#EF553B",
           "#00cc96",
           "#ab63fa",
           "#FFA15A",
           "#19d3f3",
           "#FF6692",
           "#B6E880",
           "#FF97FF",
           "#FECB52"
          ],
          "font": {
           "color": "#2a3f5f"
          },
          "geo": {
           "bgcolor": "white",
           "lakecolor": "white",
           "landcolor": "#E5ECF6",
           "showlakes": true,
           "showland": true,
           "subunitcolor": "white"
          },
          "hoverlabel": {
           "align": "left"
          },
          "hovermode": "closest",
          "mapbox": {
           "style": "light"
          },
          "paper_bgcolor": "white",
          "plot_bgcolor": "#E5ECF6",
          "polar": {
           "angularaxis": {
            "gridcolor": "white",
            "linecolor": "white",
            "ticks": ""
           },
           "bgcolor": "#E5ECF6",
           "radialaxis": {
            "gridcolor": "white",
            "linecolor": "white",
            "ticks": ""
           }
          },
          "scene": {
           "xaxis": {
            "backgroundcolor": "#E5ECF6",
            "gridcolor": "white",
            "gridwidth": 2,
            "linecolor": "white",
            "showbackground": true,
            "ticks": "",
            "zerolinecolor": "white"
           },
           "yaxis": {
            "backgroundcolor": "#E5ECF6",
            "gridcolor": "white",
            "gridwidth": 2,
            "linecolor": "white",
            "showbackground": true,
            "ticks": "",
            "zerolinecolor": "white"
           },
           "zaxis": {
            "backgroundcolor": "#E5ECF6",
            "gridcolor": "white",
            "gridwidth": 2,
            "linecolor": "white",
            "showbackground": true,
            "ticks": "",
            "zerolinecolor": "white"
           }
          },
          "shapedefaults": {
           "line": {
            "color": "#2a3f5f"
           }
          },
          "ternary": {
           "aaxis": {
            "gridcolor": "white",
            "linecolor": "white",
            "ticks": ""
           },
           "baxis": {
            "gridcolor": "white",
            "linecolor": "white",
            "ticks": ""
           },
           "bgcolor": "#E5ECF6",
           "caxis": {
            "gridcolor": "white",
            "linecolor": "white",
            "ticks": ""
           }
          },
          "title": {
           "x": 0.05
          },
          "xaxis": {
           "automargin": true,
           "gridcolor": "white",
           "linecolor": "white",
           "ticks": "",
           "title": {
            "standoff": 15
           },
           "zerolinecolor": "white",
           "zerolinewidth": 2
          },
          "yaxis": {
           "automargin": true,
           "gridcolor": "white",
           "linecolor": "white",
           "ticks": "",
           "title": {
            "standoff": 15
           },
           "zerolinecolor": "white",
           "zerolinewidth": 2
          }
         }
        },
        "title": {
         "text": "Total Recovery Rate(%) in Maharashtra Districtwise"
        },
        "xaxis": {
         "anchor": "y",
         "categoryarray": [
          "Ahmednagar",
          "Akola",
          "Amravati",
          "Aurangabad",
          "Beed",
          "Bhandara",
          "Buldhana",
          "Chandrapur",
          "Dhule",
          "Gadchiroli",
          "Gondia",
          "Hingoli",
          "Jalgaon",
          "Jalna",
          "Kolhapur",
          "Latur",
          "Mumbai",
          "Nagpur",
          "Nanded",
          "Nandurbar",
          "Nashik",
          "Osmanabad",
          "Palghar",
          "Parbhani",
          "Pune",
          "Raigad",
          "Ratnagiri",
          "Sangli",
          "Satara",
          "Sindhudurg",
          "Solapur",
          "Thane",
          "Wardha",
          "Washim",
          "Yavatmal"
         ],
         "categoryorder": "array",
         "domain": [
          0,
          1
         ],
         "title": {
          "text": "Districts"
         }
        },
        "yaxis": {
         "anchor": "x",
         "domain": [
          0,
          1
         ],
         "title": {
          "text": "Recovery Rate(%)"
         }
        }
       }
      },
      "text/html": [
       "<div>                            <div id=\"ffa4e858-6282-44f9-8b1e-c2f164a132dc\" class=\"plotly-graph-div\" style=\"height:525px; width:100%;\"></div>            <script type=\"text/javascript\">                require([\"plotly\"], function(Plotly) {                    window.PLOTLYENV=window.PLOTLYENV || {};                                    if (document.getElementById(\"ffa4e858-6282-44f9-8b1e-c2f164a132dc\")) {                    Plotly.newPlot(                        \"ffa4e858-6282-44f9-8b1e-c2f164a132dc\",                        [{\"alignmentgroup\":\"True\",\"hovertemplate\":\"Districts=%{x}<br>Recovery Rate(%)=%{y}<extra></extra>\",\"legendgroup\":\"Ahmednagar\",\"marker\":{\"color\":\"#636efa\",\"pattern\":{\"shape\":\"\"}},\"name\":\"Ahmednagar\",\"offsetgroup\":\"Ahmednagar\",\"orientation\":\"v\",\"showlegend\":true,\"textposition\":\"auto\",\"x\":[\"Ahmednagar\"],\"xaxis\":\"x\",\"y\":[98.0],\"yaxis\":\"y\",\"type\":\"bar\"},{\"alignmentgroup\":\"True\",\"hovertemplate\":\"Districts=%{x}<br>Recovery Rate(%)=%{y}<extra></extra>\",\"legendgroup\":\"Akola\",\"marker\":{\"color\":\"#EF553B\",\"pattern\":{\"shape\":\"\"}},\"name\":\"Akola\",\"offsetgroup\":\"Akola\",\"orientation\":\"v\",\"showlegend\":true,\"textposition\":\"auto\",\"x\":[\"Akola\"],\"xaxis\":\"x\",\"y\":[97.7],\"yaxis\":\"y\",\"type\":\"bar\"},{\"alignmentgroup\":\"True\",\"hovertemplate\":\"Districts=%{x}<br>Recovery Rate(%)=%{y}<extra></extra>\",\"legendgroup\":\"Amravati\",\"marker\":{\"color\":\"#00cc96\",\"pattern\":{\"shape\":\"\"}},\"name\":\"Amravati\",\"offsetgroup\":\"Amravati\",\"orientation\":\"v\",\"showlegend\":true,\"textposition\":\"auto\",\"x\":[\"Amravati\"],\"xaxis\":\"x\",\"y\":[98.5],\"yaxis\":\"y\",\"type\":\"bar\"},{\"alignmentgroup\":\"True\",\"hovertemplate\":\"Districts=%{x}<br>Recovery Rate(%)=%{y}<extra></extra>\",\"legendgroup\":\"Aurangabad\",\"marker\":{\"color\":\"#ab63fa\",\"pattern\":{\"shape\":\"\"}},\"name\":\"Aurangabad\",\"offsetgroup\":\"Aurangabad\",\"orientation\":\"v\",\"showlegend\":true,\"textposition\":\"auto\",\"x\":[\"Aurangabad\"],\"xaxis\":\"x\",\"y\":[97.5],\"yaxis\":\"y\",\"type\":\"bar\"},{\"alignmentgroup\":\"True\",\"hovertemplate\":\"Districts=%{x}<br>Recovery Rate(%)=%{y}<extra></extra>\",\"legendgroup\":\"Beed\",\"marker\":{\"color\":\"#FFA15A\",\"pattern\":{\"shape\":\"\"}},\"name\":\"Beed\",\"offsetgroup\":\"Beed\",\"orientation\":\"v\",\"showlegend\":true,\"textposition\":\"auto\",\"x\":[\"Beed\"],\"xaxis\":\"x\",\"y\":[97.3],\"yaxis\":\"y\",\"type\":\"bar\"},{\"alignmentgroup\":\"True\",\"hovertemplate\":\"Districts=%{x}<br>Recovery Rate(%)=%{y}<extra></extra>\",\"legendgroup\":\"Bhandara\",\"marker\":{\"color\":\"#19d3f3\",\"pattern\":{\"shape\":\"\"}},\"name\":\"Bhandara\",\"offsetgroup\":\"Bhandara\",\"orientation\":\"v\",\"showlegend\":true,\"textposition\":\"auto\",\"x\":[\"Bhandara\"],\"xaxis\":\"x\",\"y\":[98.3],\"yaxis\":\"y\",\"type\":\"bar\"},{\"alignmentgroup\":\"True\",\"hovertemplate\":\"Districts=%{x}<br>Recovery Rate(%)=%{y}<extra></extra>\",\"legendgroup\":\"Buldhana\",\"marker\":{\"color\":\"#FF6692\",\"pattern\":{\"shape\":\"\"}},\"name\":\"Buldhana\",\"offsetgroup\":\"Buldhana\",\"orientation\":\"v\",\"showlegend\":true,\"textposition\":\"auto\",\"x\":[\"Buldhana\"],\"xaxis\":\"x\",\"y\":[99.1],\"yaxis\":\"y\",\"type\":\"bar\"},{\"alignmentgroup\":\"True\",\"hovertemplate\":\"Districts=%{x}<br>Recovery Rate(%)=%{y}<extra></extra>\",\"legendgroup\":\"Chandrapur\",\"marker\":{\"color\":\"#B6E880\",\"pattern\":{\"shape\":\"\"}},\"name\":\"Chandrapur\",\"offsetgroup\":\"Chandrapur\",\"orientation\":\"v\",\"showlegend\":true,\"textposition\":\"auto\",\"x\":[\"Chandrapur\"],\"xaxis\":\"x\",\"y\":[98.4],\"yaxis\":\"y\",\"type\":\"bar\"},{\"alignmentgroup\":\"True\",\"hovertemplate\":\"Districts=%{x}<br>Recovery Rate(%)=%{y}<extra></extra>\",\"legendgroup\":\"Dhule\",\"marker\":{\"color\":\"#FF97FF\",\"pattern\":{\"shape\":\"\"}},\"name\":\"Dhule\",\"offsetgroup\":\"Dhule\",\"orientation\":\"v\",\"showlegend\":true,\"textposition\":\"auto\",\"x\":[\"Dhule\"],\"xaxis\":\"x\",\"y\":[98.7],\"yaxis\":\"y\",\"type\":\"bar\"},{\"alignmentgroup\":\"True\",\"hovertemplate\":\"Districts=%{x}<br>Recovery Rate(%)=%{y}<extra></extra>\",\"legendgroup\":\"Gadchiroli\",\"marker\":{\"color\":\"#FECB52\",\"pattern\":{\"shape\":\"\"}},\"name\":\"Gadchiroli\",\"offsetgroup\":\"Gadchiroli\",\"orientation\":\"v\",\"showlegend\":true,\"textposition\":\"auto\",\"x\":[\"Gadchiroli\"],\"xaxis\":\"x\",\"y\":[97.8],\"yaxis\":\"y\",\"type\":\"bar\"},{\"alignmentgroup\":\"True\",\"hovertemplate\":\"Districts=%{x}<br>Recovery Rate(%)=%{y}<extra></extra>\",\"legendgroup\":\"Gondia\",\"marker\":{\"color\":\"#636efa\",\"pattern\":{\"shape\":\"\"}},\"name\":\"Gondia\",\"offsetgroup\":\"Gondia\",\"orientation\":\"v\",\"showlegend\":true,\"textposition\":\"auto\",\"x\":[\"Gondia\"],\"xaxis\":\"x\",\"y\":[98.7],\"yaxis\":\"y\",\"type\":\"bar\"},{\"alignmentgroup\":\"True\",\"hovertemplate\":\"Districts=%{x}<br>Recovery Rate(%)=%{y}<extra></extra>\",\"legendgroup\":\"Hingoli\",\"marker\":{\"color\":\"#EF553B\",\"pattern\":{\"shape\":\"\"}},\"name\":\"Hingoli\",\"offsetgroup\":\"Hingoli\",\"orientation\":\"v\",\"showlegend\":true,\"textposition\":\"auto\",\"x\":[\"Hingoli\"],\"xaxis\":\"x\",\"y\":[97.7],\"yaxis\":\"y\",\"type\":\"bar\"},{\"alignmentgroup\":\"True\",\"hovertemplate\":\"Districts=%{x}<br>Recovery Rate(%)=%{y}<extra></extra>\",\"legendgroup\":\"Jalgaon\",\"marker\":{\"color\":\"#00cc96\",\"pattern\":{\"shape\":\"\"}},\"name\":\"Jalgaon\",\"offsetgroup\":\"Jalgaon\",\"orientation\":\"v\",\"showlegend\":true,\"textposition\":\"auto\",\"x\":[\"Jalgaon\"],\"xaxis\":\"x\",\"y\":[98.1],\"yaxis\":\"y\",\"type\":\"bar\"},{\"alignmentgroup\":\"True\",\"hovertemplate\":\"Districts=%{x}<br>Recovery Rate(%)=%{y}<extra></extra>\",\"legendgroup\":\"Jalna\",\"marker\":{\"color\":\"#ab63fa\",\"pattern\":{\"shape\":\"\"}},\"name\":\"Jalna\",\"offsetgroup\":\"Jalna\",\"orientation\":\"v\",\"showlegend\":true,\"textposition\":\"auto\",\"x\":[\"Jalna\"],\"xaxis\":\"x\",\"y\":[98.1],\"yaxis\":\"y\",\"type\":\"bar\"},{\"alignmentgroup\":\"True\",\"hovertemplate\":\"Districts=%{x}<br>Recovery Rate(%)=%{y}<extra></extra>\",\"legendgroup\":\"Kolhapur\",\"marker\":{\"color\":\"#FFA15A\",\"pattern\":{\"shape\":\"\"}},\"name\":\"Kolhapur\",\"offsetgroup\":\"Kolhapur\",\"orientation\":\"v\",\"showlegend\":true,\"textposition\":\"auto\",\"x\":[\"Kolhapur\"],\"xaxis\":\"x\",\"y\":[97.3],\"yaxis\":\"y\",\"type\":\"bar\"},{\"alignmentgroup\":\"True\",\"hovertemplate\":\"Districts=%{x}<br>Recovery Rate(%)=%{y}<extra></extra>\",\"legendgroup\":\"Latur\",\"marker\":{\"color\":\"#19d3f3\",\"pattern\":{\"shape\":\"\"}},\"name\":\"Latur\",\"offsetgroup\":\"Latur\",\"orientation\":\"v\",\"showlegend\":true,\"textposition\":\"auto\",\"x\":[\"Latur\"],\"xaxis\":\"x\",\"y\":[97.6],\"yaxis\":\"y\",\"type\":\"bar\"},{\"alignmentgroup\":\"True\",\"hovertemplate\":\"Districts=%{x}<br>Recovery Rate(%)=%{y}<extra></extra>\",\"legendgroup\":\"Mumbai\",\"marker\":{\"color\":\"#FF6692\",\"pattern\":{\"shape\":\"\"}},\"name\":\"Mumbai\",\"offsetgroup\":\"Mumbai\",\"orientation\":\"v\",\"showlegend\":true,\"textposition\":\"auto\",\"x\":[\"Mumbai\"],\"xaxis\":\"x\",\"y\":[98.1],\"yaxis\":\"y\",\"type\":\"bar\"},{\"alignmentgroup\":\"True\",\"hovertemplate\":\"Districts=%{x}<br>Recovery Rate(%)=%{y}<extra></extra>\",\"legendgroup\":\"Nagpur\",\"marker\":{\"color\":\"#B6E880\",\"pattern\":{\"shape\":\"\"}},\"name\":\"Nagpur\",\"offsetgroup\":\"Nagpur\",\"orientation\":\"v\",\"showlegend\":true,\"textposition\":\"auto\",\"x\":[\"Nagpur\"],\"xaxis\":\"x\",\"y\":[98.4],\"yaxis\":\"y\",\"type\":\"bar\"},{\"alignmentgroup\":\"True\",\"hovertemplate\":\"Districts=%{x}<br>Recovery Rate(%)=%{y}<extra></extra>\",\"legendgroup\":\"Nanded\",\"marker\":{\"color\":\"#FF97FF\",\"pattern\":{\"shape\":\"\"}},\"name\":\"Nanded\",\"offsetgroup\":\"Nanded\",\"orientation\":\"v\",\"showlegend\":true,\"textposition\":\"auto\",\"x\":[\"Nanded\"],\"xaxis\":\"x\",\"y\":[97.3],\"yaxis\":\"y\",\"type\":\"bar\"},{\"alignmentgroup\":\"True\",\"hovertemplate\":\"Districts=%{x}<br>Recovery Rate(%)=%{y}<extra></extra>\",\"legendgroup\":\"Nandurbar\",\"marker\":{\"color\":\"#FECB52\",\"pattern\":{\"shape\":\"\"}},\"name\":\"Nandurbar\",\"offsetgroup\":\"Nandurbar\",\"orientation\":\"v\",\"showlegend\":true,\"textposition\":\"auto\",\"x\":[\"Nandurbar\"],\"xaxis\":\"x\",\"y\":[97.9],\"yaxis\":\"y\",\"type\":\"bar\"},{\"alignmentgroup\":\"True\",\"hovertemplate\":\"Districts=%{x}<br>Recovery Rate(%)=%{y}<extra></extra>\",\"legendgroup\":\"Nashik\",\"marker\":{\"color\":\"#636efa\",\"pattern\":{\"shape\":\"\"}},\"name\":\"Nashik\",\"offsetgroup\":\"Nashik\",\"orientation\":\"v\",\"showlegend\":true,\"textposition\":\"auto\",\"x\":[\"Nashik\"],\"xaxis\":\"x\",\"y\":[98.1],\"yaxis\":\"y\",\"type\":\"bar\"},{\"alignmentgroup\":\"True\",\"hovertemplate\":\"Districts=%{x}<br>Recovery Rate(%)=%{y}<extra></extra>\",\"legendgroup\":\"Osmanabad\",\"marker\":{\"color\":\"#EF553B\",\"pattern\":{\"shape\":\"\"}},\"name\":\"Osmanabad\",\"offsetgroup\":\"Osmanabad\",\"orientation\":\"v\",\"showlegend\":true,\"textposition\":\"auto\",\"x\":[\"Osmanabad\"],\"xaxis\":\"x\",\"y\":[97.1],\"yaxis\":\"y\",\"type\":\"bar\"},{\"alignmentgroup\":\"True\",\"hovertemplate\":\"Districts=%{x}<br>Recovery Rate(%)=%{y}<extra></extra>\",\"legendgroup\":\"Palghar\",\"marker\":{\"color\":\"#00cc96\",\"pattern\":{\"shape\":\"\"}},\"name\":\"Palghar\",\"offsetgroup\":\"Palghar\",\"orientation\":\"v\",\"showlegend\":true,\"textposition\":\"auto\",\"x\":[\"Palghar\"],\"xaxis\":\"x\",\"y\":[97.9],\"yaxis\":\"y\",\"type\":\"bar\"},{\"alignmentgroup\":\"True\",\"hovertemplate\":\"Districts=%{x}<br>Recovery Rate(%)=%{y}<extra></extra>\",\"legendgroup\":\"Parbhani\",\"marker\":{\"color\":\"#ab63fa\",\"pattern\":{\"shape\":\"\"}},\"name\":\"Parbhani\",\"offsetgroup\":\"Parbhani\",\"orientation\":\"v\",\"showlegend\":true,\"textposition\":\"auto\",\"x\":[\"Parbhani\"],\"xaxis\":\"x\",\"y\":[97.8],\"yaxis\":\"y\",\"type\":\"bar\"},{\"alignmentgroup\":\"True\",\"hovertemplate\":\"Districts=%{x}<br>Recovery Rate(%)=%{y}<extra></extra>\",\"legendgroup\":\"Pune\",\"marker\":{\"color\":\"#FFA15A\",\"pattern\":{\"shape\":\"\"}},\"name\":\"Pune\",\"offsetgroup\":\"Pune\",\"orientation\":\"v\",\"showlegend\":true,\"textposition\":\"auto\",\"x\":[\"Pune\"],\"xaxis\":\"x\",\"y\":[98.5],\"yaxis\":\"y\",\"type\":\"bar\"},{\"alignmentgroup\":\"True\",\"hovertemplate\":\"Districts=%{x}<br>Recovery Rate(%)=%{y}<extra></extra>\",\"legendgroup\":\"Raigad\",\"marker\":{\"color\":\"#19d3f3\",\"pattern\":{\"shape\":\"\"}},\"name\":\"Raigad\",\"offsetgroup\":\"Raigad\",\"orientation\":\"v\",\"showlegend\":true,\"textposition\":\"auto\",\"x\":[\"Raigad\"],\"xaxis\":\"x\",\"y\":[97.9],\"yaxis\":\"y\",\"type\":\"bar\"},{\"alignmentgroup\":\"True\",\"hovertemplate\":\"Districts=%{x}<br>Recovery Rate(%)=%{y}<extra></extra>\",\"legendgroup\":\"Ratnagiri\",\"marker\":{\"color\":\"#FF6692\",\"pattern\":{\"shape\":\"\"}},\"name\":\"Ratnagiri\",\"offsetgroup\":\"Ratnagiri\",\"orientation\":\"v\",\"showlegend\":true,\"textposition\":\"auto\",\"x\":[\"Ratnagiri\"],\"xaxis\":\"x\",\"y\":[97.0],\"yaxis\":\"y\",\"type\":\"bar\"},{\"alignmentgroup\":\"True\",\"hovertemplate\":\"Districts=%{x}<br>Recovery Rate(%)=%{y}<extra></extra>\",\"legendgroup\":\"Sangli\",\"marker\":{\"color\":\"#B6E880\",\"pattern\":{\"shape\":\"\"}},\"name\":\"Sangli\",\"offsetgroup\":\"Sangli\",\"orientation\":\"v\",\"showlegend\":true,\"textposition\":\"auto\",\"x\":[\"Sangli\"],\"xaxis\":\"x\",\"y\":[97.5],\"yaxis\":\"y\",\"type\":\"bar\"},{\"alignmentgroup\":\"True\",\"hovertemplate\":\"Districts=%{x}<br>Recovery Rate(%)=%{y}<extra></extra>\",\"legendgroup\":\"Satara\",\"marker\":{\"color\":\"#FF97FF\",\"pattern\":{\"shape\":\"\"}},\"name\":\"Satara\",\"offsetgroup\":\"Satara\",\"orientation\":\"v\",\"showlegend\":true,\"textposition\":\"auto\",\"x\":[\"Satara\"],\"xaxis\":\"x\",\"y\":[97.6],\"yaxis\":\"y\",\"type\":\"bar\"},{\"alignmentgroup\":\"True\",\"hovertemplate\":\"Districts=%{x}<br>Recovery Rate(%)=%{y}<extra></extra>\",\"legendgroup\":\"Sindhudurg\",\"marker\":{\"color\":\"#FECB52\",\"pattern\":{\"shape\":\"\"}},\"name\":\"Sindhudurg\",\"offsetgroup\":\"Sindhudurg\",\"orientation\":\"v\",\"showlegend\":true,\"textposition\":\"auto\",\"x\":[\"Sindhudurg\"],\"xaxis\":\"x\",\"y\":[97.1],\"yaxis\":\"y\",\"type\":\"bar\"},{\"alignmentgroup\":\"True\",\"hovertemplate\":\"Districts=%{x}<br>Recovery Rate(%)=%{y}<extra></extra>\",\"legendgroup\":\"Solapur\",\"marker\":{\"color\":\"#636efa\",\"pattern\":{\"shape\":\"\"}},\"name\":\"Solapur\",\"offsetgroup\":\"Solapur\",\"orientation\":\"v\",\"showlegend\":true,\"textposition\":\"auto\",\"x\":[\"Solapur\"],\"xaxis\":\"x\",\"y\":[97.4],\"yaxis\":\"y\",\"type\":\"bar\"},{\"alignmentgroup\":\"True\",\"hovertemplate\":\"Districts=%{x}<br>Recovery Rate(%)=%{y}<extra></extra>\",\"legendgroup\":\"Thane\",\"marker\":{\"color\":\"#EF553B\",\"pattern\":{\"shape\":\"\"}},\"name\":\"Thane\",\"offsetgroup\":\"Thane\",\"orientation\":\"v\",\"showlegend\":true,\"textposition\":\"auto\",\"x\":[\"Thane\"],\"xaxis\":\"x\",\"y\":[98.4],\"yaxis\":\"y\",\"type\":\"bar\"},{\"alignmentgroup\":\"True\",\"hovertemplate\":\"Districts=%{x}<br>Recovery Rate(%)=%{y}<extra></extra>\",\"legendgroup\":\"Wardha\",\"marker\":{\"color\":\"#00cc96\",\"pattern\":{\"shape\":\"\"}},\"name\":\"Wardha\",\"offsetgroup\":\"Wardha\",\"orientation\":\"v\",\"showlegend\":true,\"textposition\":\"auto\",\"x\":[\"Wardha\"],\"xaxis\":\"x\",\"y\":[97.8],\"yaxis\":\"y\",\"type\":\"bar\"},{\"alignmentgroup\":\"True\",\"hovertemplate\":\"Districts=%{x}<br>Recovery Rate(%)=%{y}<extra></extra>\",\"legendgroup\":\"Washim\",\"marker\":{\"color\":\"#ab63fa\",\"pattern\":{\"shape\":\"\"}},\"name\":\"Washim\",\"offsetgroup\":\"Washim\",\"orientation\":\"v\",\"showlegend\":true,\"textposition\":\"auto\",\"x\":[\"Washim\"],\"xaxis\":\"x\",\"y\":[98.6],\"yaxis\":\"y\",\"type\":\"bar\"},{\"alignmentgroup\":\"True\",\"hovertemplate\":\"Districts=%{x}<br>Recovery Rate(%)=%{y}<extra></extra>\",\"legendgroup\":\"Yavatmal\",\"marker\":{\"color\":\"#FFA15A\",\"pattern\":{\"shape\":\"\"}},\"name\":\"Yavatmal\",\"offsetgroup\":\"Yavatmal\",\"orientation\":\"v\",\"showlegend\":true,\"textposition\":\"auto\",\"x\":[\"Yavatmal\"],\"xaxis\":\"x\",\"y\":[97.8],\"yaxis\":\"y\",\"type\":\"bar\"}],                        {\"template\":{\"data\":{\"bar\":[{\"error_x\":{\"color\":\"#2a3f5f\"},\"error_y\":{\"color\":\"#2a3f5f\"},\"marker\":{\"line\":{\"color\":\"#E5ECF6\",\"width\":0.5},\"pattern\":{\"fillmode\":\"overlay\",\"size\":10,\"solidity\":0.2}},\"type\":\"bar\"}],\"barpolar\":[{\"marker\":{\"line\":{\"color\":\"#E5ECF6\",\"width\":0.5},\"pattern\":{\"fillmode\":\"overlay\",\"size\":10,\"solidity\":0.2}},\"type\":\"barpolar\"}],\"carpet\":[{\"aaxis\":{\"endlinecolor\":\"#2a3f5f\",\"gridcolor\":\"white\",\"linecolor\":\"white\",\"minorgridcolor\":\"white\",\"startlinecolor\":\"#2a3f5f\"},\"baxis\":{\"endlinecolor\":\"#2a3f5f\",\"gridcolor\":\"white\",\"linecolor\":\"white\",\"minorgridcolor\":\"white\",\"startlinecolor\":\"#2a3f5f\"},\"type\":\"carpet\"}],\"choropleth\":[{\"colorbar\":{\"outlinewidth\":0,\"ticks\":\"\"},\"type\":\"choropleth\"}],\"contour\":[{\"colorbar\":{\"outlinewidth\":0,\"ticks\":\"\"},\"colorscale\":[[0.0,\"#0d0887\"],[0.1111111111111111,\"#46039f\"],[0.2222222222222222,\"#7201a8\"],[0.3333333333333333,\"#9c179e\"],[0.4444444444444444,\"#bd3786\"],[0.5555555555555556,\"#d8576b\"],[0.6666666666666666,\"#ed7953\"],[0.7777777777777778,\"#fb9f3a\"],[0.8888888888888888,\"#fdca26\"],[1.0,\"#f0f921\"]],\"type\":\"contour\"}],\"contourcarpet\":[{\"colorbar\":{\"outlinewidth\":0,\"ticks\":\"\"},\"type\":\"contourcarpet\"}],\"heatmap\":[{\"colorbar\":{\"outlinewidth\":0,\"ticks\":\"\"},\"colorscale\":[[0.0,\"#0d0887\"],[0.1111111111111111,\"#46039f\"],[0.2222222222222222,\"#7201a8\"],[0.3333333333333333,\"#9c179e\"],[0.4444444444444444,\"#bd3786\"],[0.5555555555555556,\"#d8576b\"],[0.6666666666666666,\"#ed7953\"],[0.7777777777777778,\"#fb9f3a\"],[0.8888888888888888,\"#fdca26\"],[1.0,\"#f0f921\"]],\"type\":\"heatmap\"}],\"heatmapgl\":[{\"colorbar\":{\"outlinewidth\":0,\"ticks\":\"\"},\"colorscale\":[[0.0,\"#0d0887\"],[0.1111111111111111,\"#46039f\"],[0.2222222222222222,\"#7201a8\"],[0.3333333333333333,\"#9c179e\"],[0.4444444444444444,\"#bd3786\"],[0.5555555555555556,\"#d8576b\"],[0.6666666666666666,\"#ed7953\"],[0.7777777777777778,\"#fb9f3a\"],[0.8888888888888888,\"#fdca26\"],[1.0,\"#f0f921\"]],\"type\":\"heatmapgl\"}],\"histogram\":[{\"marker\":{\"pattern\":{\"fillmode\":\"overlay\",\"size\":10,\"solidity\":0.2}},\"type\":\"histogram\"}],\"histogram2d\":[{\"colorbar\":{\"outlinewidth\":0,\"ticks\":\"\"},\"colorscale\":[[0.0,\"#0d0887\"],[0.1111111111111111,\"#46039f\"],[0.2222222222222222,\"#7201a8\"],[0.3333333333333333,\"#9c179e\"],[0.4444444444444444,\"#bd3786\"],[0.5555555555555556,\"#d8576b\"],[0.6666666666666666,\"#ed7953\"],[0.7777777777777778,\"#fb9f3a\"],[0.8888888888888888,\"#fdca26\"],[1.0,\"#f0f921\"]],\"type\":\"histogram2d\"}],\"histogram2dcontour\":[{\"colorbar\":{\"outlinewidth\":0,\"ticks\":\"\"},\"colorscale\":[[0.0,\"#0d0887\"],[0.1111111111111111,\"#46039f\"],[0.2222222222222222,\"#7201a8\"],[0.3333333333333333,\"#9c179e\"],[0.4444444444444444,\"#bd3786\"],[0.5555555555555556,\"#d8576b\"],[0.6666666666666666,\"#ed7953\"],[0.7777777777777778,\"#fb9f3a\"],[0.8888888888888888,\"#fdca26\"],[1.0,\"#f0f921\"]],\"type\":\"histogram2dcontour\"}],\"mesh3d\":[{\"colorbar\":{\"outlinewidth\":0,\"ticks\":\"\"},\"type\":\"mesh3d\"}],\"parcoords\":[{\"line\":{\"colorbar\":{\"outlinewidth\":0,\"ticks\":\"\"}},\"type\":\"parcoords\"}],\"pie\":[{\"automargin\":true,\"type\":\"pie\"}],\"scatter\":[{\"marker\":{\"colorbar\":{\"outlinewidth\":0,\"ticks\":\"\"}},\"type\":\"scatter\"}],\"scatter3d\":[{\"line\":{\"colorbar\":{\"outlinewidth\":0,\"ticks\":\"\"}},\"marker\":{\"colorbar\":{\"outlinewidth\":0,\"ticks\":\"\"}},\"type\":\"scatter3d\"}],\"scattercarpet\":[{\"marker\":{\"colorbar\":{\"outlinewidth\":0,\"ticks\":\"\"}},\"type\":\"scattercarpet\"}],\"scattergeo\":[{\"marker\":{\"colorbar\":{\"outlinewidth\":0,\"ticks\":\"\"}},\"type\":\"scattergeo\"}],\"scattergl\":[{\"marker\":{\"colorbar\":{\"outlinewidth\":0,\"ticks\":\"\"}},\"type\":\"scattergl\"}],\"scattermapbox\":[{\"marker\":{\"colorbar\":{\"outlinewidth\":0,\"ticks\":\"\"}},\"type\":\"scattermapbox\"}],\"scatterpolar\":[{\"marker\":{\"colorbar\":{\"outlinewidth\":0,\"ticks\":\"\"}},\"type\":\"scatterpolar\"}],\"scatterpolargl\":[{\"marker\":{\"colorbar\":{\"outlinewidth\":0,\"ticks\":\"\"}},\"type\":\"scatterpolargl\"}],\"scatterternary\":[{\"marker\":{\"colorbar\":{\"outlinewidth\":0,\"ticks\":\"\"}},\"type\":\"scatterternary\"}],\"surface\":[{\"colorbar\":{\"outlinewidth\":0,\"ticks\":\"\"},\"colorscale\":[[0.0,\"#0d0887\"],[0.1111111111111111,\"#46039f\"],[0.2222222222222222,\"#7201a8\"],[0.3333333333333333,\"#9c179e\"],[0.4444444444444444,\"#bd3786\"],[0.5555555555555556,\"#d8576b\"],[0.6666666666666666,\"#ed7953\"],[0.7777777777777778,\"#fb9f3a\"],[0.8888888888888888,\"#fdca26\"],[1.0,\"#f0f921\"]],\"type\":\"surface\"}],\"table\":[{\"cells\":{\"fill\":{\"color\":\"#EBF0F8\"},\"line\":{\"color\":\"white\"}},\"header\":{\"fill\":{\"color\":\"#C8D4E3\"},\"line\":{\"color\":\"white\"}},\"type\":\"table\"}]},\"layout\":{\"annotationdefaults\":{\"arrowcolor\":\"#2a3f5f\",\"arrowhead\":0,\"arrowwidth\":1},\"autotypenumbers\":\"strict\",\"coloraxis\":{\"colorbar\":{\"outlinewidth\":0,\"ticks\":\"\"}},\"colorscale\":{\"diverging\":[[0,\"#8e0152\"],[0.1,\"#c51b7d\"],[0.2,\"#de77ae\"],[0.3,\"#f1b6da\"],[0.4,\"#fde0ef\"],[0.5,\"#f7f7f7\"],[0.6,\"#e6f5d0\"],[0.7,\"#b8e186\"],[0.8,\"#7fbc41\"],[0.9,\"#4d9221\"],[1,\"#276419\"]],\"sequential\":[[0.0,\"#0d0887\"],[0.1111111111111111,\"#46039f\"],[0.2222222222222222,\"#7201a8\"],[0.3333333333333333,\"#9c179e\"],[0.4444444444444444,\"#bd3786\"],[0.5555555555555556,\"#d8576b\"],[0.6666666666666666,\"#ed7953\"],[0.7777777777777778,\"#fb9f3a\"],[0.8888888888888888,\"#fdca26\"],[1.0,\"#f0f921\"]],\"sequentialminus\":[[0.0,\"#0d0887\"],[0.1111111111111111,\"#46039f\"],[0.2222222222222222,\"#7201a8\"],[0.3333333333333333,\"#9c179e\"],[0.4444444444444444,\"#bd3786\"],[0.5555555555555556,\"#d8576b\"],[0.6666666666666666,\"#ed7953\"],[0.7777777777777778,\"#fb9f3a\"],[0.8888888888888888,\"#fdca26\"],[1.0,\"#f0f921\"]]},\"colorway\":[\"#636efa\",\"#EF553B\",\"#00cc96\",\"#ab63fa\",\"#FFA15A\",\"#19d3f3\",\"#FF6692\",\"#B6E880\",\"#FF97FF\",\"#FECB52\"],\"font\":{\"color\":\"#2a3f5f\"},\"geo\":{\"bgcolor\":\"white\",\"lakecolor\":\"white\",\"landcolor\":\"#E5ECF6\",\"showlakes\":true,\"showland\":true,\"subunitcolor\":\"white\"},\"hoverlabel\":{\"align\":\"left\"},\"hovermode\":\"closest\",\"mapbox\":{\"style\":\"light\"},\"paper_bgcolor\":\"white\",\"plot_bgcolor\":\"#E5ECF6\",\"polar\":{\"angularaxis\":{\"gridcolor\":\"white\",\"linecolor\":\"white\",\"ticks\":\"\"},\"bgcolor\":\"#E5ECF6\",\"radialaxis\":{\"gridcolor\":\"white\",\"linecolor\":\"white\",\"ticks\":\"\"}},\"scene\":{\"xaxis\":{\"backgroundcolor\":\"#E5ECF6\",\"gridcolor\":\"white\",\"gridwidth\":2,\"linecolor\":\"white\",\"showbackground\":true,\"ticks\":\"\",\"zerolinecolor\":\"white\"},\"yaxis\":{\"backgroundcolor\":\"#E5ECF6\",\"gridcolor\":\"white\",\"gridwidth\":2,\"linecolor\":\"white\",\"showbackground\":true,\"ticks\":\"\",\"zerolinecolor\":\"white\"},\"zaxis\":{\"backgroundcolor\":\"#E5ECF6\",\"gridcolor\":\"white\",\"gridwidth\":2,\"linecolor\":\"white\",\"showbackground\":true,\"ticks\":\"\",\"zerolinecolor\":\"white\"}},\"shapedefaults\":{\"line\":{\"color\":\"#2a3f5f\"}},\"ternary\":{\"aaxis\":{\"gridcolor\":\"white\",\"linecolor\":\"white\",\"ticks\":\"\"},\"baxis\":{\"gridcolor\":\"white\",\"linecolor\":\"white\",\"ticks\":\"\"},\"bgcolor\":\"#E5ECF6\",\"caxis\":{\"gridcolor\":\"white\",\"linecolor\":\"white\",\"ticks\":\"\"}},\"title\":{\"x\":0.05},\"xaxis\":{\"automargin\":true,\"gridcolor\":\"white\",\"linecolor\":\"white\",\"ticks\":\"\",\"title\":{\"standoff\":15},\"zerolinecolor\":\"white\",\"zerolinewidth\":2},\"yaxis\":{\"automargin\":true,\"gridcolor\":\"white\",\"linecolor\":\"white\",\"ticks\":\"\",\"title\":{\"standoff\":15},\"zerolinecolor\":\"white\",\"zerolinewidth\":2}}},\"xaxis\":{\"anchor\":\"y\",\"domain\":[0.0,1.0],\"title\":{\"text\":\"Districts\"},\"categoryorder\":\"array\",\"categoryarray\":[\"Ahmednagar\",\"Akola\",\"Amravati\",\"Aurangabad\",\"Beed\",\"Bhandara\",\"Buldhana\",\"Chandrapur\",\"Dhule\",\"Gadchiroli\",\"Gondia\",\"Hingoli\",\"Jalgaon\",\"Jalna\",\"Kolhapur\",\"Latur\",\"Mumbai\",\"Nagpur\",\"Nanded\",\"Nandurbar\",\"Nashik\",\"Osmanabad\",\"Palghar\",\"Parbhani\",\"Pune\",\"Raigad\",\"Ratnagiri\",\"Sangli\",\"Satara\",\"Sindhudurg\",\"Solapur\",\"Thane\",\"Wardha\",\"Washim\",\"Yavatmal\"]},\"yaxis\":{\"anchor\":\"x\",\"domain\":[0.0,1.0],\"title\":{\"text\":\"Recovery Rate(%)\"}},\"legend\":{\"title\":{\"text\":\"Districts\"},\"tracegroupgap\":0},\"title\":{\"text\":\"Total Recovery Rate(%) in Maharashtra Districtwise\"},\"barmode\":\"relative\"},                        {\"responsive\": true}                    ).then(function(){\n",
       "                            \n",
       "var gd = document.getElementById('ffa4e858-6282-44f9-8b1e-c2f164a132dc');\n",
       "var x = new MutationObserver(function (mutations, observer) {{\n",
       "        var display = window.getComputedStyle(gd).display;\n",
       "        if (!display || display === 'none') {{\n",
       "            console.log([gd, 'removed!']);\n",
       "            Plotly.purge(gd);\n",
       "            observer.disconnect();\n",
       "        }}\n",
       "}});\n",
       "\n",
       "// Listen for the removal of the full notebook cells\n",
       "var notebookContainer = gd.closest('#notebook-container');\n",
       "if (notebookContainer) {{\n",
       "    x.observe(notebookContainer, {childList: true});\n",
       "}}\n",
       "\n",
       "// Listen for the clearing of the current output cell\n",
       "var outputEl = gd.closest('.output');\n",
       "if (outputEl) {{\n",
       "    x.observe(outputEl, {childList: true});\n",
       "}}\n",
       "\n",
       "                        })                };                });            </script>        </div>"
      ]
     },
     "metadata": {},
     "output_type": "display_data"
    }
   ],
   "source": [
    "fig=px.bar(dataframe,x=\"Districts\",y=\"Recovery Rate(%)\",title=\"Total Recovery Rate(%) in Maharashtra Districtwise\",color='Districts')\n",
    "fig.show()"
   ]
  },
  {
   "cell_type": "markdown",
   "metadata": {},
   "source": [
    "### Total Fatality Rate(%) in Maharashtra Districtwise"
   ]
  },
  {
   "cell_type": "code",
   "execution_count": 51,
   "metadata": {},
   "outputs": [
    {
     "data": {
      "application/vnd.plotly.v1+json": {
       "config": {
        "plotlyServerURL": "https://plot.ly"
       },
       "data": [
        {
         "alignmentgroup": "True",
         "hovertemplate": "Districts=%{x}<br>Fatality Rate(%)=%{y}<extra></extra>",
         "legendgroup": "Ahmednagar",
         "marker": {
          "color": "#636efa",
          "pattern": {
           "shape": ""
          }
         },
         "name": "Ahmednagar",
         "offsetgroup": "Ahmednagar",
         "orientation": "v",
         "showlegend": true,
         "textposition": "auto",
         "type": "bar",
         "x": [
          "Ahmednagar"
         ],
         "xaxis": "x",
         "y": [
          1.9
         ],
         "yaxis": "y"
        },
        {
         "alignmentgroup": "True",
         "hovertemplate": "Districts=%{x}<br>Fatality Rate(%)=%{y}<extra></extra>",
         "legendgroup": "Akola",
         "marker": {
          "color": "#EF553B",
          "pattern": {
           "shape": ""
          }
         },
         "name": "Akola",
         "offsetgroup": "Akola",
         "orientation": "v",
         "showlegend": true,
         "textposition": "auto",
         "type": "bar",
         "x": [
          "Akola"
         ],
         "xaxis": "x",
         "y": [
          2.2
         ],
         "yaxis": "y"
        },
        {
         "alignmentgroup": "True",
         "hovertemplate": "Districts=%{x}<br>Fatality Rate(%)=%{y}<extra></extra>",
         "legendgroup": "Amravati",
         "marker": {
          "color": "#00cc96",
          "pattern": {
           "shape": ""
          }
         },
         "name": "Amravati",
         "offsetgroup": "Amravati",
         "orientation": "v",
         "showlegend": true,
         "textposition": "auto",
         "type": "bar",
         "x": [
          "Amravati"
         ],
         "xaxis": "x",
         "y": [
          1.5
         ],
         "yaxis": "y"
        },
        {
         "alignmentgroup": "True",
         "hovertemplate": "Districts=%{x}<br>Fatality Rate(%)=%{y}<extra></extra>",
         "legendgroup": "Aurangabad",
         "marker": {
          "color": "#ab63fa",
          "pattern": {
           "shape": ""
          }
         },
         "name": "Aurangabad",
         "offsetgroup": "Aurangabad",
         "orientation": "v",
         "showlegend": true,
         "textposition": "auto",
         "type": "bar",
         "x": [
          "Aurangabad"
         ],
         "xaxis": "x",
         "y": [
          2.4
         ],
         "yaxis": "y"
        },
        {
         "alignmentgroup": "True",
         "hovertemplate": "Districts=%{x}<br>Fatality Rate(%)=%{y}<extra></extra>",
         "legendgroup": "Beed",
         "marker": {
          "color": "#FFA15A",
          "pattern": {
           "shape": ""
          }
         },
         "name": "Beed",
         "offsetgroup": "Beed",
         "orientation": "v",
         "showlegend": true,
         "textposition": "auto",
         "type": "bar",
         "x": [
          "Beed"
         ],
         "xaxis": "x",
         "y": [
          2.6
         ],
         "yaxis": "y"
        },
        {
         "alignmentgroup": "True",
         "hovertemplate": "Districts=%{x}<br>Fatality Rate(%)=%{y}<extra></extra>",
         "legendgroup": "Bhandara",
         "marker": {
          "color": "#19d3f3",
          "pattern": {
           "shape": ""
          }
         },
         "name": "Bhandara",
         "offsetgroup": "Bhandara",
         "orientation": "v",
         "showlegend": true,
         "textposition": "auto",
         "type": "bar",
         "x": [
          "Bhandara"
         ],
         "xaxis": "x",
         "y": [
          1.7
         ],
         "yaxis": "y"
        },
        {
         "alignmentgroup": "True",
         "hovertemplate": "Districts=%{x}<br>Fatality Rate(%)=%{y}<extra></extra>",
         "legendgroup": "Buldhana",
         "marker": {
          "color": "#FF6692",
          "pattern": {
           "shape": ""
          }
         },
         "name": "Buldhana",
         "offsetgroup": "Buldhana",
         "orientation": "v",
         "showlegend": true,
         "textposition": "auto",
         "type": "bar",
         "x": [
          "Buldhana"
         ],
         "xaxis": "x",
         "y": [
          0.9
         ],
         "yaxis": "y"
        },
        {
         "alignmentgroup": "True",
         "hovertemplate": "Districts=%{x}<br>Fatality Rate(%)=%{y}<extra></extra>",
         "legendgroup": "Chandrapur",
         "marker": {
          "color": "#B6E880",
          "pattern": {
           "shape": ""
          }
         },
         "name": "Chandrapur",
         "offsetgroup": "Chandrapur",
         "orientation": "v",
         "showlegend": true,
         "textposition": "auto",
         "type": "bar",
         "x": [
          "Chandrapur"
         ],
         "xaxis": "x",
         "y": [
          1.6
         ],
         "yaxis": "y"
        },
        {
         "alignmentgroup": "True",
         "hovertemplate": "Districts=%{x}<br>Fatality Rate(%)=%{y}<extra></extra>",
         "legendgroup": "Dhule",
         "marker": {
          "color": "#FF97FF",
          "pattern": {
           "shape": ""
          }
         },
         "name": "Dhule",
         "offsetgroup": "Dhule",
         "orientation": "v",
         "showlegend": true,
         "textposition": "auto",
         "type": "bar",
         "x": [
          "Dhule"
         ],
         "xaxis": "x",
         "y": [
          1.3
         ],
         "yaxis": "y"
        },
        {
         "alignmentgroup": "True",
         "hovertemplate": "Districts=%{x}<br>Fatality Rate(%)=%{y}<extra></extra>",
         "legendgroup": "Gadchiroli",
         "marker": {
          "color": "#FECB52",
          "pattern": {
           "shape": ""
          }
         },
         "name": "Gadchiroli",
         "offsetgroup": "Gadchiroli",
         "orientation": "v",
         "showlegend": true,
         "textposition": "auto",
         "type": "bar",
         "x": [
          "Gadchiroli"
         ],
         "xaxis": "x",
         "y": [
          1.9
         ],
         "yaxis": "y"
        },
        {
         "alignmentgroup": "True",
         "hovertemplate": "Districts=%{x}<br>Fatality Rate(%)=%{y}<extra></extra>",
         "legendgroup": "Gondia",
         "marker": {
          "color": "#636efa",
          "pattern": {
           "shape": ""
          }
         },
         "name": "Gondia",
         "offsetgroup": "Gondia",
         "orientation": "v",
         "showlegend": true,
         "textposition": "auto",
         "type": "bar",
         "x": [
          "Gondia"
         ],
         "xaxis": "x",
         "y": [
          1.3
         ],
         "yaxis": "y"
        },
        {
         "alignmentgroup": "True",
         "hovertemplate": "Districts=%{x}<br>Fatality Rate(%)=%{y}<extra></extra>",
         "legendgroup": "Hingoli",
         "marker": {
          "color": "#EF553B",
          "pattern": {
           "shape": ""
          }
         },
         "name": "Hingoli",
         "offsetgroup": "Hingoli",
         "orientation": "v",
         "showlegend": true,
         "textposition": "auto",
         "type": "bar",
         "x": [
          "Hingoli"
         ],
         "xaxis": "x",
         "y": [
          2.3
         ],
         "yaxis": "y"
        },
        {
         "alignmentgroup": "True",
         "hovertemplate": "Districts=%{x}<br>Fatality Rate(%)=%{y}<extra></extra>",
         "legendgroup": "Jalgaon",
         "marker": {
          "color": "#00cc96",
          "pattern": {
           "shape": ""
          }
         },
         "name": "Jalgaon",
         "offsetgroup": "Jalgaon",
         "orientation": "v",
         "showlegend": true,
         "textposition": "auto",
         "type": "bar",
         "x": [
          "Jalgaon"
         ],
         "xaxis": "x",
         "y": [
          1.8
         ],
         "yaxis": "y"
        },
        {
         "alignmentgroup": "True",
         "hovertemplate": "Districts=%{x}<br>Fatality Rate(%)=%{y}<extra></extra>",
         "legendgroup": "Jalna",
         "marker": {
          "color": "#ab63fa",
          "pattern": {
           "shape": ""
          }
         },
         "name": "Jalna",
         "offsetgroup": "Jalna",
         "orientation": "v",
         "showlegend": true,
         "textposition": "auto",
         "type": "bar",
         "x": [
          "Jalna"
         ],
         "xaxis": "x",
         "y": [
          1.8
         ],
         "yaxis": "y"
        },
        {
         "alignmentgroup": "True",
         "hovertemplate": "Districts=%{x}<br>Fatality Rate(%)=%{y}<extra></extra>",
         "legendgroup": "Kolhapur",
         "marker": {
          "color": "#FFA15A",
          "pattern": {
           "shape": ""
          }
         },
         "name": "Kolhapur",
         "offsetgroup": "Kolhapur",
         "orientation": "v",
         "showlegend": true,
         "textposition": "auto",
         "type": "bar",
         "x": [
          "Kolhapur"
         ],
         "xaxis": "x",
         "y": [
          2.7
         ],
         "yaxis": "y"
        },
        {
         "alignmentgroup": "True",
         "hovertemplate": "Districts=%{x}<br>Fatality Rate(%)=%{y}<extra></extra>",
         "legendgroup": "Latur",
         "marker": {
          "color": "#19d3f3",
          "pattern": {
           "shape": ""
          }
         },
         "name": "Latur",
         "offsetgroup": "Latur",
         "orientation": "v",
         "showlegend": true,
         "textposition": "auto",
         "type": "bar",
         "x": [
          "Latur"
         ],
         "xaxis": "x",
         "y": [
          2.4
         ],
         "yaxis": "y"
        },
        {
         "alignmentgroup": "True",
         "hovertemplate": "Districts=%{x}<br>Fatality Rate(%)=%{y}<extra></extra>",
         "legendgroup": "Mumbai",
         "marker": {
          "color": "#FF6692",
          "pattern": {
           "shape": ""
          }
         },
         "name": "Mumbai",
         "offsetgroup": "Mumbai",
         "orientation": "v",
         "showlegend": true,
         "textposition": "auto",
         "type": "bar",
         "x": [
          "Mumbai"
         ],
         "xaxis": "x",
         "y": [
          1.6
         ],
         "yaxis": "y"
        },
        {
         "alignmentgroup": "True",
         "hovertemplate": "Districts=%{x}<br>Fatality Rate(%)=%{y}<extra></extra>",
         "legendgroup": "Nagpur",
         "marker": {
          "color": "#B6E880",
          "pattern": {
           "shape": ""
          }
         },
         "name": "Nagpur",
         "offsetgroup": "Nagpur",
         "orientation": "v",
         "showlegend": true,
         "textposition": "auto",
         "type": "bar",
         "x": [
          "Nagpur"
         ],
         "xaxis": "x",
         "y": [
          1.6
         ],
         "yaxis": "y"
        },
        {
         "alignmentgroup": "True",
         "hovertemplate": "Districts=%{x}<br>Fatality Rate(%)=%{y}<extra></extra>",
         "legendgroup": "Nanded",
         "marker": {
          "color": "#FF97FF",
          "pattern": {
           "shape": ""
          }
         },
         "name": "Nanded",
         "offsetgroup": "Nanded",
         "orientation": "v",
         "showlegend": true,
         "textposition": "auto",
         "type": "bar",
         "x": [
          "Nanded"
         ],
         "xaxis": "x",
         "y": [
          2.6
         ],
         "yaxis": "y"
        },
        {
         "alignmentgroup": "True",
         "hovertemplate": "Districts=%{x}<br>Fatality Rate(%)=%{y}<extra></extra>",
         "legendgroup": "Nandurbar",
         "marker": {
          "color": "#FECB52",
          "pattern": {
           "shape": ""
          }
         },
         "name": "Nandurbar",
         "offsetgroup": "Nandurbar",
         "orientation": "v",
         "showlegend": true,
         "textposition": "auto",
         "type": "bar",
         "x": [
          "Nandurbar"
         ],
         "xaxis": "x",
         "y": [
          2.1
         ],
         "yaxis": "y"
        },
        {
         "alignmentgroup": "True",
         "hovertemplate": "Districts=%{x}<br>Fatality Rate(%)=%{y}<extra></extra>",
         "legendgroup": "Nashik",
         "marker": {
          "color": "#636efa",
          "pattern": {
           "shape": ""
          }
         },
         "name": "Nashik",
         "offsetgroup": "Nashik",
         "orientation": "v",
         "showlegend": true,
         "textposition": "auto",
         "type": "bar",
         "x": [
          "Nashik"
         ],
         "xaxis": "x",
         "y": [
          1.9
         ],
         "yaxis": "y"
        },
        {
         "alignmentgroup": "True",
         "hovertemplate": "Districts=%{x}<br>Fatality Rate(%)=%{y}<extra></extra>",
         "legendgroup": "Osmanabad",
         "marker": {
          "color": "#EF553B",
          "pattern": {
           "shape": ""
          }
         },
         "name": "Osmanabad",
         "offsetgroup": "Osmanabad",
         "orientation": "v",
         "showlegend": true,
         "textposition": "auto",
         "type": "bar",
         "x": [
          "Osmanabad"
         ],
         "xaxis": "x",
         "y": [
          2.7
         ],
         "yaxis": "y"
        },
        {
         "alignmentgroup": "True",
         "hovertemplate": "Districts=%{x}<br>Fatality Rate(%)=%{y}<extra></extra>",
         "legendgroup": "Palghar",
         "marker": {
          "color": "#00cc96",
          "pattern": {
           "shape": ""
          }
         },
         "name": "Palghar",
         "offsetgroup": "Palghar",
         "orientation": "v",
         "showlegend": true,
         "textposition": "auto",
         "type": "bar",
         "x": [
          "Palghar"
         ],
         "xaxis": "x",
         "y": [
          2.1
         ],
         "yaxis": "y"
        },
        {
         "alignmentgroup": "True",
         "hovertemplate": "Districts=%{x}<br>Fatality Rate(%)=%{y}<extra></extra>",
         "legendgroup": "Parbhani",
         "marker": {
          "color": "#ab63fa",
          "pattern": {
           "shape": ""
          }
         },
         "name": "Parbhani",
         "offsetgroup": "Parbhani",
         "orientation": "v",
         "showlegend": true,
         "textposition": "auto",
         "type": "bar",
         "x": [
          "Parbhani"
         ],
         "xaxis": "x",
         "y": [
          2.1
         ],
         "yaxis": "y"
        },
        {
         "alignmentgroup": "True",
         "hovertemplate": "Districts=%{x}<br>Fatality Rate(%)=%{y}<extra></extra>",
         "legendgroup": "Pune",
         "marker": {
          "color": "#FFA15A",
          "pattern": {
           "shape": ""
          }
         },
         "name": "Pune",
         "offsetgroup": "Pune",
         "orientation": "v",
         "showlegend": true,
         "textposition": "auto",
         "type": "bar",
         "x": [
          "Pune"
         ],
         "xaxis": "x",
         "y": [
          1.4
         ],
         "yaxis": "y"
        },
        {
         "alignmentgroup": "True",
         "hovertemplate": "Districts=%{x}<br>Fatality Rate(%)=%{y}<extra></extra>",
         "legendgroup": "Raigad",
         "marker": {
          "color": "#19d3f3",
          "pattern": {
           "shape": ""
          }
         },
         "name": "Raigad",
         "offsetgroup": "Raigad",
         "orientation": "v",
         "showlegend": true,
         "textposition": "auto",
         "type": "bar",
         "x": [
          "Raigad"
         ],
         "xaxis": "x",
         "y": [
          2
         ],
         "yaxis": "y"
        },
        {
         "alignmentgroup": "True",
         "hovertemplate": "Districts=%{x}<br>Fatality Rate(%)=%{y}<extra></extra>",
         "legendgroup": "Ratnagiri",
         "marker": {
          "color": "#FF6692",
          "pattern": {
           "shape": ""
          }
         },
         "name": "Ratnagiri",
         "offsetgroup": "Ratnagiri",
         "orientation": "v",
         "showlegend": true,
         "textposition": "auto",
         "type": "bar",
         "x": [
          "Ratnagiri"
         ],
         "xaxis": "x",
         "y": [
          3
         ],
         "yaxis": "y"
        },
        {
         "alignmentgroup": "True",
         "hovertemplate": "Districts=%{x}<br>Fatality Rate(%)=%{y}<extra></extra>",
         "legendgroup": "Sangli",
         "marker": {
          "color": "#B6E880",
          "pattern": {
           "shape": ""
          }
         },
         "name": "Sangli",
         "offsetgroup": "Sangli",
         "orientation": "v",
         "showlegend": true,
         "textposition": "auto",
         "type": "bar",
         "x": [
          "Sangli"
         ],
         "xaxis": "x",
         "y": [
          2.5
         ],
         "yaxis": "y"
        },
        {
         "alignmentgroup": "True",
         "hovertemplate": "Districts=%{x}<br>Fatality Rate(%)=%{y}<extra></extra>",
         "legendgroup": "Satara",
         "marker": {
          "color": "#FF97FF",
          "pattern": {
           "shape": ""
          }
         },
         "name": "Satara",
         "offsetgroup": "Satara",
         "orientation": "v",
         "showlegend": true,
         "textposition": "auto",
         "type": "bar",
         "x": [
          "Satara"
         ],
         "xaxis": "x",
         "y": [
          2.4
         ],
         "yaxis": "y"
        },
        {
         "alignmentgroup": "True",
         "hovertemplate": "Districts=%{x}<br>Fatality Rate(%)=%{y}<extra></extra>",
         "legendgroup": "Sindhudurg",
         "marker": {
          "color": "#FECB52",
          "pattern": {
           "shape": ""
          }
         },
         "name": "Sindhudurg",
         "offsetgroup": "Sindhudurg",
         "orientation": "v",
         "showlegend": true,
         "textposition": "auto",
         "type": "bar",
         "x": [
          "Sindhudurg"
         ],
         "xaxis": "x",
         "y": [
          2.6
         ],
         "yaxis": "y"
        },
        {
         "alignmentgroup": "True",
         "hovertemplate": "Districts=%{x}<br>Fatality Rate(%)=%{y}<extra></extra>",
         "legendgroup": "Solapur",
         "marker": {
          "color": "#636efa",
          "pattern": {
           "shape": ""
          }
         },
         "name": "Solapur",
         "offsetgroup": "Solapur",
         "orientation": "v",
         "showlegend": true,
         "textposition": "auto",
         "type": "bar",
         "x": [
          "Solapur"
         ],
         "xaxis": "x",
         "y": [
          2.5
         ],
         "yaxis": "y"
        },
        {
         "alignmentgroup": "True",
         "hovertemplate": "Districts=%{x}<br>Fatality Rate(%)=%{y}<extra></extra>",
         "legendgroup": "Thane",
         "marker": {
          "color": "#EF553B",
          "pattern": {
           "shape": ""
          }
         },
         "name": "Thane",
         "offsetgroup": "Thane",
         "orientation": "v",
         "showlegend": true,
         "textposition": "auto",
         "type": "bar",
         "x": [
          "Thane"
         ],
         "xaxis": "x",
         "y": [
          1.5
         ],
         "yaxis": "y"
        },
        {
         "alignmentgroup": "True",
         "hovertemplate": "Districts=%{x}<br>Fatality Rate(%)=%{y}<extra></extra>",
         "legendgroup": "Wardha",
         "marker": {
          "color": "#00cc96",
          "pattern": {
           "shape": ""
          }
         },
         "name": "Wardha",
         "offsetgroup": "Wardha",
         "orientation": "v",
         "showlegend": true,
         "textposition": "auto",
         "type": "bar",
         "x": [
          "Wardha"
         ],
         "xaxis": "x",
         "y": [
          1.9
         ],
         "yaxis": "y"
        },
        {
         "alignmentgroup": "True",
         "hovertemplate": "Districts=%{x}<br>Fatality Rate(%)=%{y}<extra></extra>",
         "legendgroup": "Washim",
         "marker": {
          "color": "#ab63fa",
          "pattern": {
           "shape": ""
          }
         },
         "name": "Washim",
         "offsetgroup": "Washim",
         "orientation": "v",
         "showlegend": true,
         "textposition": "auto",
         "type": "bar",
         "x": [
          "Washim"
         ],
         "xaxis": "x",
         "y": [
          1.4
         ],
         "yaxis": "y"
        },
        {
         "alignmentgroup": "True",
         "hovertemplate": "Districts=%{x}<br>Fatality Rate(%)=%{y}<extra></extra>",
         "legendgroup": "Yavatmal",
         "marker": {
          "color": "#FFA15A",
          "pattern": {
           "shape": ""
          }
         },
         "name": "Yavatmal",
         "offsetgroup": "Yavatmal",
         "orientation": "v",
         "showlegend": true,
         "textposition": "auto",
         "type": "bar",
         "x": [
          "Yavatmal"
         ],
         "xaxis": "x",
         "y": [
          2.2
         ],
         "yaxis": "y"
        }
       ],
       "layout": {
        "barmode": "relative",
        "legend": {
         "title": {
          "text": "Districts"
         },
         "tracegroupgap": 0
        },
        "template": {
         "data": {
          "bar": [
           {
            "error_x": {
             "color": "#2a3f5f"
            },
            "error_y": {
             "color": "#2a3f5f"
            },
            "marker": {
             "line": {
              "color": "#E5ECF6",
              "width": 0.5
             },
             "pattern": {
              "fillmode": "overlay",
              "size": 10,
              "solidity": 0.2
             }
            },
            "type": "bar"
           }
          ],
          "barpolar": [
           {
            "marker": {
             "line": {
              "color": "#E5ECF6",
              "width": 0.5
             },
             "pattern": {
              "fillmode": "overlay",
              "size": 10,
              "solidity": 0.2
             }
            },
            "type": "barpolar"
           }
          ],
          "carpet": [
           {
            "aaxis": {
             "endlinecolor": "#2a3f5f",
             "gridcolor": "white",
             "linecolor": "white",
             "minorgridcolor": "white",
             "startlinecolor": "#2a3f5f"
            },
            "baxis": {
             "endlinecolor": "#2a3f5f",
             "gridcolor": "white",
             "linecolor": "white",
             "minorgridcolor": "white",
             "startlinecolor": "#2a3f5f"
            },
            "type": "carpet"
           }
          ],
          "choropleth": [
           {
            "colorbar": {
             "outlinewidth": 0,
             "ticks": ""
            },
            "type": "choropleth"
           }
          ],
          "contour": [
           {
            "colorbar": {
             "outlinewidth": 0,
             "ticks": ""
            },
            "colorscale": [
             [
              0,
              "#0d0887"
             ],
             [
              0.1111111111111111,
              "#46039f"
             ],
             [
              0.2222222222222222,
              "#7201a8"
             ],
             [
              0.3333333333333333,
              "#9c179e"
             ],
             [
              0.4444444444444444,
              "#bd3786"
             ],
             [
              0.5555555555555556,
              "#d8576b"
             ],
             [
              0.6666666666666666,
              "#ed7953"
             ],
             [
              0.7777777777777778,
              "#fb9f3a"
             ],
             [
              0.8888888888888888,
              "#fdca26"
             ],
             [
              1,
              "#f0f921"
             ]
            ],
            "type": "contour"
           }
          ],
          "contourcarpet": [
           {
            "colorbar": {
             "outlinewidth": 0,
             "ticks": ""
            },
            "type": "contourcarpet"
           }
          ],
          "heatmap": [
           {
            "colorbar": {
             "outlinewidth": 0,
             "ticks": ""
            },
            "colorscale": [
             [
              0,
              "#0d0887"
             ],
             [
              0.1111111111111111,
              "#46039f"
             ],
             [
              0.2222222222222222,
              "#7201a8"
             ],
             [
              0.3333333333333333,
              "#9c179e"
             ],
             [
              0.4444444444444444,
              "#bd3786"
             ],
             [
              0.5555555555555556,
              "#d8576b"
             ],
             [
              0.6666666666666666,
              "#ed7953"
             ],
             [
              0.7777777777777778,
              "#fb9f3a"
             ],
             [
              0.8888888888888888,
              "#fdca26"
             ],
             [
              1,
              "#f0f921"
             ]
            ],
            "type": "heatmap"
           }
          ],
          "heatmapgl": [
           {
            "colorbar": {
             "outlinewidth": 0,
             "ticks": ""
            },
            "colorscale": [
             [
              0,
              "#0d0887"
             ],
             [
              0.1111111111111111,
              "#46039f"
             ],
             [
              0.2222222222222222,
              "#7201a8"
             ],
             [
              0.3333333333333333,
              "#9c179e"
             ],
             [
              0.4444444444444444,
              "#bd3786"
             ],
             [
              0.5555555555555556,
              "#d8576b"
             ],
             [
              0.6666666666666666,
              "#ed7953"
             ],
             [
              0.7777777777777778,
              "#fb9f3a"
             ],
             [
              0.8888888888888888,
              "#fdca26"
             ],
             [
              1,
              "#f0f921"
             ]
            ],
            "type": "heatmapgl"
           }
          ],
          "histogram": [
           {
            "marker": {
             "pattern": {
              "fillmode": "overlay",
              "size": 10,
              "solidity": 0.2
             }
            },
            "type": "histogram"
           }
          ],
          "histogram2d": [
           {
            "colorbar": {
             "outlinewidth": 0,
             "ticks": ""
            },
            "colorscale": [
             [
              0,
              "#0d0887"
             ],
             [
              0.1111111111111111,
              "#46039f"
             ],
             [
              0.2222222222222222,
              "#7201a8"
             ],
             [
              0.3333333333333333,
              "#9c179e"
             ],
             [
              0.4444444444444444,
              "#bd3786"
             ],
             [
              0.5555555555555556,
              "#d8576b"
             ],
             [
              0.6666666666666666,
              "#ed7953"
             ],
             [
              0.7777777777777778,
              "#fb9f3a"
             ],
             [
              0.8888888888888888,
              "#fdca26"
             ],
             [
              1,
              "#f0f921"
             ]
            ],
            "type": "histogram2d"
           }
          ],
          "histogram2dcontour": [
           {
            "colorbar": {
             "outlinewidth": 0,
             "ticks": ""
            },
            "colorscale": [
             [
              0,
              "#0d0887"
             ],
             [
              0.1111111111111111,
              "#46039f"
             ],
             [
              0.2222222222222222,
              "#7201a8"
             ],
             [
              0.3333333333333333,
              "#9c179e"
             ],
             [
              0.4444444444444444,
              "#bd3786"
             ],
             [
              0.5555555555555556,
              "#d8576b"
             ],
             [
              0.6666666666666666,
              "#ed7953"
             ],
             [
              0.7777777777777778,
              "#fb9f3a"
             ],
             [
              0.8888888888888888,
              "#fdca26"
             ],
             [
              1,
              "#f0f921"
             ]
            ],
            "type": "histogram2dcontour"
           }
          ],
          "mesh3d": [
           {
            "colorbar": {
             "outlinewidth": 0,
             "ticks": ""
            },
            "type": "mesh3d"
           }
          ],
          "parcoords": [
           {
            "line": {
             "colorbar": {
              "outlinewidth": 0,
              "ticks": ""
             }
            },
            "type": "parcoords"
           }
          ],
          "pie": [
           {
            "automargin": true,
            "type": "pie"
           }
          ],
          "scatter": [
           {
            "marker": {
             "colorbar": {
              "outlinewidth": 0,
              "ticks": ""
             }
            },
            "type": "scatter"
           }
          ],
          "scatter3d": [
           {
            "line": {
             "colorbar": {
              "outlinewidth": 0,
              "ticks": ""
             }
            },
            "marker": {
             "colorbar": {
              "outlinewidth": 0,
              "ticks": ""
             }
            },
            "type": "scatter3d"
           }
          ],
          "scattercarpet": [
           {
            "marker": {
             "colorbar": {
              "outlinewidth": 0,
              "ticks": ""
             }
            },
            "type": "scattercarpet"
           }
          ],
          "scattergeo": [
           {
            "marker": {
             "colorbar": {
              "outlinewidth": 0,
              "ticks": ""
             }
            },
            "type": "scattergeo"
           }
          ],
          "scattergl": [
           {
            "marker": {
             "colorbar": {
              "outlinewidth": 0,
              "ticks": ""
             }
            },
            "type": "scattergl"
           }
          ],
          "scattermapbox": [
           {
            "marker": {
             "colorbar": {
              "outlinewidth": 0,
              "ticks": ""
             }
            },
            "type": "scattermapbox"
           }
          ],
          "scatterpolar": [
           {
            "marker": {
             "colorbar": {
              "outlinewidth": 0,
              "ticks": ""
             }
            },
            "type": "scatterpolar"
           }
          ],
          "scatterpolargl": [
           {
            "marker": {
             "colorbar": {
              "outlinewidth": 0,
              "ticks": ""
             }
            },
            "type": "scatterpolargl"
           }
          ],
          "scatterternary": [
           {
            "marker": {
             "colorbar": {
              "outlinewidth": 0,
              "ticks": ""
             }
            },
            "type": "scatterternary"
           }
          ],
          "surface": [
           {
            "colorbar": {
             "outlinewidth": 0,
             "ticks": ""
            },
            "colorscale": [
             [
              0,
              "#0d0887"
             ],
             [
              0.1111111111111111,
              "#46039f"
             ],
             [
              0.2222222222222222,
              "#7201a8"
             ],
             [
              0.3333333333333333,
              "#9c179e"
             ],
             [
              0.4444444444444444,
              "#bd3786"
             ],
             [
              0.5555555555555556,
              "#d8576b"
             ],
             [
              0.6666666666666666,
              "#ed7953"
             ],
             [
              0.7777777777777778,
              "#fb9f3a"
             ],
             [
              0.8888888888888888,
              "#fdca26"
             ],
             [
              1,
              "#f0f921"
             ]
            ],
            "type": "surface"
           }
          ],
          "table": [
           {
            "cells": {
             "fill": {
              "color": "#EBF0F8"
             },
             "line": {
              "color": "white"
             }
            },
            "header": {
             "fill": {
              "color": "#C8D4E3"
             },
             "line": {
              "color": "white"
             }
            },
            "type": "table"
           }
          ]
         },
         "layout": {
          "annotationdefaults": {
           "arrowcolor": "#2a3f5f",
           "arrowhead": 0,
           "arrowwidth": 1
          },
          "autotypenumbers": "strict",
          "coloraxis": {
           "colorbar": {
            "outlinewidth": 0,
            "ticks": ""
           }
          },
          "colorscale": {
           "diverging": [
            [
             0,
             "#8e0152"
            ],
            [
             0.1,
             "#c51b7d"
            ],
            [
             0.2,
             "#de77ae"
            ],
            [
             0.3,
             "#f1b6da"
            ],
            [
             0.4,
             "#fde0ef"
            ],
            [
             0.5,
             "#f7f7f7"
            ],
            [
             0.6,
             "#e6f5d0"
            ],
            [
             0.7,
             "#b8e186"
            ],
            [
             0.8,
             "#7fbc41"
            ],
            [
             0.9,
             "#4d9221"
            ],
            [
             1,
             "#276419"
            ]
           ],
           "sequential": [
            [
             0,
             "#0d0887"
            ],
            [
             0.1111111111111111,
             "#46039f"
            ],
            [
             0.2222222222222222,
             "#7201a8"
            ],
            [
             0.3333333333333333,
             "#9c179e"
            ],
            [
             0.4444444444444444,
             "#bd3786"
            ],
            [
             0.5555555555555556,
             "#d8576b"
            ],
            [
             0.6666666666666666,
             "#ed7953"
            ],
            [
             0.7777777777777778,
             "#fb9f3a"
            ],
            [
             0.8888888888888888,
             "#fdca26"
            ],
            [
             1,
             "#f0f921"
            ]
           ],
           "sequentialminus": [
            [
             0,
             "#0d0887"
            ],
            [
             0.1111111111111111,
             "#46039f"
            ],
            [
             0.2222222222222222,
             "#7201a8"
            ],
            [
             0.3333333333333333,
             "#9c179e"
            ],
            [
             0.4444444444444444,
             "#bd3786"
            ],
            [
             0.5555555555555556,
             "#d8576b"
            ],
            [
             0.6666666666666666,
             "#ed7953"
            ],
            [
             0.7777777777777778,
             "#fb9f3a"
            ],
            [
             0.8888888888888888,
             "#fdca26"
            ],
            [
             1,
             "#f0f921"
            ]
           ]
          },
          "colorway": [
           "#636efa",
           "#EF553B",
           "#00cc96",
           "#ab63fa",
           "#FFA15A",
           "#19d3f3",
           "#FF6692",
           "#B6E880",
           "#FF97FF",
           "#FECB52"
          ],
          "font": {
           "color": "#2a3f5f"
          },
          "geo": {
           "bgcolor": "white",
           "lakecolor": "white",
           "landcolor": "#E5ECF6",
           "showlakes": true,
           "showland": true,
           "subunitcolor": "white"
          },
          "hoverlabel": {
           "align": "left"
          },
          "hovermode": "closest",
          "mapbox": {
           "style": "light"
          },
          "paper_bgcolor": "white",
          "plot_bgcolor": "#E5ECF6",
          "polar": {
           "angularaxis": {
            "gridcolor": "white",
            "linecolor": "white",
            "ticks": ""
           },
           "bgcolor": "#E5ECF6",
           "radialaxis": {
            "gridcolor": "white",
            "linecolor": "white",
            "ticks": ""
           }
          },
          "scene": {
           "xaxis": {
            "backgroundcolor": "#E5ECF6",
            "gridcolor": "white",
            "gridwidth": 2,
            "linecolor": "white",
            "showbackground": true,
            "ticks": "",
            "zerolinecolor": "white"
           },
           "yaxis": {
            "backgroundcolor": "#E5ECF6",
            "gridcolor": "white",
            "gridwidth": 2,
            "linecolor": "white",
            "showbackground": true,
            "ticks": "",
            "zerolinecolor": "white"
           },
           "zaxis": {
            "backgroundcolor": "#E5ECF6",
            "gridcolor": "white",
            "gridwidth": 2,
            "linecolor": "white",
            "showbackground": true,
            "ticks": "",
            "zerolinecolor": "white"
           }
          },
          "shapedefaults": {
           "line": {
            "color": "#2a3f5f"
           }
          },
          "ternary": {
           "aaxis": {
            "gridcolor": "white",
            "linecolor": "white",
            "ticks": ""
           },
           "baxis": {
            "gridcolor": "white",
            "linecolor": "white",
            "ticks": ""
           },
           "bgcolor": "#E5ECF6",
           "caxis": {
            "gridcolor": "white",
            "linecolor": "white",
            "ticks": ""
           }
          },
          "title": {
           "x": 0.05
          },
          "xaxis": {
           "automargin": true,
           "gridcolor": "white",
           "linecolor": "white",
           "ticks": "",
           "title": {
            "standoff": 15
           },
           "zerolinecolor": "white",
           "zerolinewidth": 2
          },
          "yaxis": {
           "automargin": true,
           "gridcolor": "white",
           "linecolor": "white",
           "ticks": "",
           "title": {
            "standoff": 15
           },
           "zerolinecolor": "white",
           "zerolinewidth": 2
          }
         }
        },
        "title": {
         "text": "Total Fatality Rate(%) in Maharashtra Districtwise"
        },
        "xaxis": {
         "anchor": "y",
         "categoryarray": [
          "Ahmednagar",
          "Akola",
          "Amravati",
          "Aurangabad",
          "Beed",
          "Bhandara",
          "Buldhana",
          "Chandrapur",
          "Dhule",
          "Gadchiroli",
          "Gondia",
          "Hingoli",
          "Jalgaon",
          "Jalna",
          "Kolhapur",
          "Latur",
          "Mumbai",
          "Nagpur",
          "Nanded",
          "Nandurbar",
          "Nashik",
          "Osmanabad",
          "Palghar",
          "Parbhani",
          "Pune",
          "Raigad",
          "Ratnagiri",
          "Sangli",
          "Satara",
          "Sindhudurg",
          "Solapur",
          "Thane",
          "Wardha",
          "Washim",
          "Yavatmal"
         ],
         "categoryorder": "array",
         "domain": [
          0,
          1
         ],
         "title": {
          "text": "Districts"
         }
        },
        "yaxis": {
         "anchor": "x",
         "domain": [
          0,
          1
         ],
         "title": {
          "text": "Fatality Rate(%)"
         }
        }
       }
      },
      "text/html": [
       "<div>                            <div id=\"3b37e76e-f4ae-4707-a376-17055e59198f\" class=\"plotly-graph-div\" style=\"height:525px; width:100%;\"></div>            <script type=\"text/javascript\">                require([\"plotly\"], function(Plotly) {                    window.PLOTLYENV=window.PLOTLYENV || {};                                    if (document.getElementById(\"3b37e76e-f4ae-4707-a376-17055e59198f\")) {                    Plotly.newPlot(                        \"3b37e76e-f4ae-4707-a376-17055e59198f\",                        [{\"alignmentgroup\":\"True\",\"hovertemplate\":\"Districts=%{x}<br>Fatality Rate(%)=%{y}<extra></extra>\",\"legendgroup\":\"Ahmednagar\",\"marker\":{\"color\":\"#636efa\",\"pattern\":{\"shape\":\"\"}},\"name\":\"Ahmednagar\",\"offsetgroup\":\"Ahmednagar\",\"orientation\":\"v\",\"showlegend\":true,\"textposition\":\"auto\",\"x\":[\"Ahmednagar\"],\"xaxis\":\"x\",\"y\":[1.9],\"yaxis\":\"y\",\"type\":\"bar\"},{\"alignmentgroup\":\"True\",\"hovertemplate\":\"Districts=%{x}<br>Fatality Rate(%)=%{y}<extra></extra>\",\"legendgroup\":\"Akola\",\"marker\":{\"color\":\"#EF553B\",\"pattern\":{\"shape\":\"\"}},\"name\":\"Akola\",\"offsetgroup\":\"Akola\",\"orientation\":\"v\",\"showlegend\":true,\"textposition\":\"auto\",\"x\":[\"Akola\"],\"xaxis\":\"x\",\"y\":[2.2],\"yaxis\":\"y\",\"type\":\"bar\"},{\"alignmentgroup\":\"True\",\"hovertemplate\":\"Districts=%{x}<br>Fatality Rate(%)=%{y}<extra></extra>\",\"legendgroup\":\"Amravati\",\"marker\":{\"color\":\"#00cc96\",\"pattern\":{\"shape\":\"\"}},\"name\":\"Amravati\",\"offsetgroup\":\"Amravati\",\"orientation\":\"v\",\"showlegend\":true,\"textposition\":\"auto\",\"x\":[\"Amravati\"],\"xaxis\":\"x\",\"y\":[1.5],\"yaxis\":\"y\",\"type\":\"bar\"},{\"alignmentgroup\":\"True\",\"hovertemplate\":\"Districts=%{x}<br>Fatality Rate(%)=%{y}<extra></extra>\",\"legendgroup\":\"Aurangabad\",\"marker\":{\"color\":\"#ab63fa\",\"pattern\":{\"shape\":\"\"}},\"name\":\"Aurangabad\",\"offsetgroup\":\"Aurangabad\",\"orientation\":\"v\",\"showlegend\":true,\"textposition\":\"auto\",\"x\":[\"Aurangabad\"],\"xaxis\":\"x\",\"y\":[2.4],\"yaxis\":\"y\",\"type\":\"bar\"},{\"alignmentgroup\":\"True\",\"hovertemplate\":\"Districts=%{x}<br>Fatality Rate(%)=%{y}<extra></extra>\",\"legendgroup\":\"Beed\",\"marker\":{\"color\":\"#FFA15A\",\"pattern\":{\"shape\":\"\"}},\"name\":\"Beed\",\"offsetgroup\":\"Beed\",\"orientation\":\"v\",\"showlegend\":true,\"textposition\":\"auto\",\"x\":[\"Beed\"],\"xaxis\":\"x\",\"y\":[2.6],\"yaxis\":\"y\",\"type\":\"bar\"},{\"alignmentgroup\":\"True\",\"hovertemplate\":\"Districts=%{x}<br>Fatality Rate(%)=%{y}<extra></extra>\",\"legendgroup\":\"Bhandara\",\"marker\":{\"color\":\"#19d3f3\",\"pattern\":{\"shape\":\"\"}},\"name\":\"Bhandara\",\"offsetgroup\":\"Bhandara\",\"orientation\":\"v\",\"showlegend\":true,\"textposition\":\"auto\",\"x\":[\"Bhandara\"],\"xaxis\":\"x\",\"y\":[1.7],\"yaxis\":\"y\",\"type\":\"bar\"},{\"alignmentgroup\":\"True\",\"hovertemplate\":\"Districts=%{x}<br>Fatality Rate(%)=%{y}<extra></extra>\",\"legendgroup\":\"Buldhana\",\"marker\":{\"color\":\"#FF6692\",\"pattern\":{\"shape\":\"\"}},\"name\":\"Buldhana\",\"offsetgroup\":\"Buldhana\",\"orientation\":\"v\",\"showlegend\":true,\"textposition\":\"auto\",\"x\":[\"Buldhana\"],\"xaxis\":\"x\",\"y\":[0.9],\"yaxis\":\"y\",\"type\":\"bar\"},{\"alignmentgroup\":\"True\",\"hovertemplate\":\"Districts=%{x}<br>Fatality Rate(%)=%{y}<extra></extra>\",\"legendgroup\":\"Chandrapur\",\"marker\":{\"color\":\"#B6E880\",\"pattern\":{\"shape\":\"\"}},\"name\":\"Chandrapur\",\"offsetgroup\":\"Chandrapur\",\"orientation\":\"v\",\"showlegend\":true,\"textposition\":\"auto\",\"x\":[\"Chandrapur\"],\"xaxis\":\"x\",\"y\":[1.6],\"yaxis\":\"y\",\"type\":\"bar\"},{\"alignmentgroup\":\"True\",\"hovertemplate\":\"Districts=%{x}<br>Fatality Rate(%)=%{y}<extra></extra>\",\"legendgroup\":\"Dhule\",\"marker\":{\"color\":\"#FF97FF\",\"pattern\":{\"shape\":\"\"}},\"name\":\"Dhule\",\"offsetgroup\":\"Dhule\",\"orientation\":\"v\",\"showlegend\":true,\"textposition\":\"auto\",\"x\":[\"Dhule\"],\"xaxis\":\"x\",\"y\":[1.3],\"yaxis\":\"y\",\"type\":\"bar\"},{\"alignmentgroup\":\"True\",\"hovertemplate\":\"Districts=%{x}<br>Fatality Rate(%)=%{y}<extra></extra>\",\"legendgroup\":\"Gadchiroli\",\"marker\":{\"color\":\"#FECB52\",\"pattern\":{\"shape\":\"\"}},\"name\":\"Gadchiroli\",\"offsetgroup\":\"Gadchiroli\",\"orientation\":\"v\",\"showlegend\":true,\"textposition\":\"auto\",\"x\":[\"Gadchiroli\"],\"xaxis\":\"x\",\"y\":[1.9],\"yaxis\":\"y\",\"type\":\"bar\"},{\"alignmentgroup\":\"True\",\"hovertemplate\":\"Districts=%{x}<br>Fatality Rate(%)=%{y}<extra></extra>\",\"legendgroup\":\"Gondia\",\"marker\":{\"color\":\"#636efa\",\"pattern\":{\"shape\":\"\"}},\"name\":\"Gondia\",\"offsetgroup\":\"Gondia\",\"orientation\":\"v\",\"showlegend\":true,\"textposition\":\"auto\",\"x\":[\"Gondia\"],\"xaxis\":\"x\",\"y\":[1.3],\"yaxis\":\"y\",\"type\":\"bar\"},{\"alignmentgroup\":\"True\",\"hovertemplate\":\"Districts=%{x}<br>Fatality Rate(%)=%{y}<extra></extra>\",\"legendgroup\":\"Hingoli\",\"marker\":{\"color\":\"#EF553B\",\"pattern\":{\"shape\":\"\"}},\"name\":\"Hingoli\",\"offsetgroup\":\"Hingoli\",\"orientation\":\"v\",\"showlegend\":true,\"textposition\":\"auto\",\"x\":[\"Hingoli\"],\"xaxis\":\"x\",\"y\":[2.3],\"yaxis\":\"y\",\"type\":\"bar\"},{\"alignmentgroup\":\"True\",\"hovertemplate\":\"Districts=%{x}<br>Fatality Rate(%)=%{y}<extra></extra>\",\"legendgroup\":\"Jalgaon\",\"marker\":{\"color\":\"#00cc96\",\"pattern\":{\"shape\":\"\"}},\"name\":\"Jalgaon\",\"offsetgroup\":\"Jalgaon\",\"orientation\":\"v\",\"showlegend\":true,\"textposition\":\"auto\",\"x\":[\"Jalgaon\"],\"xaxis\":\"x\",\"y\":[1.8],\"yaxis\":\"y\",\"type\":\"bar\"},{\"alignmentgroup\":\"True\",\"hovertemplate\":\"Districts=%{x}<br>Fatality Rate(%)=%{y}<extra></extra>\",\"legendgroup\":\"Jalna\",\"marker\":{\"color\":\"#ab63fa\",\"pattern\":{\"shape\":\"\"}},\"name\":\"Jalna\",\"offsetgroup\":\"Jalna\",\"orientation\":\"v\",\"showlegend\":true,\"textposition\":\"auto\",\"x\":[\"Jalna\"],\"xaxis\":\"x\",\"y\":[1.8],\"yaxis\":\"y\",\"type\":\"bar\"},{\"alignmentgroup\":\"True\",\"hovertemplate\":\"Districts=%{x}<br>Fatality Rate(%)=%{y}<extra></extra>\",\"legendgroup\":\"Kolhapur\",\"marker\":{\"color\":\"#FFA15A\",\"pattern\":{\"shape\":\"\"}},\"name\":\"Kolhapur\",\"offsetgroup\":\"Kolhapur\",\"orientation\":\"v\",\"showlegend\":true,\"textposition\":\"auto\",\"x\":[\"Kolhapur\"],\"xaxis\":\"x\",\"y\":[2.7],\"yaxis\":\"y\",\"type\":\"bar\"},{\"alignmentgroup\":\"True\",\"hovertemplate\":\"Districts=%{x}<br>Fatality Rate(%)=%{y}<extra></extra>\",\"legendgroup\":\"Latur\",\"marker\":{\"color\":\"#19d3f3\",\"pattern\":{\"shape\":\"\"}},\"name\":\"Latur\",\"offsetgroup\":\"Latur\",\"orientation\":\"v\",\"showlegend\":true,\"textposition\":\"auto\",\"x\":[\"Latur\"],\"xaxis\":\"x\",\"y\":[2.4],\"yaxis\":\"y\",\"type\":\"bar\"},{\"alignmentgroup\":\"True\",\"hovertemplate\":\"Districts=%{x}<br>Fatality Rate(%)=%{y}<extra></extra>\",\"legendgroup\":\"Mumbai\",\"marker\":{\"color\":\"#FF6692\",\"pattern\":{\"shape\":\"\"}},\"name\":\"Mumbai\",\"offsetgroup\":\"Mumbai\",\"orientation\":\"v\",\"showlegend\":true,\"textposition\":\"auto\",\"x\":[\"Mumbai\"],\"xaxis\":\"x\",\"y\":[1.6],\"yaxis\":\"y\",\"type\":\"bar\"},{\"alignmentgroup\":\"True\",\"hovertemplate\":\"Districts=%{x}<br>Fatality Rate(%)=%{y}<extra></extra>\",\"legendgroup\":\"Nagpur\",\"marker\":{\"color\":\"#B6E880\",\"pattern\":{\"shape\":\"\"}},\"name\":\"Nagpur\",\"offsetgroup\":\"Nagpur\",\"orientation\":\"v\",\"showlegend\":true,\"textposition\":\"auto\",\"x\":[\"Nagpur\"],\"xaxis\":\"x\",\"y\":[1.6],\"yaxis\":\"y\",\"type\":\"bar\"},{\"alignmentgroup\":\"True\",\"hovertemplate\":\"Districts=%{x}<br>Fatality Rate(%)=%{y}<extra></extra>\",\"legendgroup\":\"Nanded\",\"marker\":{\"color\":\"#FF97FF\",\"pattern\":{\"shape\":\"\"}},\"name\":\"Nanded\",\"offsetgroup\":\"Nanded\",\"orientation\":\"v\",\"showlegend\":true,\"textposition\":\"auto\",\"x\":[\"Nanded\"],\"xaxis\":\"x\",\"y\":[2.6],\"yaxis\":\"y\",\"type\":\"bar\"},{\"alignmentgroup\":\"True\",\"hovertemplate\":\"Districts=%{x}<br>Fatality Rate(%)=%{y}<extra></extra>\",\"legendgroup\":\"Nandurbar\",\"marker\":{\"color\":\"#FECB52\",\"pattern\":{\"shape\":\"\"}},\"name\":\"Nandurbar\",\"offsetgroup\":\"Nandurbar\",\"orientation\":\"v\",\"showlegend\":true,\"textposition\":\"auto\",\"x\":[\"Nandurbar\"],\"xaxis\":\"x\",\"y\":[2.1],\"yaxis\":\"y\",\"type\":\"bar\"},{\"alignmentgroup\":\"True\",\"hovertemplate\":\"Districts=%{x}<br>Fatality Rate(%)=%{y}<extra></extra>\",\"legendgroup\":\"Nashik\",\"marker\":{\"color\":\"#636efa\",\"pattern\":{\"shape\":\"\"}},\"name\":\"Nashik\",\"offsetgroup\":\"Nashik\",\"orientation\":\"v\",\"showlegend\":true,\"textposition\":\"auto\",\"x\":[\"Nashik\"],\"xaxis\":\"x\",\"y\":[1.9],\"yaxis\":\"y\",\"type\":\"bar\"},{\"alignmentgroup\":\"True\",\"hovertemplate\":\"Districts=%{x}<br>Fatality Rate(%)=%{y}<extra></extra>\",\"legendgroup\":\"Osmanabad\",\"marker\":{\"color\":\"#EF553B\",\"pattern\":{\"shape\":\"\"}},\"name\":\"Osmanabad\",\"offsetgroup\":\"Osmanabad\",\"orientation\":\"v\",\"showlegend\":true,\"textposition\":\"auto\",\"x\":[\"Osmanabad\"],\"xaxis\":\"x\",\"y\":[2.7],\"yaxis\":\"y\",\"type\":\"bar\"},{\"alignmentgroup\":\"True\",\"hovertemplate\":\"Districts=%{x}<br>Fatality Rate(%)=%{y}<extra></extra>\",\"legendgroup\":\"Palghar\",\"marker\":{\"color\":\"#00cc96\",\"pattern\":{\"shape\":\"\"}},\"name\":\"Palghar\",\"offsetgroup\":\"Palghar\",\"orientation\":\"v\",\"showlegend\":true,\"textposition\":\"auto\",\"x\":[\"Palghar\"],\"xaxis\":\"x\",\"y\":[2.1],\"yaxis\":\"y\",\"type\":\"bar\"},{\"alignmentgroup\":\"True\",\"hovertemplate\":\"Districts=%{x}<br>Fatality Rate(%)=%{y}<extra></extra>\",\"legendgroup\":\"Parbhani\",\"marker\":{\"color\":\"#ab63fa\",\"pattern\":{\"shape\":\"\"}},\"name\":\"Parbhani\",\"offsetgroup\":\"Parbhani\",\"orientation\":\"v\",\"showlegend\":true,\"textposition\":\"auto\",\"x\":[\"Parbhani\"],\"xaxis\":\"x\",\"y\":[2.1],\"yaxis\":\"y\",\"type\":\"bar\"},{\"alignmentgroup\":\"True\",\"hovertemplate\":\"Districts=%{x}<br>Fatality Rate(%)=%{y}<extra></extra>\",\"legendgroup\":\"Pune\",\"marker\":{\"color\":\"#FFA15A\",\"pattern\":{\"shape\":\"\"}},\"name\":\"Pune\",\"offsetgroup\":\"Pune\",\"orientation\":\"v\",\"showlegend\":true,\"textposition\":\"auto\",\"x\":[\"Pune\"],\"xaxis\":\"x\",\"y\":[1.4],\"yaxis\":\"y\",\"type\":\"bar\"},{\"alignmentgroup\":\"True\",\"hovertemplate\":\"Districts=%{x}<br>Fatality Rate(%)=%{y}<extra></extra>\",\"legendgroup\":\"Raigad\",\"marker\":{\"color\":\"#19d3f3\",\"pattern\":{\"shape\":\"\"}},\"name\":\"Raigad\",\"offsetgroup\":\"Raigad\",\"orientation\":\"v\",\"showlegend\":true,\"textposition\":\"auto\",\"x\":[\"Raigad\"],\"xaxis\":\"x\",\"y\":[2.0],\"yaxis\":\"y\",\"type\":\"bar\"},{\"alignmentgroup\":\"True\",\"hovertemplate\":\"Districts=%{x}<br>Fatality Rate(%)=%{y}<extra></extra>\",\"legendgroup\":\"Ratnagiri\",\"marker\":{\"color\":\"#FF6692\",\"pattern\":{\"shape\":\"\"}},\"name\":\"Ratnagiri\",\"offsetgroup\":\"Ratnagiri\",\"orientation\":\"v\",\"showlegend\":true,\"textposition\":\"auto\",\"x\":[\"Ratnagiri\"],\"xaxis\":\"x\",\"y\":[3.0],\"yaxis\":\"y\",\"type\":\"bar\"},{\"alignmentgroup\":\"True\",\"hovertemplate\":\"Districts=%{x}<br>Fatality Rate(%)=%{y}<extra></extra>\",\"legendgroup\":\"Sangli\",\"marker\":{\"color\":\"#B6E880\",\"pattern\":{\"shape\":\"\"}},\"name\":\"Sangli\",\"offsetgroup\":\"Sangli\",\"orientation\":\"v\",\"showlegend\":true,\"textposition\":\"auto\",\"x\":[\"Sangli\"],\"xaxis\":\"x\",\"y\":[2.5],\"yaxis\":\"y\",\"type\":\"bar\"},{\"alignmentgroup\":\"True\",\"hovertemplate\":\"Districts=%{x}<br>Fatality Rate(%)=%{y}<extra></extra>\",\"legendgroup\":\"Satara\",\"marker\":{\"color\":\"#FF97FF\",\"pattern\":{\"shape\":\"\"}},\"name\":\"Satara\",\"offsetgroup\":\"Satara\",\"orientation\":\"v\",\"showlegend\":true,\"textposition\":\"auto\",\"x\":[\"Satara\"],\"xaxis\":\"x\",\"y\":[2.4],\"yaxis\":\"y\",\"type\":\"bar\"},{\"alignmentgroup\":\"True\",\"hovertemplate\":\"Districts=%{x}<br>Fatality Rate(%)=%{y}<extra></extra>\",\"legendgroup\":\"Sindhudurg\",\"marker\":{\"color\":\"#FECB52\",\"pattern\":{\"shape\":\"\"}},\"name\":\"Sindhudurg\",\"offsetgroup\":\"Sindhudurg\",\"orientation\":\"v\",\"showlegend\":true,\"textposition\":\"auto\",\"x\":[\"Sindhudurg\"],\"xaxis\":\"x\",\"y\":[2.6],\"yaxis\":\"y\",\"type\":\"bar\"},{\"alignmentgroup\":\"True\",\"hovertemplate\":\"Districts=%{x}<br>Fatality Rate(%)=%{y}<extra></extra>\",\"legendgroup\":\"Solapur\",\"marker\":{\"color\":\"#636efa\",\"pattern\":{\"shape\":\"\"}},\"name\":\"Solapur\",\"offsetgroup\":\"Solapur\",\"orientation\":\"v\",\"showlegend\":true,\"textposition\":\"auto\",\"x\":[\"Solapur\"],\"xaxis\":\"x\",\"y\":[2.5],\"yaxis\":\"y\",\"type\":\"bar\"},{\"alignmentgroup\":\"True\",\"hovertemplate\":\"Districts=%{x}<br>Fatality Rate(%)=%{y}<extra></extra>\",\"legendgroup\":\"Thane\",\"marker\":{\"color\":\"#EF553B\",\"pattern\":{\"shape\":\"\"}},\"name\":\"Thane\",\"offsetgroup\":\"Thane\",\"orientation\":\"v\",\"showlegend\":true,\"textposition\":\"auto\",\"x\":[\"Thane\"],\"xaxis\":\"x\",\"y\":[1.5],\"yaxis\":\"y\",\"type\":\"bar\"},{\"alignmentgroup\":\"True\",\"hovertemplate\":\"Districts=%{x}<br>Fatality Rate(%)=%{y}<extra></extra>\",\"legendgroup\":\"Wardha\",\"marker\":{\"color\":\"#00cc96\",\"pattern\":{\"shape\":\"\"}},\"name\":\"Wardha\",\"offsetgroup\":\"Wardha\",\"orientation\":\"v\",\"showlegend\":true,\"textposition\":\"auto\",\"x\":[\"Wardha\"],\"xaxis\":\"x\",\"y\":[1.9],\"yaxis\":\"y\",\"type\":\"bar\"},{\"alignmentgroup\":\"True\",\"hovertemplate\":\"Districts=%{x}<br>Fatality Rate(%)=%{y}<extra></extra>\",\"legendgroup\":\"Washim\",\"marker\":{\"color\":\"#ab63fa\",\"pattern\":{\"shape\":\"\"}},\"name\":\"Washim\",\"offsetgroup\":\"Washim\",\"orientation\":\"v\",\"showlegend\":true,\"textposition\":\"auto\",\"x\":[\"Washim\"],\"xaxis\":\"x\",\"y\":[1.4],\"yaxis\":\"y\",\"type\":\"bar\"},{\"alignmentgroup\":\"True\",\"hovertemplate\":\"Districts=%{x}<br>Fatality Rate(%)=%{y}<extra></extra>\",\"legendgroup\":\"Yavatmal\",\"marker\":{\"color\":\"#FFA15A\",\"pattern\":{\"shape\":\"\"}},\"name\":\"Yavatmal\",\"offsetgroup\":\"Yavatmal\",\"orientation\":\"v\",\"showlegend\":true,\"textposition\":\"auto\",\"x\":[\"Yavatmal\"],\"xaxis\":\"x\",\"y\":[2.2],\"yaxis\":\"y\",\"type\":\"bar\"}],                        {\"template\":{\"data\":{\"bar\":[{\"error_x\":{\"color\":\"#2a3f5f\"},\"error_y\":{\"color\":\"#2a3f5f\"},\"marker\":{\"line\":{\"color\":\"#E5ECF6\",\"width\":0.5},\"pattern\":{\"fillmode\":\"overlay\",\"size\":10,\"solidity\":0.2}},\"type\":\"bar\"}],\"barpolar\":[{\"marker\":{\"line\":{\"color\":\"#E5ECF6\",\"width\":0.5},\"pattern\":{\"fillmode\":\"overlay\",\"size\":10,\"solidity\":0.2}},\"type\":\"barpolar\"}],\"carpet\":[{\"aaxis\":{\"endlinecolor\":\"#2a3f5f\",\"gridcolor\":\"white\",\"linecolor\":\"white\",\"minorgridcolor\":\"white\",\"startlinecolor\":\"#2a3f5f\"},\"baxis\":{\"endlinecolor\":\"#2a3f5f\",\"gridcolor\":\"white\",\"linecolor\":\"white\",\"minorgridcolor\":\"white\",\"startlinecolor\":\"#2a3f5f\"},\"type\":\"carpet\"}],\"choropleth\":[{\"colorbar\":{\"outlinewidth\":0,\"ticks\":\"\"},\"type\":\"choropleth\"}],\"contour\":[{\"colorbar\":{\"outlinewidth\":0,\"ticks\":\"\"},\"colorscale\":[[0.0,\"#0d0887\"],[0.1111111111111111,\"#46039f\"],[0.2222222222222222,\"#7201a8\"],[0.3333333333333333,\"#9c179e\"],[0.4444444444444444,\"#bd3786\"],[0.5555555555555556,\"#d8576b\"],[0.6666666666666666,\"#ed7953\"],[0.7777777777777778,\"#fb9f3a\"],[0.8888888888888888,\"#fdca26\"],[1.0,\"#f0f921\"]],\"type\":\"contour\"}],\"contourcarpet\":[{\"colorbar\":{\"outlinewidth\":0,\"ticks\":\"\"},\"type\":\"contourcarpet\"}],\"heatmap\":[{\"colorbar\":{\"outlinewidth\":0,\"ticks\":\"\"},\"colorscale\":[[0.0,\"#0d0887\"],[0.1111111111111111,\"#46039f\"],[0.2222222222222222,\"#7201a8\"],[0.3333333333333333,\"#9c179e\"],[0.4444444444444444,\"#bd3786\"],[0.5555555555555556,\"#d8576b\"],[0.6666666666666666,\"#ed7953\"],[0.7777777777777778,\"#fb9f3a\"],[0.8888888888888888,\"#fdca26\"],[1.0,\"#f0f921\"]],\"type\":\"heatmap\"}],\"heatmapgl\":[{\"colorbar\":{\"outlinewidth\":0,\"ticks\":\"\"},\"colorscale\":[[0.0,\"#0d0887\"],[0.1111111111111111,\"#46039f\"],[0.2222222222222222,\"#7201a8\"],[0.3333333333333333,\"#9c179e\"],[0.4444444444444444,\"#bd3786\"],[0.5555555555555556,\"#d8576b\"],[0.6666666666666666,\"#ed7953\"],[0.7777777777777778,\"#fb9f3a\"],[0.8888888888888888,\"#fdca26\"],[1.0,\"#f0f921\"]],\"type\":\"heatmapgl\"}],\"histogram\":[{\"marker\":{\"pattern\":{\"fillmode\":\"overlay\",\"size\":10,\"solidity\":0.2}},\"type\":\"histogram\"}],\"histogram2d\":[{\"colorbar\":{\"outlinewidth\":0,\"ticks\":\"\"},\"colorscale\":[[0.0,\"#0d0887\"],[0.1111111111111111,\"#46039f\"],[0.2222222222222222,\"#7201a8\"],[0.3333333333333333,\"#9c179e\"],[0.4444444444444444,\"#bd3786\"],[0.5555555555555556,\"#d8576b\"],[0.6666666666666666,\"#ed7953\"],[0.7777777777777778,\"#fb9f3a\"],[0.8888888888888888,\"#fdca26\"],[1.0,\"#f0f921\"]],\"type\":\"histogram2d\"}],\"histogram2dcontour\":[{\"colorbar\":{\"outlinewidth\":0,\"ticks\":\"\"},\"colorscale\":[[0.0,\"#0d0887\"],[0.1111111111111111,\"#46039f\"],[0.2222222222222222,\"#7201a8\"],[0.3333333333333333,\"#9c179e\"],[0.4444444444444444,\"#bd3786\"],[0.5555555555555556,\"#d8576b\"],[0.6666666666666666,\"#ed7953\"],[0.7777777777777778,\"#fb9f3a\"],[0.8888888888888888,\"#fdca26\"],[1.0,\"#f0f921\"]],\"type\":\"histogram2dcontour\"}],\"mesh3d\":[{\"colorbar\":{\"outlinewidth\":0,\"ticks\":\"\"},\"type\":\"mesh3d\"}],\"parcoords\":[{\"line\":{\"colorbar\":{\"outlinewidth\":0,\"ticks\":\"\"}},\"type\":\"parcoords\"}],\"pie\":[{\"automargin\":true,\"type\":\"pie\"}],\"scatter\":[{\"marker\":{\"colorbar\":{\"outlinewidth\":0,\"ticks\":\"\"}},\"type\":\"scatter\"}],\"scatter3d\":[{\"line\":{\"colorbar\":{\"outlinewidth\":0,\"ticks\":\"\"}},\"marker\":{\"colorbar\":{\"outlinewidth\":0,\"ticks\":\"\"}},\"type\":\"scatter3d\"}],\"scattercarpet\":[{\"marker\":{\"colorbar\":{\"outlinewidth\":0,\"ticks\":\"\"}},\"type\":\"scattercarpet\"}],\"scattergeo\":[{\"marker\":{\"colorbar\":{\"outlinewidth\":0,\"ticks\":\"\"}},\"type\":\"scattergeo\"}],\"scattergl\":[{\"marker\":{\"colorbar\":{\"outlinewidth\":0,\"ticks\":\"\"}},\"type\":\"scattergl\"}],\"scattermapbox\":[{\"marker\":{\"colorbar\":{\"outlinewidth\":0,\"ticks\":\"\"}},\"type\":\"scattermapbox\"}],\"scatterpolar\":[{\"marker\":{\"colorbar\":{\"outlinewidth\":0,\"ticks\":\"\"}},\"type\":\"scatterpolar\"}],\"scatterpolargl\":[{\"marker\":{\"colorbar\":{\"outlinewidth\":0,\"ticks\":\"\"}},\"type\":\"scatterpolargl\"}],\"scatterternary\":[{\"marker\":{\"colorbar\":{\"outlinewidth\":0,\"ticks\":\"\"}},\"type\":\"scatterternary\"}],\"surface\":[{\"colorbar\":{\"outlinewidth\":0,\"ticks\":\"\"},\"colorscale\":[[0.0,\"#0d0887\"],[0.1111111111111111,\"#46039f\"],[0.2222222222222222,\"#7201a8\"],[0.3333333333333333,\"#9c179e\"],[0.4444444444444444,\"#bd3786\"],[0.5555555555555556,\"#d8576b\"],[0.6666666666666666,\"#ed7953\"],[0.7777777777777778,\"#fb9f3a\"],[0.8888888888888888,\"#fdca26\"],[1.0,\"#f0f921\"]],\"type\":\"surface\"}],\"table\":[{\"cells\":{\"fill\":{\"color\":\"#EBF0F8\"},\"line\":{\"color\":\"white\"}},\"header\":{\"fill\":{\"color\":\"#C8D4E3\"},\"line\":{\"color\":\"white\"}},\"type\":\"table\"}]},\"layout\":{\"annotationdefaults\":{\"arrowcolor\":\"#2a3f5f\",\"arrowhead\":0,\"arrowwidth\":1},\"autotypenumbers\":\"strict\",\"coloraxis\":{\"colorbar\":{\"outlinewidth\":0,\"ticks\":\"\"}},\"colorscale\":{\"diverging\":[[0,\"#8e0152\"],[0.1,\"#c51b7d\"],[0.2,\"#de77ae\"],[0.3,\"#f1b6da\"],[0.4,\"#fde0ef\"],[0.5,\"#f7f7f7\"],[0.6,\"#e6f5d0\"],[0.7,\"#b8e186\"],[0.8,\"#7fbc41\"],[0.9,\"#4d9221\"],[1,\"#276419\"]],\"sequential\":[[0.0,\"#0d0887\"],[0.1111111111111111,\"#46039f\"],[0.2222222222222222,\"#7201a8\"],[0.3333333333333333,\"#9c179e\"],[0.4444444444444444,\"#bd3786\"],[0.5555555555555556,\"#d8576b\"],[0.6666666666666666,\"#ed7953\"],[0.7777777777777778,\"#fb9f3a\"],[0.8888888888888888,\"#fdca26\"],[1.0,\"#f0f921\"]],\"sequentialminus\":[[0.0,\"#0d0887\"],[0.1111111111111111,\"#46039f\"],[0.2222222222222222,\"#7201a8\"],[0.3333333333333333,\"#9c179e\"],[0.4444444444444444,\"#bd3786\"],[0.5555555555555556,\"#d8576b\"],[0.6666666666666666,\"#ed7953\"],[0.7777777777777778,\"#fb9f3a\"],[0.8888888888888888,\"#fdca26\"],[1.0,\"#f0f921\"]]},\"colorway\":[\"#636efa\",\"#EF553B\",\"#00cc96\",\"#ab63fa\",\"#FFA15A\",\"#19d3f3\",\"#FF6692\",\"#B6E880\",\"#FF97FF\",\"#FECB52\"],\"font\":{\"color\":\"#2a3f5f\"},\"geo\":{\"bgcolor\":\"white\",\"lakecolor\":\"white\",\"landcolor\":\"#E5ECF6\",\"showlakes\":true,\"showland\":true,\"subunitcolor\":\"white\"},\"hoverlabel\":{\"align\":\"left\"},\"hovermode\":\"closest\",\"mapbox\":{\"style\":\"light\"},\"paper_bgcolor\":\"white\",\"plot_bgcolor\":\"#E5ECF6\",\"polar\":{\"angularaxis\":{\"gridcolor\":\"white\",\"linecolor\":\"white\",\"ticks\":\"\"},\"bgcolor\":\"#E5ECF6\",\"radialaxis\":{\"gridcolor\":\"white\",\"linecolor\":\"white\",\"ticks\":\"\"}},\"scene\":{\"xaxis\":{\"backgroundcolor\":\"#E5ECF6\",\"gridcolor\":\"white\",\"gridwidth\":2,\"linecolor\":\"white\",\"showbackground\":true,\"ticks\":\"\",\"zerolinecolor\":\"white\"},\"yaxis\":{\"backgroundcolor\":\"#E5ECF6\",\"gridcolor\":\"white\",\"gridwidth\":2,\"linecolor\":\"white\",\"showbackground\":true,\"ticks\":\"\",\"zerolinecolor\":\"white\"},\"zaxis\":{\"backgroundcolor\":\"#E5ECF6\",\"gridcolor\":\"white\",\"gridwidth\":2,\"linecolor\":\"white\",\"showbackground\":true,\"ticks\":\"\",\"zerolinecolor\":\"white\"}},\"shapedefaults\":{\"line\":{\"color\":\"#2a3f5f\"}},\"ternary\":{\"aaxis\":{\"gridcolor\":\"white\",\"linecolor\":\"white\",\"ticks\":\"\"},\"baxis\":{\"gridcolor\":\"white\",\"linecolor\":\"white\",\"ticks\":\"\"},\"bgcolor\":\"#E5ECF6\",\"caxis\":{\"gridcolor\":\"white\",\"linecolor\":\"white\",\"ticks\":\"\"}},\"title\":{\"x\":0.05},\"xaxis\":{\"automargin\":true,\"gridcolor\":\"white\",\"linecolor\":\"white\",\"ticks\":\"\",\"title\":{\"standoff\":15},\"zerolinecolor\":\"white\",\"zerolinewidth\":2},\"yaxis\":{\"automargin\":true,\"gridcolor\":\"white\",\"linecolor\":\"white\",\"ticks\":\"\",\"title\":{\"standoff\":15},\"zerolinecolor\":\"white\",\"zerolinewidth\":2}}},\"xaxis\":{\"anchor\":\"y\",\"domain\":[0.0,1.0],\"title\":{\"text\":\"Districts\"},\"categoryorder\":\"array\",\"categoryarray\":[\"Ahmednagar\",\"Akola\",\"Amravati\",\"Aurangabad\",\"Beed\",\"Bhandara\",\"Buldhana\",\"Chandrapur\",\"Dhule\",\"Gadchiroli\",\"Gondia\",\"Hingoli\",\"Jalgaon\",\"Jalna\",\"Kolhapur\",\"Latur\",\"Mumbai\",\"Nagpur\",\"Nanded\",\"Nandurbar\",\"Nashik\",\"Osmanabad\",\"Palghar\",\"Parbhani\",\"Pune\",\"Raigad\",\"Ratnagiri\",\"Sangli\",\"Satara\",\"Sindhudurg\",\"Solapur\",\"Thane\",\"Wardha\",\"Washim\",\"Yavatmal\"]},\"yaxis\":{\"anchor\":\"x\",\"domain\":[0.0,1.0],\"title\":{\"text\":\"Fatality Rate(%)\"}},\"legend\":{\"title\":{\"text\":\"Districts\"},\"tracegroupgap\":0},\"title\":{\"text\":\"Total Fatality Rate(%) in Maharashtra Districtwise\"},\"barmode\":\"relative\"},                        {\"responsive\": true}                    ).then(function(){\n",
       "                            \n",
       "var gd = document.getElementById('3b37e76e-f4ae-4707-a376-17055e59198f');\n",
       "var x = new MutationObserver(function (mutations, observer) {{\n",
       "        var display = window.getComputedStyle(gd).display;\n",
       "        if (!display || display === 'none') {{\n",
       "            console.log([gd, 'removed!']);\n",
       "            Plotly.purge(gd);\n",
       "            observer.disconnect();\n",
       "        }}\n",
       "}});\n",
       "\n",
       "// Listen for the removal of the full notebook cells\n",
       "var notebookContainer = gd.closest('#notebook-container');\n",
       "if (notebookContainer) {{\n",
       "    x.observe(notebookContainer, {childList: true});\n",
       "}}\n",
       "\n",
       "// Listen for the clearing of the current output cell\n",
       "var outputEl = gd.closest('.output');\n",
       "if (outputEl) {{\n",
       "    x.observe(outputEl, {childList: true});\n",
       "}}\n",
       "\n",
       "                        })                };                });            </script>        </div>"
      ]
     },
     "metadata": {},
     "output_type": "display_data"
    }
   ],
   "source": [
    "fig=px.bar(dataframe,x=\"Districts\",y=\"Fatality Rate(%)\",title=\"Total Fatality Rate(%) in Maharashtra Districtwise\",color='Districts')\n",
    "fig.show()"
   ]
  },
  {
   "cell_type": "code",
   "execution_count": 18,
   "metadata": {},
   "outputs": [],
   "source": [
    "city_data=pd.read_csv(r\"C:\\Users\\prath\\OneDrive\\Documents\\My Work\\Data Analysis Project\\Covid-19 Maharashtra Data Analysis\\Longitude and Latitude of Maharashtra.csv\")"
   ]
  },
  {
   "cell_type": "code",
   "execution_count": 19,
   "metadata": {},
   "outputs": [
    {
     "data": {
      "text/plain": [
       "Index(['Location', 'Latitude', 'Longitude'], dtype='object')"
      ]
     },
     "execution_count": 19,
     "metadata": {},
     "output_type": "execute_result"
    }
   ],
   "source": [
    "city_data.columns"
   ]
  },
  {
   "cell_type": "code",
   "execution_count": 20,
   "metadata": {},
   "outputs": [],
   "source": [
    "city=city_data.rename(columns={'Location':'Districts'})"
   ]
  },
  {
   "cell_type": "code",
   "execution_count": 21,
   "metadata": {},
   "outputs": [
    {
     "data": {
      "text/html": [
       "<div>\n",
       "<style scoped>\n",
       "    .dataframe tbody tr th:only-of-type {\n",
       "        vertical-align: middle;\n",
       "    }\n",
       "\n",
       "    .dataframe tbody tr th {\n",
       "        vertical-align: top;\n",
       "    }\n",
       "\n",
       "    .dataframe thead th {\n",
       "        text-align: right;\n",
       "    }\n",
       "</style>\n",
       "<table border=\"1\" class=\"dataframe\">\n",
       "  <thead>\n",
       "    <tr style=\"text-align: right;\">\n",
       "      <th></th>\n",
       "      <th>Districts</th>\n",
       "      <th>Latitude</th>\n",
       "      <th>Longitude</th>\n",
       "    </tr>\n",
       "  </thead>\n",
       "  <tbody>\n",
       "    <tr>\n",
       "      <th>0</th>\n",
       "      <td>Ahmednagar</td>\n",
       "      <td>19.05</td>\n",
       "      <td>74.48</td>\n",
       "    </tr>\n",
       "    <tr>\n",
       "      <th>1</th>\n",
       "      <td>Akola</td>\n",
       "      <td>20.42</td>\n",
       "      <td>77.02</td>\n",
       "    </tr>\n",
       "    <tr>\n",
       "      <th>2</th>\n",
       "      <td>Amravati</td>\n",
       "      <td>20.56</td>\n",
       "      <td>77.48</td>\n",
       "    </tr>\n",
       "    <tr>\n",
       "      <th>3</th>\n",
       "      <td>Aurangabad</td>\n",
       "      <td>19.53</td>\n",
       "      <td>75.23</td>\n",
       "    </tr>\n",
       "    <tr>\n",
       "      <th>4</th>\n",
       "      <td>Bhandara</td>\n",
       "      <td>21.09</td>\n",
       "      <td>79.42</td>\n",
       "    </tr>\n",
       "  </tbody>\n",
       "</table>\n",
       "</div>"
      ],
      "text/plain": [
       "    Districts  Latitude  Longitude\n",
       "0  Ahmednagar     19.05      74.48\n",
       "1       Akola     20.42      77.02\n",
       "2    Amravati     20.56      77.48\n",
       "3  Aurangabad     19.53      75.23\n",
       "4    Bhandara     21.09      79.42"
      ]
     },
     "execution_count": 21,
     "metadata": {},
     "output_type": "execute_result"
    }
   ],
   "source": [
    "city.head()"
   ]
  },
  {
   "cell_type": "code",
   "execution_count": 22,
   "metadata": {},
   "outputs": [],
   "source": [
    "final_dataframe=pd.merge(dataframe,city,how='left',on='Districts')"
   ]
  },
  {
   "cell_type": "code",
   "execution_count": 23,
   "metadata": {},
   "outputs": [
    {
     "data": {
      "text/html": [
       "<div>\n",
       "<style scoped>\n",
       "    .dataframe tbody tr th:only-of-type {\n",
       "        vertical-align: middle;\n",
       "    }\n",
       "\n",
       "    .dataframe tbody tr th {\n",
       "        vertical-align: top;\n",
       "    }\n",
       "\n",
       "    .dataframe thead th {\n",
       "        text-align: right;\n",
       "    }\n",
       "</style>\n",
       "<table border=\"1\" class=\"dataframe\">\n",
       "  <thead>\n",
       "    <tr style=\"text-align: right;\">\n",
       "      <th></th>\n",
       "      <th>Districts</th>\n",
       "      <th>Positive Cases</th>\n",
       "      <th>Active Cases</th>\n",
       "      <th>Recovered</th>\n",
       "      <th>Deceased</th>\n",
       "      <th>Recovery Rate(%)</th>\n",
       "      <th>Fatality Rate(%)</th>\n",
       "      <th>Latitude</th>\n",
       "      <th>Longitude</th>\n",
       "    </tr>\n",
       "  </thead>\n",
       "  <tbody>\n",
       "    <tr>\n",
       "      <th>0</th>\n",
       "      <td>Ahmednagar</td>\n",
       "      <td>376964</td>\n",
       "      <td>472</td>\n",
       "      <td>369253</td>\n",
       "      <td>7228</td>\n",
       "      <td>98.0</td>\n",
       "      <td>1.9</td>\n",
       "      <td>19.05</td>\n",
       "      <td>74.48</td>\n",
       "    </tr>\n",
       "    <tr>\n",
       "      <th>1</th>\n",
       "      <td>Akola</td>\n",
       "      <td>66135</td>\n",
       "      <td>21</td>\n",
       "      <td>64646</td>\n",
       "      <td>1464</td>\n",
       "      <td>97.7</td>\n",
       "      <td>2.2</td>\n",
       "      <td>20.42</td>\n",
       "      <td>77.02</td>\n",
       "    </tr>\n",
       "    <tr>\n",
       "      <th>2</th>\n",
       "      <td>Amravati</td>\n",
       "      <td>105909</td>\n",
       "      <td>13</td>\n",
       "      <td>104272</td>\n",
       "      <td>1622</td>\n",
       "      <td>98.5</td>\n",
       "      <td>1.5</td>\n",
       "      <td>20.56</td>\n",
       "      <td>77.48</td>\n",
       "    </tr>\n",
       "    <tr>\n",
       "      <th>3</th>\n",
       "      <td>Aurangabad</td>\n",
       "      <td>176264</td>\n",
       "      <td>88</td>\n",
       "      <td>171892</td>\n",
       "      <td>4270</td>\n",
       "      <td>97.5</td>\n",
       "      <td>2.4</td>\n",
       "      <td>19.53</td>\n",
       "      <td>75.23</td>\n",
       "    </tr>\n",
       "    <tr>\n",
       "      <th>4</th>\n",
       "      <td>Beed</td>\n",
       "      <td>109067</td>\n",
       "      <td>43</td>\n",
       "      <td>106143</td>\n",
       "      <td>2874</td>\n",
       "      <td>97.3</td>\n",
       "      <td>2.6</td>\n",
       "      <td>18.99</td>\n",
       "      <td>75.75</td>\n",
       "    </tr>\n",
       "  </tbody>\n",
       "</table>\n",
       "</div>"
      ],
      "text/plain": [
       "    Districts  Positive Cases  Active Cases  Recovered  Deceased  \\\n",
       "0  Ahmednagar          376964           472     369253      7228   \n",
       "1       Akola           66135            21      64646      1464   \n",
       "2    Amravati          105909            13     104272      1622   \n",
       "3  Aurangabad          176264            88     171892      4270   \n",
       "4        Beed          109067            43     106143      2874   \n",
       "\n",
       "   Recovery Rate(%)  Fatality Rate(%)  Latitude  Longitude  \n",
       "0              98.0               1.9     19.05      74.48  \n",
       "1              97.7               2.2     20.42      77.02  \n",
       "2              98.5               1.5     20.56      77.48  \n",
       "3              97.5               2.4     19.53      75.23  \n",
       "4              97.3               2.6     18.99      75.75  "
      ]
     },
     "execution_count": 23,
     "metadata": {},
     "output_type": "execute_result"
    }
   ],
   "source": [
    "final_dataframe.head()"
   ]
  },
  {
   "cell_type": "code",
   "execution_count": 24,
   "metadata": {},
   "outputs": [
    {
     "data": {
      "text/html": [
       "<div>\n",
       "<style scoped>\n",
       "    .dataframe tbody tr th:only-of-type {\n",
       "        vertical-align: middle;\n",
       "    }\n",
       "\n",
       "    .dataframe tbody tr th {\n",
       "        vertical-align: top;\n",
       "    }\n",
       "\n",
       "    .dataframe thead th {\n",
       "        text-align: right;\n",
       "    }\n",
       "</style>\n",
       "<table border=\"1\" class=\"dataframe\">\n",
       "  <thead>\n",
       "    <tr style=\"text-align: right;\">\n",
       "      <th></th>\n",
       "      <th>Districts</th>\n",
       "      <th>Positive Cases</th>\n",
       "      <th>Active Cases</th>\n",
       "      <th>Recovered</th>\n",
       "      <th>Deceased</th>\n",
       "      <th>Recovery Rate(%)</th>\n",
       "      <th>Fatality Rate(%)</th>\n",
       "      <th>Latitude</th>\n",
       "      <th>Longitude</th>\n",
       "    </tr>\n",
       "  </thead>\n",
       "  <tbody>\n",
       "    <tr>\n",
       "      <th>0</th>\n",
       "      <td>Ahmednagar</td>\n",
       "      <td>376964</td>\n",
       "      <td>472</td>\n",
       "      <td>369253</td>\n",
       "      <td>7228</td>\n",
       "      <td>98.0</td>\n",
       "      <td>1.9</td>\n",
       "      <td>19.05</td>\n",
       "      <td>74.48</td>\n",
       "    </tr>\n",
       "    <tr>\n",
       "      <th>1</th>\n",
       "      <td>Akola</td>\n",
       "      <td>66135</td>\n",
       "      <td>21</td>\n",
       "      <td>64646</td>\n",
       "      <td>1464</td>\n",
       "      <td>97.7</td>\n",
       "      <td>2.2</td>\n",
       "      <td>20.42</td>\n",
       "      <td>77.02</td>\n",
       "    </tr>\n",
       "    <tr>\n",
       "      <th>2</th>\n",
       "      <td>Amravati</td>\n",
       "      <td>105909</td>\n",
       "      <td>13</td>\n",
       "      <td>104272</td>\n",
       "      <td>1622</td>\n",
       "      <td>98.5</td>\n",
       "      <td>1.5</td>\n",
       "      <td>20.56</td>\n",
       "      <td>77.48</td>\n",
       "    </tr>\n",
       "    <tr>\n",
       "      <th>3</th>\n",
       "      <td>Aurangabad</td>\n",
       "      <td>176264</td>\n",
       "      <td>88</td>\n",
       "      <td>171892</td>\n",
       "      <td>4270</td>\n",
       "      <td>97.5</td>\n",
       "      <td>2.4</td>\n",
       "      <td>19.53</td>\n",
       "      <td>75.23</td>\n",
       "    </tr>\n",
       "    <tr>\n",
       "      <th>4</th>\n",
       "      <td>Beed</td>\n",
       "      <td>109067</td>\n",
       "      <td>43</td>\n",
       "      <td>106143</td>\n",
       "      <td>2874</td>\n",
       "      <td>97.3</td>\n",
       "      <td>2.6</td>\n",
       "      <td>18.99</td>\n",
       "      <td>75.75</td>\n",
       "    </tr>\n",
       "    <tr>\n",
       "      <th>5</th>\n",
       "      <td>Bhandara</td>\n",
       "      <td>67919</td>\n",
       "      <td>22</td>\n",
       "      <td>66755</td>\n",
       "      <td>1132</td>\n",
       "      <td>98.3</td>\n",
       "      <td>1.7</td>\n",
       "      <td>21.09</td>\n",
       "      <td>79.42</td>\n",
       "    </tr>\n",
       "    <tr>\n",
       "      <th>6</th>\n",
       "      <td>Buldhana</td>\n",
       "      <td>91792</td>\n",
       "      <td>49</td>\n",
       "      <td>90922</td>\n",
       "      <td>815</td>\n",
       "      <td>99.1</td>\n",
       "      <td>0.9</td>\n",
       "      <td>20.32</td>\n",
       "      <td>76.14</td>\n",
       "    </tr>\n",
       "    <tr>\n",
       "      <th>7</th>\n",
       "      <td>Chandrapur</td>\n",
       "      <td>98793</td>\n",
       "      <td>20</td>\n",
       "      <td>97182</td>\n",
       "      <td>1587</td>\n",
       "      <td>98.4</td>\n",
       "      <td>1.6</td>\n",
       "      <td>19.57</td>\n",
       "      <td>79.21</td>\n",
       "    </tr>\n",
       "    <tr>\n",
       "      <th>8</th>\n",
       "      <td>Dhule</td>\n",
       "      <td>50637</td>\n",
       "      <td>4</td>\n",
       "      <td>49963</td>\n",
       "      <td>659</td>\n",
       "      <td>98.7</td>\n",
       "      <td>1.3</td>\n",
       "      <td>20.58</td>\n",
       "      <td>74.47</td>\n",
       "    </tr>\n",
       "    <tr>\n",
       "      <th>9</th>\n",
       "      <td>Gadchiroli</td>\n",
       "      <td>36929</td>\n",
       "      <td>73</td>\n",
       "      <td>36131</td>\n",
       "      <td>691</td>\n",
       "      <td>97.8</td>\n",
       "      <td>1.9</td>\n",
       "      <td>20.18</td>\n",
       "      <td>79.99</td>\n",
       "    </tr>\n",
       "    <tr>\n",
       "      <th>10</th>\n",
       "      <td>Gondia</td>\n",
       "      <td>45387</td>\n",
       "      <td>5</td>\n",
       "      <td>44796</td>\n",
       "      <td>579</td>\n",
       "      <td>98.7</td>\n",
       "      <td>1.3</td>\n",
       "      <td>21.28</td>\n",
       "      <td>80.29</td>\n",
       "    </tr>\n",
       "    <tr>\n",
       "      <th>11</th>\n",
       "      <td>Hingoli</td>\n",
       "      <td>22164</td>\n",
       "      <td>4</td>\n",
       "      <td>21646</td>\n",
       "      <td>513</td>\n",
       "      <td>97.7</td>\n",
       "      <td>2.3</td>\n",
       "      <td>19.43</td>\n",
       "      <td>77.11</td>\n",
       "    </tr>\n",
       "    <tr>\n",
       "      <th>12</th>\n",
       "      <td>Jalgaon</td>\n",
       "      <td>149454</td>\n",
       "      <td>15</td>\n",
       "      <td>146678</td>\n",
       "      <td>2728</td>\n",
       "      <td>98.1</td>\n",
       "      <td>1.8</td>\n",
       "      <td>21.05</td>\n",
       "      <td>75.40</td>\n",
       "    </tr>\n",
       "    <tr>\n",
       "      <th>13</th>\n",
       "      <td>Jalna</td>\n",
       "      <td>66296</td>\n",
       "      <td>4</td>\n",
       "      <td>65068</td>\n",
       "      <td>1223</td>\n",
       "      <td>98.1</td>\n",
       "      <td>1.8</td>\n",
       "      <td>19.51</td>\n",
       "      <td>75.56</td>\n",
       "    </tr>\n",
       "    <tr>\n",
       "      <th>14</th>\n",
       "      <td>Kolhapur</td>\n",
       "      <td>220400</td>\n",
       "      <td>55</td>\n",
       "      <td>214441</td>\n",
       "      <td>5899</td>\n",
       "      <td>97.3</td>\n",
       "      <td>2.7</td>\n",
       "      <td>16.42</td>\n",
       "      <td>74.16</td>\n",
       "    </tr>\n",
       "    <tr>\n",
       "      <th>15</th>\n",
       "      <td>Latur</td>\n",
       "      <td>104879</td>\n",
       "      <td>12</td>\n",
       "      <td>102378</td>\n",
       "      <td>2483</td>\n",
       "      <td>97.6</td>\n",
       "      <td>2.4</td>\n",
       "      <td>18.24</td>\n",
       "      <td>76.36</td>\n",
       "    </tr>\n",
       "    <tr>\n",
       "      <th>16</th>\n",
       "      <td>Mumbai</td>\n",
       "      <td>1055811</td>\n",
       "      <td>650</td>\n",
       "      <td>1035610</td>\n",
       "      <td>16691</td>\n",
       "      <td>98.1</td>\n",
       "      <td>1.6</td>\n",
       "      <td>18.55</td>\n",
       "      <td>72.54</td>\n",
       "    </tr>\n",
       "    <tr>\n",
       "      <th>17</th>\n",
       "      <td>Nagpur</td>\n",
       "      <td>576191</td>\n",
       "      <td>211</td>\n",
       "      <td>566766</td>\n",
       "      <td>9143</td>\n",
       "      <td>98.4</td>\n",
       "      <td>1.6</td>\n",
       "      <td>21.09</td>\n",
       "      <td>79.09</td>\n",
       "    </tr>\n",
       "    <tr>\n",
       "      <th>18</th>\n",
       "      <td>Nanded</td>\n",
       "      <td>102626</td>\n",
       "      <td>21</td>\n",
       "      <td>99903</td>\n",
       "      <td>2695</td>\n",
       "      <td>97.3</td>\n",
       "      <td>2.6</td>\n",
       "      <td>19.09</td>\n",
       "      <td>77.27</td>\n",
       "    </tr>\n",
       "    <tr>\n",
       "      <th>19</th>\n",
       "      <td>Nandurbar</td>\n",
       "      <td>46590</td>\n",
       "      <td>20</td>\n",
       "      <td>45608</td>\n",
       "      <td>959</td>\n",
       "      <td>97.9</td>\n",
       "      <td>2.1</td>\n",
       "      <td>21.23</td>\n",
       "      <td>74.19</td>\n",
       "    </tr>\n",
       "    <tr>\n",
       "      <th>20</th>\n",
       "      <td>Nashik</td>\n",
       "      <td>472611</td>\n",
       "      <td>303</td>\n",
       "      <td>463406</td>\n",
       "      <td>8901</td>\n",
       "      <td>98.1</td>\n",
       "      <td>1.9</td>\n",
       "      <td>20.02</td>\n",
       "      <td>73.50</td>\n",
       "    </tr>\n",
       "    <tr>\n",
       "      <th>21</th>\n",
       "      <td>Osmanabad</td>\n",
       "      <td>75083</td>\n",
       "      <td>28</td>\n",
       "      <td>72916</td>\n",
       "      <td>2023</td>\n",
       "      <td>97.1</td>\n",
       "      <td>2.7</td>\n",
       "      <td>18.08</td>\n",
       "      <td>76.06</td>\n",
       "    </tr>\n",
       "    <tr>\n",
       "      <th>22</th>\n",
       "      <td>Palghar</td>\n",
       "      <td>163402</td>\n",
       "      <td>60</td>\n",
       "      <td>159935</td>\n",
       "      <td>3392</td>\n",
       "      <td>97.9</td>\n",
       "      <td>2.1</td>\n",
       "      <td>19.69</td>\n",
       "      <td>72.76</td>\n",
       "    </tr>\n",
       "    <tr>\n",
       "      <th>23</th>\n",
       "      <td>Parbhani</td>\n",
       "      <td>58507</td>\n",
       "      <td>24</td>\n",
       "      <td>57207</td>\n",
       "      <td>1256</td>\n",
       "      <td>97.8</td>\n",
       "      <td>2.1</td>\n",
       "      <td>19.08</td>\n",
       "      <td>76.50</td>\n",
       "    </tr>\n",
       "    <tr>\n",
       "      <th>24</th>\n",
       "      <td>Pune</td>\n",
       "      <td>1450390</td>\n",
       "      <td>1833</td>\n",
       "      <td>1428051</td>\n",
       "      <td>20156</td>\n",
       "      <td>98.5</td>\n",
       "      <td>1.4</td>\n",
       "      <td>18.31</td>\n",
       "      <td>73.55</td>\n",
       "    </tr>\n",
       "    <tr>\n",
       "      <th>25</th>\n",
       "      <td>Raigad</td>\n",
       "      <td>244158</td>\n",
       "      <td>123</td>\n",
       "      <td>239092</td>\n",
       "      <td>4936</td>\n",
       "      <td>97.9</td>\n",
       "      <td>2.0</td>\n",
       "      <td>18.51</td>\n",
       "      <td>73.18</td>\n",
       "    </tr>\n",
       "    <tr>\n",
       "      <th>26</th>\n",
       "      <td>Ratnagiri</td>\n",
       "      <td>84383</td>\n",
       "      <td>10</td>\n",
       "      <td>81827</td>\n",
       "      <td>2541</td>\n",
       "      <td>97.0</td>\n",
       "      <td>3.0</td>\n",
       "      <td>17.08</td>\n",
       "      <td>73.19</td>\n",
       "    </tr>\n",
       "    <tr>\n",
       "      <th>27</th>\n",
       "      <td>Sangli</td>\n",
       "      <td>226945</td>\n",
       "      <td>49</td>\n",
       "      <td>221232</td>\n",
       "      <td>5655</td>\n",
       "      <td>97.5</td>\n",
       "      <td>2.5</td>\n",
       "      <td>16.52</td>\n",
       "      <td>74.36</td>\n",
       "    </tr>\n",
       "    <tr>\n",
       "      <th>28</th>\n",
       "      <td>Satara</td>\n",
       "      <td>278046</td>\n",
       "      <td>79</td>\n",
       "      <td>271259</td>\n",
       "      <td>6674</td>\n",
       "      <td>97.6</td>\n",
       "      <td>2.4</td>\n",
       "      <td>17.42</td>\n",
       "      <td>74.02</td>\n",
       "    </tr>\n",
       "    <tr>\n",
       "      <th>29</th>\n",
       "      <td>Sindhudurg</td>\n",
       "      <td>57125</td>\n",
       "      <td>130</td>\n",
       "      <td>55469</td>\n",
       "      <td>1511</td>\n",
       "      <td>97.1</td>\n",
       "      <td>2.6</td>\n",
       "      <td>16.34</td>\n",
       "      <td>73.55</td>\n",
       "    </tr>\n",
       "    <tr>\n",
       "      <th>30</th>\n",
       "      <td>Solapur</td>\n",
       "      <td>226968</td>\n",
       "      <td>59</td>\n",
       "      <td>221035</td>\n",
       "      <td>5757</td>\n",
       "      <td>97.4</td>\n",
       "      <td>2.5</td>\n",
       "      <td>17.66</td>\n",
       "      <td>75.90</td>\n",
       "    </tr>\n",
       "    <tr>\n",
       "      <th>31</th>\n",
       "      <td>Thane</td>\n",
       "      <td>766202</td>\n",
       "      <td>405</td>\n",
       "      <td>753903</td>\n",
       "      <td>11859</td>\n",
       "      <td>98.4</td>\n",
       "      <td>1.5</td>\n",
       "      <td>19.12</td>\n",
       "      <td>73.02</td>\n",
       "    </tr>\n",
       "    <tr>\n",
       "      <th>32</th>\n",
       "      <td>Wardha</td>\n",
       "      <td>65656</td>\n",
       "      <td>13</td>\n",
       "      <td>64235</td>\n",
       "      <td>1237</td>\n",
       "      <td>97.8</td>\n",
       "      <td>1.9</td>\n",
       "      <td>NaN</td>\n",
       "      <td>NaN</td>\n",
       "    </tr>\n",
       "    <tr>\n",
       "      <th>33</th>\n",
       "      <td>Washim</td>\n",
       "      <td>45592</td>\n",
       "      <td>17</td>\n",
       "      <td>44934</td>\n",
       "      <td>638</td>\n",
       "      <td>98.6</td>\n",
       "      <td>1.4</td>\n",
       "      <td>20.10</td>\n",
       "      <td>77.14</td>\n",
       "    </tr>\n",
       "    <tr>\n",
       "      <th>34</th>\n",
       "      <td>Yavatmal</td>\n",
       "      <td>81972</td>\n",
       "      <td>18</td>\n",
       "      <td>80134</td>\n",
       "      <td>1816</td>\n",
       "      <td>97.8</td>\n",
       "      <td>2.2</td>\n",
       "      <td>20.23</td>\n",
       "      <td>78.11</td>\n",
       "    </tr>\n",
       "  </tbody>\n",
       "</table>\n",
       "</div>"
      ],
      "text/plain": [
       "     Districts  Positive Cases  Active Cases  Recovered  Deceased  \\\n",
       "0   Ahmednagar          376964           472     369253      7228   \n",
       "1        Akola           66135            21      64646      1464   \n",
       "2     Amravati          105909            13     104272      1622   \n",
       "3   Aurangabad          176264            88     171892      4270   \n",
       "4         Beed          109067            43     106143      2874   \n",
       "5     Bhandara           67919            22      66755      1132   \n",
       "6     Buldhana           91792            49      90922       815   \n",
       "7   Chandrapur           98793            20      97182      1587   \n",
       "8        Dhule           50637             4      49963       659   \n",
       "9   Gadchiroli           36929            73      36131       691   \n",
       "10      Gondia           45387             5      44796       579   \n",
       "11     Hingoli           22164             4      21646       513   \n",
       "12     Jalgaon          149454            15     146678      2728   \n",
       "13       Jalna           66296             4      65068      1223   \n",
       "14    Kolhapur          220400            55     214441      5899   \n",
       "15       Latur          104879            12     102378      2483   \n",
       "16      Mumbai         1055811           650    1035610     16691   \n",
       "17      Nagpur          576191           211     566766      9143   \n",
       "18      Nanded          102626            21      99903      2695   \n",
       "19   Nandurbar           46590            20      45608       959   \n",
       "20      Nashik          472611           303     463406      8901   \n",
       "21   Osmanabad           75083            28      72916      2023   \n",
       "22     Palghar          163402            60     159935      3392   \n",
       "23    Parbhani           58507            24      57207      1256   \n",
       "24        Pune         1450390          1833    1428051     20156   \n",
       "25      Raigad          244158           123     239092      4936   \n",
       "26   Ratnagiri           84383            10      81827      2541   \n",
       "27      Sangli          226945            49     221232      5655   \n",
       "28      Satara          278046            79     271259      6674   \n",
       "29  Sindhudurg           57125           130      55469      1511   \n",
       "30     Solapur          226968            59     221035      5757   \n",
       "31       Thane          766202           405     753903     11859   \n",
       "32      Wardha           65656            13      64235      1237   \n",
       "33      Washim           45592            17      44934       638   \n",
       "34    Yavatmal           81972            18      80134      1816   \n",
       "\n",
       "    Recovery Rate(%)  Fatality Rate(%)  Latitude  Longitude  \n",
       "0               98.0               1.9     19.05      74.48  \n",
       "1               97.7               2.2     20.42      77.02  \n",
       "2               98.5               1.5     20.56      77.48  \n",
       "3               97.5               2.4     19.53      75.23  \n",
       "4               97.3               2.6     18.99      75.75  \n",
       "5               98.3               1.7     21.09      79.42  \n",
       "6               99.1               0.9     20.32      76.14  \n",
       "7               98.4               1.6     19.57      79.21  \n",
       "8               98.7               1.3     20.58      74.47  \n",
       "9               97.8               1.9     20.18      79.99  \n",
       "10              98.7               1.3     21.28      80.29  \n",
       "11              97.7               2.3     19.43      77.11  \n",
       "12              98.1               1.8     21.05      75.40  \n",
       "13              98.1               1.8     19.51      75.56  \n",
       "14              97.3               2.7     16.42      74.16  \n",
       "15              97.6               2.4     18.24      76.36  \n",
       "16              98.1               1.6     18.55      72.54  \n",
       "17              98.4               1.6     21.09      79.09  \n",
       "18              97.3               2.6     19.09      77.27  \n",
       "19              97.9               2.1     21.23      74.19  \n",
       "20              98.1               1.9     20.02      73.50  \n",
       "21              97.1               2.7     18.08      76.06  \n",
       "22              97.9               2.1     19.69      72.76  \n",
       "23              97.8               2.1     19.08      76.50  \n",
       "24              98.5               1.4     18.31      73.55  \n",
       "25              97.9               2.0     18.51      73.18  \n",
       "26              97.0               3.0     17.08      73.19  \n",
       "27              97.5               2.5     16.52      74.36  \n",
       "28              97.6               2.4     17.42      74.02  \n",
       "29              97.1               2.6     16.34      73.55  \n",
       "30              97.4               2.5     17.66      75.90  \n",
       "31              98.4               1.5     19.12      73.02  \n",
       "32              97.8               1.9       NaN        NaN  \n",
       "33              98.6               1.4     20.10      77.14  \n",
       "34              97.8               2.2     20.23      78.11  "
      ]
     },
     "execution_count": 24,
     "metadata": {},
     "output_type": "execute_result"
    }
   ],
   "source": [
    "final_dataframe"
   ]
  },
  {
   "cell_type": "code",
   "execution_count": 25,
   "metadata": {},
   "outputs": [],
   "source": [
    "final_dataframe.at[32,'Latitude']='20.74'"
   ]
  },
  {
   "cell_type": "code",
   "execution_count": 26,
   "metadata": {},
   "outputs": [],
   "source": [
    "final_dataframe.at[32,'Longitude']='78.60'"
   ]
  },
  {
   "cell_type": "code",
   "execution_count": 27,
   "metadata": {},
   "outputs": [
    {
     "data": {
      "text/html": [
       "<div>\n",
       "<style scoped>\n",
       "    .dataframe tbody tr th:only-of-type {\n",
       "        vertical-align: middle;\n",
       "    }\n",
       "\n",
       "    .dataframe tbody tr th {\n",
       "        vertical-align: top;\n",
       "    }\n",
       "\n",
       "    .dataframe thead th {\n",
       "        text-align: right;\n",
       "    }\n",
       "</style>\n",
       "<table border=\"1\" class=\"dataframe\">\n",
       "  <thead>\n",
       "    <tr style=\"text-align: right;\">\n",
       "      <th></th>\n",
       "      <th>Districts</th>\n",
       "      <th>Positive Cases</th>\n",
       "      <th>Active Cases</th>\n",
       "      <th>Recovered</th>\n",
       "      <th>Deceased</th>\n",
       "      <th>Recovery Rate(%)</th>\n",
       "      <th>Fatality Rate(%)</th>\n",
       "      <th>Latitude</th>\n",
       "      <th>Longitude</th>\n",
       "    </tr>\n",
       "  </thead>\n",
       "  <tbody>\n",
       "    <tr>\n",
       "      <th>0</th>\n",
       "      <td>Ahmednagar</td>\n",
       "      <td>376964</td>\n",
       "      <td>472</td>\n",
       "      <td>369253</td>\n",
       "      <td>7228</td>\n",
       "      <td>98.0</td>\n",
       "      <td>1.9</td>\n",
       "      <td>19.05</td>\n",
       "      <td>74.48</td>\n",
       "    </tr>\n",
       "    <tr>\n",
       "      <th>1</th>\n",
       "      <td>Akola</td>\n",
       "      <td>66135</td>\n",
       "      <td>21</td>\n",
       "      <td>64646</td>\n",
       "      <td>1464</td>\n",
       "      <td>97.7</td>\n",
       "      <td>2.2</td>\n",
       "      <td>20.42</td>\n",
       "      <td>77.02</td>\n",
       "    </tr>\n",
       "    <tr>\n",
       "      <th>2</th>\n",
       "      <td>Amravati</td>\n",
       "      <td>105909</td>\n",
       "      <td>13</td>\n",
       "      <td>104272</td>\n",
       "      <td>1622</td>\n",
       "      <td>98.5</td>\n",
       "      <td>1.5</td>\n",
       "      <td>20.56</td>\n",
       "      <td>77.48</td>\n",
       "    </tr>\n",
       "    <tr>\n",
       "      <th>3</th>\n",
       "      <td>Aurangabad</td>\n",
       "      <td>176264</td>\n",
       "      <td>88</td>\n",
       "      <td>171892</td>\n",
       "      <td>4270</td>\n",
       "      <td>97.5</td>\n",
       "      <td>2.4</td>\n",
       "      <td>19.53</td>\n",
       "      <td>75.23</td>\n",
       "    </tr>\n",
       "    <tr>\n",
       "      <th>4</th>\n",
       "      <td>Beed</td>\n",
       "      <td>109067</td>\n",
       "      <td>43</td>\n",
       "      <td>106143</td>\n",
       "      <td>2874</td>\n",
       "      <td>97.3</td>\n",
       "      <td>2.6</td>\n",
       "      <td>18.99</td>\n",
       "      <td>75.75</td>\n",
       "    </tr>\n",
       "    <tr>\n",
       "      <th>5</th>\n",
       "      <td>Bhandara</td>\n",
       "      <td>67919</td>\n",
       "      <td>22</td>\n",
       "      <td>66755</td>\n",
       "      <td>1132</td>\n",
       "      <td>98.3</td>\n",
       "      <td>1.7</td>\n",
       "      <td>21.09</td>\n",
       "      <td>79.42</td>\n",
       "    </tr>\n",
       "    <tr>\n",
       "      <th>6</th>\n",
       "      <td>Buldhana</td>\n",
       "      <td>91792</td>\n",
       "      <td>49</td>\n",
       "      <td>90922</td>\n",
       "      <td>815</td>\n",
       "      <td>99.1</td>\n",
       "      <td>0.9</td>\n",
       "      <td>20.32</td>\n",
       "      <td>76.14</td>\n",
       "    </tr>\n",
       "    <tr>\n",
       "      <th>7</th>\n",
       "      <td>Chandrapur</td>\n",
       "      <td>98793</td>\n",
       "      <td>20</td>\n",
       "      <td>97182</td>\n",
       "      <td>1587</td>\n",
       "      <td>98.4</td>\n",
       "      <td>1.6</td>\n",
       "      <td>19.57</td>\n",
       "      <td>79.21</td>\n",
       "    </tr>\n",
       "    <tr>\n",
       "      <th>8</th>\n",
       "      <td>Dhule</td>\n",
       "      <td>50637</td>\n",
       "      <td>4</td>\n",
       "      <td>49963</td>\n",
       "      <td>659</td>\n",
       "      <td>98.7</td>\n",
       "      <td>1.3</td>\n",
       "      <td>20.58</td>\n",
       "      <td>74.47</td>\n",
       "    </tr>\n",
       "    <tr>\n",
       "      <th>9</th>\n",
       "      <td>Gadchiroli</td>\n",
       "      <td>36929</td>\n",
       "      <td>73</td>\n",
       "      <td>36131</td>\n",
       "      <td>691</td>\n",
       "      <td>97.8</td>\n",
       "      <td>1.9</td>\n",
       "      <td>20.18</td>\n",
       "      <td>79.99</td>\n",
       "    </tr>\n",
       "    <tr>\n",
       "      <th>10</th>\n",
       "      <td>Gondia</td>\n",
       "      <td>45387</td>\n",
       "      <td>5</td>\n",
       "      <td>44796</td>\n",
       "      <td>579</td>\n",
       "      <td>98.7</td>\n",
       "      <td>1.3</td>\n",
       "      <td>21.28</td>\n",
       "      <td>80.29</td>\n",
       "    </tr>\n",
       "    <tr>\n",
       "      <th>11</th>\n",
       "      <td>Hingoli</td>\n",
       "      <td>22164</td>\n",
       "      <td>4</td>\n",
       "      <td>21646</td>\n",
       "      <td>513</td>\n",
       "      <td>97.7</td>\n",
       "      <td>2.3</td>\n",
       "      <td>19.43</td>\n",
       "      <td>77.11</td>\n",
       "    </tr>\n",
       "    <tr>\n",
       "      <th>12</th>\n",
       "      <td>Jalgaon</td>\n",
       "      <td>149454</td>\n",
       "      <td>15</td>\n",
       "      <td>146678</td>\n",
       "      <td>2728</td>\n",
       "      <td>98.1</td>\n",
       "      <td>1.8</td>\n",
       "      <td>21.05</td>\n",
       "      <td>75.40</td>\n",
       "    </tr>\n",
       "    <tr>\n",
       "      <th>13</th>\n",
       "      <td>Jalna</td>\n",
       "      <td>66296</td>\n",
       "      <td>4</td>\n",
       "      <td>65068</td>\n",
       "      <td>1223</td>\n",
       "      <td>98.1</td>\n",
       "      <td>1.8</td>\n",
       "      <td>19.51</td>\n",
       "      <td>75.56</td>\n",
       "    </tr>\n",
       "    <tr>\n",
       "      <th>14</th>\n",
       "      <td>Kolhapur</td>\n",
       "      <td>220400</td>\n",
       "      <td>55</td>\n",
       "      <td>214441</td>\n",
       "      <td>5899</td>\n",
       "      <td>97.3</td>\n",
       "      <td>2.7</td>\n",
       "      <td>16.42</td>\n",
       "      <td>74.16</td>\n",
       "    </tr>\n",
       "    <tr>\n",
       "      <th>15</th>\n",
       "      <td>Latur</td>\n",
       "      <td>104879</td>\n",
       "      <td>12</td>\n",
       "      <td>102378</td>\n",
       "      <td>2483</td>\n",
       "      <td>97.6</td>\n",
       "      <td>2.4</td>\n",
       "      <td>18.24</td>\n",
       "      <td>76.36</td>\n",
       "    </tr>\n",
       "    <tr>\n",
       "      <th>16</th>\n",
       "      <td>Mumbai</td>\n",
       "      <td>1055811</td>\n",
       "      <td>650</td>\n",
       "      <td>1035610</td>\n",
       "      <td>16691</td>\n",
       "      <td>98.1</td>\n",
       "      <td>1.6</td>\n",
       "      <td>18.55</td>\n",
       "      <td>72.54</td>\n",
       "    </tr>\n",
       "    <tr>\n",
       "      <th>17</th>\n",
       "      <td>Nagpur</td>\n",
       "      <td>576191</td>\n",
       "      <td>211</td>\n",
       "      <td>566766</td>\n",
       "      <td>9143</td>\n",
       "      <td>98.4</td>\n",
       "      <td>1.6</td>\n",
       "      <td>21.09</td>\n",
       "      <td>79.09</td>\n",
       "    </tr>\n",
       "    <tr>\n",
       "      <th>18</th>\n",
       "      <td>Nanded</td>\n",
       "      <td>102626</td>\n",
       "      <td>21</td>\n",
       "      <td>99903</td>\n",
       "      <td>2695</td>\n",
       "      <td>97.3</td>\n",
       "      <td>2.6</td>\n",
       "      <td>19.09</td>\n",
       "      <td>77.27</td>\n",
       "    </tr>\n",
       "    <tr>\n",
       "      <th>19</th>\n",
       "      <td>Nandurbar</td>\n",
       "      <td>46590</td>\n",
       "      <td>20</td>\n",
       "      <td>45608</td>\n",
       "      <td>959</td>\n",
       "      <td>97.9</td>\n",
       "      <td>2.1</td>\n",
       "      <td>21.23</td>\n",
       "      <td>74.19</td>\n",
       "    </tr>\n",
       "    <tr>\n",
       "      <th>20</th>\n",
       "      <td>Nashik</td>\n",
       "      <td>472611</td>\n",
       "      <td>303</td>\n",
       "      <td>463406</td>\n",
       "      <td>8901</td>\n",
       "      <td>98.1</td>\n",
       "      <td>1.9</td>\n",
       "      <td>20.02</td>\n",
       "      <td>73.50</td>\n",
       "    </tr>\n",
       "    <tr>\n",
       "      <th>21</th>\n",
       "      <td>Osmanabad</td>\n",
       "      <td>75083</td>\n",
       "      <td>28</td>\n",
       "      <td>72916</td>\n",
       "      <td>2023</td>\n",
       "      <td>97.1</td>\n",
       "      <td>2.7</td>\n",
       "      <td>18.08</td>\n",
       "      <td>76.06</td>\n",
       "    </tr>\n",
       "    <tr>\n",
       "      <th>22</th>\n",
       "      <td>Palghar</td>\n",
       "      <td>163402</td>\n",
       "      <td>60</td>\n",
       "      <td>159935</td>\n",
       "      <td>3392</td>\n",
       "      <td>97.9</td>\n",
       "      <td>2.1</td>\n",
       "      <td>19.69</td>\n",
       "      <td>72.76</td>\n",
       "    </tr>\n",
       "    <tr>\n",
       "      <th>23</th>\n",
       "      <td>Parbhani</td>\n",
       "      <td>58507</td>\n",
       "      <td>24</td>\n",
       "      <td>57207</td>\n",
       "      <td>1256</td>\n",
       "      <td>97.8</td>\n",
       "      <td>2.1</td>\n",
       "      <td>19.08</td>\n",
       "      <td>76.50</td>\n",
       "    </tr>\n",
       "    <tr>\n",
       "      <th>24</th>\n",
       "      <td>Pune</td>\n",
       "      <td>1450390</td>\n",
       "      <td>1833</td>\n",
       "      <td>1428051</td>\n",
       "      <td>20156</td>\n",
       "      <td>98.5</td>\n",
       "      <td>1.4</td>\n",
       "      <td>18.31</td>\n",
       "      <td>73.55</td>\n",
       "    </tr>\n",
       "    <tr>\n",
       "      <th>25</th>\n",
       "      <td>Raigad</td>\n",
       "      <td>244158</td>\n",
       "      <td>123</td>\n",
       "      <td>239092</td>\n",
       "      <td>4936</td>\n",
       "      <td>97.9</td>\n",
       "      <td>2.0</td>\n",
       "      <td>18.51</td>\n",
       "      <td>73.18</td>\n",
       "    </tr>\n",
       "    <tr>\n",
       "      <th>26</th>\n",
       "      <td>Ratnagiri</td>\n",
       "      <td>84383</td>\n",
       "      <td>10</td>\n",
       "      <td>81827</td>\n",
       "      <td>2541</td>\n",
       "      <td>97.0</td>\n",
       "      <td>3.0</td>\n",
       "      <td>17.08</td>\n",
       "      <td>73.19</td>\n",
       "    </tr>\n",
       "    <tr>\n",
       "      <th>27</th>\n",
       "      <td>Sangli</td>\n",
       "      <td>226945</td>\n",
       "      <td>49</td>\n",
       "      <td>221232</td>\n",
       "      <td>5655</td>\n",
       "      <td>97.5</td>\n",
       "      <td>2.5</td>\n",
       "      <td>16.52</td>\n",
       "      <td>74.36</td>\n",
       "    </tr>\n",
       "    <tr>\n",
       "      <th>28</th>\n",
       "      <td>Satara</td>\n",
       "      <td>278046</td>\n",
       "      <td>79</td>\n",
       "      <td>271259</td>\n",
       "      <td>6674</td>\n",
       "      <td>97.6</td>\n",
       "      <td>2.4</td>\n",
       "      <td>17.42</td>\n",
       "      <td>74.02</td>\n",
       "    </tr>\n",
       "    <tr>\n",
       "      <th>29</th>\n",
       "      <td>Sindhudurg</td>\n",
       "      <td>57125</td>\n",
       "      <td>130</td>\n",
       "      <td>55469</td>\n",
       "      <td>1511</td>\n",
       "      <td>97.1</td>\n",
       "      <td>2.6</td>\n",
       "      <td>16.34</td>\n",
       "      <td>73.55</td>\n",
       "    </tr>\n",
       "    <tr>\n",
       "      <th>30</th>\n",
       "      <td>Solapur</td>\n",
       "      <td>226968</td>\n",
       "      <td>59</td>\n",
       "      <td>221035</td>\n",
       "      <td>5757</td>\n",
       "      <td>97.4</td>\n",
       "      <td>2.5</td>\n",
       "      <td>17.66</td>\n",
       "      <td>75.90</td>\n",
       "    </tr>\n",
       "    <tr>\n",
       "      <th>31</th>\n",
       "      <td>Thane</td>\n",
       "      <td>766202</td>\n",
       "      <td>405</td>\n",
       "      <td>753903</td>\n",
       "      <td>11859</td>\n",
       "      <td>98.4</td>\n",
       "      <td>1.5</td>\n",
       "      <td>19.12</td>\n",
       "      <td>73.02</td>\n",
       "    </tr>\n",
       "    <tr>\n",
       "      <th>32</th>\n",
       "      <td>Wardha</td>\n",
       "      <td>65656</td>\n",
       "      <td>13</td>\n",
       "      <td>64235</td>\n",
       "      <td>1237</td>\n",
       "      <td>97.8</td>\n",
       "      <td>1.9</td>\n",
       "      <td>20.74</td>\n",
       "      <td>78.60</td>\n",
       "    </tr>\n",
       "    <tr>\n",
       "      <th>33</th>\n",
       "      <td>Washim</td>\n",
       "      <td>45592</td>\n",
       "      <td>17</td>\n",
       "      <td>44934</td>\n",
       "      <td>638</td>\n",
       "      <td>98.6</td>\n",
       "      <td>1.4</td>\n",
       "      <td>20.10</td>\n",
       "      <td>77.14</td>\n",
       "    </tr>\n",
       "    <tr>\n",
       "      <th>34</th>\n",
       "      <td>Yavatmal</td>\n",
       "      <td>81972</td>\n",
       "      <td>18</td>\n",
       "      <td>80134</td>\n",
       "      <td>1816</td>\n",
       "      <td>97.8</td>\n",
       "      <td>2.2</td>\n",
       "      <td>20.23</td>\n",
       "      <td>78.11</td>\n",
       "    </tr>\n",
       "  </tbody>\n",
       "</table>\n",
       "</div>"
      ],
      "text/plain": [
       "     Districts  Positive Cases  Active Cases  Recovered  Deceased  \\\n",
       "0   Ahmednagar          376964           472     369253      7228   \n",
       "1        Akola           66135            21      64646      1464   \n",
       "2     Amravati          105909            13     104272      1622   \n",
       "3   Aurangabad          176264            88     171892      4270   \n",
       "4         Beed          109067            43     106143      2874   \n",
       "5     Bhandara           67919            22      66755      1132   \n",
       "6     Buldhana           91792            49      90922       815   \n",
       "7   Chandrapur           98793            20      97182      1587   \n",
       "8        Dhule           50637             4      49963       659   \n",
       "9   Gadchiroli           36929            73      36131       691   \n",
       "10      Gondia           45387             5      44796       579   \n",
       "11     Hingoli           22164             4      21646       513   \n",
       "12     Jalgaon          149454            15     146678      2728   \n",
       "13       Jalna           66296             4      65068      1223   \n",
       "14    Kolhapur          220400            55     214441      5899   \n",
       "15       Latur          104879            12     102378      2483   \n",
       "16      Mumbai         1055811           650    1035610     16691   \n",
       "17      Nagpur          576191           211     566766      9143   \n",
       "18      Nanded          102626            21      99903      2695   \n",
       "19   Nandurbar           46590            20      45608       959   \n",
       "20      Nashik          472611           303     463406      8901   \n",
       "21   Osmanabad           75083            28      72916      2023   \n",
       "22     Palghar          163402            60     159935      3392   \n",
       "23    Parbhani           58507            24      57207      1256   \n",
       "24        Pune         1450390          1833    1428051     20156   \n",
       "25      Raigad          244158           123     239092      4936   \n",
       "26   Ratnagiri           84383            10      81827      2541   \n",
       "27      Sangli          226945            49     221232      5655   \n",
       "28      Satara          278046            79     271259      6674   \n",
       "29  Sindhudurg           57125           130      55469      1511   \n",
       "30     Solapur          226968            59     221035      5757   \n",
       "31       Thane          766202           405     753903     11859   \n",
       "32      Wardha           65656            13      64235      1237   \n",
       "33      Washim           45592            17      44934       638   \n",
       "34    Yavatmal           81972            18      80134      1816   \n",
       "\n",
       "    Recovery Rate(%)  Fatality Rate(%)  Latitude  Longitude  \n",
       "0               98.0               1.9     19.05      74.48  \n",
       "1               97.7               2.2     20.42      77.02  \n",
       "2               98.5               1.5     20.56      77.48  \n",
       "3               97.5               2.4     19.53      75.23  \n",
       "4               97.3               2.6     18.99      75.75  \n",
       "5               98.3               1.7     21.09      79.42  \n",
       "6               99.1               0.9     20.32      76.14  \n",
       "7               98.4               1.6     19.57      79.21  \n",
       "8               98.7               1.3     20.58      74.47  \n",
       "9               97.8               1.9     20.18      79.99  \n",
       "10              98.7               1.3     21.28      80.29  \n",
       "11              97.7               2.3     19.43      77.11  \n",
       "12              98.1               1.8     21.05      75.40  \n",
       "13              98.1               1.8     19.51      75.56  \n",
       "14              97.3               2.7     16.42      74.16  \n",
       "15              97.6               2.4     18.24      76.36  \n",
       "16              98.1               1.6     18.55      72.54  \n",
       "17              98.4               1.6     21.09      79.09  \n",
       "18              97.3               2.6     19.09      77.27  \n",
       "19              97.9               2.1     21.23      74.19  \n",
       "20              98.1               1.9     20.02      73.50  \n",
       "21              97.1               2.7     18.08      76.06  \n",
       "22              97.9               2.1     19.69      72.76  \n",
       "23              97.8               2.1     19.08      76.50  \n",
       "24              98.5               1.4     18.31      73.55  \n",
       "25              97.9               2.0     18.51      73.18  \n",
       "26              97.0               3.0     17.08      73.19  \n",
       "27              97.5               2.5     16.52      74.36  \n",
       "28              97.6               2.4     17.42      74.02  \n",
       "29              97.1               2.6     16.34      73.55  \n",
       "30              97.4               2.5     17.66      75.90  \n",
       "31              98.4               1.5     19.12      73.02  \n",
       "32              97.8               1.9     20.74      78.60  \n",
       "33              98.6               1.4     20.10      77.14  \n",
       "34              97.8               2.2     20.23      78.11  "
      ]
     },
     "execution_count": 27,
     "metadata": {},
     "output_type": "execute_result"
    }
   ],
   "source": [
    "final_dataframe"
   ]
  },
  {
   "cell_type": "code",
   "execution_count": 28,
   "metadata": {},
   "outputs": [],
   "source": [
    "#here we make map on this of longitude and latitude coordinates and show total cases in india with highlighting.\n",
    "map=folium.Map(location=[19.7515,75.7139],zoom_start=6.5,tiles='OpenStreetMap')\n",
    "\n",
    "for lat,long,pos_cases,name,active,recovered,deceased in zip(final_dataframe[\"Latitude\"],final_dataframe[\"Longitude\"],final_dataframe[\"Positive Cases\"],final_dataframe[\"Districts\"],final_dataframe[\"Active Cases\"],final_dataframe[\"Recovered\"],final_dataframe[\"Deceased\"]):\n",
    "    folium.CircleMarker([lat,long],radius=pos_cases*0.0001,popup=(f'<strong>State:- {str(name).capitalize()}<br> <strong>Positive Cases:- {str(pos_cases)}<br> <strong>Active Cases:- {str(active)}<br> <strong>Recovered Cases:- {str(recovered)}<br> <strong>Deceased Cases:- {str(deceased)}<br>'),color='red',fill_color='red',fill_opacity=0.3).add_to(map)"
   ]
  },
  {
   "cell_type": "code",
   "execution_count": 29,
   "metadata": {},
   "outputs": [
    {
     "data": {
      "text/html": [
       "<div style=\"width:100%;\"><div style=\"position:relative;width:100%;height:0;padding-bottom:60%;\"><span style=\"color:#565656\">Make this Notebook Trusted to load map: File -> Trust Notebook</span><iframe src=\"about:blank\" style=\"position:absolute;width:100%;height:100%;left:0;top:0;border:none !important;\" data-html=%3C%21DOCTYPE%20html%3E%0A%3Chead%3E%20%20%20%20%0A%20%20%20%20%3Cmeta%20http-equiv%3D%22content-type%22%20content%3D%22text/html%3B%20charset%3DUTF-8%22%20/%3E%0A%20%20%20%20%0A%20%20%20%20%20%20%20%20%3Cscript%3E%0A%20%20%20%20%20%20%20%20%20%20%20%20L_NO_TOUCH%20%3D%20false%3B%0A%20%20%20%20%20%20%20%20%20%20%20%20L_DISABLE_3D%20%3D%20false%3B%0A%20%20%20%20%20%20%20%20%3C/script%3E%0A%20%20%20%20%0A%20%20%20%20%3Cstyle%3Ehtml%2C%20body%20%7Bwidth%3A%20100%25%3Bheight%3A%20100%25%3Bmargin%3A%200%3Bpadding%3A%200%3B%7D%3C/style%3E%0A%20%20%20%20%3Cstyle%3E%23map%20%7Bposition%3Aabsolute%3Btop%3A0%3Bbottom%3A0%3Bright%3A0%3Bleft%3A0%3B%7D%3C/style%3E%0A%20%20%20%20%3Cscript%20src%3D%22https%3A//cdn.jsdelivr.net/npm/leaflet%401.6.0/dist/leaflet.js%22%3E%3C/script%3E%0A%20%20%20%20%3Cscript%20src%3D%22https%3A//code.jquery.com/jquery-1.12.4.min.js%22%3E%3C/script%3E%0A%20%20%20%20%3Cscript%20src%3D%22https%3A//maxcdn.bootstrapcdn.com/bootstrap/3.2.0/js/bootstrap.min.js%22%3E%3C/script%3E%0A%20%20%20%20%3Cscript%20src%3D%22https%3A//cdnjs.cloudflare.com/ajax/libs/Leaflet.awesome-markers/2.0.2/leaflet.awesome-markers.js%22%3E%3C/script%3E%0A%20%20%20%20%3Clink%20rel%3D%22stylesheet%22%20href%3D%22https%3A//cdn.jsdelivr.net/npm/leaflet%401.6.0/dist/leaflet.css%22/%3E%0A%20%20%20%20%3Clink%20rel%3D%22stylesheet%22%20href%3D%22https%3A//maxcdn.bootstrapcdn.com/bootstrap/3.2.0/css/bootstrap.min.css%22/%3E%0A%20%20%20%20%3Clink%20rel%3D%22stylesheet%22%20href%3D%22https%3A//maxcdn.bootstrapcdn.com/bootstrap/3.2.0/css/bootstrap-theme.min.css%22/%3E%0A%20%20%20%20%3Clink%20rel%3D%22stylesheet%22%20href%3D%22https%3A//maxcdn.bootstrapcdn.com/font-awesome/4.6.3/css/font-awesome.min.css%22/%3E%0A%20%20%20%20%3Clink%20rel%3D%22stylesheet%22%20href%3D%22https%3A//cdnjs.cloudflare.com/ajax/libs/Leaflet.awesome-markers/2.0.2/leaflet.awesome-markers.css%22/%3E%0A%20%20%20%20%3Clink%20rel%3D%22stylesheet%22%20href%3D%22https%3A//cdn.jsdelivr.net/gh/python-visualization/folium/folium/templates/leaflet.awesome.rotate.min.css%22/%3E%0A%20%20%20%20%0A%20%20%20%20%20%20%20%20%20%20%20%20%3Cmeta%20name%3D%22viewport%22%20content%3D%22width%3Ddevice-width%2C%0A%20%20%20%20%20%20%20%20%20%20%20%20%20%20%20%20initial-scale%3D1.0%2C%20maximum-scale%3D1.0%2C%20user-scalable%3Dno%22%20/%3E%0A%20%20%20%20%20%20%20%20%20%20%20%20%3Cstyle%3E%0A%20%20%20%20%20%20%20%20%20%20%20%20%20%20%20%20%23map_8beb3e93bf35463ba585fd348126be1d%20%7B%0A%20%20%20%20%20%20%20%20%20%20%20%20%20%20%20%20%20%20%20%20position%3A%20relative%3B%0A%20%20%20%20%20%20%20%20%20%20%20%20%20%20%20%20%20%20%20%20width%3A%20100.0%25%3B%0A%20%20%20%20%20%20%20%20%20%20%20%20%20%20%20%20%20%20%20%20height%3A%20100.0%25%3B%0A%20%20%20%20%20%20%20%20%20%20%20%20%20%20%20%20%20%20%20%20left%3A%200.0%25%3B%0A%20%20%20%20%20%20%20%20%20%20%20%20%20%20%20%20%20%20%20%20top%3A%200.0%25%3B%0A%20%20%20%20%20%20%20%20%20%20%20%20%20%20%20%20%7D%0A%20%20%20%20%20%20%20%20%20%20%20%20%3C/style%3E%0A%20%20%20%20%20%20%20%20%0A%3C/head%3E%0A%3Cbody%3E%20%20%20%20%0A%20%20%20%20%0A%20%20%20%20%20%20%20%20%20%20%20%20%3Cdiv%20class%3D%22folium-map%22%20id%3D%22map_8beb3e93bf35463ba585fd348126be1d%22%20%3E%3C/div%3E%0A%20%20%20%20%20%20%20%20%0A%3C/body%3E%0A%3Cscript%3E%20%20%20%20%0A%20%20%20%20%0A%20%20%20%20%20%20%20%20%20%20%20%20var%20map_8beb3e93bf35463ba585fd348126be1d%20%3D%20L.map%28%0A%20%20%20%20%20%20%20%20%20%20%20%20%20%20%20%20%22map_8beb3e93bf35463ba585fd348126be1d%22%2C%0A%20%20%20%20%20%20%20%20%20%20%20%20%20%20%20%20%7B%0A%20%20%20%20%20%20%20%20%20%20%20%20%20%20%20%20%20%20%20%20center%3A%20%5B19.7515%2C%2075.7139%5D%2C%0A%20%20%20%20%20%20%20%20%20%20%20%20%20%20%20%20%20%20%20%20crs%3A%20L.CRS.EPSG3857%2C%0A%20%20%20%20%20%20%20%20%20%20%20%20%20%20%20%20%20%20%20%20zoom%3A%206.5%2C%0A%20%20%20%20%20%20%20%20%20%20%20%20%20%20%20%20%20%20%20%20zoomControl%3A%20true%2C%0A%20%20%20%20%20%20%20%20%20%20%20%20%20%20%20%20%20%20%20%20preferCanvas%3A%20false%2C%0A%20%20%20%20%20%20%20%20%20%20%20%20%20%20%20%20%7D%0A%20%20%20%20%20%20%20%20%20%20%20%20%29%3B%0A%0A%20%20%20%20%20%20%20%20%20%20%20%20%0A%0A%20%20%20%20%20%20%20%20%0A%20%20%20%20%0A%20%20%20%20%20%20%20%20%20%20%20%20var%20tile_layer_173ba8f1601f46a7a7d50b6bee0ba0ef%20%3D%20L.tileLayer%28%0A%20%20%20%20%20%20%20%20%20%20%20%20%20%20%20%20%22https%3A//%7Bs%7D.tile.openstreetmap.org/%7Bz%7D/%7Bx%7D/%7By%7D.png%22%2C%0A%20%20%20%20%20%20%20%20%20%20%20%20%20%20%20%20%7B%22attribution%22%3A%20%22Data%20by%20%5Cu0026copy%3B%20%5Cu003ca%20href%3D%5C%22http%3A//openstreetmap.org%5C%22%5Cu003eOpenStreetMap%5Cu003c/a%5Cu003e%2C%20under%20%5Cu003ca%20href%3D%5C%22http%3A//www.openstreetmap.org/copyright%5C%22%5Cu003eODbL%5Cu003c/a%5Cu003e.%22%2C%20%22detectRetina%22%3A%20false%2C%20%22maxNativeZoom%22%3A%2018%2C%20%22maxZoom%22%3A%2018%2C%20%22minZoom%22%3A%200%2C%20%22noWrap%22%3A%20false%2C%20%22opacity%22%3A%201%2C%20%22subdomains%22%3A%20%22abc%22%2C%20%22tms%22%3A%20false%7D%0A%20%20%20%20%20%20%20%20%20%20%20%20%29.addTo%28map_8beb3e93bf35463ba585fd348126be1d%29%3B%0A%20%20%20%20%20%20%20%20%0A%20%20%20%20%0A%20%20%20%20%20%20%20%20%20%20%20%20var%20circle_marker_22435912adf94ea1a5189bfb79a471fb%20%3D%20L.circleMarker%28%0A%20%20%20%20%20%20%20%20%20%20%20%20%20%20%20%20%5B19.05%2C%2074.48%5D%2C%0A%20%20%20%20%20%20%20%20%20%20%20%20%20%20%20%20%7B%22bubblingMouseEvents%22%3A%20true%2C%20%22color%22%3A%20%22red%22%2C%20%22dashArray%22%3A%20null%2C%20%22dashOffset%22%3A%20null%2C%20%22fill%22%3A%20true%2C%20%22fillColor%22%3A%20%22red%22%2C%20%22fillOpacity%22%3A%200.3%2C%20%22fillRule%22%3A%20%22evenodd%22%2C%20%22lineCap%22%3A%20%22round%22%2C%20%22lineJoin%22%3A%20%22round%22%2C%20%22opacity%22%3A%201.0%2C%20%22radius%22%3A%2037.696400000000004%2C%20%22stroke%22%3A%20true%2C%20%22weight%22%3A%203%7D%0A%20%20%20%20%20%20%20%20%20%20%20%20%29.addTo%28map_8beb3e93bf35463ba585fd348126be1d%29%3B%0A%20%20%20%20%20%20%20%20%0A%20%20%20%20%0A%20%20%20%20%20%20%20%20var%20popup_4c10328120814f3dade9461497bfbafe%20%3D%20L.popup%28%7B%22maxWidth%22%3A%20%22100%25%22%7D%29%3B%0A%0A%20%20%20%20%20%20%20%20%0A%20%20%20%20%20%20%20%20%20%20%20%20var%20html_a4c448d50d6342258ff624befffc8a09%20%3D%20%24%28%60%3Cdiv%20id%3D%22html_a4c448d50d6342258ff624befffc8a09%22%20style%3D%22width%3A%20100.0%25%3B%20height%3A%20100.0%25%3B%22%3E%3Cstrong%3EState%3A-%20Ahmednagar%3Cbr%3E%20%3Cstrong%3EPositive%20Cases%3A-%20376964%3Cbr%3E%20%3Cstrong%3EActive%20Cases%3A-%20472%3Cbr%3E%20%3Cstrong%3ERecovered%20Cases%3A-%20369253%3Cbr%3E%20%3Cstrong%3EDeceased%20Cases%3A-%207228%3Cbr%3E%3C/div%3E%60%29%5B0%5D%3B%0A%20%20%20%20%20%20%20%20%20%20%20%20popup_4c10328120814f3dade9461497bfbafe.setContent%28html_a4c448d50d6342258ff624befffc8a09%29%3B%0A%20%20%20%20%20%20%20%20%0A%0A%20%20%20%20%20%20%20%20circle_marker_22435912adf94ea1a5189bfb79a471fb.bindPopup%28popup_4c10328120814f3dade9461497bfbafe%29%0A%20%20%20%20%20%20%20%20%3B%0A%0A%20%20%20%20%20%20%20%20%0A%20%20%20%20%0A%20%20%20%20%0A%20%20%20%20%20%20%20%20%20%20%20%20var%20circle_marker_33b4d5c2bdf54a559e49ee3893d30cd3%20%3D%20L.circleMarker%28%0A%20%20%20%20%20%20%20%20%20%20%20%20%20%20%20%20%5B20.42%2C%2077.02%5D%2C%0A%20%20%20%20%20%20%20%20%20%20%20%20%20%20%20%20%7B%22bubblingMouseEvents%22%3A%20true%2C%20%22color%22%3A%20%22red%22%2C%20%22dashArray%22%3A%20null%2C%20%22dashOffset%22%3A%20null%2C%20%22fill%22%3A%20true%2C%20%22fillColor%22%3A%20%22red%22%2C%20%22fillOpacity%22%3A%200.3%2C%20%22fillRule%22%3A%20%22evenodd%22%2C%20%22lineCap%22%3A%20%22round%22%2C%20%22lineJoin%22%3A%20%22round%22%2C%20%22opacity%22%3A%201.0%2C%20%22radius%22%3A%206.6135%2C%20%22stroke%22%3A%20true%2C%20%22weight%22%3A%203%7D%0A%20%20%20%20%20%20%20%20%20%20%20%20%29.addTo%28map_8beb3e93bf35463ba585fd348126be1d%29%3B%0A%20%20%20%20%20%20%20%20%0A%20%20%20%20%0A%20%20%20%20%20%20%20%20var%20popup_1564ba9ca41043cba33b17db371a4fa0%20%3D%20L.popup%28%7B%22maxWidth%22%3A%20%22100%25%22%7D%29%3B%0A%0A%20%20%20%20%20%20%20%20%0A%20%20%20%20%20%20%20%20%20%20%20%20var%20html_314e615c11b74fb39f125f14d165ad8d%20%3D%20%24%28%60%3Cdiv%20id%3D%22html_314e615c11b74fb39f125f14d165ad8d%22%20style%3D%22width%3A%20100.0%25%3B%20height%3A%20100.0%25%3B%22%3E%3Cstrong%3EState%3A-%20Akola%3Cbr%3E%20%3Cstrong%3EPositive%20Cases%3A-%2066135%3Cbr%3E%20%3Cstrong%3EActive%20Cases%3A-%2021%3Cbr%3E%20%3Cstrong%3ERecovered%20Cases%3A-%2064646%3Cbr%3E%20%3Cstrong%3EDeceased%20Cases%3A-%201464%3Cbr%3E%3C/div%3E%60%29%5B0%5D%3B%0A%20%20%20%20%20%20%20%20%20%20%20%20popup_1564ba9ca41043cba33b17db371a4fa0.setContent%28html_314e615c11b74fb39f125f14d165ad8d%29%3B%0A%20%20%20%20%20%20%20%20%0A%0A%20%20%20%20%20%20%20%20circle_marker_33b4d5c2bdf54a559e49ee3893d30cd3.bindPopup%28popup_1564ba9ca41043cba33b17db371a4fa0%29%0A%20%20%20%20%20%20%20%20%3B%0A%0A%20%20%20%20%20%20%20%20%0A%20%20%20%20%0A%20%20%20%20%0A%20%20%20%20%20%20%20%20%20%20%20%20var%20circle_marker_b631da35dd564e299477848b1b163b76%20%3D%20L.circleMarker%28%0A%20%20%20%20%20%20%20%20%20%20%20%20%20%20%20%20%5B20.56%2C%2077.48%5D%2C%0A%20%20%20%20%20%20%20%20%20%20%20%20%20%20%20%20%7B%22bubblingMouseEvents%22%3A%20true%2C%20%22color%22%3A%20%22red%22%2C%20%22dashArray%22%3A%20null%2C%20%22dashOffset%22%3A%20null%2C%20%22fill%22%3A%20true%2C%20%22fillColor%22%3A%20%22red%22%2C%20%22fillOpacity%22%3A%200.3%2C%20%22fillRule%22%3A%20%22evenodd%22%2C%20%22lineCap%22%3A%20%22round%22%2C%20%22lineJoin%22%3A%20%22round%22%2C%20%22opacity%22%3A%201.0%2C%20%22radius%22%3A%2010.590900000000001%2C%20%22stroke%22%3A%20true%2C%20%22weight%22%3A%203%7D%0A%20%20%20%20%20%20%20%20%20%20%20%20%29.addTo%28map_8beb3e93bf35463ba585fd348126be1d%29%3B%0A%20%20%20%20%20%20%20%20%0A%20%20%20%20%0A%20%20%20%20%20%20%20%20var%20popup_3a07cb83625a427e8a2892dc4d14d21e%20%3D%20L.popup%28%7B%22maxWidth%22%3A%20%22100%25%22%7D%29%3B%0A%0A%20%20%20%20%20%20%20%20%0A%20%20%20%20%20%20%20%20%20%20%20%20var%20html_865cf1e2af6147e1b38b45b3c72e46f6%20%3D%20%24%28%60%3Cdiv%20id%3D%22html_865cf1e2af6147e1b38b45b3c72e46f6%22%20style%3D%22width%3A%20100.0%25%3B%20height%3A%20100.0%25%3B%22%3E%3Cstrong%3EState%3A-%20Amravati%3Cbr%3E%20%3Cstrong%3EPositive%20Cases%3A-%20105909%3Cbr%3E%20%3Cstrong%3EActive%20Cases%3A-%2013%3Cbr%3E%20%3Cstrong%3ERecovered%20Cases%3A-%20104272%3Cbr%3E%20%3Cstrong%3EDeceased%20Cases%3A-%201622%3Cbr%3E%3C/div%3E%60%29%5B0%5D%3B%0A%20%20%20%20%20%20%20%20%20%20%20%20popup_3a07cb83625a427e8a2892dc4d14d21e.setContent%28html_865cf1e2af6147e1b38b45b3c72e46f6%29%3B%0A%20%20%20%20%20%20%20%20%0A%0A%20%20%20%20%20%20%20%20circle_marker_b631da35dd564e299477848b1b163b76.bindPopup%28popup_3a07cb83625a427e8a2892dc4d14d21e%29%0A%20%20%20%20%20%20%20%20%3B%0A%0A%20%20%20%20%20%20%20%20%0A%20%20%20%20%0A%20%20%20%20%0A%20%20%20%20%20%20%20%20%20%20%20%20var%20circle_marker_b3287ef1fb2c4b50945359d0a2e8d422%20%3D%20L.circleMarker%28%0A%20%20%20%20%20%20%20%20%20%20%20%20%20%20%20%20%5B19.53%2C%2075.23%5D%2C%0A%20%20%20%20%20%20%20%20%20%20%20%20%20%20%20%20%7B%22bubblingMouseEvents%22%3A%20true%2C%20%22color%22%3A%20%22red%22%2C%20%22dashArray%22%3A%20null%2C%20%22dashOffset%22%3A%20null%2C%20%22fill%22%3A%20true%2C%20%22fillColor%22%3A%20%22red%22%2C%20%22fillOpacity%22%3A%200.3%2C%20%22fillRule%22%3A%20%22evenodd%22%2C%20%22lineCap%22%3A%20%22round%22%2C%20%22lineJoin%22%3A%20%22round%22%2C%20%22opacity%22%3A%201.0%2C%20%22radius%22%3A%2017.6264%2C%20%22stroke%22%3A%20true%2C%20%22weight%22%3A%203%7D%0A%20%20%20%20%20%20%20%20%20%20%20%20%29.addTo%28map_8beb3e93bf35463ba585fd348126be1d%29%3B%0A%20%20%20%20%20%20%20%20%0A%20%20%20%20%0A%20%20%20%20%20%20%20%20var%20popup_998c2356179a4a01b5c5cf58b23e592d%20%3D%20L.popup%28%7B%22maxWidth%22%3A%20%22100%25%22%7D%29%3B%0A%0A%20%20%20%20%20%20%20%20%0A%20%20%20%20%20%20%20%20%20%20%20%20var%20html_716ca973ba3246a3a54554e05373d006%20%3D%20%24%28%60%3Cdiv%20id%3D%22html_716ca973ba3246a3a54554e05373d006%22%20style%3D%22width%3A%20100.0%25%3B%20height%3A%20100.0%25%3B%22%3E%3Cstrong%3EState%3A-%20Aurangabad%3Cbr%3E%20%3Cstrong%3EPositive%20Cases%3A-%20176264%3Cbr%3E%20%3Cstrong%3EActive%20Cases%3A-%2088%3Cbr%3E%20%3Cstrong%3ERecovered%20Cases%3A-%20171892%3Cbr%3E%20%3Cstrong%3EDeceased%20Cases%3A-%204270%3Cbr%3E%3C/div%3E%60%29%5B0%5D%3B%0A%20%20%20%20%20%20%20%20%20%20%20%20popup_998c2356179a4a01b5c5cf58b23e592d.setContent%28html_716ca973ba3246a3a54554e05373d006%29%3B%0A%20%20%20%20%20%20%20%20%0A%0A%20%20%20%20%20%20%20%20circle_marker_b3287ef1fb2c4b50945359d0a2e8d422.bindPopup%28popup_998c2356179a4a01b5c5cf58b23e592d%29%0A%20%20%20%20%20%20%20%20%3B%0A%0A%20%20%20%20%20%20%20%20%0A%20%20%20%20%0A%20%20%20%20%0A%20%20%20%20%20%20%20%20%20%20%20%20var%20circle_marker_52e94aa84d7f4e44ae0e09c5204e2c83%20%3D%20L.circleMarker%28%0A%20%20%20%20%20%20%20%20%20%20%20%20%20%20%20%20%5B18.99%2C%2075.75%5D%2C%0A%20%20%20%20%20%20%20%20%20%20%20%20%20%20%20%20%7B%22bubblingMouseEvents%22%3A%20true%2C%20%22color%22%3A%20%22red%22%2C%20%22dashArray%22%3A%20null%2C%20%22dashOffset%22%3A%20null%2C%20%22fill%22%3A%20true%2C%20%22fillColor%22%3A%20%22red%22%2C%20%22fillOpacity%22%3A%200.3%2C%20%22fillRule%22%3A%20%22evenodd%22%2C%20%22lineCap%22%3A%20%22round%22%2C%20%22lineJoin%22%3A%20%22round%22%2C%20%22opacity%22%3A%201.0%2C%20%22radius%22%3A%2010.9067%2C%20%22stroke%22%3A%20true%2C%20%22weight%22%3A%203%7D%0A%20%20%20%20%20%20%20%20%20%20%20%20%29.addTo%28map_8beb3e93bf35463ba585fd348126be1d%29%3B%0A%20%20%20%20%20%20%20%20%0A%20%20%20%20%0A%20%20%20%20%20%20%20%20var%20popup_42e1db2fb3c348d5b24984020fd547ce%20%3D%20L.popup%28%7B%22maxWidth%22%3A%20%22100%25%22%7D%29%3B%0A%0A%20%20%20%20%20%20%20%20%0A%20%20%20%20%20%20%20%20%20%20%20%20var%20html_1e060e0cd03348c1830bca7333e9b087%20%3D%20%24%28%60%3Cdiv%20id%3D%22html_1e060e0cd03348c1830bca7333e9b087%22%20style%3D%22width%3A%20100.0%25%3B%20height%3A%20100.0%25%3B%22%3E%3Cstrong%3EState%3A-%20Beed%3Cbr%3E%20%3Cstrong%3EPositive%20Cases%3A-%20109067%3Cbr%3E%20%3Cstrong%3EActive%20Cases%3A-%2043%3Cbr%3E%20%3Cstrong%3ERecovered%20Cases%3A-%20106143%3Cbr%3E%20%3Cstrong%3EDeceased%20Cases%3A-%202874%3Cbr%3E%3C/div%3E%60%29%5B0%5D%3B%0A%20%20%20%20%20%20%20%20%20%20%20%20popup_42e1db2fb3c348d5b24984020fd547ce.setContent%28html_1e060e0cd03348c1830bca7333e9b087%29%3B%0A%20%20%20%20%20%20%20%20%0A%0A%20%20%20%20%20%20%20%20circle_marker_52e94aa84d7f4e44ae0e09c5204e2c83.bindPopup%28popup_42e1db2fb3c348d5b24984020fd547ce%29%0A%20%20%20%20%20%20%20%20%3B%0A%0A%20%20%20%20%20%20%20%20%0A%20%20%20%20%0A%20%20%20%20%0A%20%20%20%20%20%20%20%20%20%20%20%20var%20circle_marker_8a774f7b27ba496b91913e5e7d35d2e5%20%3D%20L.circleMarker%28%0A%20%20%20%20%20%20%20%20%20%20%20%20%20%20%20%20%5B21.09%2C%2079.42%5D%2C%0A%20%20%20%20%20%20%20%20%20%20%20%20%20%20%20%20%7B%22bubblingMouseEvents%22%3A%20true%2C%20%22color%22%3A%20%22red%22%2C%20%22dashArray%22%3A%20null%2C%20%22dashOffset%22%3A%20null%2C%20%22fill%22%3A%20true%2C%20%22fillColor%22%3A%20%22red%22%2C%20%22fillOpacity%22%3A%200.3%2C%20%22fillRule%22%3A%20%22evenodd%22%2C%20%22lineCap%22%3A%20%22round%22%2C%20%22lineJoin%22%3A%20%22round%22%2C%20%22opacity%22%3A%201.0%2C%20%22radius%22%3A%206.7919%2C%20%22stroke%22%3A%20true%2C%20%22weight%22%3A%203%7D%0A%20%20%20%20%20%20%20%20%20%20%20%20%29.addTo%28map_8beb3e93bf35463ba585fd348126be1d%29%3B%0A%20%20%20%20%20%20%20%20%0A%20%20%20%20%0A%20%20%20%20%20%20%20%20var%20popup_4655ef459bcf4d1eb8df40ce4c200dea%20%3D%20L.popup%28%7B%22maxWidth%22%3A%20%22100%25%22%7D%29%3B%0A%0A%20%20%20%20%20%20%20%20%0A%20%20%20%20%20%20%20%20%20%20%20%20var%20html_5626e3bdafc740df97ab138a2c592f6f%20%3D%20%24%28%60%3Cdiv%20id%3D%22html_5626e3bdafc740df97ab138a2c592f6f%22%20style%3D%22width%3A%20100.0%25%3B%20height%3A%20100.0%25%3B%22%3E%3Cstrong%3EState%3A-%20Bhandara%3Cbr%3E%20%3Cstrong%3EPositive%20Cases%3A-%2067919%3Cbr%3E%20%3Cstrong%3EActive%20Cases%3A-%2022%3Cbr%3E%20%3Cstrong%3ERecovered%20Cases%3A-%2066755%3Cbr%3E%20%3Cstrong%3EDeceased%20Cases%3A-%201132%3Cbr%3E%3C/div%3E%60%29%5B0%5D%3B%0A%20%20%20%20%20%20%20%20%20%20%20%20popup_4655ef459bcf4d1eb8df40ce4c200dea.setContent%28html_5626e3bdafc740df97ab138a2c592f6f%29%3B%0A%20%20%20%20%20%20%20%20%0A%0A%20%20%20%20%20%20%20%20circle_marker_8a774f7b27ba496b91913e5e7d35d2e5.bindPopup%28popup_4655ef459bcf4d1eb8df40ce4c200dea%29%0A%20%20%20%20%20%20%20%20%3B%0A%0A%20%20%20%20%20%20%20%20%0A%20%20%20%20%0A%20%20%20%20%0A%20%20%20%20%20%20%20%20%20%20%20%20var%20circle_marker_e6f0bcaf1a2c482ab3c7f585f5c3b3c9%20%3D%20L.circleMarker%28%0A%20%20%20%20%20%20%20%20%20%20%20%20%20%20%20%20%5B20.32%2C%2076.14%5D%2C%0A%20%20%20%20%20%20%20%20%20%20%20%20%20%20%20%20%7B%22bubblingMouseEvents%22%3A%20true%2C%20%22color%22%3A%20%22red%22%2C%20%22dashArray%22%3A%20null%2C%20%22dashOffset%22%3A%20null%2C%20%22fill%22%3A%20true%2C%20%22fillColor%22%3A%20%22red%22%2C%20%22fillOpacity%22%3A%200.3%2C%20%22fillRule%22%3A%20%22evenodd%22%2C%20%22lineCap%22%3A%20%22round%22%2C%20%22lineJoin%22%3A%20%22round%22%2C%20%22opacity%22%3A%201.0%2C%20%22radius%22%3A%209.1792%2C%20%22stroke%22%3A%20true%2C%20%22weight%22%3A%203%7D%0A%20%20%20%20%20%20%20%20%20%20%20%20%29.addTo%28map_8beb3e93bf35463ba585fd348126be1d%29%3B%0A%20%20%20%20%20%20%20%20%0A%20%20%20%20%0A%20%20%20%20%20%20%20%20var%20popup_b128a294fa82480e90ad2fec27fc4a98%20%3D%20L.popup%28%7B%22maxWidth%22%3A%20%22100%25%22%7D%29%3B%0A%0A%20%20%20%20%20%20%20%20%0A%20%20%20%20%20%20%20%20%20%20%20%20var%20html_e086d235b9c540d7b96c09113404f3cb%20%3D%20%24%28%60%3Cdiv%20id%3D%22html_e086d235b9c540d7b96c09113404f3cb%22%20style%3D%22width%3A%20100.0%25%3B%20height%3A%20100.0%25%3B%22%3E%3Cstrong%3EState%3A-%20Buldhana%3Cbr%3E%20%3Cstrong%3EPositive%20Cases%3A-%2091792%3Cbr%3E%20%3Cstrong%3EActive%20Cases%3A-%2049%3Cbr%3E%20%3Cstrong%3ERecovered%20Cases%3A-%2090922%3Cbr%3E%20%3Cstrong%3EDeceased%20Cases%3A-%20815%3Cbr%3E%3C/div%3E%60%29%5B0%5D%3B%0A%20%20%20%20%20%20%20%20%20%20%20%20popup_b128a294fa82480e90ad2fec27fc4a98.setContent%28html_e086d235b9c540d7b96c09113404f3cb%29%3B%0A%20%20%20%20%20%20%20%20%0A%0A%20%20%20%20%20%20%20%20circle_marker_e6f0bcaf1a2c482ab3c7f585f5c3b3c9.bindPopup%28popup_b128a294fa82480e90ad2fec27fc4a98%29%0A%20%20%20%20%20%20%20%20%3B%0A%0A%20%20%20%20%20%20%20%20%0A%20%20%20%20%0A%20%20%20%20%0A%20%20%20%20%20%20%20%20%20%20%20%20var%20circle_marker_e2dfe0c631394e93aa2d17e8559a55f9%20%3D%20L.circleMarker%28%0A%20%20%20%20%20%20%20%20%20%20%20%20%20%20%20%20%5B19.57%2C%2079.21%5D%2C%0A%20%20%20%20%20%20%20%20%20%20%20%20%20%20%20%20%7B%22bubblingMouseEvents%22%3A%20true%2C%20%22color%22%3A%20%22red%22%2C%20%22dashArray%22%3A%20null%2C%20%22dashOffset%22%3A%20null%2C%20%22fill%22%3A%20true%2C%20%22fillColor%22%3A%20%22red%22%2C%20%22fillOpacity%22%3A%200.3%2C%20%22fillRule%22%3A%20%22evenodd%22%2C%20%22lineCap%22%3A%20%22round%22%2C%20%22lineJoin%22%3A%20%22round%22%2C%20%22opacity%22%3A%201.0%2C%20%22radius%22%3A%209.8793%2C%20%22stroke%22%3A%20true%2C%20%22weight%22%3A%203%7D%0A%20%20%20%20%20%20%20%20%20%20%20%20%29.addTo%28map_8beb3e93bf35463ba585fd348126be1d%29%3B%0A%20%20%20%20%20%20%20%20%0A%20%20%20%20%0A%20%20%20%20%20%20%20%20var%20popup_2ad0563b678549e19b2d0b28da0ab54e%20%3D%20L.popup%28%7B%22maxWidth%22%3A%20%22100%25%22%7D%29%3B%0A%0A%20%20%20%20%20%20%20%20%0A%20%20%20%20%20%20%20%20%20%20%20%20var%20html_ceacfea597f1489986b9f375ac309936%20%3D%20%24%28%60%3Cdiv%20id%3D%22html_ceacfea597f1489986b9f375ac309936%22%20style%3D%22width%3A%20100.0%25%3B%20height%3A%20100.0%25%3B%22%3E%3Cstrong%3EState%3A-%20Chandrapur%3Cbr%3E%20%3Cstrong%3EPositive%20Cases%3A-%2098793%3Cbr%3E%20%3Cstrong%3EActive%20Cases%3A-%2020%3Cbr%3E%20%3Cstrong%3ERecovered%20Cases%3A-%2097182%3Cbr%3E%20%3Cstrong%3EDeceased%20Cases%3A-%201587%3Cbr%3E%3C/div%3E%60%29%5B0%5D%3B%0A%20%20%20%20%20%20%20%20%20%20%20%20popup_2ad0563b678549e19b2d0b28da0ab54e.setContent%28html_ceacfea597f1489986b9f375ac309936%29%3B%0A%20%20%20%20%20%20%20%20%0A%0A%20%20%20%20%20%20%20%20circle_marker_e2dfe0c631394e93aa2d17e8559a55f9.bindPopup%28popup_2ad0563b678549e19b2d0b28da0ab54e%29%0A%20%20%20%20%20%20%20%20%3B%0A%0A%20%20%20%20%20%20%20%20%0A%20%20%20%20%0A%20%20%20%20%0A%20%20%20%20%20%20%20%20%20%20%20%20var%20circle_marker_2548d9946beb4961b0ba302acb3d4178%20%3D%20L.circleMarker%28%0A%20%20%20%20%20%20%20%20%20%20%20%20%20%20%20%20%5B20.58%2C%2074.47%5D%2C%0A%20%20%20%20%20%20%20%20%20%20%20%20%20%20%20%20%7B%22bubblingMouseEvents%22%3A%20true%2C%20%22color%22%3A%20%22red%22%2C%20%22dashArray%22%3A%20null%2C%20%22dashOffset%22%3A%20null%2C%20%22fill%22%3A%20true%2C%20%22fillColor%22%3A%20%22red%22%2C%20%22fillOpacity%22%3A%200.3%2C%20%22fillRule%22%3A%20%22evenodd%22%2C%20%22lineCap%22%3A%20%22round%22%2C%20%22lineJoin%22%3A%20%22round%22%2C%20%22opacity%22%3A%201.0%2C%20%22radius%22%3A%205.0637%2C%20%22stroke%22%3A%20true%2C%20%22weight%22%3A%203%7D%0A%20%20%20%20%20%20%20%20%20%20%20%20%29.addTo%28map_8beb3e93bf35463ba585fd348126be1d%29%3B%0A%20%20%20%20%20%20%20%20%0A%20%20%20%20%0A%20%20%20%20%20%20%20%20var%20popup_544dfa995dc54f8d8c8873d5639d9f27%20%3D%20L.popup%28%7B%22maxWidth%22%3A%20%22100%25%22%7D%29%3B%0A%0A%20%20%20%20%20%20%20%20%0A%20%20%20%20%20%20%20%20%20%20%20%20var%20html_31ae3c3bf1eb4c2aa79b31ca82f37df2%20%3D%20%24%28%60%3Cdiv%20id%3D%22html_31ae3c3bf1eb4c2aa79b31ca82f37df2%22%20style%3D%22width%3A%20100.0%25%3B%20height%3A%20100.0%25%3B%22%3E%3Cstrong%3EState%3A-%20Dhule%3Cbr%3E%20%3Cstrong%3EPositive%20Cases%3A-%2050637%3Cbr%3E%20%3Cstrong%3EActive%20Cases%3A-%204%3Cbr%3E%20%3Cstrong%3ERecovered%20Cases%3A-%2049963%3Cbr%3E%20%3Cstrong%3EDeceased%20Cases%3A-%20659%3Cbr%3E%3C/div%3E%60%29%5B0%5D%3B%0A%20%20%20%20%20%20%20%20%20%20%20%20popup_544dfa995dc54f8d8c8873d5639d9f27.setContent%28html_31ae3c3bf1eb4c2aa79b31ca82f37df2%29%3B%0A%20%20%20%20%20%20%20%20%0A%0A%20%20%20%20%20%20%20%20circle_marker_2548d9946beb4961b0ba302acb3d4178.bindPopup%28popup_544dfa995dc54f8d8c8873d5639d9f27%29%0A%20%20%20%20%20%20%20%20%3B%0A%0A%20%20%20%20%20%20%20%20%0A%20%20%20%20%0A%20%20%20%20%0A%20%20%20%20%20%20%20%20%20%20%20%20var%20circle_marker_ffd760407aac4785a19da18ae615d4e6%20%3D%20L.circleMarker%28%0A%20%20%20%20%20%20%20%20%20%20%20%20%20%20%20%20%5B20.18%2C%2079.99%5D%2C%0A%20%20%20%20%20%20%20%20%20%20%20%20%20%20%20%20%7B%22bubblingMouseEvents%22%3A%20true%2C%20%22color%22%3A%20%22red%22%2C%20%22dashArray%22%3A%20null%2C%20%22dashOffset%22%3A%20null%2C%20%22fill%22%3A%20true%2C%20%22fillColor%22%3A%20%22red%22%2C%20%22fillOpacity%22%3A%200.3%2C%20%22fillRule%22%3A%20%22evenodd%22%2C%20%22lineCap%22%3A%20%22round%22%2C%20%22lineJoin%22%3A%20%22round%22%2C%20%22opacity%22%3A%201.0%2C%20%22radius%22%3A%203.6929000000000003%2C%20%22stroke%22%3A%20true%2C%20%22weight%22%3A%203%7D%0A%20%20%20%20%20%20%20%20%20%20%20%20%29.addTo%28map_8beb3e93bf35463ba585fd348126be1d%29%3B%0A%20%20%20%20%20%20%20%20%0A%20%20%20%20%0A%20%20%20%20%20%20%20%20var%20popup_fd29985a0b784452bab459128a089f42%20%3D%20L.popup%28%7B%22maxWidth%22%3A%20%22100%25%22%7D%29%3B%0A%0A%20%20%20%20%20%20%20%20%0A%20%20%20%20%20%20%20%20%20%20%20%20var%20html_ca6c7b706b194c6caf4234655eddd2f9%20%3D%20%24%28%60%3Cdiv%20id%3D%22html_ca6c7b706b194c6caf4234655eddd2f9%22%20style%3D%22width%3A%20100.0%25%3B%20height%3A%20100.0%25%3B%22%3E%3Cstrong%3EState%3A-%20Gadchiroli%3Cbr%3E%20%3Cstrong%3EPositive%20Cases%3A-%2036929%3Cbr%3E%20%3Cstrong%3EActive%20Cases%3A-%2073%3Cbr%3E%20%3Cstrong%3ERecovered%20Cases%3A-%2036131%3Cbr%3E%20%3Cstrong%3EDeceased%20Cases%3A-%20691%3Cbr%3E%3C/div%3E%60%29%5B0%5D%3B%0A%20%20%20%20%20%20%20%20%20%20%20%20popup_fd29985a0b784452bab459128a089f42.setContent%28html_ca6c7b706b194c6caf4234655eddd2f9%29%3B%0A%20%20%20%20%20%20%20%20%0A%0A%20%20%20%20%20%20%20%20circle_marker_ffd760407aac4785a19da18ae615d4e6.bindPopup%28popup_fd29985a0b784452bab459128a089f42%29%0A%20%20%20%20%20%20%20%20%3B%0A%0A%20%20%20%20%20%20%20%20%0A%20%20%20%20%0A%20%20%20%20%0A%20%20%20%20%20%20%20%20%20%20%20%20var%20circle_marker_4949f48dfaef4773afeb89301dd38067%20%3D%20L.circleMarker%28%0A%20%20%20%20%20%20%20%20%20%20%20%20%20%20%20%20%5B21.28%2C%2080.29%5D%2C%0A%20%20%20%20%20%20%20%20%20%20%20%20%20%20%20%20%7B%22bubblingMouseEvents%22%3A%20true%2C%20%22color%22%3A%20%22red%22%2C%20%22dashArray%22%3A%20null%2C%20%22dashOffset%22%3A%20null%2C%20%22fill%22%3A%20true%2C%20%22fillColor%22%3A%20%22red%22%2C%20%22fillOpacity%22%3A%200.3%2C%20%22fillRule%22%3A%20%22evenodd%22%2C%20%22lineCap%22%3A%20%22round%22%2C%20%22lineJoin%22%3A%20%22round%22%2C%20%22opacity%22%3A%201.0%2C%20%22radius%22%3A%204.5387%2C%20%22stroke%22%3A%20true%2C%20%22weight%22%3A%203%7D%0A%20%20%20%20%20%20%20%20%20%20%20%20%29.addTo%28map_8beb3e93bf35463ba585fd348126be1d%29%3B%0A%20%20%20%20%20%20%20%20%0A%20%20%20%20%0A%20%20%20%20%20%20%20%20var%20popup_cef1766e779c4b11a598c7fc2dd11be9%20%3D%20L.popup%28%7B%22maxWidth%22%3A%20%22100%25%22%7D%29%3B%0A%0A%20%20%20%20%20%20%20%20%0A%20%20%20%20%20%20%20%20%20%20%20%20var%20html_eb45c25406654a83b6673dc7e062cbd4%20%3D%20%24%28%60%3Cdiv%20id%3D%22html_eb45c25406654a83b6673dc7e062cbd4%22%20style%3D%22width%3A%20100.0%25%3B%20height%3A%20100.0%25%3B%22%3E%3Cstrong%3EState%3A-%20Gondia%3Cbr%3E%20%3Cstrong%3EPositive%20Cases%3A-%2045387%3Cbr%3E%20%3Cstrong%3EActive%20Cases%3A-%205%3Cbr%3E%20%3Cstrong%3ERecovered%20Cases%3A-%2044796%3Cbr%3E%20%3Cstrong%3EDeceased%20Cases%3A-%20579%3Cbr%3E%3C/div%3E%60%29%5B0%5D%3B%0A%20%20%20%20%20%20%20%20%20%20%20%20popup_cef1766e779c4b11a598c7fc2dd11be9.setContent%28html_eb45c25406654a83b6673dc7e062cbd4%29%3B%0A%20%20%20%20%20%20%20%20%0A%0A%20%20%20%20%20%20%20%20circle_marker_4949f48dfaef4773afeb89301dd38067.bindPopup%28popup_cef1766e779c4b11a598c7fc2dd11be9%29%0A%20%20%20%20%20%20%20%20%3B%0A%0A%20%20%20%20%20%20%20%20%0A%20%20%20%20%0A%20%20%20%20%0A%20%20%20%20%20%20%20%20%20%20%20%20var%20circle_marker_651c772cd2f94b069ab48330661d7e5a%20%3D%20L.circleMarker%28%0A%20%20%20%20%20%20%20%20%20%20%20%20%20%20%20%20%5B19.43%2C%2077.11%5D%2C%0A%20%20%20%20%20%20%20%20%20%20%20%20%20%20%20%20%7B%22bubblingMouseEvents%22%3A%20true%2C%20%22color%22%3A%20%22red%22%2C%20%22dashArray%22%3A%20null%2C%20%22dashOffset%22%3A%20null%2C%20%22fill%22%3A%20true%2C%20%22fillColor%22%3A%20%22red%22%2C%20%22fillOpacity%22%3A%200.3%2C%20%22fillRule%22%3A%20%22evenodd%22%2C%20%22lineCap%22%3A%20%22round%22%2C%20%22lineJoin%22%3A%20%22round%22%2C%20%22opacity%22%3A%201.0%2C%20%22radius%22%3A%202.2164%2C%20%22stroke%22%3A%20true%2C%20%22weight%22%3A%203%7D%0A%20%20%20%20%20%20%20%20%20%20%20%20%29.addTo%28map_8beb3e93bf35463ba585fd348126be1d%29%3B%0A%20%20%20%20%20%20%20%20%0A%20%20%20%20%0A%20%20%20%20%20%20%20%20var%20popup_8e2154dd1d3842c682002d52925e1f2e%20%3D%20L.popup%28%7B%22maxWidth%22%3A%20%22100%25%22%7D%29%3B%0A%0A%20%20%20%20%20%20%20%20%0A%20%20%20%20%20%20%20%20%20%20%20%20var%20html_6e12bf41234d44549f2315f00631cedf%20%3D%20%24%28%60%3Cdiv%20id%3D%22html_6e12bf41234d44549f2315f00631cedf%22%20style%3D%22width%3A%20100.0%25%3B%20height%3A%20100.0%25%3B%22%3E%3Cstrong%3EState%3A-%20Hingoli%3Cbr%3E%20%3Cstrong%3EPositive%20Cases%3A-%2022164%3Cbr%3E%20%3Cstrong%3EActive%20Cases%3A-%204%3Cbr%3E%20%3Cstrong%3ERecovered%20Cases%3A-%2021646%3Cbr%3E%20%3Cstrong%3EDeceased%20Cases%3A-%20513%3Cbr%3E%3C/div%3E%60%29%5B0%5D%3B%0A%20%20%20%20%20%20%20%20%20%20%20%20popup_8e2154dd1d3842c682002d52925e1f2e.setContent%28html_6e12bf41234d44549f2315f00631cedf%29%3B%0A%20%20%20%20%20%20%20%20%0A%0A%20%20%20%20%20%20%20%20circle_marker_651c772cd2f94b069ab48330661d7e5a.bindPopup%28popup_8e2154dd1d3842c682002d52925e1f2e%29%0A%20%20%20%20%20%20%20%20%3B%0A%0A%20%20%20%20%20%20%20%20%0A%20%20%20%20%0A%20%20%20%20%0A%20%20%20%20%20%20%20%20%20%20%20%20var%20circle_marker_bf57e7de4ef044dabe3ffde339bce086%20%3D%20L.circleMarker%28%0A%20%20%20%20%20%20%20%20%20%20%20%20%20%20%20%20%5B21.05%2C%2075.4%5D%2C%0A%20%20%20%20%20%20%20%20%20%20%20%20%20%20%20%20%7B%22bubblingMouseEvents%22%3A%20true%2C%20%22color%22%3A%20%22red%22%2C%20%22dashArray%22%3A%20null%2C%20%22dashOffset%22%3A%20null%2C%20%22fill%22%3A%20true%2C%20%22fillColor%22%3A%20%22red%22%2C%20%22fillOpacity%22%3A%200.3%2C%20%22fillRule%22%3A%20%22evenodd%22%2C%20%22lineCap%22%3A%20%22round%22%2C%20%22lineJoin%22%3A%20%22round%22%2C%20%22opacity%22%3A%201.0%2C%20%22radius%22%3A%2014.945400000000001%2C%20%22stroke%22%3A%20true%2C%20%22weight%22%3A%203%7D%0A%20%20%20%20%20%20%20%20%20%20%20%20%29.addTo%28map_8beb3e93bf35463ba585fd348126be1d%29%3B%0A%20%20%20%20%20%20%20%20%0A%20%20%20%20%0A%20%20%20%20%20%20%20%20var%20popup_c862b8b138e94e959bef424dfbc59d5d%20%3D%20L.popup%28%7B%22maxWidth%22%3A%20%22100%25%22%7D%29%3B%0A%0A%20%20%20%20%20%20%20%20%0A%20%20%20%20%20%20%20%20%20%20%20%20var%20html_f90ca34837a4428fa37ce4ffa4622522%20%3D%20%24%28%60%3Cdiv%20id%3D%22html_f90ca34837a4428fa37ce4ffa4622522%22%20style%3D%22width%3A%20100.0%25%3B%20height%3A%20100.0%25%3B%22%3E%3Cstrong%3EState%3A-%20Jalgaon%3Cbr%3E%20%3Cstrong%3EPositive%20Cases%3A-%20149454%3Cbr%3E%20%3Cstrong%3EActive%20Cases%3A-%2015%3Cbr%3E%20%3Cstrong%3ERecovered%20Cases%3A-%20146678%3Cbr%3E%20%3Cstrong%3EDeceased%20Cases%3A-%202728%3Cbr%3E%3C/div%3E%60%29%5B0%5D%3B%0A%20%20%20%20%20%20%20%20%20%20%20%20popup_c862b8b138e94e959bef424dfbc59d5d.setContent%28html_f90ca34837a4428fa37ce4ffa4622522%29%3B%0A%20%20%20%20%20%20%20%20%0A%0A%20%20%20%20%20%20%20%20circle_marker_bf57e7de4ef044dabe3ffde339bce086.bindPopup%28popup_c862b8b138e94e959bef424dfbc59d5d%29%0A%20%20%20%20%20%20%20%20%3B%0A%0A%20%20%20%20%20%20%20%20%0A%20%20%20%20%0A%20%20%20%20%0A%20%20%20%20%20%20%20%20%20%20%20%20var%20circle_marker_812f3e377b2c440885cecf9b1e080d46%20%3D%20L.circleMarker%28%0A%20%20%20%20%20%20%20%20%20%20%20%20%20%20%20%20%5B19.51%2C%2075.56%5D%2C%0A%20%20%20%20%20%20%20%20%20%20%20%20%20%20%20%20%7B%22bubblingMouseEvents%22%3A%20true%2C%20%22color%22%3A%20%22red%22%2C%20%22dashArray%22%3A%20null%2C%20%22dashOffset%22%3A%20null%2C%20%22fill%22%3A%20true%2C%20%22fillColor%22%3A%20%22red%22%2C%20%22fillOpacity%22%3A%200.3%2C%20%22fillRule%22%3A%20%22evenodd%22%2C%20%22lineCap%22%3A%20%22round%22%2C%20%22lineJoin%22%3A%20%22round%22%2C%20%22opacity%22%3A%201.0%2C%20%22radius%22%3A%206.6296%2C%20%22stroke%22%3A%20true%2C%20%22weight%22%3A%203%7D%0A%20%20%20%20%20%20%20%20%20%20%20%20%29.addTo%28map_8beb3e93bf35463ba585fd348126be1d%29%3B%0A%20%20%20%20%20%20%20%20%0A%20%20%20%20%0A%20%20%20%20%20%20%20%20var%20popup_c2922f680834442f95e0390df67ad94f%20%3D%20L.popup%28%7B%22maxWidth%22%3A%20%22100%25%22%7D%29%3B%0A%0A%20%20%20%20%20%20%20%20%0A%20%20%20%20%20%20%20%20%20%20%20%20var%20html_6ec1a93ba9f844b5975f0b78e9a957b7%20%3D%20%24%28%60%3Cdiv%20id%3D%22html_6ec1a93ba9f844b5975f0b78e9a957b7%22%20style%3D%22width%3A%20100.0%25%3B%20height%3A%20100.0%25%3B%22%3E%3Cstrong%3EState%3A-%20Jalna%3Cbr%3E%20%3Cstrong%3EPositive%20Cases%3A-%2066296%3Cbr%3E%20%3Cstrong%3EActive%20Cases%3A-%204%3Cbr%3E%20%3Cstrong%3ERecovered%20Cases%3A-%2065068%3Cbr%3E%20%3Cstrong%3EDeceased%20Cases%3A-%201223%3Cbr%3E%3C/div%3E%60%29%5B0%5D%3B%0A%20%20%20%20%20%20%20%20%20%20%20%20popup_c2922f680834442f95e0390df67ad94f.setContent%28html_6ec1a93ba9f844b5975f0b78e9a957b7%29%3B%0A%20%20%20%20%20%20%20%20%0A%0A%20%20%20%20%20%20%20%20circle_marker_812f3e377b2c440885cecf9b1e080d46.bindPopup%28popup_c2922f680834442f95e0390df67ad94f%29%0A%20%20%20%20%20%20%20%20%3B%0A%0A%20%20%20%20%20%20%20%20%0A%20%20%20%20%0A%20%20%20%20%0A%20%20%20%20%20%20%20%20%20%20%20%20var%20circle_marker_57b85ee3a87042b8b43233b25b5fa79a%20%3D%20L.circleMarker%28%0A%20%20%20%20%20%20%20%20%20%20%20%20%20%20%20%20%5B16.42%2C%2074.16%5D%2C%0A%20%20%20%20%20%20%20%20%20%20%20%20%20%20%20%20%7B%22bubblingMouseEvents%22%3A%20true%2C%20%22color%22%3A%20%22red%22%2C%20%22dashArray%22%3A%20null%2C%20%22dashOffset%22%3A%20null%2C%20%22fill%22%3A%20true%2C%20%22fillColor%22%3A%20%22red%22%2C%20%22fillOpacity%22%3A%200.3%2C%20%22fillRule%22%3A%20%22evenodd%22%2C%20%22lineCap%22%3A%20%22round%22%2C%20%22lineJoin%22%3A%20%22round%22%2C%20%22opacity%22%3A%201.0%2C%20%22radius%22%3A%2022.040000000000003%2C%20%22stroke%22%3A%20true%2C%20%22weight%22%3A%203%7D%0A%20%20%20%20%20%20%20%20%20%20%20%20%29.addTo%28map_8beb3e93bf35463ba585fd348126be1d%29%3B%0A%20%20%20%20%20%20%20%20%0A%20%20%20%20%0A%20%20%20%20%20%20%20%20var%20popup_7ff400ed0fcf4e619c4a2e94a727cdb9%20%3D%20L.popup%28%7B%22maxWidth%22%3A%20%22100%25%22%7D%29%3B%0A%0A%20%20%20%20%20%20%20%20%0A%20%20%20%20%20%20%20%20%20%20%20%20var%20html_54b17943075b4397bc5d29aec550266d%20%3D%20%24%28%60%3Cdiv%20id%3D%22html_54b17943075b4397bc5d29aec550266d%22%20style%3D%22width%3A%20100.0%25%3B%20height%3A%20100.0%25%3B%22%3E%3Cstrong%3EState%3A-%20Kolhapur%3Cbr%3E%20%3Cstrong%3EPositive%20Cases%3A-%20220400%3Cbr%3E%20%3Cstrong%3EActive%20Cases%3A-%2055%3Cbr%3E%20%3Cstrong%3ERecovered%20Cases%3A-%20214441%3Cbr%3E%20%3Cstrong%3EDeceased%20Cases%3A-%205899%3Cbr%3E%3C/div%3E%60%29%5B0%5D%3B%0A%20%20%20%20%20%20%20%20%20%20%20%20popup_7ff400ed0fcf4e619c4a2e94a727cdb9.setContent%28html_54b17943075b4397bc5d29aec550266d%29%3B%0A%20%20%20%20%20%20%20%20%0A%0A%20%20%20%20%20%20%20%20circle_marker_57b85ee3a87042b8b43233b25b5fa79a.bindPopup%28popup_7ff400ed0fcf4e619c4a2e94a727cdb9%29%0A%20%20%20%20%20%20%20%20%3B%0A%0A%20%20%20%20%20%20%20%20%0A%20%20%20%20%0A%20%20%20%20%0A%20%20%20%20%20%20%20%20%20%20%20%20var%20circle_marker_939c0c31b64c43d6b59459136b1a4989%20%3D%20L.circleMarker%28%0A%20%20%20%20%20%20%20%20%20%20%20%20%20%20%20%20%5B18.24%2C%2076.36%5D%2C%0A%20%20%20%20%20%20%20%20%20%20%20%20%20%20%20%20%7B%22bubblingMouseEvents%22%3A%20true%2C%20%22color%22%3A%20%22red%22%2C%20%22dashArray%22%3A%20null%2C%20%22dashOffset%22%3A%20null%2C%20%22fill%22%3A%20true%2C%20%22fillColor%22%3A%20%22red%22%2C%20%22fillOpacity%22%3A%200.3%2C%20%22fillRule%22%3A%20%22evenodd%22%2C%20%22lineCap%22%3A%20%22round%22%2C%20%22lineJoin%22%3A%20%22round%22%2C%20%22opacity%22%3A%201.0%2C%20%22radius%22%3A%2010.4879%2C%20%22stroke%22%3A%20true%2C%20%22weight%22%3A%203%7D%0A%20%20%20%20%20%20%20%20%20%20%20%20%29.addTo%28map_8beb3e93bf35463ba585fd348126be1d%29%3B%0A%20%20%20%20%20%20%20%20%0A%20%20%20%20%0A%20%20%20%20%20%20%20%20var%20popup_d111596f03d945449868acb850355355%20%3D%20L.popup%28%7B%22maxWidth%22%3A%20%22100%25%22%7D%29%3B%0A%0A%20%20%20%20%20%20%20%20%0A%20%20%20%20%20%20%20%20%20%20%20%20var%20html_f20937b9b5e64ebe8499f6dd63a5e2e4%20%3D%20%24%28%60%3Cdiv%20id%3D%22html_f20937b9b5e64ebe8499f6dd63a5e2e4%22%20style%3D%22width%3A%20100.0%25%3B%20height%3A%20100.0%25%3B%22%3E%3Cstrong%3EState%3A-%20Latur%3Cbr%3E%20%3Cstrong%3EPositive%20Cases%3A-%20104879%3Cbr%3E%20%3Cstrong%3EActive%20Cases%3A-%2012%3Cbr%3E%20%3Cstrong%3ERecovered%20Cases%3A-%20102378%3Cbr%3E%20%3Cstrong%3EDeceased%20Cases%3A-%202483%3Cbr%3E%3C/div%3E%60%29%5B0%5D%3B%0A%20%20%20%20%20%20%20%20%20%20%20%20popup_d111596f03d945449868acb850355355.setContent%28html_f20937b9b5e64ebe8499f6dd63a5e2e4%29%3B%0A%20%20%20%20%20%20%20%20%0A%0A%20%20%20%20%20%20%20%20circle_marker_939c0c31b64c43d6b59459136b1a4989.bindPopup%28popup_d111596f03d945449868acb850355355%29%0A%20%20%20%20%20%20%20%20%3B%0A%0A%20%20%20%20%20%20%20%20%0A%20%20%20%20%0A%20%20%20%20%0A%20%20%20%20%20%20%20%20%20%20%20%20var%20circle_marker_07ca498316ea44b893ccf562e371b0ea%20%3D%20L.circleMarker%28%0A%20%20%20%20%20%20%20%20%20%20%20%20%20%20%20%20%5B18.55%2C%2072.54%5D%2C%0A%20%20%20%20%20%20%20%20%20%20%20%20%20%20%20%20%7B%22bubblingMouseEvents%22%3A%20true%2C%20%22color%22%3A%20%22red%22%2C%20%22dashArray%22%3A%20null%2C%20%22dashOffset%22%3A%20null%2C%20%22fill%22%3A%20true%2C%20%22fillColor%22%3A%20%22red%22%2C%20%22fillOpacity%22%3A%200.3%2C%20%22fillRule%22%3A%20%22evenodd%22%2C%20%22lineCap%22%3A%20%22round%22%2C%20%22lineJoin%22%3A%20%22round%22%2C%20%22opacity%22%3A%201.0%2C%20%22radius%22%3A%20105.5811%2C%20%22stroke%22%3A%20true%2C%20%22weight%22%3A%203%7D%0A%20%20%20%20%20%20%20%20%20%20%20%20%29.addTo%28map_8beb3e93bf35463ba585fd348126be1d%29%3B%0A%20%20%20%20%20%20%20%20%0A%20%20%20%20%0A%20%20%20%20%20%20%20%20var%20popup_ed8b61795a694394bdfbce226d32827a%20%3D%20L.popup%28%7B%22maxWidth%22%3A%20%22100%25%22%7D%29%3B%0A%0A%20%20%20%20%20%20%20%20%0A%20%20%20%20%20%20%20%20%20%20%20%20var%20html_920559ddcb7b48358cd79c68bf87e620%20%3D%20%24%28%60%3Cdiv%20id%3D%22html_920559ddcb7b48358cd79c68bf87e620%22%20style%3D%22width%3A%20100.0%25%3B%20height%3A%20100.0%25%3B%22%3E%3Cstrong%3EState%3A-%20Mumbai%3Cbr%3E%20%3Cstrong%3EPositive%20Cases%3A-%201055811%3Cbr%3E%20%3Cstrong%3EActive%20Cases%3A-%20650%3Cbr%3E%20%3Cstrong%3ERecovered%20Cases%3A-%201035610%3Cbr%3E%20%3Cstrong%3EDeceased%20Cases%3A-%2016691%3Cbr%3E%3C/div%3E%60%29%5B0%5D%3B%0A%20%20%20%20%20%20%20%20%20%20%20%20popup_ed8b61795a694394bdfbce226d32827a.setContent%28html_920559ddcb7b48358cd79c68bf87e620%29%3B%0A%20%20%20%20%20%20%20%20%0A%0A%20%20%20%20%20%20%20%20circle_marker_07ca498316ea44b893ccf562e371b0ea.bindPopup%28popup_ed8b61795a694394bdfbce226d32827a%29%0A%20%20%20%20%20%20%20%20%3B%0A%0A%20%20%20%20%20%20%20%20%0A%20%20%20%20%0A%20%20%20%20%0A%20%20%20%20%20%20%20%20%20%20%20%20var%20circle_marker_c271f5e3429c450b9a51e6afaa020085%20%3D%20L.circleMarker%28%0A%20%20%20%20%20%20%20%20%20%20%20%20%20%20%20%20%5B21.09%2C%2079.09%5D%2C%0A%20%20%20%20%20%20%20%20%20%20%20%20%20%20%20%20%7B%22bubblingMouseEvents%22%3A%20true%2C%20%22color%22%3A%20%22red%22%2C%20%22dashArray%22%3A%20null%2C%20%22dashOffset%22%3A%20null%2C%20%22fill%22%3A%20true%2C%20%22fillColor%22%3A%20%22red%22%2C%20%22fillOpacity%22%3A%200.3%2C%20%22fillRule%22%3A%20%22evenodd%22%2C%20%22lineCap%22%3A%20%22round%22%2C%20%22lineJoin%22%3A%20%22round%22%2C%20%22opacity%22%3A%201.0%2C%20%22radius%22%3A%2057.6191%2C%20%22stroke%22%3A%20true%2C%20%22weight%22%3A%203%7D%0A%20%20%20%20%20%20%20%20%20%20%20%20%29.addTo%28map_8beb3e93bf35463ba585fd348126be1d%29%3B%0A%20%20%20%20%20%20%20%20%0A%20%20%20%20%0A%20%20%20%20%20%20%20%20var%20popup_30a1d8f9107644649822166c69d5a723%20%3D%20L.popup%28%7B%22maxWidth%22%3A%20%22100%25%22%7D%29%3B%0A%0A%20%20%20%20%20%20%20%20%0A%20%20%20%20%20%20%20%20%20%20%20%20var%20html_8083567133e24063a1df2616d12197b6%20%3D%20%24%28%60%3Cdiv%20id%3D%22html_8083567133e24063a1df2616d12197b6%22%20style%3D%22width%3A%20100.0%25%3B%20height%3A%20100.0%25%3B%22%3E%3Cstrong%3EState%3A-%20Nagpur%3Cbr%3E%20%3Cstrong%3EPositive%20Cases%3A-%20576191%3Cbr%3E%20%3Cstrong%3EActive%20Cases%3A-%20211%3Cbr%3E%20%3Cstrong%3ERecovered%20Cases%3A-%20566766%3Cbr%3E%20%3Cstrong%3EDeceased%20Cases%3A-%209143%3Cbr%3E%3C/div%3E%60%29%5B0%5D%3B%0A%20%20%20%20%20%20%20%20%20%20%20%20popup_30a1d8f9107644649822166c69d5a723.setContent%28html_8083567133e24063a1df2616d12197b6%29%3B%0A%20%20%20%20%20%20%20%20%0A%0A%20%20%20%20%20%20%20%20circle_marker_c271f5e3429c450b9a51e6afaa020085.bindPopup%28popup_30a1d8f9107644649822166c69d5a723%29%0A%20%20%20%20%20%20%20%20%3B%0A%0A%20%20%20%20%20%20%20%20%0A%20%20%20%20%0A%20%20%20%20%0A%20%20%20%20%20%20%20%20%20%20%20%20var%20circle_marker_89a3db74ac964f08a81b9bc04c0be1c3%20%3D%20L.circleMarker%28%0A%20%20%20%20%20%20%20%20%20%20%20%20%20%20%20%20%5B19.09%2C%2077.27%5D%2C%0A%20%20%20%20%20%20%20%20%20%20%20%20%20%20%20%20%7B%22bubblingMouseEvents%22%3A%20true%2C%20%22color%22%3A%20%22red%22%2C%20%22dashArray%22%3A%20null%2C%20%22dashOffset%22%3A%20null%2C%20%22fill%22%3A%20true%2C%20%22fillColor%22%3A%20%22red%22%2C%20%22fillOpacity%22%3A%200.3%2C%20%22fillRule%22%3A%20%22evenodd%22%2C%20%22lineCap%22%3A%20%22round%22%2C%20%22lineJoin%22%3A%20%22round%22%2C%20%22opacity%22%3A%201.0%2C%20%22radius%22%3A%2010.2626%2C%20%22stroke%22%3A%20true%2C%20%22weight%22%3A%203%7D%0A%20%20%20%20%20%20%20%20%20%20%20%20%29.addTo%28map_8beb3e93bf35463ba585fd348126be1d%29%3B%0A%20%20%20%20%20%20%20%20%0A%20%20%20%20%0A%20%20%20%20%20%20%20%20var%20popup_2c29f7ce312c48df9f9a1af5b41cf7b6%20%3D%20L.popup%28%7B%22maxWidth%22%3A%20%22100%25%22%7D%29%3B%0A%0A%20%20%20%20%20%20%20%20%0A%20%20%20%20%20%20%20%20%20%20%20%20var%20html_712778f8cbbb4b40a9459fccde1dff7c%20%3D%20%24%28%60%3Cdiv%20id%3D%22html_712778f8cbbb4b40a9459fccde1dff7c%22%20style%3D%22width%3A%20100.0%25%3B%20height%3A%20100.0%25%3B%22%3E%3Cstrong%3EState%3A-%20Nanded%3Cbr%3E%20%3Cstrong%3EPositive%20Cases%3A-%20102626%3Cbr%3E%20%3Cstrong%3EActive%20Cases%3A-%2021%3Cbr%3E%20%3Cstrong%3ERecovered%20Cases%3A-%2099903%3Cbr%3E%20%3Cstrong%3EDeceased%20Cases%3A-%202695%3Cbr%3E%3C/div%3E%60%29%5B0%5D%3B%0A%20%20%20%20%20%20%20%20%20%20%20%20popup_2c29f7ce312c48df9f9a1af5b41cf7b6.setContent%28html_712778f8cbbb4b40a9459fccde1dff7c%29%3B%0A%20%20%20%20%20%20%20%20%0A%0A%20%20%20%20%20%20%20%20circle_marker_89a3db74ac964f08a81b9bc04c0be1c3.bindPopup%28popup_2c29f7ce312c48df9f9a1af5b41cf7b6%29%0A%20%20%20%20%20%20%20%20%3B%0A%0A%20%20%20%20%20%20%20%20%0A%20%20%20%20%0A%20%20%20%20%0A%20%20%20%20%20%20%20%20%20%20%20%20var%20circle_marker_754e48c533b7418392879974e2c5d479%20%3D%20L.circleMarker%28%0A%20%20%20%20%20%20%20%20%20%20%20%20%20%20%20%20%5B21.23%2C%2074.19%5D%2C%0A%20%20%20%20%20%20%20%20%20%20%20%20%20%20%20%20%7B%22bubblingMouseEvents%22%3A%20true%2C%20%22color%22%3A%20%22red%22%2C%20%22dashArray%22%3A%20null%2C%20%22dashOffset%22%3A%20null%2C%20%22fill%22%3A%20true%2C%20%22fillColor%22%3A%20%22red%22%2C%20%22fillOpacity%22%3A%200.3%2C%20%22fillRule%22%3A%20%22evenodd%22%2C%20%22lineCap%22%3A%20%22round%22%2C%20%22lineJoin%22%3A%20%22round%22%2C%20%22opacity%22%3A%201.0%2C%20%22radius%22%3A%204.659%2C%20%22stroke%22%3A%20true%2C%20%22weight%22%3A%203%7D%0A%20%20%20%20%20%20%20%20%20%20%20%20%29.addTo%28map_8beb3e93bf35463ba585fd348126be1d%29%3B%0A%20%20%20%20%20%20%20%20%0A%20%20%20%20%0A%20%20%20%20%20%20%20%20var%20popup_2481d5d684974ddaabb38a4329048fc6%20%3D%20L.popup%28%7B%22maxWidth%22%3A%20%22100%25%22%7D%29%3B%0A%0A%20%20%20%20%20%20%20%20%0A%20%20%20%20%20%20%20%20%20%20%20%20var%20html_389922b5b7694602997639dead7b2520%20%3D%20%24%28%60%3Cdiv%20id%3D%22html_389922b5b7694602997639dead7b2520%22%20style%3D%22width%3A%20100.0%25%3B%20height%3A%20100.0%25%3B%22%3E%3Cstrong%3EState%3A-%20Nandurbar%3Cbr%3E%20%3Cstrong%3EPositive%20Cases%3A-%2046590%3Cbr%3E%20%3Cstrong%3EActive%20Cases%3A-%2020%3Cbr%3E%20%3Cstrong%3ERecovered%20Cases%3A-%2045608%3Cbr%3E%20%3Cstrong%3EDeceased%20Cases%3A-%20959%3Cbr%3E%3C/div%3E%60%29%5B0%5D%3B%0A%20%20%20%20%20%20%20%20%20%20%20%20popup_2481d5d684974ddaabb38a4329048fc6.setContent%28html_389922b5b7694602997639dead7b2520%29%3B%0A%20%20%20%20%20%20%20%20%0A%0A%20%20%20%20%20%20%20%20circle_marker_754e48c533b7418392879974e2c5d479.bindPopup%28popup_2481d5d684974ddaabb38a4329048fc6%29%0A%20%20%20%20%20%20%20%20%3B%0A%0A%20%20%20%20%20%20%20%20%0A%20%20%20%20%0A%20%20%20%20%0A%20%20%20%20%20%20%20%20%20%20%20%20var%20circle_marker_4dc1e5d471114561a2e5e79d6b38dd87%20%3D%20L.circleMarker%28%0A%20%20%20%20%20%20%20%20%20%20%20%20%20%20%20%20%5B20.02%2C%2073.5%5D%2C%0A%20%20%20%20%20%20%20%20%20%20%20%20%20%20%20%20%7B%22bubblingMouseEvents%22%3A%20true%2C%20%22color%22%3A%20%22red%22%2C%20%22dashArray%22%3A%20null%2C%20%22dashOffset%22%3A%20null%2C%20%22fill%22%3A%20true%2C%20%22fillColor%22%3A%20%22red%22%2C%20%22fillOpacity%22%3A%200.3%2C%20%22fillRule%22%3A%20%22evenodd%22%2C%20%22lineCap%22%3A%20%22round%22%2C%20%22lineJoin%22%3A%20%22round%22%2C%20%22opacity%22%3A%201.0%2C%20%22radius%22%3A%2047.2611%2C%20%22stroke%22%3A%20true%2C%20%22weight%22%3A%203%7D%0A%20%20%20%20%20%20%20%20%20%20%20%20%29.addTo%28map_8beb3e93bf35463ba585fd348126be1d%29%3B%0A%20%20%20%20%20%20%20%20%0A%20%20%20%20%0A%20%20%20%20%20%20%20%20var%20popup_5573f9022e6142f5be506467280a973d%20%3D%20L.popup%28%7B%22maxWidth%22%3A%20%22100%25%22%7D%29%3B%0A%0A%20%20%20%20%20%20%20%20%0A%20%20%20%20%20%20%20%20%20%20%20%20var%20html_1b57bf349ba340c6a552add4a876919e%20%3D%20%24%28%60%3Cdiv%20id%3D%22html_1b57bf349ba340c6a552add4a876919e%22%20style%3D%22width%3A%20100.0%25%3B%20height%3A%20100.0%25%3B%22%3E%3Cstrong%3EState%3A-%20Nashik%3Cbr%3E%20%3Cstrong%3EPositive%20Cases%3A-%20472611%3Cbr%3E%20%3Cstrong%3EActive%20Cases%3A-%20303%3Cbr%3E%20%3Cstrong%3ERecovered%20Cases%3A-%20463406%3Cbr%3E%20%3Cstrong%3EDeceased%20Cases%3A-%208901%3Cbr%3E%3C/div%3E%60%29%5B0%5D%3B%0A%20%20%20%20%20%20%20%20%20%20%20%20popup_5573f9022e6142f5be506467280a973d.setContent%28html_1b57bf349ba340c6a552add4a876919e%29%3B%0A%20%20%20%20%20%20%20%20%0A%0A%20%20%20%20%20%20%20%20circle_marker_4dc1e5d471114561a2e5e79d6b38dd87.bindPopup%28popup_5573f9022e6142f5be506467280a973d%29%0A%20%20%20%20%20%20%20%20%3B%0A%0A%20%20%20%20%20%20%20%20%0A%20%20%20%20%0A%20%20%20%20%0A%20%20%20%20%20%20%20%20%20%20%20%20var%20circle_marker_406f3445d1ad49d4a6af1de7d0ee637c%20%3D%20L.circleMarker%28%0A%20%20%20%20%20%20%20%20%20%20%20%20%20%20%20%20%5B18.08%2C%2076.06%5D%2C%0A%20%20%20%20%20%20%20%20%20%20%20%20%20%20%20%20%7B%22bubblingMouseEvents%22%3A%20true%2C%20%22color%22%3A%20%22red%22%2C%20%22dashArray%22%3A%20null%2C%20%22dashOffset%22%3A%20null%2C%20%22fill%22%3A%20true%2C%20%22fillColor%22%3A%20%22red%22%2C%20%22fillOpacity%22%3A%200.3%2C%20%22fillRule%22%3A%20%22evenodd%22%2C%20%22lineCap%22%3A%20%22round%22%2C%20%22lineJoin%22%3A%20%22round%22%2C%20%22opacity%22%3A%201.0%2C%20%22radius%22%3A%207.5083%2C%20%22stroke%22%3A%20true%2C%20%22weight%22%3A%203%7D%0A%20%20%20%20%20%20%20%20%20%20%20%20%29.addTo%28map_8beb3e93bf35463ba585fd348126be1d%29%3B%0A%20%20%20%20%20%20%20%20%0A%20%20%20%20%0A%20%20%20%20%20%20%20%20var%20popup_ce2c1a08330541abba64df61fc27d306%20%3D%20L.popup%28%7B%22maxWidth%22%3A%20%22100%25%22%7D%29%3B%0A%0A%20%20%20%20%20%20%20%20%0A%20%20%20%20%20%20%20%20%20%20%20%20var%20html_09c73d68860b41738ef5039f4b944df7%20%3D%20%24%28%60%3Cdiv%20id%3D%22html_09c73d68860b41738ef5039f4b944df7%22%20style%3D%22width%3A%20100.0%25%3B%20height%3A%20100.0%25%3B%22%3E%3Cstrong%3EState%3A-%20Osmanabad%3Cbr%3E%20%3Cstrong%3EPositive%20Cases%3A-%2075083%3Cbr%3E%20%3Cstrong%3EActive%20Cases%3A-%2028%3Cbr%3E%20%3Cstrong%3ERecovered%20Cases%3A-%2072916%3Cbr%3E%20%3Cstrong%3EDeceased%20Cases%3A-%202023%3Cbr%3E%3C/div%3E%60%29%5B0%5D%3B%0A%20%20%20%20%20%20%20%20%20%20%20%20popup_ce2c1a08330541abba64df61fc27d306.setContent%28html_09c73d68860b41738ef5039f4b944df7%29%3B%0A%20%20%20%20%20%20%20%20%0A%0A%20%20%20%20%20%20%20%20circle_marker_406f3445d1ad49d4a6af1de7d0ee637c.bindPopup%28popup_ce2c1a08330541abba64df61fc27d306%29%0A%20%20%20%20%20%20%20%20%3B%0A%0A%20%20%20%20%20%20%20%20%0A%20%20%20%20%0A%20%20%20%20%0A%20%20%20%20%20%20%20%20%20%20%20%20var%20circle_marker_0bc2ed84725e4309a66ff40ca9158b9e%20%3D%20L.circleMarker%28%0A%20%20%20%20%20%20%20%20%20%20%20%20%20%20%20%20%5B19.69%2C%2072.76%5D%2C%0A%20%20%20%20%20%20%20%20%20%20%20%20%20%20%20%20%7B%22bubblingMouseEvents%22%3A%20true%2C%20%22color%22%3A%20%22red%22%2C%20%22dashArray%22%3A%20null%2C%20%22dashOffset%22%3A%20null%2C%20%22fill%22%3A%20true%2C%20%22fillColor%22%3A%20%22red%22%2C%20%22fillOpacity%22%3A%200.3%2C%20%22fillRule%22%3A%20%22evenodd%22%2C%20%22lineCap%22%3A%20%22round%22%2C%20%22lineJoin%22%3A%20%22round%22%2C%20%22opacity%22%3A%201.0%2C%20%22radius%22%3A%2016.3402%2C%20%22stroke%22%3A%20true%2C%20%22weight%22%3A%203%7D%0A%20%20%20%20%20%20%20%20%20%20%20%20%29.addTo%28map_8beb3e93bf35463ba585fd348126be1d%29%3B%0A%20%20%20%20%20%20%20%20%0A%20%20%20%20%0A%20%20%20%20%20%20%20%20var%20popup_a5ea38631f65473b82764c64b5c14815%20%3D%20L.popup%28%7B%22maxWidth%22%3A%20%22100%25%22%7D%29%3B%0A%0A%20%20%20%20%20%20%20%20%0A%20%20%20%20%20%20%20%20%20%20%20%20var%20html_212b91ddeeb04509b1cbc9faa3ac6890%20%3D%20%24%28%60%3Cdiv%20id%3D%22html_212b91ddeeb04509b1cbc9faa3ac6890%22%20style%3D%22width%3A%20100.0%25%3B%20height%3A%20100.0%25%3B%22%3E%3Cstrong%3EState%3A-%20Palghar%3Cbr%3E%20%3Cstrong%3EPositive%20Cases%3A-%20163402%3Cbr%3E%20%3Cstrong%3EActive%20Cases%3A-%2060%3Cbr%3E%20%3Cstrong%3ERecovered%20Cases%3A-%20159935%3Cbr%3E%20%3Cstrong%3EDeceased%20Cases%3A-%203392%3Cbr%3E%3C/div%3E%60%29%5B0%5D%3B%0A%20%20%20%20%20%20%20%20%20%20%20%20popup_a5ea38631f65473b82764c64b5c14815.setContent%28html_212b91ddeeb04509b1cbc9faa3ac6890%29%3B%0A%20%20%20%20%20%20%20%20%0A%0A%20%20%20%20%20%20%20%20circle_marker_0bc2ed84725e4309a66ff40ca9158b9e.bindPopup%28popup_a5ea38631f65473b82764c64b5c14815%29%0A%20%20%20%20%20%20%20%20%3B%0A%0A%20%20%20%20%20%20%20%20%0A%20%20%20%20%0A%20%20%20%20%0A%20%20%20%20%20%20%20%20%20%20%20%20var%20circle_marker_75228fb9919e48c9ac5daadadbe3d838%20%3D%20L.circleMarker%28%0A%20%20%20%20%20%20%20%20%20%20%20%20%20%20%20%20%5B19.08%2C%2076.5%5D%2C%0A%20%20%20%20%20%20%20%20%20%20%20%20%20%20%20%20%7B%22bubblingMouseEvents%22%3A%20true%2C%20%22color%22%3A%20%22red%22%2C%20%22dashArray%22%3A%20null%2C%20%22dashOffset%22%3A%20null%2C%20%22fill%22%3A%20true%2C%20%22fillColor%22%3A%20%22red%22%2C%20%22fillOpacity%22%3A%200.3%2C%20%22fillRule%22%3A%20%22evenodd%22%2C%20%22lineCap%22%3A%20%22round%22%2C%20%22lineJoin%22%3A%20%22round%22%2C%20%22opacity%22%3A%201.0%2C%20%22radius%22%3A%205.850700000000001%2C%20%22stroke%22%3A%20true%2C%20%22weight%22%3A%203%7D%0A%20%20%20%20%20%20%20%20%20%20%20%20%29.addTo%28map_8beb3e93bf35463ba585fd348126be1d%29%3B%0A%20%20%20%20%20%20%20%20%0A%20%20%20%20%0A%20%20%20%20%20%20%20%20var%20popup_279c317243394ff6a5d4998056d4d758%20%3D%20L.popup%28%7B%22maxWidth%22%3A%20%22100%25%22%7D%29%3B%0A%0A%20%20%20%20%20%20%20%20%0A%20%20%20%20%20%20%20%20%20%20%20%20var%20html_2ad586c0a04443aea965df3bd40a7568%20%3D%20%24%28%60%3Cdiv%20id%3D%22html_2ad586c0a04443aea965df3bd40a7568%22%20style%3D%22width%3A%20100.0%25%3B%20height%3A%20100.0%25%3B%22%3E%3Cstrong%3EState%3A-%20Parbhani%3Cbr%3E%20%3Cstrong%3EPositive%20Cases%3A-%2058507%3Cbr%3E%20%3Cstrong%3EActive%20Cases%3A-%2024%3Cbr%3E%20%3Cstrong%3ERecovered%20Cases%3A-%2057207%3Cbr%3E%20%3Cstrong%3EDeceased%20Cases%3A-%201256%3Cbr%3E%3C/div%3E%60%29%5B0%5D%3B%0A%20%20%20%20%20%20%20%20%20%20%20%20popup_279c317243394ff6a5d4998056d4d758.setContent%28html_2ad586c0a04443aea965df3bd40a7568%29%3B%0A%20%20%20%20%20%20%20%20%0A%0A%20%20%20%20%20%20%20%20circle_marker_75228fb9919e48c9ac5daadadbe3d838.bindPopup%28popup_279c317243394ff6a5d4998056d4d758%29%0A%20%20%20%20%20%20%20%20%3B%0A%0A%20%20%20%20%20%20%20%20%0A%20%20%20%20%0A%20%20%20%20%0A%20%20%20%20%20%20%20%20%20%20%20%20var%20circle_marker_c561854ce17146ac84336379fd64282b%20%3D%20L.circleMarker%28%0A%20%20%20%20%20%20%20%20%20%20%20%20%20%20%20%20%5B18.31%2C%2073.55%5D%2C%0A%20%20%20%20%20%20%20%20%20%20%20%20%20%20%20%20%7B%22bubblingMouseEvents%22%3A%20true%2C%20%22color%22%3A%20%22red%22%2C%20%22dashArray%22%3A%20null%2C%20%22dashOffset%22%3A%20null%2C%20%22fill%22%3A%20true%2C%20%22fillColor%22%3A%20%22red%22%2C%20%22fillOpacity%22%3A%200.3%2C%20%22fillRule%22%3A%20%22evenodd%22%2C%20%22lineCap%22%3A%20%22round%22%2C%20%22lineJoin%22%3A%20%22round%22%2C%20%22opacity%22%3A%201.0%2C%20%22radius%22%3A%20145.03900000000002%2C%20%22stroke%22%3A%20true%2C%20%22weight%22%3A%203%7D%0A%20%20%20%20%20%20%20%20%20%20%20%20%29.addTo%28map_8beb3e93bf35463ba585fd348126be1d%29%3B%0A%20%20%20%20%20%20%20%20%0A%20%20%20%20%0A%20%20%20%20%20%20%20%20var%20popup_be2412302fc94f4f8b647c3d78ee9464%20%3D%20L.popup%28%7B%22maxWidth%22%3A%20%22100%25%22%7D%29%3B%0A%0A%20%20%20%20%20%20%20%20%0A%20%20%20%20%20%20%20%20%20%20%20%20var%20html_7812374009854c16b639f48252cf543d%20%3D%20%24%28%60%3Cdiv%20id%3D%22html_7812374009854c16b639f48252cf543d%22%20style%3D%22width%3A%20100.0%25%3B%20height%3A%20100.0%25%3B%22%3E%3Cstrong%3EState%3A-%20Pune%3Cbr%3E%20%3Cstrong%3EPositive%20Cases%3A-%201450390%3Cbr%3E%20%3Cstrong%3EActive%20Cases%3A-%201833%3Cbr%3E%20%3Cstrong%3ERecovered%20Cases%3A-%201428051%3Cbr%3E%20%3Cstrong%3EDeceased%20Cases%3A-%2020156%3Cbr%3E%3C/div%3E%60%29%5B0%5D%3B%0A%20%20%20%20%20%20%20%20%20%20%20%20popup_be2412302fc94f4f8b647c3d78ee9464.setContent%28html_7812374009854c16b639f48252cf543d%29%3B%0A%20%20%20%20%20%20%20%20%0A%0A%20%20%20%20%20%20%20%20circle_marker_c561854ce17146ac84336379fd64282b.bindPopup%28popup_be2412302fc94f4f8b647c3d78ee9464%29%0A%20%20%20%20%20%20%20%20%3B%0A%0A%20%20%20%20%20%20%20%20%0A%20%20%20%20%0A%20%20%20%20%0A%20%20%20%20%20%20%20%20%20%20%20%20var%20circle_marker_5fb6a83c3c614a00b30e2b00f2370e37%20%3D%20L.circleMarker%28%0A%20%20%20%20%20%20%20%20%20%20%20%20%20%20%20%20%5B18.51%2C%2073.18%5D%2C%0A%20%20%20%20%20%20%20%20%20%20%20%20%20%20%20%20%7B%22bubblingMouseEvents%22%3A%20true%2C%20%22color%22%3A%20%22red%22%2C%20%22dashArray%22%3A%20null%2C%20%22dashOffset%22%3A%20null%2C%20%22fill%22%3A%20true%2C%20%22fillColor%22%3A%20%22red%22%2C%20%22fillOpacity%22%3A%200.3%2C%20%22fillRule%22%3A%20%22evenodd%22%2C%20%22lineCap%22%3A%20%22round%22%2C%20%22lineJoin%22%3A%20%22round%22%2C%20%22opacity%22%3A%201.0%2C%20%22radius%22%3A%2024.4158%2C%20%22stroke%22%3A%20true%2C%20%22weight%22%3A%203%7D%0A%20%20%20%20%20%20%20%20%20%20%20%20%29.addTo%28map_8beb3e93bf35463ba585fd348126be1d%29%3B%0A%20%20%20%20%20%20%20%20%0A%20%20%20%20%0A%20%20%20%20%20%20%20%20var%20popup_7708f15624f44c59ac131629d526f4c8%20%3D%20L.popup%28%7B%22maxWidth%22%3A%20%22100%25%22%7D%29%3B%0A%0A%20%20%20%20%20%20%20%20%0A%20%20%20%20%20%20%20%20%20%20%20%20var%20html_2415cf9ea44747328fa48533fb9c0858%20%3D%20%24%28%60%3Cdiv%20id%3D%22html_2415cf9ea44747328fa48533fb9c0858%22%20style%3D%22width%3A%20100.0%25%3B%20height%3A%20100.0%25%3B%22%3E%3Cstrong%3EState%3A-%20Raigad%3Cbr%3E%20%3Cstrong%3EPositive%20Cases%3A-%20244158%3Cbr%3E%20%3Cstrong%3EActive%20Cases%3A-%20123%3Cbr%3E%20%3Cstrong%3ERecovered%20Cases%3A-%20239092%3Cbr%3E%20%3Cstrong%3EDeceased%20Cases%3A-%204936%3Cbr%3E%3C/div%3E%60%29%5B0%5D%3B%0A%20%20%20%20%20%20%20%20%20%20%20%20popup_7708f15624f44c59ac131629d526f4c8.setContent%28html_2415cf9ea44747328fa48533fb9c0858%29%3B%0A%20%20%20%20%20%20%20%20%0A%0A%20%20%20%20%20%20%20%20circle_marker_5fb6a83c3c614a00b30e2b00f2370e37.bindPopup%28popup_7708f15624f44c59ac131629d526f4c8%29%0A%20%20%20%20%20%20%20%20%3B%0A%0A%20%20%20%20%20%20%20%20%0A%20%20%20%20%0A%20%20%20%20%0A%20%20%20%20%20%20%20%20%20%20%20%20var%20circle_marker_6317d5fd9d5b43db81dcc6d69fab4e5e%20%3D%20L.circleMarker%28%0A%20%20%20%20%20%20%20%20%20%20%20%20%20%20%20%20%5B17.08%2C%2073.19%5D%2C%0A%20%20%20%20%20%20%20%20%20%20%20%20%20%20%20%20%7B%22bubblingMouseEvents%22%3A%20true%2C%20%22color%22%3A%20%22red%22%2C%20%22dashArray%22%3A%20null%2C%20%22dashOffset%22%3A%20null%2C%20%22fill%22%3A%20true%2C%20%22fillColor%22%3A%20%22red%22%2C%20%22fillOpacity%22%3A%200.3%2C%20%22fillRule%22%3A%20%22evenodd%22%2C%20%22lineCap%22%3A%20%22round%22%2C%20%22lineJoin%22%3A%20%22round%22%2C%20%22opacity%22%3A%201.0%2C%20%22radius%22%3A%208.4383%2C%20%22stroke%22%3A%20true%2C%20%22weight%22%3A%203%7D%0A%20%20%20%20%20%20%20%20%20%20%20%20%29.addTo%28map_8beb3e93bf35463ba585fd348126be1d%29%3B%0A%20%20%20%20%20%20%20%20%0A%20%20%20%20%0A%20%20%20%20%20%20%20%20var%20popup_cf555e37e2254455b7c7175e0a15ff68%20%3D%20L.popup%28%7B%22maxWidth%22%3A%20%22100%25%22%7D%29%3B%0A%0A%20%20%20%20%20%20%20%20%0A%20%20%20%20%20%20%20%20%20%20%20%20var%20html_dc8bfb1053ef49a08b161ee56fbc1888%20%3D%20%24%28%60%3Cdiv%20id%3D%22html_dc8bfb1053ef49a08b161ee56fbc1888%22%20style%3D%22width%3A%20100.0%25%3B%20height%3A%20100.0%25%3B%22%3E%3Cstrong%3EState%3A-%20Ratnagiri%3Cbr%3E%20%3Cstrong%3EPositive%20Cases%3A-%2084383%3Cbr%3E%20%3Cstrong%3EActive%20Cases%3A-%2010%3Cbr%3E%20%3Cstrong%3ERecovered%20Cases%3A-%2081827%3Cbr%3E%20%3Cstrong%3EDeceased%20Cases%3A-%202541%3Cbr%3E%3C/div%3E%60%29%5B0%5D%3B%0A%20%20%20%20%20%20%20%20%20%20%20%20popup_cf555e37e2254455b7c7175e0a15ff68.setContent%28html_dc8bfb1053ef49a08b161ee56fbc1888%29%3B%0A%20%20%20%20%20%20%20%20%0A%0A%20%20%20%20%20%20%20%20circle_marker_6317d5fd9d5b43db81dcc6d69fab4e5e.bindPopup%28popup_cf555e37e2254455b7c7175e0a15ff68%29%0A%20%20%20%20%20%20%20%20%3B%0A%0A%20%20%20%20%20%20%20%20%0A%20%20%20%20%0A%20%20%20%20%0A%20%20%20%20%20%20%20%20%20%20%20%20var%20circle_marker_8f451404bc634810b8cb46eaec22837d%20%3D%20L.circleMarker%28%0A%20%20%20%20%20%20%20%20%20%20%20%20%20%20%20%20%5B16.52%2C%2074.36%5D%2C%0A%20%20%20%20%20%20%20%20%20%20%20%20%20%20%20%20%7B%22bubblingMouseEvents%22%3A%20true%2C%20%22color%22%3A%20%22red%22%2C%20%22dashArray%22%3A%20null%2C%20%22dashOffset%22%3A%20null%2C%20%22fill%22%3A%20true%2C%20%22fillColor%22%3A%20%22red%22%2C%20%22fillOpacity%22%3A%200.3%2C%20%22fillRule%22%3A%20%22evenodd%22%2C%20%22lineCap%22%3A%20%22round%22%2C%20%22lineJoin%22%3A%20%22round%22%2C%20%22opacity%22%3A%201.0%2C%20%22radius%22%3A%2022.6945%2C%20%22stroke%22%3A%20true%2C%20%22weight%22%3A%203%7D%0A%20%20%20%20%20%20%20%20%20%20%20%20%29.addTo%28map_8beb3e93bf35463ba585fd348126be1d%29%3B%0A%20%20%20%20%20%20%20%20%0A%20%20%20%20%0A%20%20%20%20%20%20%20%20var%20popup_2670a6de9853425a8db77dfb85ee66d7%20%3D%20L.popup%28%7B%22maxWidth%22%3A%20%22100%25%22%7D%29%3B%0A%0A%20%20%20%20%20%20%20%20%0A%20%20%20%20%20%20%20%20%20%20%20%20var%20html_fc53418161794311b9624fbb308c851b%20%3D%20%24%28%60%3Cdiv%20id%3D%22html_fc53418161794311b9624fbb308c851b%22%20style%3D%22width%3A%20100.0%25%3B%20height%3A%20100.0%25%3B%22%3E%3Cstrong%3EState%3A-%20Sangli%3Cbr%3E%20%3Cstrong%3EPositive%20Cases%3A-%20226945%3Cbr%3E%20%3Cstrong%3EActive%20Cases%3A-%2049%3Cbr%3E%20%3Cstrong%3ERecovered%20Cases%3A-%20221232%3Cbr%3E%20%3Cstrong%3EDeceased%20Cases%3A-%205655%3Cbr%3E%3C/div%3E%60%29%5B0%5D%3B%0A%20%20%20%20%20%20%20%20%20%20%20%20popup_2670a6de9853425a8db77dfb85ee66d7.setContent%28html_fc53418161794311b9624fbb308c851b%29%3B%0A%20%20%20%20%20%20%20%20%0A%0A%20%20%20%20%20%20%20%20circle_marker_8f451404bc634810b8cb46eaec22837d.bindPopup%28popup_2670a6de9853425a8db77dfb85ee66d7%29%0A%20%20%20%20%20%20%20%20%3B%0A%0A%20%20%20%20%20%20%20%20%0A%20%20%20%20%0A%20%20%20%20%0A%20%20%20%20%20%20%20%20%20%20%20%20var%20circle_marker_6683d02495e84ca088a4cc79d6a0d7c5%20%3D%20L.circleMarker%28%0A%20%20%20%20%20%20%20%20%20%20%20%20%20%20%20%20%5B17.42%2C%2074.02%5D%2C%0A%20%20%20%20%20%20%20%20%20%20%20%20%20%20%20%20%7B%22bubblingMouseEvents%22%3A%20true%2C%20%22color%22%3A%20%22red%22%2C%20%22dashArray%22%3A%20null%2C%20%22dashOffset%22%3A%20null%2C%20%22fill%22%3A%20true%2C%20%22fillColor%22%3A%20%22red%22%2C%20%22fillOpacity%22%3A%200.3%2C%20%22fillRule%22%3A%20%22evenodd%22%2C%20%22lineCap%22%3A%20%22round%22%2C%20%22lineJoin%22%3A%20%22round%22%2C%20%22opacity%22%3A%201.0%2C%20%22radius%22%3A%2027.8046%2C%20%22stroke%22%3A%20true%2C%20%22weight%22%3A%203%7D%0A%20%20%20%20%20%20%20%20%20%20%20%20%29.addTo%28map_8beb3e93bf35463ba585fd348126be1d%29%3B%0A%20%20%20%20%20%20%20%20%0A%20%20%20%20%0A%20%20%20%20%20%20%20%20var%20popup_0f817bb035c246c6badc3d4a44bf275f%20%3D%20L.popup%28%7B%22maxWidth%22%3A%20%22100%25%22%7D%29%3B%0A%0A%20%20%20%20%20%20%20%20%0A%20%20%20%20%20%20%20%20%20%20%20%20var%20html_1462ce60750f4ae8b02cc9674f9954e3%20%3D%20%24%28%60%3Cdiv%20id%3D%22html_1462ce60750f4ae8b02cc9674f9954e3%22%20style%3D%22width%3A%20100.0%25%3B%20height%3A%20100.0%25%3B%22%3E%3Cstrong%3EState%3A-%20Satara%3Cbr%3E%20%3Cstrong%3EPositive%20Cases%3A-%20278046%3Cbr%3E%20%3Cstrong%3EActive%20Cases%3A-%2079%3Cbr%3E%20%3Cstrong%3ERecovered%20Cases%3A-%20271259%3Cbr%3E%20%3Cstrong%3EDeceased%20Cases%3A-%206674%3Cbr%3E%3C/div%3E%60%29%5B0%5D%3B%0A%20%20%20%20%20%20%20%20%20%20%20%20popup_0f817bb035c246c6badc3d4a44bf275f.setContent%28html_1462ce60750f4ae8b02cc9674f9954e3%29%3B%0A%20%20%20%20%20%20%20%20%0A%0A%20%20%20%20%20%20%20%20circle_marker_6683d02495e84ca088a4cc79d6a0d7c5.bindPopup%28popup_0f817bb035c246c6badc3d4a44bf275f%29%0A%20%20%20%20%20%20%20%20%3B%0A%0A%20%20%20%20%20%20%20%20%0A%20%20%20%20%0A%20%20%20%20%0A%20%20%20%20%20%20%20%20%20%20%20%20var%20circle_marker_b3eddfebb3cc42cd882222a098bb9d49%20%3D%20L.circleMarker%28%0A%20%20%20%20%20%20%20%20%20%20%20%20%20%20%20%20%5B16.34%2C%2073.55%5D%2C%0A%20%20%20%20%20%20%20%20%20%20%20%20%20%20%20%20%7B%22bubblingMouseEvents%22%3A%20true%2C%20%22color%22%3A%20%22red%22%2C%20%22dashArray%22%3A%20null%2C%20%22dashOffset%22%3A%20null%2C%20%22fill%22%3A%20true%2C%20%22fillColor%22%3A%20%22red%22%2C%20%22fillOpacity%22%3A%200.3%2C%20%22fillRule%22%3A%20%22evenodd%22%2C%20%22lineCap%22%3A%20%22round%22%2C%20%22lineJoin%22%3A%20%22round%22%2C%20%22opacity%22%3A%201.0%2C%20%22radius%22%3A%205.7125%2C%20%22stroke%22%3A%20true%2C%20%22weight%22%3A%203%7D%0A%20%20%20%20%20%20%20%20%20%20%20%20%29.addTo%28map_8beb3e93bf35463ba585fd348126be1d%29%3B%0A%20%20%20%20%20%20%20%20%0A%20%20%20%20%0A%20%20%20%20%20%20%20%20var%20popup_128740affde645d8b8d3252f74d15097%20%3D%20L.popup%28%7B%22maxWidth%22%3A%20%22100%25%22%7D%29%3B%0A%0A%20%20%20%20%20%20%20%20%0A%20%20%20%20%20%20%20%20%20%20%20%20var%20html_4f5c1fdcdf884ac384305ae180c7fdb7%20%3D%20%24%28%60%3Cdiv%20id%3D%22html_4f5c1fdcdf884ac384305ae180c7fdb7%22%20style%3D%22width%3A%20100.0%25%3B%20height%3A%20100.0%25%3B%22%3E%3Cstrong%3EState%3A-%20Sindhudurg%3Cbr%3E%20%3Cstrong%3EPositive%20Cases%3A-%2057125%3Cbr%3E%20%3Cstrong%3EActive%20Cases%3A-%20130%3Cbr%3E%20%3Cstrong%3ERecovered%20Cases%3A-%2055469%3Cbr%3E%20%3Cstrong%3EDeceased%20Cases%3A-%201511%3Cbr%3E%3C/div%3E%60%29%5B0%5D%3B%0A%20%20%20%20%20%20%20%20%20%20%20%20popup_128740affde645d8b8d3252f74d15097.setContent%28html_4f5c1fdcdf884ac384305ae180c7fdb7%29%3B%0A%20%20%20%20%20%20%20%20%0A%0A%20%20%20%20%20%20%20%20circle_marker_b3eddfebb3cc42cd882222a098bb9d49.bindPopup%28popup_128740affde645d8b8d3252f74d15097%29%0A%20%20%20%20%20%20%20%20%3B%0A%0A%20%20%20%20%20%20%20%20%0A%20%20%20%20%0A%20%20%20%20%0A%20%20%20%20%20%20%20%20%20%20%20%20var%20circle_marker_971c9860d6a04fa5b5e4c069ea188257%20%3D%20L.circleMarker%28%0A%20%20%20%20%20%20%20%20%20%20%20%20%20%20%20%20%5B17.66%2C%2075.9%5D%2C%0A%20%20%20%20%20%20%20%20%20%20%20%20%20%20%20%20%7B%22bubblingMouseEvents%22%3A%20true%2C%20%22color%22%3A%20%22red%22%2C%20%22dashArray%22%3A%20null%2C%20%22dashOffset%22%3A%20null%2C%20%22fill%22%3A%20true%2C%20%22fillColor%22%3A%20%22red%22%2C%20%22fillOpacity%22%3A%200.3%2C%20%22fillRule%22%3A%20%22evenodd%22%2C%20%22lineCap%22%3A%20%22round%22%2C%20%22lineJoin%22%3A%20%22round%22%2C%20%22opacity%22%3A%201.0%2C%20%22radius%22%3A%2022.6968%2C%20%22stroke%22%3A%20true%2C%20%22weight%22%3A%203%7D%0A%20%20%20%20%20%20%20%20%20%20%20%20%29.addTo%28map_8beb3e93bf35463ba585fd348126be1d%29%3B%0A%20%20%20%20%20%20%20%20%0A%20%20%20%20%0A%20%20%20%20%20%20%20%20var%20popup_2f28c011745b48ba9b2226e292b064d5%20%3D%20L.popup%28%7B%22maxWidth%22%3A%20%22100%25%22%7D%29%3B%0A%0A%20%20%20%20%20%20%20%20%0A%20%20%20%20%20%20%20%20%20%20%20%20var%20html_a6355031eeb34fa4981bf4ae84922a60%20%3D%20%24%28%60%3Cdiv%20id%3D%22html_a6355031eeb34fa4981bf4ae84922a60%22%20style%3D%22width%3A%20100.0%25%3B%20height%3A%20100.0%25%3B%22%3E%3Cstrong%3EState%3A-%20Solapur%3Cbr%3E%20%3Cstrong%3EPositive%20Cases%3A-%20226968%3Cbr%3E%20%3Cstrong%3EActive%20Cases%3A-%2059%3Cbr%3E%20%3Cstrong%3ERecovered%20Cases%3A-%20221035%3Cbr%3E%20%3Cstrong%3EDeceased%20Cases%3A-%205757%3Cbr%3E%3C/div%3E%60%29%5B0%5D%3B%0A%20%20%20%20%20%20%20%20%20%20%20%20popup_2f28c011745b48ba9b2226e292b064d5.setContent%28html_a6355031eeb34fa4981bf4ae84922a60%29%3B%0A%20%20%20%20%20%20%20%20%0A%0A%20%20%20%20%20%20%20%20circle_marker_971c9860d6a04fa5b5e4c069ea188257.bindPopup%28popup_2f28c011745b48ba9b2226e292b064d5%29%0A%20%20%20%20%20%20%20%20%3B%0A%0A%20%20%20%20%20%20%20%20%0A%20%20%20%20%0A%20%20%20%20%0A%20%20%20%20%20%20%20%20%20%20%20%20var%20circle_marker_e566c9e9e6384bbca03d1a4b0c6e217d%20%3D%20L.circleMarker%28%0A%20%20%20%20%20%20%20%20%20%20%20%20%20%20%20%20%5B19.12%2C%2073.02%5D%2C%0A%20%20%20%20%20%20%20%20%20%20%20%20%20%20%20%20%7B%22bubblingMouseEvents%22%3A%20true%2C%20%22color%22%3A%20%22red%22%2C%20%22dashArray%22%3A%20null%2C%20%22dashOffset%22%3A%20null%2C%20%22fill%22%3A%20true%2C%20%22fillColor%22%3A%20%22red%22%2C%20%22fillOpacity%22%3A%200.3%2C%20%22fillRule%22%3A%20%22evenodd%22%2C%20%22lineCap%22%3A%20%22round%22%2C%20%22lineJoin%22%3A%20%22round%22%2C%20%22opacity%22%3A%201.0%2C%20%22radius%22%3A%2076.6202%2C%20%22stroke%22%3A%20true%2C%20%22weight%22%3A%203%7D%0A%20%20%20%20%20%20%20%20%20%20%20%20%29.addTo%28map_8beb3e93bf35463ba585fd348126be1d%29%3B%0A%20%20%20%20%20%20%20%20%0A%20%20%20%20%0A%20%20%20%20%20%20%20%20var%20popup_af4fd92c7ab549928072dd21632e451b%20%3D%20L.popup%28%7B%22maxWidth%22%3A%20%22100%25%22%7D%29%3B%0A%0A%20%20%20%20%20%20%20%20%0A%20%20%20%20%20%20%20%20%20%20%20%20var%20html_ceed2d87ed3e46c294da1ec1e42db7da%20%3D%20%24%28%60%3Cdiv%20id%3D%22html_ceed2d87ed3e46c294da1ec1e42db7da%22%20style%3D%22width%3A%20100.0%25%3B%20height%3A%20100.0%25%3B%22%3E%3Cstrong%3EState%3A-%20Thane%3Cbr%3E%20%3Cstrong%3EPositive%20Cases%3A-%20766202%3Cbr%3E%20%3Cstrong%3EActive%20Cases%3A-%20405%3Cbr%3E%20%3Cstrong%3ERecovered%20Cases%3A-%20753903%3Cbr%3E%20%3Cstrong%3EDeceased%20Cases%3A-%2011859%3Cbr%3E%3C/div%3E%60%29%5B0%5D%3B%0A%20%20%20%20%20%20%20%20%20%20%20%20popup_af4fd92c7ab549928072dd21632e451b.setContent%28html_ceed2d87ed3e46c294da1ec1e42db7da%29%3B%0A%20%20%20%20%20%20%20%20%0A%0A%20%20%20%20%20%20%20%20circle_marker_e566c9e9e6384bbca03d1a4b0c6e217d.bindPopup%28popup_af4fd92c7ab549928072dd21632e451b%29%0A%20%20%20%20%20%20%20%20%3B%0A%0A%20%20%20%20%20%20%20%20%0A%20%20%20%20%0A%20%20%20%20%0A%20%20%20%20%20%20%20%20%20%20%20%20var%20circle_marker_43bf16de28b74bc090feba7d83a012fe%20%3D%20L.circleMarker%28%0A%20%20%20%20%20%20%20%20%20%20%20%20%20%20%20%20%5B20.74%2C%2078.6%5D%2C%0A%20%20%20%20%20%20%20%20%20%20%20%20%20%20%20%20%7B%22bubblingMouseEvents%22%3A%20true%2C%20%22color%22%3A%20%22red%22%2C%20%22dashArray%22%3A%20null%2C%20%22dashOffset%22%3A%20null%2C%20%22fill%22%3A%20true%2C%20%22fillColor%22%3A%20%22red%22%2C%20%22fillOpacity%22%3A%200.3%2C%20%22fillRule%22%3A%20%22evenodd%22%2C%20%22lineCap%22%3A%20%22round%22%2C%20%22lineJoin%22%3A%20%22round%22%2C%20%22opacity%22%3A%201.0%2C%20%22radius%22%3A%206.5656%2C%20%22stroke%22%3A%20true%2C%20%22weight%22%3A%203%7D%0A%20%20%20%20%20%20%20%20%20%20%20%20%29.addTo%28map_8beb3e93bf35463ba585fd348126be1d%29%3B%0A%20%20%20%20%20%20%20%20%0A%20%20%20%20%0A%20%20%20%20%20%20%20%20var%20popup_455e387b3c53430bb7219e1fad40b302%20%3D%20L.popup%28%7B%22maxWidth%22%3A%20%22100%25%22%7D%29%3B%0A%0A%20%20%20%20%20%20%20%20%0A%20%20%20%20%20%20%20%20%20%20%20%20var%20html_781951ce46724285b462d5825bd7cd25%20%3D%20%24%28%60%3Cdiv%20id%3D%22html_781951ce46724285b462d5825bd7cd25%22%20style%3D%22width%3A%20100.0%25%3B%20height%3A%20100.0%25%3B%22%3E%3Cstrong%3EState%3A-%20Wardha%3Cbr%3E%20%3Cstrong%3EPositive%20Cases%3A-%2065656%3Cbr%3E%20%3Cstrong%3EActive%20Cases%3A-%2013%3Cbr%3E%20%3Cstrong%3ERecovered%20Cases%3A-%2064235%3Cbr%3E%20%3Cstrong%3EDeceased%20Cases%3A-%201237%3Cbr%3E%3C/div%3E%60%29%5B0%5D%3B%0A%20%20%20%20%20%20%20%20%20%20%20%20popup_455e387b3c53430bb7219e1fad40b302.setContent%28html_781951ce46724285b462d5825bd7cd25%29%3B%0A%20%20%20%20%20%20%20%20%0A%0A%20%20%20%20%20%20%20%20circle_marker_43bf16de28b74bc090feba7d83a012fe.bindPopup%28popup_455e387b3c53430bb7219e1fad40b302%29%0A%20%20%20%20%20%20%20%20%3B%0A%0A%20%20%20%20%20%20%20%20%0A%20%20%20%20%0A%20%20%20%20%0A%20%20%20%20%20%20%20%20%20%20%20%20var%20circle_marker_0145fc834cb9466098563e8ef7264c34%20%3D%20L.circleMarker%28%0A%20%20%20%20%20%20%20%20%20%20%20%20%20%20%20%20%5B20.1%2C%2077.14%5D%2C%0A%20%20%20%20%20%20%20%20%20%20%20%20%20%20%20%20%7B%22bubblingMouseEvents%22%3A%20true%2C%20%22color%22%3A%20%22red%22%2C%20%22dashArray%22%3A%20null%2C%20%22dashOffset%22%3A%20null%2C%20%22fill%22%3A%20true%2C%20%22fillColor%22%3A%20%22red%22%2C%20%22fillOpacity%22%3A%200.3%2C%20%22fillRule%22%3A%20%22evenodd%22%2C%20%22lineCap%22%3A%20%22round%22%2C%20%22lineJoin%22%3A%20%22round%22%2C%20%22opacity%22%3A%201.0%2C%20%22radius%22%3A%204.559200000000001%2C%20%22stroke%22%3A%20true%2C%20%22weight%22%3A%203%7D%0A%20%20%20%20%20%20%20%20%20%20%20%20%29.addTo%28map_8beb3e93bf35463ba585fd348126be1d%29%3B%0A%20%20%20%20%20%20%20%20%0A%20%20%20%20%0A%20%20%20%20%20%20%20%20var%20popup_206abeb8bd754c4895b41fb45cc9ede4%20%3D%20L.popup%28%7B%22maxWidth%22%3A%20%22100%25%22%7D%29%3B%0A%0A%20%20%20%20%20%20%20%20%0A%20%20%20%20%20%20%20%20%20%20%20%20var%20html_ddb56568234246f5bffa8e97071b455e%20%3D%20%24%28%60%3Cdiv%20id%3D%22html_ddb56568234246f5bffa8e97071b455e%22%20style%3D%22width%3A%20100.0%25%3B%20height%3A%20100.0%25%3B%22%3E%3Cstrong%3EState%3A-%20Washim%3Cbr%3E%20%3Cstrong%3EPositive%20Cases%3A-%2045592%3Cbr%3E%20%3Cstrong%3EActive%20Cases%3A-%2017%3Cbr%3E%20%3Cstrong%3ERecovered%20Cases%3A-%2044934%3Cbr%3E%20%3Cstrong%3EDeceased%20Cases%3A-%20638%3Cbr%3E%3C/div%3E%60%29%5B0%5D%3B%0A%20%20%20%20%20%20%20%20%20%20%20%20popup_206abeb8bd754c4895b41fb45cc9ede4.setContent%28html_ddb56568234246f5bffa8e97071b455e%29%3B%0A%20%20%20%20%20%20%20%20%0A%0A%20%20%20%20%20%20%20%20circle_marker_0145fc834cb9466098563e8ef7264c34.bindPopup%28popup_206abeb8bd754c4895b41fb45cc9ede4%29%0A%20%20%20%20%20%20%20%20%3B%0A%0A%20%20%20%20%20%20%20%20%0A%20%20%20%20%0A%20%20%20%20%0A%20%20%20%20%20%20%20%20%20%20%20%20var%20circle_marker_d4ebdf4d090749d29458001e0ad808d5%20%3D%20L.circleMarker%28%0A%20%20%20%20%20%20%20%20%20%20%20%20%20%20%20%20%5B20.23%2C%2078.11%5D%2C%0A%20%20%20%20%20%20%20%20%20%20%20%20%20%20%20%20%7B%22bubblingMouseEvents%22%3A%20true%2C%20%22color%22%3A%20%22red%22%2C%20%22dashArray%22%3A%20null%2C%20%22dashOffset%22%3A%20null%2C%20%22fill%22%3A%20true%2C%20%22fillColor%22%3A%20%22red%22%2C%20%22fillOpacity%22%3A%200.3%2C%20%22fillRule%22%3A%20%22evenodd%22%2C%20%22lineCap%22%3A%20%22round%22%2C%20%22lineJoin%22%3A%20%22round%22%2C%20%22opacity%22%3A%201.0%2C%20%22radius%22%3A%208.1972%2C%20%22stroke%22%3A%20true%2C%20%22weight%22%3A%203%7D%0A%20%20%20%20%20%20%20%20%20%20%20%20%29.addTo%28map_8beb3e93bf35463ba585fd348126be1d%29%3B%0A%20%20%20%20%20%20%20%20%0A%20%20%20%20%0A%20%20%20%20%20%20%20%20var%20popup_d125cfdd09a54a62996df80e617d92df%20%3D%20L.popup%28%7B%22maxWidth%22%3A%20%22100%25%22%7D%29%3B%0A%0A%20%20%20%20%20%20%20%20%0A%20%20%20%20%20%20%20%20%20%20%20%20var%20html_ad5104266dcc40c2b90fd8b83fd3c2cd%20%3D%20%24%28%60%3Cdiv%20id%3D%22html_ad5104266dcc40c2b90fd8b83fd3c2cd%22%20style%3D%22width%3A%20100.0%25%3B%20height%3A%20100.0%25%3B%22%3E%3Cstrong%3EState%3A-%20Yavatmal%3Cbr%3E%20%3Cstrong%3EPositive%20Cases%3A-%2081972%3Cbr%3E%20%3Cstrong%3EActive%20Cases%3A-%2018%3Cbr%3E%20%3Cstrong%3ERecovered%20Cases%3A-%2080134%3Cbr%3E%20%3Cstrong%3EDeceased%20Cases%3A-%201816%3Cbr%3E%3C/div%3E%60%29%5B0%5D%3B%0A%20%20%20%20%20%20%20%20%20%20%20%20popup_d125cfdd09a54a62996df80e617d92df.setContent%28html_ad5104266dcc40c2b90fd8b83fd3c2cd%29%3B%0A%20%20%20%20%20%20%20%20%0A%0A%20%20%20%20%20%20%20%20circle_marker_d4ebdf4d090749d29458001e0ad808d5.bindPopup%28popup_d125cfdd09a54a62996df80e617d92df%29%0A%20%20%20%20%20%20%20%20%3B%0A%0A%20%20%20%20%20%20%20%20%0A%20%20%20%20%0A%3C/script%3E onload=\"this.contentDocument.open();this.contentDocument.write(    decodeURIComponent(this.getAttribute('data-html')));this.contentDocument.close();\" allowfullscreen webkitallowfullscreen mozallowfullscreen></iframe></div></div>"
      ],
      "text/plain": [
       "<folium.folium.Map at 0x188ae0dde80>"
      ]
     },
     "execution_count": 29,
     "metadata": {},
     "output_type": "execute_result"
    }
   ],
   "source": [
    "map"
   ]
  },
  {
   "cell_type": "markdown",
   "metadata": {},
   "source": [
    "#### Analysis:-\n",
    "**1) Most of the cases found in Pune district**\n",
    "\n",
    "**2) Second most affected district is Mumbai.**\n",
    "\n",
    "**3) Highest recovery rate at Buldhana district**\n",
    "\n",
    "**4) Highest fatality rate at Ratnagiri district.**\n",
    "\n",
    "**5) Rare cases found in Hingoli district**\n",
    "\n",
    "**6) Lowest recovery rate at Buldhana district**\n",
    "\n",
    "**7) Lowest fatality rate at Buldhana district**"
   ]
  },
  {
   "cell_type": "markdown",
   "metadata": {},
   "source": [
    "### -Data analysis by Prathamesh Jadhav"
   ]
  },
  {
   "cell_type": "code",
   "execution_count": null,
   "metadata": {},
   "outputs": [],
   "source": []
  }
 ],
 "metadata": {
  "colab": {
   "collapsed_sections": [],
   "name": "Covid 19 Data Analysis Maharashtra.ipynb",
   "provenance": []
  },
  "kernelspec": {
   "display_name": "Python 3",
   "language": "python",
   "name": "python3"
  },
  "language_info": {
   "codemirror_mode": {
    "name": "ipython",
    "version": 3
   },
   "file_extension": ".py",
   "mimetype": "text/x-python",
   "name": "python",
   "nbconvert_exporter": "python",
   "pygments_lexer": "ipython3",
   "version": "3.8.8"
  }
 },
 "nbformat": 4,
 "nbformat_minor": 1
}
